{
 "cells": [
  {
   "cell_type": "code",
   "execution_count": 1,
   "metadata": {},
   "outputs": [],
   "source": [
    "import pandas as pd\n",
    "import matplotlib.pyplot as plt"
   ]
  },
  {
   "cell_type": "code",
   "execution_count": 5,
   "metadata": {},
   "outputs": [],
   "source": [
    "cdc = pd.read_csv('../COVID_Cases_Restricted_Detailed_09302020.csv')"
   ]
  },
  {
   "cell_type": "code",
   "execution_count": 6,
   "metadata": {},
   "outputs": [
    {
     "data": {
      "text/html": [
       "<div>\n",
       "<style scoped>\n",
       "    .dataframe tbody tr th:only-of-type {\n",
       "        vertical-align: middle;\n",
       "    }\n",
       "\n",
       "    .dataframe tbody tr th {\n",
       "        vertical-align: top;\n",
       "    }\n",
       "\n",
       "    .dataframe thead th {\n",
       "        text-align: right;\n",
       "    }\n",
       "</style>\n",
       "<table border=\"1\" class=\"dataframe\">\n",
       "  <thead>\n",
       "    <tr style=\"text-align: right;\">\n",
       "      <th></th>\n",
       "      <th>race_ethnicity_combined</th>\n",
       "      <th>current_status</th>\n",
       "      <th>cdc_report_dt</th>\n",
       "      <th>sex</th>\n",
       "      <th>onset_dt</th>\n",
       "      <th>pos_spec_dt</th>\n",
       "      <th>hosp_yn</th>\n",
       "      <th>icu_yn</th>\n",
       "      <th>death_yn</th>\n",
       "      <th>hc_work_yn</th>\n",
       "      <th>...</th>\n",
       "      <th>sob_yn</th>\n",
       "      <th>nauseavomit_yn</th>\n",
       "      <th>headache_yn</th>\n",
       "      <th>abdom_yn</th>\n",
       "      <th>diarrhea_yn</th>\n",
       "      <th>medcond_yn</th>\n",
       "      <th>county_fips_code</th>\n",
       "      <th>res_county</th>\n",
       "      <th>res_state</th>\n",
       "      <th>age_group</th>\n",
       "    </tr>\n",
       "  </thead>\n",
       "  <tbody>\n",
       "    <tr>\n",
       "      <th>0</th>\n",
       "      <td>White, Non-Hispanic</td>\n",
       "      <td>Laboratory-confirmed case</td>\n",
       "      <td>2020-06-15</td>\n",
       "      <td>Female</td>\n",
       "      <td>2020-05-20</td>\n",
       "      <td>2020-06-06</td>\n",
       "      <td>No</td>\n",
       "      <td>Missing</td>\n",
       "      <td>No</td>\n",
       "      <td>No</td>\n",
       "      <td>...</td>\n",
       "      <td>Yes</td>\n",
       "      <td>No</td>\n",
       "      <td>No</td>\n",
       "      <td>No</td>\n",
       "      <td>No</td>\n",
       "      <td>Yes</td>\n",
       "      <td>50001.0</td>\n",
       "      <td>ADDISON</td>\n",
       "      <td>VT</td>\n",
       "      <td>70 - 79 Years</td>\n",
       "    </tr>\n",
       "    <tr>\n",
       "      <th>1</th>\n",
       "      <td>White, Non-Hispanic</td>\n",
       "      <td>Laboratory-confirmed case</td>\n",
       "      <td>2020-07-29</td>\n",
       "      <td>Female</td>\n",
       "      <td>2020-07-04</td>\n",
       "      <td>2020-07-12</td>\n",
       "      <td>No</td>\n",
       "      <td>Missing</td>\n",
       "      <td>No</td>\n",
       "      <td>No</td>\n",
       "      <td>...</td>\n",
       "      <td>Yes</td>\n",
       "      <td>Missing</td>\n",
       "      <td>No</td>\n",
       "      <td>Missing</td>\n",
       "      <td>Yes</td>\n",
       "      <td>Yes</td>\n",
       "      <td>50001.0</td>\n",
       "      <td>ADDISON</td>\n",
       "      <td>VT</td>\n",
       "      <td>70 - 79 Years</td>\n",
       "    </tr>\n",
       "    <tr>\n",
       "      <th>2</th>\n",
       "      <td>White, Non-Hispanic</td>\n",
       "      <td>Laboratory-confirmed case</td>\n",
       "      <td>2020-04-20</td>\n",
       "      <td>Female</td>\n",
       "      <td>2020-02-26</td>\n",
       "      <td>2020-03-26</td>\n",
       "      <td>No</td>\n",
       "      <td>Missing</td>\n",
       "      <td>No</td>\n",
       "      <td>No</td>\n",
       "      <td>...</td>\n",
       "      <td>Yes</td>\n",
       "      <td>No</td>\n",
       "      <td>No</td>\n",
       "      <td>No</td>\n",
       "      <td>Yes</td>\n",
       "      <td>Yes</td>\n",
       "      <td>50001.0</td>\n",
       "      <td>ADDISON</td>\n",
       "      <td>VT</td>\n",
       "      <td>70 - 79 Years</td>\n",
       "    </tr>\n",
       "    <tr>\n",
       "      <th>3</th>\n",
       "      <td>White, Non-Hispanic</td>\n",
       "      <td>Laboratory-confirmed case</td>\n",
       "      <td>2020-04-21</td>\n",
       "      <td>Female</td>\n",
       "      <td>NaN</td>\n",
       "      <td>NaN</td>\n",
       "      <td>No</td>\n",
       "      <td>Missing</td>\n",
       "      <td>No</td>\n",
       "      <td>No</td>\n",
       "      <td>...</td>\n",
       "      <td>Yes</td>\n",
       "      <td>No</td>\n",
       "      <td>Yes</td>\n",
       "      <td>No</td>\n",
       "      <td>No</td>\n",
       "      <td>Unknown</td>\n",
       "      <td>50001.0</td>\n",
       "      <td>ADDISON</td>\n",
       "      <td>VT</td>\n",
       "      <td>70 - 79 Years</td>\n",
       "    </tr>\n",
       "    <tr>\n",
       "      <th>4</th>\n",
       "      <td>White, Non-Hispanic</td>\n",
       "      <td>Laboratory-confirmed case</td>\n",
       "      <td>2020-04-14</td>\n",
       "      <td>Female</td>\n",
       "      <td>2020-04-08</td>\n",
       "      <td>2020-04-10</td>\n",
       "      <td>No</td>\n",
       "      <td>Missing</td>\n",
       "      <td>No</td>\n",
       "      <td>No</td>\n",
       "      <td>...</td>\n",
       "      <td>Yes</td>\n",
       "      <td>No</td>\n",
       "      <td>Yes</td>\n",
       "      <td>No</td>\n",
       "      <td>No</td>\n",
       "      <td>Yes</td>\n",
       "      <td>50001.0</td>\n",
       "      <td>ADDISON</td>\n",
       "      <td>VT</td>\n",
       "      <td>70 - 79 Years</td>\n",
       "    </tr>\n",
       "  </tbody>\n",
       "</table>\n",
       "<p>5 rows × 31 columns</p>\n",
       "</div>"
      ],
      "text/plain": [
       "  race_ethnicity_combined             current_status cdc_report_dt     sex  \\\n",
       "0     White, Non-Hispanic  Laboratory-confirmed case    2020-06-15  Female   \n",
       "1     White, Non-Hispanic  Laboratory-confirmed case    2020-07-29  Female   \n",
       "2     White, Non-Hispanic  Laboratory-confirmed case    2020-04-20  Female   \n",
       "3     White, Non-Hispanic  Laboratory-confirmed case    2020-04-21  Female   \n",
       "4     White, Non-Hispanic  Laboratory-confirmed case    2020-04-14  Female   \n",
       "\n",
       "     onset_dt pos_spec_dt hosp_yn   icu_yn death_yn hc_work_yn  ... sob_yn  \\\n",
       "0  2020-05-20  2020-06-06      No  Missing       No         No  ...    Yes   \n",
       "1  2020-07-04  2020-07-12      No  Missing       No         No  ...    Yes   \n",
       "2  2020-02-26  2020-03-26      No  Missing       No         No  ...    Yes   \n",
       "3         NaN         NaN      No  Missing       No         No  ...    Yes   \n",
       "4  2020-04-08  2020-04-10      No  Missing       No         No  ...    Yes   \n",
       "\n",
       "  nauseavomit_yn headache_yn abdom_yn diarrhea_yn medcond_yn county_fips_code  \\\n",
       "0             No          No       No          No        Yes          50001.0   \n",
       "1        Missing          No  Missing         Yes        Yes          50001.0   \n",
       "2             No          No       No         Yes        Yes          50001.0   \n",
       "3             No         Yes       No          No    Unknown          50001.0   \n",
       "4             No         Yes       No          No        Yes          50001.0   \n",
       "\n",
       "  res_county res_state      age_group  \n",
       "0    ADDISON        VT  70 - 79 Years  \n",
       "1    ADDISON        VT  70 - 79 Years  \n",
       "2    ADDISON        VT  70 - 79 Years  \n",
       "3    ADDISON        VT  70 - 79 Years  \n",
       "4    ADDISON        VT  70 - 79 Years  \n",
       "\n",
       "[5 rows x 31 columns]"
      ]
     },
     "execution_count": 6,
     "metadata": {},
     "output_type": "execute_result"
    }
   ],
   "source": [
    "cdc.head()"
   ]
  },
  {
   "cell_type": "code",
   "execution_count": 8,
   "metadata": {},
   "outputs": [
    {
     "name": "stdout",
     "output_type": "stream",
     "text": [
      "race_ethnicity_combined ['White, Non-Hispanic' 'Unknown' 'Hispanic/Latino' 'Asian, Non-Hispanic'\n",
      " nan 'Multiple/Other, Non-Hispanic ' 'Black, Non-Hispanic'\n",
      " 'Native Hawaiian/Other Pacific Islander, Non-Hispanic'\n",
      " 'American Indian/Alaska Native, Non-Hispanic']\n",
      "current_status ['Laboratory-confirmed case' 'Probable Case']\n",
      "cdc_report_dt ['2020-06-15' '2020-07-29' '2020-04-20' '2020-04-21' '2020-04-14'\n",
      " '2020-07-15' '2020-07-17' '2020-06-28' '2020-08-04' '2020-07-20'\n",
      " '2020-05-15' '2020-05-13' '2020-03-22' '2020-05-01' '2020-05-10'\n",
      " '2020-05-12' '2020-04-02' '2020-03-26' '2020-08-27' '2020-06-26'\n",
      " '2020-09-04' '2020-07-06' '2020-07-13' '2020-08-21' '2020-08-23'\n",
      " '2020-07-12' '2020-06-24' '2020-07-07' '2020-08-15' '2020-07-23'\n",
      " '2020-06-25' '2020-07-14' '2020-08-02' '2020-07-16' '2020-06-27'\n",
      " '2020-07-18' '2020-08-16' '2020-06-20' '2020-08-07' '2020-08-12'\n",
      " '2020-09-11' '2020-04-10' '2020-04-03' '2020-06-29' '2020-07-27'\n",
      " '2020-08-14' '2020-09-01' '2020-07-01' '2020-07-09' '2020-08-22'\n",
      " '2020-09-06' '2020-09-09' '2020-08-10' '2020-06-16' '2020-08-17'\n",
      " '2020-09-08' '2020-07-04' '2020-07-22' '2020-03-19' '2020-07-02'\n",
      " '2020-07-26' '2020-08-19' '2020-08-28' '2020-08-31' '2020-09-14'\n",
      " '2020-03-29' '2020-07-05' '2020-09-12' '2020-07-21' '2020-08-05'\n",
      " '2020-07-03' '2020-06-17' '2020-03-31' '2020-04-09' '2020-07-28'\n",
      " '2020-07-19' '2020-08-13' '2020-07-08' '2020-06-19' '2020-08-01'\n",
      " '2020-08-24' '2020-07-11' '2020-07-25' '2020-08-20' '2020-06-23'\n",
      " '2020-03-25' '2020-09-03' '2020-06-21' '2020-07-10' '2020-06-30'\n",
      " '2020-09-13' '2020-08-03' '2020-06-13' '2020-05-18' '2020-08-29'\n",
      " '2020-07-30' '2020-08-11' '2020-05-04' '2020-08-09' '2020-05-22'\n",
      " '2020-06-22' '2020-06-11' '2020-04-07' '2020-08-06' '2020-09-02'\n",
      " '2020-07-24' '2020-08-18' '2020-08-30' '2020-06-18' '2020-08-26'\n",
      " '2020-04-05' '2020-03-30' '2020-04-01' '2020-05-20' '2020-06-12'\n",
      " '2020-05-29' '2020-09-15' '2020-06-04' '2020-05-02' '2020-04-08'\n",
      " '2020-03-28' '2020-09-10' '2020-08-08' '2020-08-25' '2020-07-31'\n",
      " '2020-04-24' '2020-04-27' '2020-04-22' '2020-09-05' '2020-04-17'\n",
      " '2020-06-05' '2020-03-03' '2020-03-18' '2020-09-07' '2020-04-29'\n",
      " '2020-05-24' '2020-05-11' '2020-04-23' '2020-06-09' '2020-05-05'\n",
      " '2020-06-06' '2020-05-03' '2020-06-03' '2020-06-14' '2020-06-01'\n",
      " '2020-04-16' '2020-04-15' '2020-05-08' '2020-06-10' '2020-05-27'\n",
      " '2020-05-26' '2020-05-28' '2020-05-31' '2020-05-21' '2020-04-11'\n",
      " '2020-05-19' '2020-06-02' '2020-04-25' '2020-04-30' '2020-05-14'\n",
      " '2020-05-09' '2020-04-06' '2020-06-08' '2020-05-30' '2020-04-28'\n",
      " '2020-04-26' '2020-04-19' '2020-05-06' '2020-05-25' '2020-05-07'\n",
      " '2020-05-17' '2020-06-07' '2020-04-12' '2020-03-24' '2020-04-13'\n",
      " '2020-05-23' '2020-04-18' '2020-03-27' '2020-05-16' '2020-04-04'\n",
      " '2020-03-23' '2020-03-21' '2020-03-20' '2020-03-08' '2020-03-09'\n",
      " '2020-03-15' '2020-03-13' '2020-03-16' '2020-03-17' '2020-03-12'\n",
      " '2020-03-11' '2020-03-10' '2020-03-14' '2020-03-04' '2020-02-23'\n",
      " '2020-03-01' '2020-03-06' '2020-03-05' '2020-01-22' '2020-01-27'\n",
      " '2020-03-07' '2020-02-28' '2020-02-02' '2020-02-22' '2020-02-27'\n",
      " '2020-03-02' '2020-02-24' '2020-02-25' '2020-02-29' '2020-01-09'\n",
      " '2020-02-01' '2020-01-02' '2020-02-19' '2020-02-26' '2020-02-17'\n",
      " '2020-02-10' '2020-02-20' '2020-02-18' '2020-01-10' '2020-01-31'\n",
      " '2020-01-20' '2020-02-16' '2020-02-06' '2020-01-24' '2020-02-21'\n",
      " '2020-01-29' '2020-01-17' '2020-02-09' '2020-02-05' '2020-02-07'\n",
      " '2020-02-03' '2020-01-15' '2020-02-08' '2020-01-26' '2020-01-05'\n",
      " '2020-02-13' '2020-02-14' '2020-02-11' '2020-01-11' '2020-01-14'\n",
      " '2020-02-15' '2020-01-25' '2020-01-13' '2020-02-12' '2020-01-21'\n",
      " '2020-02-04' '2020-01-01' '2020-01-23' '2020-01-30' '2020-01-19'\n",
      " '2020-01-08' '2020-01-18' '2020-01-28' '2020-01-03' '2020-01-12']\n",
      "sex ['Female' 'Male' nan 'Unknown' 'Missing' 'Other']\n",
      "onset_dt ['2020-05-20' '2020-07-04' '2020-02-26' nan '2020-04-08' '2020-06-16'\n",
      " '2020-03-22' '2020-05-01' '2020-05-10' '2020-05-12' '2020-04-02'\n",
      " '2020-03-26' '2020-08-21' '2020-08-30' '2020-06-27' '2020-08-15'\n",
      " '2020-08-17' '2020-06-24' '2020-06-19' '2020-06-20' '2020-07-17'\n",
      " '2020-06-22' '2020-07-07' '2020-07-21' '2020-07-28' '2020-07-09'\n",
      " '2020-07-06' '2020-08-11' '2020-06-18' '2020-07-29' '2020-08-03'\n",
      " '2020-09-04' '2020-04-06' '2020-08-12' '2020-04-01' '2020-06-26'\n",
      " '2020-08-19' '2020-08-31' '2020-09-01' '2020-06-14' '2020-09-02'\n",
      " '2020-03-15' '2020-07-19' '2020-08-04' '2020-08-24' '2020-08-28'\n",
      " '2020-03-24' '2020-03-19' '2020-08-14' '2020-06-13' '2020-07-02'\n",
      " '2020-06-10' '2020-04-03' '2020-07-05' '2020-07-13' '2020-06-28'\n",
      " '2020-08-10' '2020-06-21' '2020-07-25' '2020-06-17' '2020-06-25'\n",
      " '2020-07-03' '2020-03-14' '2020-06-30' '2020-08-02' '2020-06-15'\n",
      " '2020-09-09' '2020-07-11' '2020-07-20' '2020-07-14' '2020-07-31'\n",
      " '2020-08-25' '2020-08-26' '2020-08-07' '2020-08-18' '2020-08-13'\n",
      " '2020-08-09' '2020-03-16' '2020-08-06' '2020-03-28' '2020-06-08'\n",
      " '2020-05-13' '2020-03-17' '2020-07-22' '2020-06-23' '2020-05-08'\n",
      " '2020-06-29' '2020-07-12' '2020-08-29' '2020-08-22' '2020-04-27'\n",
      " '2020-07-24' '2020-05-17' '2020-07-01' '2020-08-23' '2020-07-08'\n",
      " '2020-06-07' '2020-07-18' '2020-03-30' '2020-06-12' '2020-07-15'\n",
      " '2020-04-11' '2020-07-27' '2020-03-11' '2020-03-12' '2020-03-31'\n",
      " '2020-05-16' '2020-06-09' '2020-04-05' '2020-08-27' '2020-03-27'\n",
      " '2020-05-09' '2020-08-08' '2020-06-11' '2020-06-06' '2020-07-16'\n",
      " '2020-08-20' '2020-08-01' '2020-08-16' '2020-09-05' '2020-05-27'\n",
      " '2020-07-26' '2020-09-06' '2020-07-10' '2020-09-10' '2020-05-31'\n",
      " '2020-04-26' '2020-07-30' '2020-07-23' '2020-09-07' '2020-04-17'\n",
      " '2020-04-28' '2020-06-01' '2020-03-20' '2020-09-08' '2020-04-22'\n",
      " '2020-04-16' '2020-04-18' '2020-03-29' '2020-06-05' '2020-03-03'\n",
      " '2020-03-18' '2020-03-21' '2020-09-11' '2020-05-07' '2020-04-10'\n",
      " '2020-04-20' '2020-03-10' '2020-06-02' '2020-05-26' '2020-04-13'\n",
      " '2020-04-12' '2020-05-11' '2020-05-02' '2020-05-06' '2020-03-25'\n",
      " '2020-04-21' '2020-04-23' '2020-05-28' '2020-05-04' '2020-04-25'\n",
      " '2020-05-19' '2020-05-29' '2020-05-14' '2020-05-05' '2020-05-24'\n",
      " '2020-04-24' '2020-08-05' '2020-09-14' '2020-03-23' '2020-05-30'\n",
      " '2020-06-04' '2020-05-18' '2020-09-03' '2020-04-15' '2020-04-19'\n",
      " '2020-04-07' '2020-05-25' '2020-05-23' '2020-04-14' '2020-05-03'\n",
      " '2020-04-30' '2020-04-29' '2020-03-01' '2020-06-03' '2020-02-14'\n",
      " '2020-04-09' '2020-09-12' '2020-04-04' '2020-03-13' '2020-03-07'\n",
      " '2020-02-21' '2020-05-22' '2020-05-21' '2020-05-15' '2020-09-15'\n",
      " '2020-02-28' '2020-03-08' '2020-03-04' '2020-03-02' '2020-03-09'\n",
      " '2020-02-11' '2020-09-13' '2020-02-19' '2020-02-22' '2020-03-05'\n",
      " '2020-03-06' '2020-02-07' '2020-02-25' '2020-02-29' '2020-09-18'\n",
      " '2020-02-18' '2020-09-16' '2020-02-23' '2020-02-01' '2020-02-16'\n",
      " '2020-01-22' '2020-02-20' '2020-02-27' '2020-02-24' '2020-01-27'\n",
      " '2020-01-01' '2020-02-02' '2020-09-27' '2020-02-12' '2020-02-04'\n",
      " '2020-02-17' '2020-02-15' '2020-09-22' '2020-09-23' '2020-01-29'\n",
      " '2020-01-06' '2020-09-19' '2020-01-02' '2020-09-24' '2020-02-03'\n",
      " '2020-02-10' '2020-01-04' '2020-01-20' '2020-02-05' '2020-09-26'\n",
      " '2020-02-09' '2020-09-17' '2020-01-10' '2020-01-31' '2020-09-20'\n",
      " '2020-09-21' '2020-02-06' '2020-01-24' '2020-01-11' '2020-01-07'\n",
      " '2020-01-28' '2020-01-25' '2020-01-17' '2020-01-15' '2020-09-28'\n",
      " '2020-01-12' '2020-01-26' '2020-01-13' '2020-09-25' '2020-01-19'\n",
      " '2020-01-03' '2020-01-21' '2020-02-08' '2020-02-13' '2020-01-16'\n",
      " '2020-01-05' '2020-01-18' '2020-01-14' '2020-01-30' '2020-01-23'\n",
      " '2020-09-29' '2020-01-09' '2020-01-08']\n",
      "pos_spec_dt ['2020-06-06' '2020-07-12' '2020-03-26' nan '2020-04-10' '2020-05-15'\n",
      " '2020-05-13' '2020-03-25' '2020-05-01' '2020-05-10' '2020-05-12'\n",
      " '2020-04-02' '2020-03-27' '2020-05-20' '2020-04-08' '2020-06-08'\n",
      " '2020-03-12' '2020-07-03' '2020-06-26' '2020-06-18' '2020-07-07'\n",
      " '2020-06-29' '2020-06-25' '2020-07-28' '2020-07-22' '2020-08-08'\n",
      " '2020-07-23' '2020-07-09' '2020-07-25' '2020-06-11' '2020-03-30'\n",
      " '2020-07-14' '2020-09-01' '2020-04-20' '2020-08-11' '2020-05-22'\n",
      " '2020-05-18' '2020-07-08' '2020-06-23' '2020-08-12' '2020-06-12'\n",
      " '2020-08-28' '2020-04-07' '2020-09-04' '2020-04-13' '2020-08-07'\n",
      " '2020-08-18' '2020-08-14' '2020-08-29' '2020-06-03' '2020-05-19'\n",
      " '2020-08-26' '2020-09-06' '2020-04-17' '2020-06-30' '2020-07-01'\n",
      " '2020-04-28' '2020-07-11' '2020-07-10' '2020-07-13' '2020-05-29'\n",
      " '2020-08-20' '2020-05-26' '2020-08-05' '2020-05-08' '2020-09-02'\n",
      " '2020-04-16' '2020-04-06' '2020-04-24' '2020-08-17' '2020-03-29'\n",
      " '2020-07-15' '2020-08-31' '2020-08-24' '2020-09-09' '2020-05-16'\n",
      " '2020-07-20' '2020-07-02' '2020-08-19' '2020-08-22' '2020-06-13'\n",
      " '2020-08-10' '2020-09-15' '2020-04-30' '2020-05-17' '2020-04-22'\n",
      " '2020-04-14' '2020-04-18' '2020-04-26' '2020-04-25' '2020-04-23'\n",
      " '2020-04-15' '2020-05-05' '2020-03-23' '2020-04-27' '2020-05-21'\n",
      " '2020-05-07' '2020-06-04' '2020-05-04' '2020-05-02' '2020-06-24'\n",
      " '2020-03-22' '2020-04-09' '2020-05-24' '2020-04-11' '2020-08-01'\n",
      " '2020-06-28' '2020-08-13' '2020-04-01' '2020-07-17' '2020-07-31'\n",
      " '2020-03-31' '2020-05-09' '2020-05-31' '2020-04-21' '2020-04-03'\n",
      " '2020-06-15' '2020-07-27' '2020-04-05' '2020-06-27' '2020-06-22'\n",
      " '2020-07-29' '2020-05-28' '2020-03-24' '2020-07-30' '2020-07-26'\n",
      " '2020-06-16' '2020-05-27' '2020-07-16' '2020-07-05' '2020-06-19'\n",
      " '2020-09-11' '2020-08-27' '2020-08-09' '2020-08-02' '2020-07-19'\n",
      " '2020-07-21' '2020-08-23' '2020-08-06' '2020-09-03' '2020-08-03'\n",
      " '2020-09-08' '2020-07-24' '2020-09-12' '2020-08-30' '2020-06-02'\n",
      " '2020-09-10' '2020-06-10' '2020-03-17' '2020-03-20' '2020-03-18'\n",
      " '2020-03-21' '2020-06-21' '2020-08-21' '2020-05-30' '2020-06-20'\n",
      " '2020-08-15' '2020-06-09' '2020-08-25' '2020-07-18' '2020-07-04'\n",
      " '2020-06-17' '2020-09-14' '2020-07-06' '2020-04-04' '2020-06-01'\n",
      " '2020-05-23' '2020-08-04' '2020-09-13' '2020-06-14' '2020-04-19'\n",
      " '2020-05-14' '2020-03-28' '2020-06-05' '2020-09-07' '2020-05-11'\n",
      " '2020-05-25' '2020-05-03' '2020-09-16' '2020-09-17' '2020-05-06'\n",
      " '2020-04-29' '2020-03-16' '2020-03-19' '2020-06-07' '2020-03-15'\n",
      " '2020-03-13' '2020-04-12' '2020-09-05' '2020-09-22' '2020-03-07'\n",
      " '2020-09-21' '2020-08-16' '2020-09-19' '2020-03-14' '2020-09-18'\n",
      " '2020-03-10' '2020-03-11' '2020-03-04' '2020-03-05' '2020-03-03'\n",
      " '2020-03-08' '2020-09-20' '2020-09-24' '2020-03-02' '2020-03-06'\n",
      " '2020-03-09' '2020-02-29' '2020-09-23' '2020-01-09' '2020-09-26'\n",
      " '2020-09-25' '2020-01-01' '2020-01-29' '2020-02-28' '2020-02-09'\n",
      " '2020-03-01' '2020-02-01' '2020-02-27' '2020-02-10' '2020-02-15'\n",
      " '2020-02-06' '2020-02-21' '2020-02-20' '2020-02-24' '2020-02-16'\n",
      " '2020-02-23' '2020-09-27' '2020-01-31' '2020-02-22' '2020-01-19'\n",
      " '2020-01-04' '2020-09-28' '2020-02-18' '2020-02-26' '2020-01-22'\n",
      " '2020-02-25']\n",
      "hosp_yn ['No' 'Missing' 'Unknown' 'Yes']\n",
      "icu_yn ['Missing' 'Unknown' 'Yes' 'No']\n",
      "death_yn ['No' 'Missing' 'Unknown' 'Yes']\n",
      "hc_work_yn ['No' 'Missing' 'Unknown' nan 'Yes']\n",
      "pna_yn ['No' 'Missing' 'Unknown' 'Yes']\n",
      "abxchest_yn ['No' 'Missing' 'Unknown' nan 'Yes']\n",
      "acuterespdistress_yn ['No' 'Missing' 'Unknown' 'Yes']\n",
      "mechvent_yn ['Missing' 'Unknown' 'Yes' 'No']\n",
      "fever_yn ['Yes' 'No' 'Missing' 'Unknown']\n",
      "sfever_yn ['Missing' 'Yes' 'No' 'Unknown']\n",
      "chills_yn ['No' 'Missing' 'Unknown' 'Yes']\n",
      "myalgia_yn ['No' 'Missing' 'Yes' 'Unknown']\n",
      "runnose_yn ['No' 'Missing' 'Yes' 'Unknown']\n",
      "sthroat_yn ['No' 'Missing' 'Yes' 'Unknown']\n",
      "cough_yn ['No' 'Yes' 'Missing' 'Unknown']\n",
      "sob_yn ['Yes' 'Missing' 'No' 'Unknown']\n",
      "nauseavomit_yn ['No' 'Missing' 'Unknown' 'Yes']\n",
      "headache_yn ['No' 'Yes' 'Missing' 'Unknown']\n",
      "abdom_yn ['No' 'Missing' 'Unknown' 'Yes']\n",
      "diarrhea_yn ['No' 'Yes' 'Missing' 'Unknown']\n",
      "medcond_yn ['Yes' 'Unknown' 'Missing' 'No']\n",
      "county_fips_code [50001. 45001. 22001. ... 48505. 20007. 28055.]\n",
      "res_county ['ADDISON' 'Abbeville' 'Acadia' ... 'ZAPATA' 'Barber' 'Issaquena']\n",
      "res_state ['VT' 'SC' 'LA' 'ID' 'IL' 'WI' 'NY' 'VA' 'AK' 'AZ' 'CO' 'AR' 'NJ' 'AL'\n",
      " 'MD' 'TX' 'MO' 'GA' 'PA' 'MA' 'MI' 'NC' 'IA' 'FL' 'MN' 'OH' 'WA' 'UT'\n",
      " 'TN' 'ND' 'KS' 'OR' 'NV' 'OK' 'MS' 'MT' 'CA' 'NM' 'NE' 'HI' 'KY' 'CT'\n",
      " 'DC' 'PR' 'NH' 'WV' 'WY' 'IN' 'ME' 'VI' 'RI' nan 'DE' 'GU' 'OCONUS' 'SD'\n",
      " 'MP' 'NYC' 'Unknown']\n",
      "age_group ['70 - 79 Years' '40 - 49 Years' '30 - 39 Years' '80+ Years'\n",
      " '20 - 29 Years' '50 - 59 Years' '10 - 19 Years' '60 - 69 Years'\n",
      " '0 - 9 Years' nan 'Unknown']\n"
     ]
    }
   ],
   "source": [
    "for column in cdc.columns:\n",
    "    print (column, cdc[column].unique())"
   ]
  },
  {
   "cell_type": "code",
   "execution_count": 9,
   "metadata": {},
   "outputs": [
    {
     "data": {
      "text/plain": [
       "Female     2266961\n",
       "Male       2091578\n",
       "Unknown      39019\n",
       "Missing       3789\n",
       "Other           21\n",
       "Name: sex, dtype: int64"
      ]
     },
     "execution_count": 9,
     "metadata": {},
     "output_type": "execute_result"
    }
   ],
   "source": [
    "cdc['sex'].value_counts()"
   ]
  },
  {
   "cell_type": "code",
   "execution_count": 10,
   "metadata": {},
   "outputs": [
    {
     "data": {
      "text/plain": [
       "No         2075244\n",
       "Missing    1740002\n",
       "Unknown     529408\n",
       "Yes         136408\n",
       "Name: death_yn, dtype: int64"
      ]
     },
     "execution_count": 10,
     "metadata": {},
     "output_type": "execute_result"
    }
   ],
   "source": [
    "cdc['death_yn'].value_counts()"
   ]
  },
  {
   "cell_type": "code",
   "execution_count": 11,
   "metadata": {},
   "outputs": [
    {
     "data": {
      "text/plain": [
       "No         955017\n",
       "Missing    822628\n",
       "Unknown    242000\n",
       "Yes         71933\n",
       "Name: death_yn, dtype: int64"
      ]
     },
     "execution_count": 11,
     "metadata": {},
     "output_type": "execute_result"
    }
   ],
   "source": [
    "cdc[cdc['sex'] == 'Male']['death_yn'].value_counts()"
   ]
  },
  {
   "cell_type": "code",
   "execution_count": 13,
   "metadata": {},
   "outputs": [
    {
     "data": {
      "text/plain": [
       "Missing    3101810\n",
       "Unknown     830537\n",
       "No          498101\n",
       "Yes          50614\n",
       "Name: icu_yn, dtype: int64"
      ]
     },
     "execution_count": 13,
     "metadata": {},
     "output_type": "execute_result"
    }
   ],
   "source": [
    "cdc['icu_yn'].value_counts()"
   ]
  },
  {
   "cell_type": "code",
   "execution_count": 15,
   "metadata": {},
   "outputs": [
    {
     "data": {
      "text/plain": [
       "Missing    35440\n",
       "No            85\n",
       "Unknown       14\n",
       "Yes            2\n",
       "Name: death_yn, dtype: int64"
      ]
     },
     "execution_count": 15,
     "metadata": {},
     "output_type": "execute_result"
    }
   ],
   "source": [
    "cdc[cdc['res_state'] == 'TX']['death_yn'].value_counts()"
   ]
  },
  {
   "cell_type": "code",
   "execution_count": 16,
   "metadata": {},
   "outputs": [
    {
     "data": {
      "text/plain": [
       "Unknown                                                 1844555\n",
       "White, Non-Hispanic                                     1050060\n",
       "Hispanic/Latino                                          720492\n",
       "Black, Non-Hispanic                                      461454\n",
       "Multiple/Other, Non-Hispanic                             101163\n",
       "Asian, Non-Hispanic                                       68881\n",
       "American Indian/Alaska Native, Non-Hispanic               25650\n",
       "Native Hawaiian/Other Pacific Islander, Non-Hispanic       6953\n",
       "Name: race_ethnicity_combined, dtype: int64"
      ]
     },
     "execution_count": 16,
     "metadata": {},
     "output_type": "execute_result"
    }
   ],
   "source": [
    "cdc['race_ethnicity_combined'].value_counts()"
   ]
  },
  {
   "cell_type": "code",
   "execution_count": 19,
   "metadata": {},
   "outputs": [],
   "source": [
    "cdc_texas = cdc[cdc['res_state'] == 'TX']"
   ]
  },
  {
   "cell_type": "code",
   "execution_count": 20,
   "metadata": {},
   "outputs": [
    {
     "data": {
      "text/plain": [
       "Hispanic/Latino        12784\n",
       "Unknown                 6966\n",
       "White, Non-Hispanic     6012\n",
       "Black, Non-Hispanic     3419\n",
       "Asian, Non-Hispanic      396\n",
       "Name: race_ethnicity_combined, dtype: int64"
      ]
     },
     "execution_count": 20,
     "metadata": {},
     "output_type": "execute_result"
    }
   ],
   "source": [
    "cdc_texas['race_ethnicity_combined'].value_counts()"
   ]
  },
  {
   "cell_type": "code",
   "execution_count": 21,
   "metadata": {},
   "outputs": [
    {
     "data": {
      "text/plain": [
       "(35541, 31)"
      ]
     },
     "execution_count": 21,
     "metadata": {},
     "output_type": "execute_result"
    }
   ],
   "source": [
    "cdc_texas.shape"
   ]
  },
  {
   "cell_type": "code",
   "execution_count": 22,
   "metadata": {},
   "outputs": [
    {
     "data": {
      "text/plain": [
       "race_ethnicity_combined     5964\n",
       "current_status                 0\n",
       "cdc_report_dt                  0\n",
       "sex                         3080\n",
       "onset_dt                   14168\n",
       "pos_spec_dt                35476\n",
       "hosp_yn                        0\n",
       "icu_yn                         0\n",
       "death_yn                       0\n",
       "hc_work_yn                  5969\n",
       "pna_yn                         0\n",
       "abxchest_yn                    0\n",
       "acuterespdistress_yn           0\n",
       "mechvent_yn                    0\n",
       "fever_yn                       0\n",
       "sfever_yn                      0\n",
       "chills_yn                      0\n",
       "myalgia_yn                     0\n",
       "runnose_yn                     0\n",
       "sthroat_yn                     0\n",
       "cough_yn                       0\n",
       "sob_yn                         0\n",
       "nauseavomit_yn                 0\n",
       "headache_yn                    0\n",
       "abdom_yn                       0\n",
       "diarrhea_yn                    0\n",
       "medcond_yn                     0\n",
       "county_fips_code             539\n",
       "res_county                   516\n",
       "res_state                      0\n",
       "age_group                   2025\n",
       "dtype: int64"
      ]
     },
     "execution_count": 22,
     "metadata": {},
     "output_type": "execute_result"
    }
   ],
   "source": [
    "cdc_texas.isna().sum()"
   ]
  },
  {
   "cell_type": "code",
   "execution_count": null,
   "metadata": {},
   "outputs": [],
   "source": []
  }
 ],
 "metadata": {
  "kernelspec": {
   "display_name": "Python 3",
   "language": "python",
   "name": "python3"
  },
  "language_info": {
   "codemirror_mode": {
    "name": "ipython",
    "version": 3
   },
   "file_extension": ".py",
   "mimetype": "text/x-python",
   "name": "python",
   "nbconvert_exporter": "python",
   "pygments_lexer": "ipython3",
   "version": "3.8.3"
  }
 },
 "nbformat": 4,
 "nbformat_minor": 4
}
