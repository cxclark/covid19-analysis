{
 "cells": [
  {
   "cell_type": "code",
   "execution_count": 1,
   "metadata": {},
   "outputs": [],
   "source": [
    "import pandas as pd\n",
    "import matplotlib.pyplot as plt"
   ]
  },
  {
   "cell_type": "code",
   "execution_count": 2,
   "metadata": {},
   "outputs": [],
   "source": [
    "percent = pd.read_csv('data/tx_cleaned_percent.csv')"
   ]
  },
  {
   "cell_type": "code",
   "execution_count": 3,
   "metadata": {},
   "outputs": [
    {
     "data": {
      "text/html": [
       "<div>\n",
       "<style scoped>\n",
       "    .dataframe tbody tr th:only-of-type {\n",
       "        vertical-align: middle;\n",
       "    }\n",
       "\n",
       "    .dataframe tbody tr th {\n",
       "        vertical-align: top;\n",
       "    }\n",
       "\n",
       "    .dataframe thead th {\n",
       "        text-align: right;\n",
       "    }\n",
       "</style>\n",
       "<table border=\"1\" class=\"dataframe\">\n",
       "  <thead>\n",
       "    <tr style=\"text-align: right;\">\n",
       "      <th></th>\n",
       "      <th>county_state</th>\n",
       "      <th>sex_age_median_age_in_years</th>\n",
       "      <th>health_ins_noninst_pop_private</th>\n",
       "      <th>health_ins_noninst_pop_public</th>\n",
       "      <th>inc_med_hhld_inc_dol</th>\n",
       "      <th>inc_mean_hhld_inc_dol</th>\n",
       "      <th>inc_per_capita_inc_dol</th>\n",
       "      <th>inc_med_earn_workers_dol</th>\n",
       "      <th>inc_med_earn_male_full_yr_workers_dol</th>\n",
       "      <th>inc_med_earn_female_full_yr_workers_dol</th>\n",
       "      <th>...</th>\n",
       "      <th>percent_inc_hhlds_less_than_10_000</th>\n",
       "      <th>percent_inc_hhlds_10_000_to_14_999</th>\n",
       "      <th>percent_inc_hhlds_15_000_to_24_999</th>\n",
       "      <th>percent_inc_hhlds_25_000_to_34_999</th>\n",
       "      <th>percent_inc_hhlds_35_000_to_49_999</th>\n",
       "      <th>percent_inc_hhlds_50_000_to_74_999</th>\n",
       "      <th>percent_inc_hhlds_75_000_to_99_999</th>\n",
       "      <th>percent_inc_hhlds_100_000_to_149_999</th>\n",
       "      <th>percent_inc_hhlds_150_000_to_199_999</th>\n",
       "      <th>percent_inc_hhlds_200_000_or_more</th>\n",
       "    </tr>\n",
       "  </thead>\n",
       "  <tbody>\n",
       "    <tr>\n",
       "      <th>0</th>\n",
       "      <td>Austin County, Texas</td>\n",
       "      <td>40.7</td>\n",
       "      <td>20393</td>\n",
       "      <td>8863</td>\n",
       "      <td>65365</td>\n",
       "      <td>80769</td>\n",
       "      <td>30858</td>\n",
       "      <td>33993</td>\n",
       "      <td>55417</td>\n",
       "      <td>38603</td>\n",
       "      <td>...</td>\n",
       "      <td>0.043655</td>\n",
       "      <td>0.041572</td>\n",
       "      <td>0.113667</td>\n",
       "      <td>0.083960</td>\n",
       "      <td>0.107418</td>\n",
       "      <td>0.167648</td>\n",
       "      <td>0.149534</td>\n",
       "      <td>0.194729</td>\n",
       "      <td>0.049905</td>\n",
       "      <td>0.047912</td>\n",
       "    </tr>\n",
       "    <tr>\n",
       "      <th>1</th>\n",
       "      <td>Kenedy County, Texas</td>\n",
       "      <td>39.5</td>\n",
       "      <td>212</td>\n",
       "      <td>276</td>\n",
       "      <td>36125</td>\n",
       "      <td>40908</td>\n",
       "      <td>15820</td>\n",
       "      <td>29453</td>\n",
       "      <td>40848</td>\n",
       "      <td>23295</td>\n",
       "      <td>...</td>\n",
       "      <td>0.119617</td>\n",
       "      <td>0.019139</td>\n",
       "      <td>0.234450</td>\n",
       "      <td>0.062201</td>\n",
       "      <td>0.339713</td>\n",
       "      <td>0.076555</td>\n",
       "      <td>0.110048</td>\n",
       "      <td>0.038278</td>\n",
       "      <td>0.000000</td>\n",
       "      <td>0.000000</td>\n",
       "    </tr>\n",
       "    <tr>\n",
       "      <th>2</th>\n",
       "      <td>Nueces County, Texas</td>\n",
       "      <td>35.3</td>\n",
       "      <td>208747</td>\n",
       "      <td>119691</td>\n",
       "      <td>55048</td>\n",
       "      <td>74820</td>\n",
       "      <td>27649</td>\n",
       "      <td>30869</td>\n",
       "      <td>48043</td>\n",
       "      <td>34488</td>\n",
       "      <td>...</td>\n",
       "      <td>0.069179</td>\n",
       "      <td>0.053853</td>\n",
       "      <td>0.102229</td>\n",
       "      <td>0.100228</td>\n",
       "      <td>0.130897</td>\n",
       "      <td>0.181430</td>\n",
       "      <td>0.126158</td>\n",
       "      <td>0.141151</td>\n",
       "      <td>0.050044</td>\n",
       "      <td>0.044832</td>\n",
       "    </tr>\n",
       "    <tr>\n",
       "      <th>3</th>\n",
       "      <td>Colorado County, Texas</td>\n",
       "      <td>42.5</td>\n",
       "      <td>13815</td>\n",
       "      <td>6868</td>\n",
       "      <td>49504</td>\n",
       "      <td>70324</td>\n",
       "      <td>27861</td>\n",
       "      <td>30469</td>\n",
       "      <td>41853</td>\n",
       "      <td>34692</td>\n",
       "      <td>...</td>\n",
       "      <td>0.051391</td>\n",
       "      <td>0.050726</td>\n",
       "      <td>0.119025</td>\n",
       "      <td>0.118626</td>\n",
       "      <td>0.165624</td>\n",
       "      <td>0.179071</td>\n",
       "      <td>0.124484</td>\n",
       "      <td>0.090268</td>\n",
       "      <td>0.056983</td>\n",
       "      <td>0.043802</td>\n",
       "    </tr>\n",
       "    <tr>\n",
       "      <th>4</th>\n",
       "      <td>San Patricio County, Texas</td>\n",
       "      <td>35.3</td>\n",
       "      <td>39263</td>\n",
       "      <td>21923</td>\n",
       "      <td>55229</td>\n",
       "      <td>71588</td>\n",
       "      <td>25281</td>\n",
       "      <td>31318</td>\n",
       "      <td>50594</td>\n",
       "      <td>31847</td>\n",
       "      <td>...</td>\n",
       "      <td>0.073483</td>\n",
       "      <td>0.046192</td>\n",
       "      <td>0.103585</td>\n",
       "      <td>0.092773</td>\n",
       "      <td>0.132131</td>\n",
       "      <td>0.193287</td>\n",
       "      <td>0.126638</td>\n",
       "      <td>0.134596</td>\n",
       "      <td>0.064141</td>\n",
       "      <td>0.033173</td>\n",
       "    </tr>\n",
       "  </tbody>\n",
       "</table>\n",
       "<p>5 rows × 46 columns</p>\n",
       "</div>"
      ],
      "text/plain": [
       "                 county_state  sex_age_median_age_in_years  \\\n",
       "0        Austin County, Texas                         40.7   \n",
       "1        Kenedy County, Texas                         39.5   \n",
       "2        Nueces County, Texas                         35.3   \n",
       "3      Colorado County, Texas                         42.5   \n",
       "4  San Patricio County, Texas                         35.3   \n",
       "\n",
       "   health_ins_noninst_pop_private  health_ins_noninst_pop_public  \\\n",
       "0                           20393                           8863   \n",
       "1                             212                            276   \n",
       "2                          208747                         119691   \n",
       "3                           13815                           6868   \n",
       "4                           39263                          21923   \n",
       "\n",
       "   inc_med_hhld_inc_dol  inc_mean_hhld_inc_dol  inc_per_capita_inc_dol  \\\n",
       "0                 65365                  80769                   30858   \n",
       "1                 36125                  40908                   15820   \n",
       "2                 55048                  74820                   27649   \n",
       "3                 49504                  70324                   27861   \n",
       "4                 55229                  71588                   25281   \n",
       "\n",
       "   inc_med_earn_workers_dol  inc_med_earn_male_full_yr_workers_dol  \\\n",
       "0                     33993                                  55417   \n",
       "1                     29453                                  40848   \n",
       "2                     30869                                  48043   \n",
       "3                     30469                                  41853   \n",
       "4                     31318                                  50594   \n",
       "\n",
       "   inc_med_earn_female_full_yr_workers_dol  ...  \\\n",
       "0                                    38603  ...   \n",
       "1                                    23295  ...   \n",
       "2                                    34488  ...   \n",
       "3                                    34692  ...   \n",
       "4                                    31847  ...   \n",
       "\n",
       "   percent_inc_hhlds_less_than_10_000  percent_inc_hhlds_10_000_to_14_999  \\\n",
       "0                            0.043655                            0.041572   \n",
       "1                            0.119617                            0.019139   \n",
       "2                            0.069179                            0.053853   \n",
       "3                            0.051391                            0.050726   \n",
       "4                            0.073483                            0.046192   \n",
       "\n",
       "   percent_inc_hhlds_15_000_to_24_999  percent_inc_hhlds_25_000_to_34_999  \\\n",
       "0                            0.113667                            0.083960   \n",
       "1                            0.234450                            0.062201   \n",
       "2                            0.102229                            0.100228   \n",
       "3                            0.119025                            0.118626   \n",
       "4                            0.103585                            0.092773   \n",
       "\n",
       "   percent_inc_hhlds_35_000_to_49_999  percent_inc_hhlds_50_000_to_74_999  \\\n",
       "0                            0.107418                            0.167648   \n",
       "1                            0.339713                            0.076555   \n",
       "2                            0.130897                            0.181430   \n",
       "3                            0.165624                            0.179071   \n",
       "4                            0.132131                            0.193287   \n",
       "\n",
       "   percent_inc_hhlds_75_000_to_99_999  percent_inc_hhlds_100_000_to_149_999  \\\n",
       "0                            0.149534                              0.194729   \n",
       "1                            0.110048                              0.038278   \n",
       "2                            0.126158                              0.141151   \n",
       "3                            0.124484                              0.090268   \n",
       "4                            0.126638                              0.134596   \n",
       "\n",
       "   percent_inc_hhlds_150_000_to_199_999  percent_inc_hhlds_200_000_or_more  \n",
       "0                              0.049905                           0.047912  \n",
       "1                              0.000000                           0.000000  \n",
       "2                              0.050044                           0.044832  \n",
       "3                              0.056983                           0.043802  \n",
       "4                              0.064141                           0.033173  \n",
       "\n",
       "[5 rows x 46 columns]"
      ]
     },
     "execution_count": 3,
     "metadata": {},
     "output_type": "execute_result"
    }
   ],
   "source": [
    "percent.head(5)"
   ]
  },
  {
   "cell_type": "code",
   "execution_count": 4,
   "metadata": {},
   "outputs": [],
   "source": [
    "fatality = pd.read_csv('data/texas_combined_cleaned_WITH_Census_FA.csv')"
   ]
  },
  {
   "cell_type": "code",
   "execution_count": 5,
   "metadata": {},
   "outputs": [
    {
     "data": {
      "text/html": [
       "<div>\n",
       "<style scoped>\n",
       "    .dataframe tbody tr th:only-of-type {\n",
       "        vertical-align: middle;\n",
       "    }\n",
       "\n",
       "    .dataframe tbody tr th {\n",
       "        vertical-align: top;\n",
       "    }\n",
       "\n",
       "    .dataframe thead th {\n",
       "        text-align: right;\n",
       "    }\n",
       "</style>\n",
       "<table border=\"1\" class=\"dataframe\">\n",
       "  <thead>\n",
       "    <tr style=\"text-align: right;\">\n",
       "      <th></th>\n",
       "      <th>county_name</th>\n",
       "      <th>total_cases</th>\n",
       "      <th>total_fatalities</th>\n",
       "      <th>death_rate</th>\n",
       "      <th>race_pop</th>\n",
       "      <th>race_pop_hispanic_or_latino_of_any_race</th>\n",
       "      <th>race_pop_white_alone</th>\n",
       "      <th>race_pop_black_or_african_american_alone</th>\n",
       "      <th>race_pop_american_indian_and_alaska_native_alone</th>\n",
       "      <th>race_pop_asian_alone</th>\n",
       "      <th>...</th>\n",
       "      <th>inc_hhlds_100_000_to_149_999</th>\n",
       "      <th>inc_hhlds_150_000_to_199_999</th>\n",
       "      <th>inc_hhlds_200_000_or_more</th>\n",
       "      <th>inc_med_hhld_inc_dol</th>\n",
       "      <th>inc_mean_hhld_inc_dol</th>\n",
       "      <th>inc_per_capita_inc_dol</th>\n",
       "      <th>inc_med_earn_workers_dol</th>\n",
       "      <th>inc_med_earn_male_full_yr_workers_dol</th>\n",
       "      <th>inc_med_earn_female_full_yr_workers_dol</th>\n",
       "      <th>pop_density</th>\n",
       "    </tr>\n",
       "  </thead>\n",
       "  <tbody>\n",
       "    <tr>\n",
       "      <th>0</th>\n",
       "      <td>Anderson</td>\n",
       "      <td>2922.0</td>\n",
       "      <td>39</td>\n",
       "      <td>0.013347</td>\n",
       "      <td>57863</td>\n",
       "      <td>10142</td>\n",
       "      <td>34312</td>\n",
       "      <td>12127</td>\n",
       "      <td>158</td>\n",
       "      <td>319</td>\n",
       "      <td>...</td>\n",
       "      <td>1432</td>\n",
       "      <td>422</td>\n",
       "      <td>240</td>\n",
       "      <td>43355</td>\n",
       "      <td>55852</td>\n",
       "      <td>16868</td>\n",
       "      <td>26621</td>\n",
       "      <td>36865</td>\n",
       "      <td>26890</td>\n",
       "      <td>54.452632</td>\n",
       "    </tr>\n",
       "    <tr>\n",
       "      <th>1</th>\n",
       "      <td>Andrews</td>\n",
       "      <td>567.0</td>\n",
       "      <td>10</td>\n",
       "      <td>0.017637</td>\n",
       "      <td>17818</td>\n",
       "      <td>9979</td>\n",
       "      <td>7215</td>\n",
       "      <td>321</td>\n",
       "      <td>0</td>\n",
       "      <td>63</td>\n",
       "      <td>...</td>\n",
       "      <td>1214</td>\n",
       "      <td>398</td>\n",
       "      <td>352</td>\n",
       "      <td>74233</td>\n",
       "      <td>94962</td>\n",
       "      <td>31190</td>\n",
       "      <td>40478</td>\n",
       "      <td>72970</td>\n",
       "      <td>35194</td>\n",
       "      <td>11.872960</td>\n",
       "    </tr>\n",
       "    <tr>\n",
       "      <th>2</th>\n",
       "      <td>Angelina</td>\n",
       "      <td>2277.0</td>\n",
       "      <td>90</td>\n",
       "      <td>0.039526</td>\n",
       "      <td>87607</td>\n",
       "      <td>19174</td>\n",
       "      <td>53216</td>\n",
       "      <td>12834</td>\n",
       "      <td>107</td>\n",
       "      <td>987</td>\n",
       "      <td>...</td>\n",
       "      <td>3257</td>\n",
       "      <td>985</td>\n",
       "      <td>639</td>\n",
       "      <td>47714</td>\n",
       "      <td>61152</td>\n",
       "      <td>22322</td>\n",
       "      <td>27411</td>\n",
       "      <td>41488</td>\n",
       "      <td>32622</td>\n",
       "      <td>109.813207</td>\n",
       "    </tr>\n",
       "    <tr>\n",
       "      <th>3</th>\n",
       "      <td>Aransas</td>\n",
       "      <td>340.0</td>\n",
       "      <td>18</td>\n",
       "      <td>0.052941</td>\n",
       "      <td>24763</td>\n",
       "      <td>6756</td>\n",
       "      <td>16691</td>\n",
       "      <td>365</td>\n",
       "      <td>14</td>\n",
       "      <td>488</td>\n",
       "      <td>...</td>\n",
       "      <td>1047</td>\n",
       "      <td>476</td>\n",
       "      <td>496</td>\n",
       "      <td>44865</td>\n",
       "      <td>75471</td>\n",
       "      <td>30939</td>\n",
       "      <td>21567</td>\n",
       "      <td>43182</td>\n",
       "      <td>32005</td>\n",
       "      <td>98.246769</td>\n",
       "    </tr>\n",
       "    <tr>\n",
       "      <th>4</th>\n",
       "      <td>Archer</td>\n",
       "      <td>133.0</td>\n",
       "      <td>1</td>\n",
       "      <td>0.007519</td>\n",
       "      <td>8789</td>\n",
       "      <td>727</td>\n",
       "      <td>7772</td>\n",
       "      <td>76</td>\n",
       "      <td>27</td>\n",
       "      <td>47</td>\n",
       "      <td>...</td>\n",
       "      <td>626</td>\n",
       "      <td>198</td>\n",
       "      <td>145</td>\n",
       "      <td>64476</td>\n",
       "      <td>80073</td>\n",
       "      <td>31806</td>\n",
       "      <td>32469</td>\n",
       "      <td>49105</td>\n",
       "      <td>37377</td>\n",
       "      <td>9.729998</td>\n",
       "    </tr>\n",
       "    <tr>\n",
       "      <th>...</th>\n",
       "      <td>...</td>\n",
       "      <td>...</td>\n",
       "      <td>...</td>\n",
       "      <td>...</td>\n",
       "      <td>...</td>\n",
       "      <td>...</td>\n",
       "      <td>...</td>\n",
       "      <td>...</td>\n",
       "      <td>...</td>\n",
       "      <td>...</td>\n",
       "      <td>...</td>\n",
       "      <td>...</td>\n",
       "      <td>...</td>\n",
       "      <td>...</td>\n",
       "      <td>...</td>\n",
       "      <td>...</td>\n",
       "      <td>...</td>\n",
       "      <td>...</td>\n",
       "      <td>...</td>\n",
       "      <td>...</td>\n",
       "      <td>...</td>\n",
       "    </tr>\n",
       "    <tr>\n",
       "      <th>249</th>\n",
       "      <td>Wood</td>\n",
       "      <td>621.0</td>\n",
       "      <td>36</td>\n",
       "      <td>0.057971</td>\n",
       "      <td>43815</td>\n",
       "      <td>4313</td>\n",
       "      <td>36273</td>\n",
       "      <td>2335</td>\n",
       "      <td>277</td>\n",
       "      <td>133</td>\n",
       "      <td>...</td>\n",
       "      <td>1996</td>\n",
       "      <td>663</td>\n",
       "      <td>455</td>\n",
       "      <td>48534</td>\n",
       "      <td>68298</td>\n",
       "      <td>27841</td>\n",
       "      <td>28985</td>\n",
       "      <td>49656</td>\n",
       "      <td>34209</td>\n",
       "      <td>67.904439</td>\n",
       "    </tr>\n",
       "    <tr>\n",
       "      <th>250</th>\n",
       "      <td>Yoakum</td>\n",
       "      <td>289.0</td>\n",
       "      <td>5</td>\n",
       "      <td>0.017301</td>\n",
       "      <td>8571</td>\n",
       "      <td>5643</td>\n",
       "      <td>2763</td>\n",
       "      <td>25</td>\n",
       "      <td>11</td>\n",
       "      <td>5</td>\n",
       "      <td>...</td>\n",
       "      <td>557</td>\n",
       "      <td>153</td>\n",
       "      <td>142</td>\n",
       "      <td>68814</td>\n",
       "      <td>82418</td>\n",
       "      <td>26519</td>\n",
       "      <td>43250</td>\n",
       "      <td>68603</td>\n",
       "      <td>36103</td>\n",
       "      <td>10.717568</td>\n",
       "    </tr>\n",
       "    <tr>\n",
       "      <th>251</th>\n",
       "      <td>Young</td>\n",
       "      <td>497.0</td>\n",
       "      <td>6</td>\n",
       "      <td>0.012072</td>\n",
       "      <td>18114</td>\n",
       "      <td>3332</td>\n",
       "      <td>14176</td>\n",
       "      <td>354</td>\n",
       "      <td>112</td>\n",
       "      <td>89</td>\n",
       "      <td>...</td>\n",
       "      <td>1066</td>\n",
       "      <td>172</td>\n",
       "      <td>131</td>\n",
       "      <td>47194</td>\n",
       "      <td>64653</td>\n",
       "      <td>25855</td>\n",
       "      <td>30734</td>\n",
       "      <td>49142</td>\n",
       "      <td>27542</td>\n",
       "      <td>19.807588</td>\n",
       "    </tr>\n",
       "    <tr>\n",
       "      <th>252</th>\n",
       "      <td>Zapata</td>\n",
       "      <td>342.0</td>\n",
       "      <td>9</td>\n",
       "      <td>0.026316</td>\n",
       "      <td>14369</td>\n",
       "      <td>13542</td>\n",
       "      <td>615</td>\n",
       "      <td>0</td>\n",
       "      <td>0</td>\n",
       "      <td>179</td>\n",
       "      <td>...</td>\n",
       "      <td>215</td>\n",
       "      <td>78</td>\n",
       "      <td>82</td>\n",
       "      <td>31113</td>\n",
       "      <td>52009</td>\n",
       "      <td>17228</td>\n",
       "      <td>18938</td>\n",
       "      <td>36461</td>\n",
       "      <td>24946</td>\n",
       "      <td>14.391854</td>\n",
       "    </tr>\n",
       "    <tr>\n",
       "      <th>253</th>\n",
       "      <td>Zavala</td>\n",
       "      <td>452.0</td>\n",
       "      <td>18</td>\n",
       "      <td>0.039823</td>\n",
       "      <td>12131</td>\n",
       "      <td>11372</td>\n",
       "      <td>602</td>\n",
       "      <td>60</td>\n",
       "      <td>0</td>\n",
       "      <td>4</td>\n",
       "      <td>...</td>\n",
       "      <td>129</td>\n",
       "      <td>9</td>\n",
       "      <td>6</td>\n",
       "      <td>30988</td>\n",
       "      <td>39610</td>\n",
       "      <td>13350</td>\n",
       "      <td>19020</td>\n",
       "      <td>31708</td>\n",
       "      <td>22638</td>\n",
       "      <td>9.350188</td>\n",
       "    </tr>\n",
       "  </tbody>\n",
       "</table>\n",
       "<p>254 rows × 54 columns</p>\n",
       "</div>"
      ],
      "text/plain": [
       "    county_name  total_cases  total_fatalities  death_rate  race_pop  \\\n",
       "0      Anderson       2922.0                39    0.013347     57863   \n",
       "1       Andrews        567.0                10    0.017637     17818   \n",
       "2      Angelina       2277.0                90    0.039526     87607   \n",
       "3       Aransas        340.0                18    0.052941     24763   \n",
       "4        Archer        133.0                 1    0.007519      8789   \n",
       "..          ...          ...               ...         ...       ...   \n",
       "249        Wood        621.0                36    0.057971     43815   \n",
       "250      Yoakum        289.0                 5    0.017301      8571   \n",
       "251       Young        497.0                 6    0.012072     18114   \n",
       "252      Zapata        342.0                 9    0.026316     14369   \n",
       "253      Zavala        452.0                18    0.039823     12131   \n",
       "\n",
       "     race_pop_hispanic_or_latino_of_any_race  race_pop_white_alone  \\\n",
       "0                                      10142                 34312   \n",
       "1                                       9979                  7215   \n",
       "2                                      19174                 53216   \n",
       "3                                       6756                 16691   \n",
       "4                                        727                  7772   \n",
       "..                                       ...                   ...   \n",
       "249                                     4313                 36273   \n",
       "250                                     5643                  2763   \n",
       "251                                     3332                 14176   \n",
       "252                                    13542                   615   \n",
       "253                                    11372                   602   \n",
       "\n",
       "     race_pop_black_or_african_american_alone  \\\n",
       "0                                       12127   \n",
       "1                                         321   \n",
       "2                                       12834   \n",
       "3                                         365   \n",
       "4                                          76   \n",
       "..                                        ...   \n",
       "249                                      2335   \n",
       "250                                        25   \n",
       "251                                       354   \n",
       "252                                         0   \n",
       "253                                        60   \n",
       "\n",
       "     race_pop_american_indian_and_alaska_native_alone  race_pop_asian_alone  \\\n",
       "0                                                 158                   319   \n",
       "1                                                   0                    63   \n",
       "2                                                 107                   987   \n",
       "3                                                  14                   488   \n",
       "4                                                  27                    47   \n",
       "..                                                ...                   ...   \n",
       "249                                               277                   133   \n",
       "250                                                11                     5   \n",
       "251                                               112                    89   \n",
       "252                                                 0                   179   \n",
       "253                                                 0                     4   \n",
       "\n",
       "     ...  inc_hhlds_100_000_to_149_999  inc_hhlds_150_000_to_199_999  \\\n",
       "0    ...                          1432                           422   \n",
       "1    ...                          1214                           398   \n",
       "2    ...                          3257                           985   \n",
       "3    ...                          1047                           476   \n",
       "4    ...                           626                           198   \n",
       "..   ...                           ...                           ...   \n",
       "249  ...                          1996                           663   \n",
       "250  ...                           557                           153   \n",
       "251  ...                          1066                           172   \n",
       "252  ...                           215                            78   \n",
       "253  ...                           129                             9   \n",
       "\n",
       "     inc_hhlds_200_000_or_more  inc_med_hhld_inc_dol  inc_mean_hhld_inc_dol  \\\n",
       "0                          240                 43355                  55852   \n",
       "1                          352                 74233                  94962   \n",
       "2                          639                 47714                  61152   \n",
       "3                          496                 44865                  75471   \n",
       "4                          145                 64476                  80073   \n",
       "..                         ...                   ...                    ...   \n",
       "249                        455                 48534                  68298   \n",
       "250                        142                 68814                  82418   \n",
       "251                        131                 47194                  64653   \n",
       "252                         82                 31113                  52009   \n",
       "253                          6                 30988                  39610   \n",
       "\n",
       "     inc_per_capita_inc_dol  inc_med_earn_workers_dol  \\\n",
       "0                     16868                     26621   \n",
       "1                     31190                     40478   \n",
       "2                     22322                     27411   \n",
       "3                     30939                     21567   \n",
       "4                     31806                     32469   \n",
       "..                      ...                       ...   \n",
       "249                   27841                     28985   \n",
       "250                   26519                     43250   \n",
       "251                   25855                     30734   \n",
       "252                   17228                     18938   \n",
       "253                   13350                     19020   \n",
       "\n",
       "     inc_med_earn_male_full_yr_workers_dol  \\\n",
       "0                                    36865   \n",
       "1                                    72970   \n",
       "2                                    41488   \n",
       "3                                    43182   \n",
       "4                                    49105   \n",
       "..                                     ...   \n",
       "249                                  49656   \n",
       "250                                  68603   \n",
       "251                                  49142   \n",
       "252                                  36461   \n",
       "253                                  31708   \n",
       "\n",
       "     inc_med_earn_female_full_yr_workers_dol  pop_density  \n",
       "0                                      26890    54.452632  \n",
       "1                                      35194    11.872960  \n",
       "2                                      32622   109.813207  \n",
       "3                                      32005    98.246769  \n",
       "4                                      37377     9.729998  \n",
       "..                                       ...          ...  \n",
       "249                                    34209    67.904439  \n",
       "250                                    36103    10.717568  \n",
       "251                                    27542    19.807588  \n",
       "252                                    24946    14.391854  \n",
       "253                                    22638     9.350188  \n",
       "\n",
       "[254 rows x 54 columns]"
      ]
     },
     "execution_count": 5,
     "metadata": {},
     "output_type": "execute_result"
    }
   ],
   "source": [
    "fatality"
   ]
  },
  {
   "cell_type": "code",
   "execution_count": 6,
   "metadata": {},
   "outputs": [
    {
     "data": {
      "text/html": [
       "<div>\n",
       "<style scoped>\n",
       "    .dataframe tbody tr th:only-of-type {\n",
       "        vertical-align: middle;\n",
       "    }\n",
       "\n",
       "    .dataframe tbody tr th {\n",
       "        vertical-align: top;\n",
       "    }\n",
       "\n",
       "    .dataframe thead th {\n",
       "        text-align: right;\n",
       "    }\n",
       "</style>\n",
       "<table border=\"1\" class=\"dataframe\">\n",
       "  <thead>\n",
       "    <tr style=\"text-align: right;\">\n",
       "      <th></th>\n",
       "      <th>county_state</th>\n",
       "      <th>sex_age_median_age_in_years</th>\n",
       "      <th>health_ins_noninst_pop_private</th>\n",
       "      <th>health_ins_noninst_pop_public</th>\n",
       "      <th>inc_med_hhld_inc_dol</th>\n",
       "      <th>inc_mean_hhld_inc_dol</th>\n",
       "      <th>inc_per_capita_inc_dol</th>\n",
       "      <th>inc_med_earn_workers_dol</th>\n",
       "      <th>inc_med_earn_male_full_yr_workers_dol</th>\n",
       "      <th>inc_med_earn_female_full_yr_workers_dol</th>\n",
       "      <th>...</th>\n",
       "      <th>percent_inc_hhlds_less_than_10_000</th>\n",
       "      <th>percent_inc_hhlds_10_000_to_14_999</th>\n",
       "      <th>percent_inc_hhlds_15_000_to_24_999</th>\n",
       "      <th>percent_inc_hhlds_25_000_to_34_999</th>\n",
       "      <th>percent_inc_hhlds_35_000_to_49_999</th>\n",
       "      <th>percent_inc_hhlds_50_000_to_74_999</th>\n",
       "      <th>percent_inc_hhlds_75_000_to_99_999</th>\n",
       "      <th>percent_inc_hhlds_100_000_to_149_999</th>\n",
       "      <th>percent_inc_hhlds_150_000_to_199_999</th>\n",
       "      <th>percent_inc_hhlds_200_000_or_more</th>\n",
       "    </tr>\n",
       "  </thead>\n",
       "  <tbody>\n",
       "    <tr>\n",
       "      <th>174</th>\n",
       "      <td>Anderson County, Texas</td>\n",
       "      <td>39.1</td>\n",
       "      <td>27169</td>\n",
       "      <td>16504</td>\n",
       "      <td>43355</td>\n",
       "      <td>55852</td>\n",
       "      <td>16868</td>\n",
       "      <td>26621</td>\n",
       "      <td>36865</td>\n",
       "      <td>26890</td>\n",
       "      <td>...</td>\n",
       "      <td>0.058874</td>\n",
       "      <td>0.074184</td>\n",
       "      <td>0.137493</td>\n",
       "      <td>0.130628</td>\n",
       "      <td>0.162282</td>\n",
       "      <td>0.197217</td>\n",
       "      <td>0.112097</td>\n",
       "      <td>0.087004</td>\n",
       "      <td>0.025639</td>\n",
       "      <td>0.014582</td>\n",
       "    </tr>\n",
       "    <tr>\n",
       "      <th>108</th>\n",
       "      <td>Andrews County, Texas</td>\n",
       "      <td>31.2</td>\n",
       "      <td>11313</td>\n",
       "      <td>4332</td>\n",
       "      <td>74233</td>\n",
       "      <td>94962</td>\n",
       "      <td>31190</td>\n",
       "      <td>40478</td>\n",
       "      <td>72970</td>\n",
       "      <td>35194</td>\n",
       "      <td>...</td>\n",
       "      <td>0.054829</td>\n",
       "      <td>0.031046</td>\n",
       "      <td>0.052832</td>\n",
       "      <td>0.095316</td>\n",
       "      <td>0.124546</td>\n",
       "      <td>0.152687</td>\n",
       "      <td>0.132171</td>\n",
       "      <td>0.220407</td>\n",
       "      <td>0.072259</td>\n",
       "      <td>0.063907</td>\n",
       "    </tr>\n",
       "    <tr>\n",
       "      <th>144</th>\n",
       "      <td>Angelina County, Texas</td>\n",
       "      <td>37.2</td>\n",
       "      <td>46576</td>\n",
       "      <td>31836</td>\n",
       "      <td>47714</td>\n",
       "      <td>61152</td>\n",
       "      <td>22322</td>\n",
       "      <td>27411</td>\n",
       "      <td>41488</td>\n",
       "      <td>32622</td>\n",
       "      <td>...</td>\n",
       "      <td>0.083553</td>\n",
       "      <td>0.054381</td>\n",
       "      <td>0.132963</td>\n",
       "      <td>0.119611</td>\n",
       "      <td>0.132248</td>\n",
       "      <td>0.188318</td>\n",
       "      <td>0.130364</td>\n",
       "      <td>0.105805</td>\n",
       "      <td>0.031998</td>\n",
       "      <td>0.020758</td>\n",
       "    </tr>\n",
       "    <tr>\n",
       "      <th>155</th>\n",
       "      <td>Aransas County, Texas</td>\n",
       "      <td>49.6</td>\n",
       "      <td>13508</td>\n",
       "      <td>10606</td>\n",
       "      <td>44865</td>\n",
       "      <td>75471</td>\n",
       "      <td>30939</td>\n",
       "      <td>21567</td>\n",
       "      <td>43182</td>\n",
       "      <td>32005</td>\n",
       "      <td>...</td>\n",
       "      <td>0.088634</td>\n",
       "      <td>0.055768</td>\n",
       "      <td>0.123198</td>\n",
       "      <td>0.120971</td>\n",
       "      <td>0.149385</td>\n",
       "      <td>0.152990</td>\n",
       "      <td>0.094996</td>\n",
       "      <td>0.111005</td>\n",
       "      <td>0.050466</td>\n",
       "      <td>0.052587</td>\n",
       "    </tr>\n",
       "    <tr>\n",
       "      <th>194</th>\n",
       "      <td>Archer County, Texas</td>\n",
       "      <td>44.5</td>\n",
       "      <td>6429</td>\n",
       "      <td>2718</td>\n",
       "      <td>64476</td>\n",
       "      <td>80073</td>\n",
       "      <td>31806</td>\n",
       "      <td>32469</td>\n",
       "      <td>49105</td>\n",
       "      <td>37377</td>\n",
       "      <td>...</td>\n",
       "      <td>0.037515</td>\n",
       "      <td>0.059724</td>\n",
       "      <td>0.086735</td>\n",
       "      <td>0.117947</td>\n",
       "      <td>0.103541</td>\n",
       "      <td>0.165066</td>\n",
       "      <td>0.138655</td>\n",
       "      <td>0.187875</td>\n",
       "      <td>0.059424</td>\n",
       "      <td>0.043517</td>\n",
       "    </tr>\n",
       "    <tr>\n",
       "      <th>...</th>\n",
       "      <td>...</td>\n",
       "      <td>...</td>\n",
       "      <td>...</td>\n",
       "      <td>...</td>\n",
       "      <td>...</td>\n",
       "      <td>...</td>\n",
       "      <td>...</td>\n",
       "      <td>...</td>\n",
       "      <td>...</td>\n",
       "      <td>...</td>\n",
       "      <td>...</td>\n",
       "      <td>...</td>\n",
       "      <td>...</td>\n",
       "      <td>...</td>\n",
       "      <td>...</td>\n",
       "      <td>...</td>\n",
       "      <td>...</td>\n",
       "      <td>...</td>\n",
       "      <td>...</td>\n",
       "      <td>...</td>\n",
       "      <td>...</td>\n",
       "    </tr>\n",
       "    <tr>\n",
       "      <th>154</th>\n",
       "      <td>Wood County, Texas</td>\n",
       "      <td>48.2</td>\n",
       "      <td>27043</td>\n",
       "      <td>18512</td>\n",
       "      <td>48534</td>\n",
       "      <td>68298</td>\n",
       "      <td>27841</td>\n",
       "      <td>28985</td>\n",
       "      <td>49656</td>\n",
       "      <td>34209</td>\n",
       "      <td>...</td>\n",
       "      <td>0.075918</td>\n",
       "      <td>0.065634</td>\n",
       "      <td>0.104289</td>\n",
       "      <td>0.119775</td>\n",
       "      <td>0.146513</td>\n",
       "      <td>0.175005</td>\n",
       "      <td>0.124493</td>\n",
       "      <td>0.120743</td>\n",
       "      <td>0.040106</td>\n",
       "      <td>0.027524</td>\n",
       "    </tr>\n",
       "    <tr>\n",
       "      <th>203</th>\n",
       "      <td>Yoakum County, Texas</td>\n",
       "      <td>31.2</td>\n",
       "      <td>5154</td>\n",
       "      <td>2076</td>\n",
       "      <td>68814</td>\n",
       "      <td>82418</td>\n",
       "      <td>26519</td>\n",
       "      <td>43250</td>\n",
       "      <td>68603</td>\n",
       "      <td>36103</td>\n",
       "      <td>...</td>\n",
       "      <td>0.024664</td>\n",
       "      <td>0.073617</td>\n",
       "      <td>0.060538</td>\n",
       "      <td>0.075859</td>\n",
       "      <td>0.092676</td>\n",
       "      <td>0.242900</td>\n",
       "      <td>0.111360</td>\n",
       "      <td>0.208146</td>\n",
       "      <td>0.057175</td>\n",
       "      <td>0.053064</td>\n",
       "    </tr>\n",
       "    <tr>\n",
       "      <th>112</th>\n",
       "      <td>Young County, Texas</td>\n",
       "      <td>41.4</td>\n",
       "      <td>10708</td>\n",
       "      <td>6048</td>\n",
       "      <td>47194</td>\n",
       "      <td>64653</td>\n",
       "      <td>25855</td>\n",
       "      <td>30734</td>\n",
       "      <td>49142</td>\n",
       "      <td>27542</td>\n",
       "      <td>...</td>\n",
       "      <td>0.058269</td>\n",
       "      <td>0.045602</td>\n",
       "      <td>0.106545</td>\n",
       "      <td>0.123293</td>\n",
       "      <td>0.186488</td>\n",
       "      <td>0.179029</td>\n",
       "      <td>0.108093</td>\n",
       "      <td>0.150035</td>\n",
       "      <td>0.024208</td>\n",
       "      <td>0.018438</td>\n",
       "    </tr>\n",
       "    <tr>\n",
       "      <th>113</th>\n",
       "      <td>Zapata County, Texas</td>\n",
       "      <td>29.6</td>\n",
       "      <td>4596</td>\n",
       "      <td>6540</td>\n",
       "      <td>31113</td>\n",
       "      <td>52009</td>\n",
       "      <td>17228</td>\n",
       "      <td>18938</td>\n",
       "      <td>36461</td>\n",
       "      <td>24946</td>\n",
       "      <td>...</td>\n",
       "      <td>0.162089</td>\n",
       "      <td>0.062429</td>\n",
       "      <td>0.158910</td>\n",
       "      <td>0.163451</td>\n",
       "      <td>0.156640</td>\n",
       "      <td>0.114415</td>\n",
       "      <td>0.096935</td>\n",
       "      <td>0.048808</td>\n",
       "      <td>0.017707</td>\n",
       "      <td>0.018615</td>\n",
       "    </tr>\n",
       "    <tr>\n",
       "      <th>11</th>\n",
       "      <td>Zavala County, Texas</td>\n",
       "      <td>32.9</td>\n",
       "      <td>4443</td>\n",
       "      <td>6018</td>\n",
       "      <td>30988</td>\n",
       "      <td>39610</td>\n",
       "      <td>13350</td>\n",
       "      <td>19020</td>\n",
       "      <td>31708</td>\n",
       "      <td>22638</td>\n",
       "      <td>...</td>\n",
       "      <td>0.126817</td>\n",
       "      <td>0.137361</td>\n",
       "      <td>0.170704</td>\n",
       "      <td>0.123682</td>\n",
       "      <td>0.168709</td>\n",
       "      <td>0.142491</td>\n",
       "      <td>0.089199</td>\n",
       "      <td>0.036763</td>\n",
       "      <td>0.002565</td>\n",
       "      <td>0.001710</td>\n",
       "    </tr>\n",
       "  </tbody>\n",
       "</table>\n",
       "<p>254 rows × 46 columns</p>\n",
       "</div>"
      ],
      "text/plain": [
       "               county_state  sex_age_median_age_in_years  \\\n",
       "174  Anderson County, Texas                         39.1   \n",
       "108   Andrews County, Texas                         31.2   \n",
       "144  Angelina County, Texas                         37.2   \n",
       "155   Aransas County, Texas                         49.6   \n",
       "194    Archer County, Texas                         44.5   \n",
       "..                      ...                          ...   \n",
       "154      Wood County, Texas                         48.2   \n",
       "203    Yoakum County, Texas                         31.2   \n",
       "112     Young County, Texas                         41.4   \n",
       "113    Zapata County, Texas                         29.6   \n",
       "11     Zavala County, Texas                         32.9   \n",
       "\n",
       "     health_ins_noninst_pop_private  health_ins_noninst_pop_public  \\\n",
       "174                           27169                          16504   \n",
       "108                           11313                           4332   \n",
       "144                           46576                          31836   \n",
       "155                           13508                          10606   \n",
       "194                            6429                           2718   \n",
       "..                              ...                            ...   \n",
       "154                           27043                          18512   \n",
       "203                            5154                           2076   \n",
       "112                           10708                           6048   \n",
       "113                            4596                           6540   \n",
       "11                             4443                           6018   \n",
       "\n",
       "     inc_med_hhld_inc_dol  inc_mean_hhld_inc_dol  inc_per_capita_inc_dol  \\\n",
       "174                 43355                  55852                   16868   \n",
       "108                 74233                  94962                   31190   \n",
       "144                 47714                  61152                   22322   \n",
       "155                 44865                  75471                   30939   \n",
       "194                 64476                  80073                   31806   \n",
       "..                    ...                    ...                     ...   \n",
       "154                 48534                  68298                   27841   \n",
       "203                 68814                  82418                   26519   \n",
       "112                 47194                  64653                   25855   \n",
       "113                 31113                  52009                   17228   \n",
       "11                  30988                  39610                   13350   \n",
       "\n",
       "     inc_med_earn_workers_dol  inc_med_earn_male_full_yr_workers_dol  \\\n",
       "174                     26621                                  36865   \n",
       "108                     40478                                  72970   \n",
       "144                     27411                                  41488   \n",
       "155                     21567                                  43182   \n",
       "194                     32469                                  49105   \n",
       "..                        ...                                    ...   \n",
       "154                     28985                                  49656   \n",
       "203                     43250                                  68603   \n",
       "112                     30734                                  49142   \n",
       "113                     18938                                  36461   \n",
       "11                      19020                                  31708   \n",
       "\n",
       "     inc_med_earn_female_full_yr_workers_dol  ...  \\\n",
       "174                                    26890  ...   \n",
       "108                                    35194  ...   \n",
       "144                                    32622  ...   \n",
       "155                                    32005  ...   \n",
       "194                                    37377  ...   \n",
       "..                                       ...  ...   \n",
       "154                                    34209  ...   \n",
       "203                                    36103  ...   \n",
       "112                                    27542  ...   \n",
       "113                                    24946  ...   \n",
       "11                                     22638  ...   \n",
       "\n",
       "     percent_inc_hhlds_less_than_10_000  percent_inc_hhlds_10_000_to_14_999  \\\n",
       "174                            0.058874                            0.074184   \n",
       "108                            0.054829                            0.031046   \n",
       "144                            0.083553                            0.054381   \n",
       "155                            0.088634                            0.055768   \n",
       "194                            0.037515                            0.059724   \n",
       "..                                  ...                                 ...   \n",
       "154                            0.075918                            0.065634   \n",
       "203                            0.024664                            0.073617   \n",
       "112                            0.058269                            0.045602   \n",
       "113                            0.162089                            0.062429   \n",
       "11                             0.126817                            0.137361   \n",
       "\n",
       "     percent_inc_hhlds_15_000_to_24_999  percent_inc_hhlds_25_000_to_34_999  \\\n",
       "174                            0.137493                            0.130628   \n",
       "108                            0.052832                            0.095316   \n",
       "144                            0.132963                            0.119611   \n",
       "155                            0.123198                            0.120971   \n",
       "194                            0.086735                            0.117947   \n",
       "..                                  ...                                 ...   \n",
       "154                            0.104289                            0.119775   \n",
       "203                            0.060538                            0.075859   \n",
       "112                            0.106545                            0.123293   \n",
       "113                            0.158910                            0.163451   \n",
       "11                             0.170704                            0.123682   \n",
       "\n",
       "     percent_inc_hhlds_35_000_to_49_999  percent_inc_hhlds_50_000_to_74_999  \\\n",
       "174                            0.162282                            0.197217   \n",
       "108                            0.124546                            0.152687   \n",
       "144                            0.132248                            0.188318   \n",
       "155                            0.149385                            0.152990   \n",
       "194                            0.103541                            0.165066   \n",
       "..                                  ...                                 ...   \n",
       "154                            0.146513                            0.175005   \n",
       "203                            0.092676                            0.242900   \n",
       "112                            0.186488                            0.179029   \n",
       "113                            0.156640                            0.114415   \n",
       "11                             0.168709                            0.142491   \n",
       "\n",
       "     percent_inc_hhlds_75_000_to_99_999  percent_inc_hhlds_100_000_to_149_999  \\\n",
       "174                            0.112097                              0.087004   \n",
       "108                            0.132171                              0.220407   \n",
       "144                            0.130364                              0.105805   \n",
       "155                            0.094996                              0.111005   \n",
       "194                            0.138655                              0.187875   \n",
       "..                                  ...                                   ...   \n",
       "154                            0.124493                              0.120743   \n",
       "203                            0.111360                              0.208146   \n",
       "112                            0.108093                              0.150035   \n",
       "113                            0.096935                              0.048808   \n",
       "11                             0.089199                              0.036763   \n",
       "\n",
       "     percent_inc_hhlds_150_000_to_199_999  percent_inc_hhlds_200_000_or_more  \n",
       "174                              0.025639                           0.014582  \n",
       "108                              0.072259                           0.063907  \n",
       "144                              0.031998                           0.020758  \n",
       "155                              0.050466                           0.052587  \n",
       "194                              0.059424                           0.043517  \n",
       "..                                    ...                                ...  \n",
       "154                              0.040106                           0.027524  \n",
       "203                              0.057175                           0.053064  \n",
       "112                              0.024208                           0.018438  \n",
       "113                              0.017707                           0.018615  \n",
       "11                               0.002565                           0.001710  \n",
       "\n",
       "[254 rows x 46 columns]"
      ]
     },
     "execution_count": 6,
     "metadata": {},
     "output_type": "execute_result"
    }
   ],
   "source": [
    "percent.sort_values('county_state')"
   ]
  },
  {
   "cell_type": "code",
   "execution_count": 7,
   "metadata": {},
   "outputs": [],
   "source": [
    "from sklearn.naive_bayes import MultinomialNB\n",
    "from sklearn.model_selection import train_test_split, GridSearchCV, cross_val_score\n",
    "from sklearn.feature_extraction.text import CountVectorizer, TfidfVectorizer, TfidfTransformer\n",
    "from sklearn.pipeline import make_pipeline, Pipeline\n",
    "from sklearn import metrics\n",
    "from sklearn.linear_model import LogisticRegression, LinearRegression, Ridge, RidgeCV, Lasso, LassoCV, LogisticRegression, LinearRegression\n",
    "from sklearn.neighbors import KNeighborsClassifier\n",
    "from sklearn.ensemble import RandomForestClassifier, GradientBoostingClassifier, AdaBoostClassifier, VotingClassifier\n",
    "from sklearn.metrics import r2_score,mean_squared_error,confusion_matrix,accuracy_score, plot_confusion_matrix\n",
    "from sklearn.preprocessing import StandardScaler"
   ]
  },
  {
   "cell_type": "code",
   "execution_count": 8,
   "metadata": {},
   "outputs": [],
   "source": [
    "percent['death_rate'] = fatality['death_rate']"
   ]
  },
  {
   "cell_type": "code",
   "execution_count": 9,
   "metadata": {},
   "outputs": [
    {
     "data": {
      "text/plain": [
       "0      0.013347\n",
       "1      0.017637\n",
       "2      0.039526\n",
       "3      0.052941\n",
       "4      0.007519\n",
       "         ...   \n",
       "249    0.057971\n",
       "250    0.017301\n",
       "251    0.012072\n",
       "252    0.026316\n",
       "253    0.039823\n",
       "Name: death_rate, Length: 254, dtype: float64"
      ]
     },
     "execution_count": 9,
     "metadata": {},
     "output_type": "execute_result"
    }
   ],
   "source": [
    "percent['death_rate']"
   ]
  },
  {
   "cell_type": "code",
   "execution_count": 10,
   "metadata": {},
   "outputs": [],
   "source": [
    "percent.set_index('county_state', inplace = True)"
   ]
  },
  {
   "cell_type": "code",
   "execution_count": 11,
   "metadata": {},
   "outputs": [
    {
     "data": {
      "text/plain": [
       "sex_age_median_age_in_years                                          0\n",
       "health_ins_noninst_pop_private                                       0\n",
       "health_ins_noninst_pop_public                                        0\n",
       "inc_med_hhld_inc_dol                                                 0\n",
       "inc_mean_hhld_inc_dol                                                0\n",
       "inc_per_capita_inc_dol                                               0\n",
       "inc_med_earn_workers_dol                                             0\n",
       "inc_med_earn_male_full_yr_workers_dol                                0\n",
       "inc_med_earn_female_full_yr_workers_dol                              0\n",
       "pop_density                                                          0\n",
       "percent_race_pop_hispanic_or_latino_of_any_race                      0\n",
       "percent_race_pop_white_alone                                         0\n",
       "percent_race_pop_black_or_african_american_alone                     0\n",
       "percent_race_pop_american_indian_and_alaska_native_alone             0\n",
       "percent_race_pop_asian_alone                                         0\n",
       "percent_race_pop_native_hawaiian_and_other_pacific_islander_alone    0\n",
       "percent_race_pop_some_other_race_alone                               0\n",
       "percent_race_pop_two_or_more_races                                   0\n",
       "percent_sex_age_pop_male                                             0\n",
       "percent_sex_age_pop_female                                           0\n",
       "percent_sex_age_pop_under_5                                          0\n",
       "percent_sex_age_pop_5_to_9                                           0\n",
       "percent_sex_age_pop_10_to_14                                         0\n",
       "percent_sex_age_pop_15_to_19                                         0\n",
       "percent_sex_age_pop_20_to_24                                         0\n",
       "percent_sex_age_pop_25_to_34                                         0\n",
       "percent_sex_age_pop_35_to_44                                         0\n",
       "percent_sex_age_pop_45_to_54                                         0\n",
       "percent_sex_age_pop_55_to_59                                         0\n",
       "percent_sex_age_pop_60_to_64                                         0\n",
       "percent_sex_age_pop_65_to_74                                         0\n",
       "percent_sex_age_pop_75_to_84                                         0\n",
       "percent_sex_age_pop_85_and_over                                      0\n",
       "percent_health_ins_noninst_pop_cov_yes                               0\n",
       "percent_health_ins_noninst_pop_cov_no                                0\n",
       "percent_inc_hhlds_less_than_10_000                                   0\n",
       "percent_inc_hhlds_10_000_to_14_999                                   0\n",
       "percent_inc_hhlds_15_000_to_24_999                                   0\n",
       "percent_inc_hhlds_25_000_to_34_999                                   0\n",
       "percent_inc_hhlds_35_000_to_49_999                                   0\n",
       "percent_inc_hhlds_50_000_to_74_999                                   0\n",
       "percent_inc_hhlds_75_000_to_99_999                                   0\n",
       "percent_inc_hhlds_100_000_to_149_999                                 0\n",
       "percent_inc_hhlds_150_000_to_199_999                                 0\n",
       "percent_inc_hhlds_200_000_or_more                                    0\n",
       "death_rate                                                           0\n",
       "dtype: int64"
      ]
     },
     "execution_count": 11,
     "metadata": {},
     "output_type": "execute_result"
    }
   ],
   "source": [
    "percent.isnull().sum()"
   ]
  },
  {
   "cell_type": "markdown",
   "metadata": {},
   "source": [
    "## Linear Regression"
   ]
  },
  {
   "cell_type": "code",
   "execution_count": 12,
   "metadata": {},
   "outputs": [],
   "source": [
    "X = percent.drop(columns = 'death_rate', axis = 1)\n",
    "y = percent['death_rate']"
   ]
  },
  {
   "cell_type": "code",
   "execution_count": 13,
   "metadata": {},
   "outputs": [],
   "source": [
    "X_train, X_test, y_train, y_test = train_test_split(X, y, random_state = 42)"
   ]
  },
  {
   "cell_type": "code",
   "execution_count": 14,
   "metadata": {},
   "outputs": [],
   "source": [
    "ss = StandardScaler()"
   ]
  },
  {
   "cell_type": "code",
   "execution_count": 15,
   "metadata": {},
   "outputs": [],
   "source": [
    "X_train_ss = ss.fit_transform(X_train, y_train)\n",
    "X_test_ss = ss.transform(X_test)"
   ]
  },
  {
   "cell_type": "code",
   "execution_count": 16,
   "metadata": {},
   "outputs": [
    {
     "data": {
      "text/plain": [
       "array([[ 0.85863858, -0.1580981 , -0.14002384, ...,  0.34094014,\n",
       "        -0.15441322,  0.82839859],\n",
       "       [-0.31395544, -0.09464626, -0.01603679, ..., -0.40956955,\n",
       "        -0.47970729, -0.65925746],\n",
       "       [-1.31903603, -0.22853223, -0.23635853, ...,  1.94188418,\n",
       "         1.3767392 ,  1.20148626],\n",
       "       ...,\n",
       "       [ 0.72462784, -0.20434292, -0.1750459 , ..., -0.3213915 ,\n",
       "        -0.80132503, -0.70212359],\n",
       "       [-0.8835011 , -0.20122196, -0.18050107, ..., -0.38938545,\n",
       "        -0.66161841, -0.5261369 ],\n",
       "       [-1.268782  ,  0.33364989,  1.02457966, ..., -0.79094196,\n",
       "        -0.64317281, -0.72965738]])"
      ]
     },
     "execution_count": 16,
     "metadata": {},
     "output_type": "execute_result"
    }
   ],
   "source": [
    "X_train_ss"
   ]
  },
  {
   "cell_type": "code",
   "execution_count": 17,
   "metadata": {},
   "outputs": [],
   "source": [
    "lr = LinearRegression()"
   ]
  },
  {
   "cell_type": "code",
   "execution_count": 18,
   "metadata": {},
   "outputs": [
    {
     "data": {
      "text/plain": [
       "LinearRegression()"
      ]
     },
     "execution_count": 18,
     "metadata": {},
     "output_type": "execute_result"
    }
   ],
   "source": [
    "lr.fit(X_train_ss, y_train)"
   ]
  },
  {
   "cell_type": "code",
   "execution_count": 19,
   "metadata": {},
   "outputs": [
    {
     "data": {
      "text/plain": [
       "0.2846613614553334"
      ]
     },
     "execution_count": 19,
     "metadata": {},
     "output_type": "execute_result"
    }
   ],
   "source": [
    "lr.score(X_train_ss, y_train)"
   ]
  },
  {
   "cell_type": "code",
   "execution_count": 20,
   "metadata": {},
   "outputs": [
    {
     "data": {
      "text/plain": [
       "-7.999013933325664"
      ]
     },
     "execution_count": 20,
     "metadata": {},
     "output_type": "execute_result"
    }
   ],
   "source": [
    "lr.score(X_test_ss, y_test)"
   ]
  },
  {
   "cell_type": "code",
   "execution_count": 21,
   "metadata": {},
   "outputs": [
    {
     "data": {
      "text/plain": [
       "-597114.9359974727"
      ]
     },
     "execution_count": 21,
     "metadata": {},
     "output_type": "execute_result"
    }
   ],
   "source": [
    "cross_val_score(lr, X_train_ss, y_train, cv = 5).mean()"
   ]
  },
  {
   "cell_type": "code",
   "execution_count": 22,
   "metadata": {},
   "outputs": [],
   "source": [
    "preds = lr.predict(X_test_ss)"
   ]
  },
  {
   "cell_type": "code",
   "execution_count": 23,
   "metadata": {},
   "outputs": [
    {
     "data": {
      "text/plain": [
       "array([-0.09487709,  0.07554833,  0.10410134, -0.04656776,  0.04845635,\n",
       "       -0.09450325,  0.07626168,  0.00292412, -0.0548838 ,  0.05589119,\n",
       "        0.06923024,  0.12459771,  0.01935021,  0.0341951 ,  0.05467526,\n",
       "        0.05058495, -0.01708397, -0.01455482, -0.01948341, -0.04645713,\n",
       "        0.11895958,  0.05304161,  0.04149071,  0.03988854,  0.08194176,\n",
       "       -0.06851753,  0.04464928,  0.05664269,  0.07861535, -0.00692543,\n",
       "        0.01791588,  0.04092614,  0.0186517 ,  0.15027825, -0.01261266,\n",
       "        0.04556481,  0.09112755,  0.23699013,  0.07875267,  0.06682793,\n",
       "        0.07518975,  0.06426445,  0.11937777,  0.0335714 ,  0.15370385,\n",
       "        0.11975304, -0.03305229,  0.17804161,  0.03002755,  0.05563561,\n",
       "        0.04178063,  0.03714196,  0.02121178,  0.05838314,  0.03232018,\n",
       "        0.05789391,  0.03776757,  0.02992455,  0.08860604,  0.01552788,\n",
       "        0.0174276 , -0.12218269,  0.0305082 , -0.01876625])"
      ]
     },
     "execution_count": 23,
     "metadata": {},
     "output_type": "execute_result"
    }
   ],
   "source": [
    "preds"
   ]
  },
  {
   "cell_type": "code",
   "execution_count": 24,
   "metadata": {},
   "outputs": [],
   "source": [
    "from sklearn.metrics import mean_absolute_error, mean_squared_error"
   ]
  },
  {
   "cell_type": "code",
   "execution_count": 25,
   "metadata": {},
   "outputs": [
    {
     "data": {
      "text/plain": [
       "0.003923466588467628"
      ]
     },
     "execution_count": 25,
     "metadata": {},
     "output_type": "execute_result"
    }
   ],
   "source": [
    "mean_squared_error(y_test, preds)"
   ]
  },
  {
   "cell_type": "code",
   "execution_count": 26,
   "metadata": {},
   "outputs": [
    {
     "data": {
      "text/plain": [
       "0.04765267866456425"
      ]
     },
     "execution_count": 26,
     "metadata": {},
     "output_type": "execute_result"
    }
   ],
   "source": [
    "mean_absolute_error(y_test, preds)"
   ]
  },
  {
   "cell_type": "markdown",
   "metadata": {},
   "source": [
    "## Lasso"
   ]
  },
  {
   "cell_type": "code",
   "execution_count": 27,
   "metadata": {},
   "outputs": [],
   "source": [
    "lasso = Lasso(.01)"
   ]
  },
  {
   "cell_type": "code",
   "execution_count": 28,
   "metadata": {},
   "outputs": [],
   "source": [
    "ss = StandardScaler()\n",
    "X_train_ss = ss.fit_transform(X_train, y_train)\n",
    "X_test_ss = ss.transform(X_test)"
   ]
  },
  {
   "cell_type": "code",
   "execution_count": 29,
   "metadata": {},
   "outputs": [
    {
     "data": {
      "text/plain": [
       "Lasso(alpha=0.01)"
      ]
     },
     "execution_count": 29,
     "metadata": {},
     "output_type": "execute_result"
    }
   ],
   "source": [
    "lasso.fit(X_train_ss, y_train)"
   ]
  },
  {
   "cell_type": "code",
   "execution_count": 30,
   "metadata": {},
   "outputs": [
    {
     "data": {
      "text/plain": [
       "0.13673558013908016"
      ]
     },
     "execution_count": 30,
     "metadata": {},
     "output_type": "execute_result"
    }
   ],
   "source": [
    "lasso.score(X_train_ss, y_train)"
   ]
  },
  {
   "cell_type": "code",
   "execution_count": 31,
   "metadata": {},
   "outputs": [
    {
     "data": {
      "text/plain": [
       "-1.694375600432243"
      ]
     },
     "execution_count": 31,
     "metadata": {},
     "output_type": "execute_result"
    }
   ],
   "source": [
    "lasso.score(X_test_ss, y_test)"
   ]
  },
  {
   "cell_type": "code",
   "execution_count": 32,
   "metadata": {},
   "outputs": [
    {
     "data": {
      "text/plain": [
       "-1.7299516410914593"
      ]
     },
     "execution_count": 32,
     "metadata": {},
     "output_type": "execute_result"
    }
   ],
   "source": [
    "cross_val_score(lasso, X_train_ss, y_train).mean()"
   ]
  },
  {
   "cell_type": "markdown",
   "metadata": {},
   "source": [
    "### GridSearch"
   ]
  },
  {
   "cell_type": "code",
   "execution_count": 33,
   "metadata": {},
   "outputs": [],
   "source": [
    "params = {'alpha': [.01, .1, .5, 1, 5]}"
   ]
  },
  {
   "cell_type": "code",
   "execution_count": 34,
   "metadata": {},
   "outputs": [],
   "source": [
    "gs = GridSearchCV(estimator=Lasso(), param_grid=params)"
   ]
  },
  {
   "cell_type": "code",
   "execution_count": 35,
   "metadata": {},
   "outputs": [
    {
     "data": {
      "text/plain": [
       "GridSearchCV(estimator=Lasso(), param_grid={'alpha': [0.01, 0.1, 0.5, 1, 5]})"
      ]
     },
     "execution_count": 35,
     "metadata": {},
     "output_type": "execute_result"
    }
   ],
   "source": [
    "gs.fit(X_train_ss, y_train)"
   ]
  },
  {
   "cell_type": "code",
   "execution_count": 36,
   "metadata": {},
   "outputs": [
    {
     "data": {
      "text/plain": [
       "0.0"
      ]
     },
     "execution_count": 36,
     "metadata": {},
     "output_type": "execute_result"
    }
   ],
   "source": [
    "gs.score(X_train_ss, y_train)"
   ]
  },
  {
   "cell_type": "code",
   "execution_count": 37,
   "metadata": {},
   "outputs": [
    {
     "data": {
      "text/plain": [
       "-0.6563590385891607"
      ]
     },
     "execution_count": 37,
     "metadata": {},
     "output_type": "execute_result"
    }
   ],
   "source": [
    "gs.score(X_test_ss, y_test)"
   ]
  },
  {
   "cell_type": "code",
   "execution_count": 38,
   "metadata": {},
   "outputs": [
    {
     "data": {
      "text/plain": [
       "-0.15024381780040286"
      ]
     },
     "execution_count": 38,
     "metadata": {},
     "output_type": "execute_result"
    }
   ],
   "source": [
    "cross_val_score(gs, X_train_ss, y_train).mean()"
   ]
  },
  {
   "cell_type": "markdown",
   "metadata": {},
   "source": [
    "## Ridge"
   ]
  },
  {
   "cell_type": "code",
   "execution_count": 39,
   "metadata": {},
   "outputs": [],
   "source": [
    "ridge = Ridge()"
   ]
  },
  {
   "cell_type": "code",
   "execution_count": 40,
   "metadata": {},
   "outputs": [],
   "source": [
    "ss = StandardScaler()\n",
    "X_train_ss = ss.fit_transform(X_train, y_train)\n",
    "X_test_ss = ss.transform(X_test)"
   ]
  },
  {
   "cell_type": "code",
   "execution_count": 41,
   "metadata": {},
   "outputs": [
    {
     "data": {
      "text/plain": [
       "Ridge()"
      ]
     },
     "execution_count": 41,
     "metadata": {},
     "output_type": "execute_result"
    }
   ],
   "source": [
    "ridge.fit(X_train_ss, y_train)"
   ]
  },
  {
   "cell_type": "code",
   "execution_count": 42,
   "metadata": {},
   "outputs": [
    {
     "data": {
      "text/plain": [
       "0.28416633505677524"
      ]
     },
     "execution_count": 42,
     "metadata": {},
     "output_type": "execute_result"
    }
   ],
   "source": [
    "ridge.score(X_train_ss, y_train)"
   ]
  },
  {
   "cell_type": "code",
   "execution_count": 43,
   "metadata": {},
   "outputs": [
    {
     "data": {
      "text/plain": [
       "-6.124723505429072"
      ]
     },
     "execution_count": 43,
     "metadata": {},
     "output_type": "execute_result"
    }
   ],
   "source": [
    "ridge.score(X_test_ss, y_test)"
   ]
  },
  {
   "cell_type": "code",
   "execution_count": 44,
   "metadata": {},
   "outputs": [
    {
     "data": {
      "text/plain": [
       "-4.3173964741541475"
      ]
     },
     "execution_count": 44,
     "metadata": {},
     "output_type": "execute_result"
    }
   ],
   "source": [
    "cross_val_score(ridge, X_train_ss, y_train).mean()"
   ]
  },
  {
   "cell_type": "code",
   "execution_count": 45,
   "metadata": {},
   "outputs": [
    {
     "data": {
      "text/plain": [
       "Index(['county_name', 'total_cases', 'total_fatalities', 'death_rate',\n",
       "       'race_pop', 'race_pop_hispanic_or_latino_of_any_race',\n",
       "       'race_pop_white_alone', 'race_pop_black_or_african_american_alone',\n",
       "       'race_pop_american_indian_and_alaska_native_alone',\n",
       "       'race_pop_asian_alone',\n",
       "       'race_pop_native_hawaiian_and_other_pacific_islander_alone',\n",
       "       'race_pop_some_other_race_alone', 'race_pop_two_or_more_races',\n",
       "       'sex_age_pop', 'sex_age_pop_male', 'sex_age_pop_female',\n",
       "       'sex_age_pop_under_5', 'sex_age_pop_5_to_9', 'sex_age_pop_10_to_14',\n",
       "       'sex_age_pop_15_to_19', 'sex_age_pop_20_to_24', 'sex_age_pop_25_to_34',\n",
       "       'sex_age_pop_35_to_44', 'sex_age_pop_45_to_54', 'sex_age_pop_55_to_59',\n",
       "       'sex_age_pop_60_to_64', 'sex_age_pop_65_to_74', 'sex_age_pop_75_to_84',\n",
       "       'sex_age_pop_85_and_over', 'sex_age_median_age_in_years', 'sq_mi',\n",
       "       'health_ins_noninst_pop', 'health_ins_noninst_pop_cov_yes',\n",
       "       'health_ins_noninst_pop_private', 'health_ins_noninst_pop_public',\n",
       "       'health_ins_noninst_pop_cov_no', 'inc_hhlds',\n",
       "       'inc_hhlds_less_than_10_000', 'inc_hhlds_10_000_to_14_999',\n",
       "       'inc_hhlds_15_000_to_24_999', 'inc_hhlds_25_000_to_34_999',\n",
       "       'inc_hhlds_35_000_to_49_999', 'inc_hhlds_50_000_to_74_999',\n",
       "       'inc_hhlds_75_000_to_99_999', 'inc_hhlds_100_000_to_149_999',\n",
       "       'inc_hhlds_150_000_to_199_999', 'inc_hhlds_200_000_or_more',\n",
       "       'inc_med_hhld_inc_dol', 'inc_mean_hhld_inc_dol',\n",
       "       'inc_per_capita_inc_dol', 'inc_med_earn_workers_dol',\n",
       "       'inc_med_earn_male_full_yr_workers_dol',\n",
       "       'inc_med_earn_female_full_yr_workers_dol', 'pop_density'],\n",
       "      dtype='object')"
      ]
     },
     "execution_count": 45,
     "metadata": {},
     "output_type": "execute_result"
    }
   ],
   "source": [
    "fatality.columns"
   ]
  },
  {
   "cell_type": "code",
   "execution_count": 46,
   "metadata": {},
   "outputs": [
    {
     "data": {
      "text/plain": [
       "Index(['sex_age_median_age_in_years', 'health_ins_noninst_pop_private',\n",
       "       'health_ins_noninst_pop_public', 'inc_med_hhld_inc_dol',\n",
       "       'inc_mean_hhld_inc_dol', 'inc_per_capita_inc_dol',\n",
       "       'inc_med_earn_workers_dol', 'inc_med_earn_male_full_yr_workers_dol',\n",
       "       'inc_med_earn_female_full_yr_workers_dol', 'pop_density',\n",
       "       'percent_race_pop_hispanic_or_latino_of_any_race',\n",
       "       'percent_race_pop_white_alone',\n",
       "       'percent_race_pop_black_or_african_american_alone',\n",
       "       'percent_race_pop_american_indian_and_alaska_native_alone',\n",
       "       'percent_race_pop_asian_alone',\n",
       "       'percent_race_pop_native_hawaiian_and_other_pacific_islander_alone',\n",
       "       'percent_race_pop_some_other_race_alone',\n",
       "       'percent_race_pop_two_or_more_races', 'percent_sex_age_pop_male',\n",
       "       'percent_sex_age_pop_female', 'percent_sex_age_pop_under_5',\n",
       "       'percent_sex_age_pop_5_to_9', 'percent_sex_age_pop_10_to_14',\n",
       "       'percent_sex_age_pop_15_to_19', 'percent_sex_age_pop_20_to_24',\n",
       "       'percent_sex_age_pop_25_to_34', 'percent_sex_age_pop_35_to_44',\n",
       "       'percent_sex_age_pop_45_to_54', 'percent_sex_age_pop_55_to_59',\n",
       "       'percent_sex_age_pop_60_to_64', 'percent_sex_age_pop_65_to_74',\n",
       "       'percent_sex_age_pop_75_to_84', 'percent_sex_age_pop_85_and_over',\n",
       "       'percent_health_ins_noninst_pop_cov_yes',\n",
       "       'percent_health_ins_noninst_pop_cov_no',\n",
       "       'percent_inc_hhlds_less_than_10_000',\n",
       "       'percent_inc_hhlds_10_000_to_14_999',\n",
       "       'percent_inc_hhlds_15_000_to_24_999',\n",
       "       'percent_inc_hhlds_25_000_to_34_999',\n",
       "       'percent_inc_hhlds_35_000_to_49_999',\n",
       "       'percent_inc_hhlds_50_000_to_74_999',\n",
       "       'percent_inc_hhlds_75_000_to_99_999',\n",
       "       'percent_inc_hhlds_100_000_to_149_999',\n",
       "       'percent_inc_hhlds_150_000_to_199_999',\n",
       "       'percent_inc_hhlds_200_000_or_more', 'death_rate'],\n",
       "      dtype='object')"
      ]
     },
     "execution_count": 46,
     "metadata": {},
     "output_type": "execute_result"
    }
   ],
   "source": [
    "percent.columns"
   ]
  },
  {
   "cell_type": "code",
   "execution_count": 47,
   "metadata": {},
   "outputs": [],
   "source": [
    "percent2 = percent[['percent_race_pop_hispanic_or_latino_of_any_race',\n",
    "       'percent_race_pop_white_alone',\n",
    "       'percent_race_pop_black_or_african_american_alone',\n",
    "       'percent_race_pop_american_indian_and_alaska_native_alone',\n",
    "       'percent_race_pop_asian_alone',\n",
    "       'percent_race_pop_native_hawaiian_and_other_pacific_islander_alone',\n",
    "       'percent_race_pop_some_other_race_alone',\n",
    "       'percent_race_pop_two_or_more_races', 'percent_sex_age_pop_male',]]"
   ]
  },
  {
   "cell_type": "code",
   "execution_count": 48,
   "metadata": {},
   "outputs": [
    {
     "data": {
      "text/html": [
       "<div>\n",
       "<style scoped>\n",
       "    .dataframe tbody tr th:only-of-type {\n",
       "        vertical-align: middle;\n",
       "    }\n",
       "\n",
       "    .dataframe tbody tr th {\n",
       "        vertical-align: top;\n",
       "    }\n",
       "\n",
       "    .dataframe thead th {\n",
       "        text-align: right;\n",
       "    }\n",
       "</style>\n",
       "<table border=\"1\" class=\"dataframe\">\n",
       "  <thead>\n",
       "    <tr style=\"text-align: right;\">\n",
       "      <th></th>\n",
       "      <th>percent_race_pop_hispanic_or_latino_of_any_race</th>\n",
       "      <th>percent_race_pop_white_alone</th>\n",
       "      <th>percent_race_pop_black_or_african_american_alone</th>\n",
       "      <th>percent_race_pop_american_indian_and_alaska_native_alone</th>\n",
       "      <th>percent_race_pop_asian_alone</th>\n",
       "      <th>percent_race_pop_native_hawaiian_and_other_pacific_islander_alone</th>\n",
       "      <th>percent_race_pop_some_other_race_alone</th>\n",
       "      <th>percent_race_pop_two_or_more_races</th>\n",
       "      <th>percent_sex_age_pop_male</th>\n",
       "    </tr>\n",
       "    <tr>\n",
       "      <th>county_state</th>\n",
       "      <th></th>\n",
       "      <th></th>\n",
       "      <th></th>\n",
       "      <th></th>\n",
       "      <th></th>\n",
       "      <th></th>\n",
       "      <th></th>\n",
       "      <th></th>\n",
       "      <th></th>\n",
       "    </tr>\n",
       "  </thead>\n",
       "  <tbody>\n",
       "    <tr>\n",
       "      <th>Austin County, Texas</th>\n",
       "      <td>0.264468</td>\n",
       "      <td>0.626585</td>\n",
       "      <td>0.087130</td>\n",
       "      <td>0.001624</td>\n",
       "      <td>0.003010</td>\n",
       "      <td>0.000000</td>\n",
       "      <td>0.001759</td>\n",
       "      <td>0.015424</td>\n",
       "      <td>0.496668</td>\n",
       "    </tr>\n",
       "    <tr>\n",
       "      <th>Kenedy County, Texas</th>\n",
       "      <td>0.877311</td>\n",
       "      <td>0.121008</td>\n",
       "      <td>0.000000</td>\n",
       "      <td>0.000000</td>\n",
       "      <td>0.001681</td>\n",
       "      <td>0.000000</td>\n",
       "      <td>0.000000</td>\n",
       "      <td>0.000000</td>\n",
       "      <td>0.480672</td>\n",
       "    </tr>\n",
       "    <tr>\n",
       "      <th>Nueces County, Texas</th>\n",
       "      <td>0.633761</td>\n",
       "      <td>0.298630</td>\n",
       "      <td>0.036259</td>\n",
       "      <td>0.002549</td>\n",
       "      <td>0.019790</td>\n",
       "      <td>0.000671</td>\n",
       "      <td>0.000627</td>\n",
       "      <td>0.007712</td>\n",
       "      <td>0.493833</td>\n",
       "    </tr>\n",
       "    <tr>\n",
       "      <th>Colorado County, Texas</th>\n",
       "      <td>0.294929</td>\n",
       "      <td>0.563933</td>\n",
       "      <td>0.126296</td>\n",
       "      <td>0.001284</td>\n",
       "      <td>0.000333</td>\n",
       "      <td>0.000000</td>\n",
       "      <td>0.000000</td>\n",
       "      <td>0.013224</td>\n",
       "      <td>0.501284</td>\n",
       "    </tr>\n",
       "    <tr>\n",
       "      <th>San Patricio County, Texas</th>\n",
       "      <td>0.573979</td>\n",
       "      <td>0.388271</td>\n",
       "      <td>0.014960</td>\n",
       "      <td>0.001506</td>\n",
       "      <td>0.010008</td>\n",
       "      <td>0.000447</td>\n",
       "      <td>0.000104</td>\n",
       "      <td>0.010724</td>\n",
       "      <td>0.502953</td>\n",
       "    </tr>\n",
       "    <tr>\n",
       "      <th>...</th>\n",
       "      <td>...</td>\n",
       "      <td>...</td>\n",
       "      <td>...</td>\n",
       "      <td>...</td>\n",
       "      <td>...</td>\n",
       "      <td>...</td>\n",
       "      <td>...</td>\n",
       "      <td>...</td>\n",
       "      <td>...</td>\n",
       "    </tr>\n",
       "    <tr>\n",
       "      <th>McCulloch County, Texas</th>\n",
       "      <td>0.319462</td>\n",
       "      <td>0.610645</td>\n",
       "      <td>0.018276</td>\n",
       "      <td>0.000247</td>\n",
       "      <td>0.001976</td>\n",
       "      <td>0.000000</td>\n",
       "      <td>0.030995</td>\n",
       "      <td>0.018400</td>\n",
       "      <td>0.526056</td>\n",
       "    </tr>\n",
       "    <tr>\n",
       "      <th>Lee County, Texas</th>\n",
       "      <td>0.234191</td>\n",
       "      <td>0.635500</td>\n",
       "      <td>0.111432</td>\n",
       "      <td>0.000000</td>\n",
       "      <td>0.009733</td>\n",
       "      <td>0.000000</td>\n",
       "      <td>0.001534</td>\n",
       "      <td>0.007610</td>\n",
       "      <td>0.504837</td>\n",
       "    </tr>\n",
       "    <tr>\n",
       "      <th>Ellis County, Texas</th>\n",
       "      <td>0.259047</td>\n",
       "      <td>0.616810</td>\n",
       "      <td>0.093699</td>\n",
       "      <td>0.001990</td>\n",
       "      <td>0.006539</td>\n",
       "      <td>0.000272</td>\n",
       "      <td>0.000942</td>\n",
       "      <td>0.020700</td>\n",
       "      <td>0.492685</td>\n",
       "    </tr>\n",
       "    <tr>\n",
       "      <th>Kerr County, Texas</th>\n",
       "      <td>0.266758</td>\n",
       "      <td>0.690821</td>\n",
       "      <td>0.014777</td>\n",
       "      <td>0.002278</td>\n",
       "      <td>0.009209</td>\n",
       "      <td>0.000623</td>\n",
       "      <td>0.002219</td>\n",
       "      <td>0.013316</td>\n",
       "      <td>0.484493</td>\n",
       "    </tr>\n",
       "    <tr>\n",
       "      <th>Falls County, Texas</th>\n",
       "      <td>0.230476</td>\n",
       "      <td>0.513209</td>\n",
       "      <td>0.240072</td>\n",
       "      <td>0.003295</td>\n",
       "      <td>0.004220</td>\n",
       "      <td>0.000405</td>\n",
       "      <td>0.000000</td>\n",
       "      <td>0.008324</td>\n",
       "      <td>0.473380</td>\n",
       "    </tr>\n",
       "  </tbody>\n",
       "</table>\n",
       "<p>254 rows × 9 columns</p>\n",
       "</div>"
      ],
      "text/plain": [
       "                            percent_race_pop_hispanic_or_latino_of_any_race  \\\n",
       "county_state                                                                  \n",
       "Austin County, Texas                                               0.264468   \n",
       "Kenedy County, Texas                                               0.877311   \n",
       "Nueces County, Texas                                               0.633761   \n",
       "Colorado County, Texas                                             0.294929   \n",
       "San Patricio County, Texas                                         0.573979   \n",
       "...                                                                     ...   \n",
       "McCulloch County, Texas                                            0.319462   \n",
       "Lee County, Texas                                                  0.234191   \n",
       "Ellis County, Texas                                                0.259047   \n",
       "Kerr County, Texas                                                 0.266758   \n",
       "Falls County, Texas                                                0.230476   \n",
       "\n",
       "                            percent_race_pop_white_alone  \\\n",
       "county_state                                               \n",
       "Austin County, Texas                            0.626585   \n",
       "Kenedy County, Texas                            0.121008   \n",
       "Nueces County, Texas                            0.298630   \n",
       "Colorado County, Texas                          0.563933   \n",
       "San Patricio County, Texas                      0.388271   \n",
       "...                                                  ...   \n",
       "McCulloch County, Texas                         0.610645   \n",
       "Lee County, Texas                               0.635500   \n",
       "Ellis County, Texas                             0.616810   \n",
       "Kerr County, Texas                              0.690821   \n",
       "Falls County, Texas                             0.513209   \n",
       "\n",
       "                            percent_race_pop_black_or_african_american_alone  \\\n",
       "county_state                                                                   \n",
       "Austin County, Texas                                                0.087130   \n",
       "Kenedy County, Texas                                                0.000000   \n",
       "Nueces County, Texas                                                0.036259   \n",
       "Colorado County, Texas                                              0.126296   \n",
       "San Patricio County, Texas                                          0.014960   \n",
       "...                                                                      ...   \n",
       "McCulloch County, Texas                                             0.018276   \n",
       "Lee County, Texas                                                   0.111432   \n",
       "Ellis County, Texas                                                 0.093699   \n",
       "Kerr County, Texas                                                  0.014777   \n",
       "Falls County, Texas                                                 0.240072   \n",
       "\n",
       "                            percent_race_pop_american_indian_and_alaska_native_alone  \\\n",
       "county_state                                                                           \n",
       "Austin County, Texas                                                 0.001624          \n",
       "Kenedy County, Texas                                                 0.000000          \n",
       "Nueces County, Texas                                                 0.002549          \n",
       "Colorado County, Texas                                               0.001284          \n",
       "San Patricio County, Texas                                           0.001506          \n",
       "...                                                                       ...          \n",
       "McCulloch County, Texas                                              0.000247          \n",
       "Lee County, Texas                                                    0.000000          \n",
       "Ellis County, Texas                                                  0.001990          \n",
       "Kerr County, Texas                                                   0.002278          \n",
       "Falls County, Texas                                                  0.003295          \n",
       "\n",
       "                            percent_race_pop_asian_alone  \\\n",
       "county_state                                               \n",
       "Austin County, Texas                            0.003010   \n",
       "Kenedy County, Texas                            0.001681   \n",
       "Nueces County, Texas                            0.019790   \n",
       "Colorado County, Texas                          0.000333   \n",
       "San Patricio County, Texas                      0.010008   \n",
       "...                                                  ...   \n",
       "McCulloch County, Texas                         0.001976   \n",
       "Lee County, Texas                               0.009733   \n",
       "Ellis County, Texas                             0.006539   \n",
       "Kerr County, Texas                              0.009209   \n",
       "Falls County, Texas                             0.004220   \n",
       "\n",
       "                            percent_race_pop_native_hawaiian_and_other_pacific_islander_alone  \\\n",
       "county_state                                                                                    \n",
       "Austin County, Texas                                                 0.000000                   \n",
       "Kenedy County, Texas                                                 0.000000                   \n",
       "Nueces County, Texas                                                 0.000671                   \n",
       "Colorado County, Texas                                               0.000000                   \n",
       "San Patricio County, Texas                                           0.000447                   \n",
       "...                                                                       ...                   \n",
       "McCulloch County, Texas                                              0.000000                   \n",
       "Lee County, Texas                                                    0.000000                   \n",
       "Ellis County, Texas                                                  0.000272                   \n",
       "Kerr County, Texas                                                   0.000623                   \n",
       "Falls County, Texas                                                  0.000405                   \n",
       "\n",
       "                            percent_race_pop_some_other_race_alone  \\\n",
       "county_state                                                         \n",
       "Austin County, Texas                                      0.001759   \n",
       "Kenedy County, Texas                                      0.000000   \n",
       "Nueces County, Texas                                      0.000627   \n",
       "Colorado County, Texas                                    0.000000   \n",
       "San Patricio County, Texas                                0.000104   \n",
       "...                                                            ...   \n",
       "McCulloch County, Texas                                   0.030995   \n",
       "Lee County, Texas                                         0.001534   \n",
       "Ellis County, Texas                                       0.000942   \n",
       "Kerr County, Texas                                        0.002219   \n",
       "Falls County, Texas                                       0.000000   \n",
       "\n",
       "                            percent_race_pop_two_or_more_races  \\\n",
       "county_state                                                     \n",
       "Austin County, Texas                                  0.015424   \n",
       "Kenedy County, Texas                                  0.000000   \n",
       "Nueces County, Texas                                  0.007712   \n",
       "Colorado County, Texas                                0.013224   \n",
       "San Patricio County, Texas                            0.010724   \n",
       "...                                                        ...   \n",
       "McCulloch County, Texas                               0.018400   \n",
       "Lee County, Texas                                     0.007610   \n",
       "Ellis County, Texas                                   0.020700   \n",
       "Kerr County, Texas                                    0.013316   \n",
       "Falls County, Texas                                   0.008324   \n",
       "\n",
       "                            percent_sex_age_pop_male  \n",
       "county_state                                          \n",
       "Austin County, Texas                        0.496668  \n",
       "Kenedy County, Texas                        0.480672  \n",
       "Nueces County, Texas                        0.493833  \n",
       "Colorado County, Texas                      0.501284  \n",
       "San Patricio County, Texas                  0.502953  \n",
       "...                                              ...  \n",
       "McCulloch County, Texas                     0.526056  \n",
       "Lee County, Texas                           0.504837  \n",
       "Ellis County, Texas                         0.492685  \n",
       "Kerr County, Texas                          0.484493  \n",
       "Falls County, Texas                         0.473380  \n",
       "\n",
       "[254 rows x 9 columns]"
      ]
     },
     "execution_count": 48,
     "metadata": {},
     "output_type": "execute_result"
    }
   ],
   "source": [
    "percent2"
   ]
  },
  {
   "cell_type": "code",
   "execution_count": 49,
   "metadata": {},
   "outputs": [],
   "source": [
    "X = percent2\n",
    "y = percent['death_rate']"
   ]
  },
  {
   "cell_type": "code",
   "execution_count": 50,
   "metadata": {},
   "outputs": [],
   "source": [
    "X_train, X_test, y_train, y_test = train_test_split(X, y, random_state = 42)"
   ]
  },
  {
   "cell_type": "code",
   "execution_count": 51,
   "metadata": {},
   "outputs": [],
   "source": [
    "ss = StandardScaler()\n",
    "X_train_ss = ss.fit_transform(X_train, y_train)\n",
    "X_test_ss = ss.transform(X_test)"
   ]
  },
  {
   "cell_type": "markdown",
   "metadata": {},
   "source": [
    "## Lasso"
   ]
  },
  {
   "cell_type": "code",
   "execution_count": 52,
   "metadata": {},
   "outputs": [],
   "source": [
    "lasso = Lasso()"
   ]
  },
  {
   "cell_type": "code",
   "execution_count": 53,
   "metadata": {},
   "outputs": [
    {
     "data": {
      "text/plain": [
       "Lasso()"
      ]
     },
     "execution_count": 53,
     "metadata": {},
     "output_type": "execute_result"
    }
   ],
   "source": [
    "lasso.fit(X_train_ss, y_train)"
   ]
  },
  {
   "cell_type": "code",
   "execution_count": 54,
   "metadata": {},
   "outputs": [
    {
     "data": {
      "text/plain": [
       "0.0"
      ]
     },
     "execution_count": 54,
     "metadata": {},
     "output_type": "execute_result"
    }
   ],
   "source": [
    "lasso.score(X_train_ss, y_train)"
   ]
  },
  {
   "cell_type": "code",
   "execution_count": 55,
   "metadata": {},
   "outputs": [
    {
     "data": {
      "text/plain": [
       "-0.6563590385891607"
      ]
     },
     "execution_count": 55,
     "metadata": {},
     "output_type": "execute_result"
    }
   ],
   "source": [
    "lasso.score(X_test_ss, y_test)"
   ]
  },
  {
   "cell_type": "code",
   "execution_count": 56,
   "metadata": {},
   "outputs": [],
   "source": [
    "params = {'alpha': [.01, .1, .5, 1, 5]}"
   ]
  },
  {
   "cell_type": "code",
   "execution_count": 57,
   "metadata": {},
   "outputs": [],
   "source": [
    "gs = GridSearchCV(estimator=Lasso(), param_grid=params)"
   ]
  },
  {
   "cell_type": "code",
   "execution_count": 58,
   "metadata": {},
   "outputs": [
    {
     "data": {
      "text/plain": [
       "GridSearchCV(estimator=Lasso(), param_grid={'alpha': [0.01, 0.1, 0.5, 1, 5]})"
      ]
     },
     "execution_count": 58,
     "metadata": {},
     "output_type": "execute_result"
    }
   ],
   "source": [
    "gs.fit(X_train_ss, y_train)"
   ]
  },
  {
   "cell_type": "code",
   "execution_count": 59,
   "metadata": {},
   "outputs": [
    {
     "data": {
      "text/plain": [
       "0.0"
      ]
     },
     "execution_count": 59,
     "metadata": {},
     "output_type": "execute_result"
    }
   ],
   "source": [
    "gs.score(X_train_ss, y_train)"
   ]
  },
  {
   "cell_type": "code",
   "execution_count": 60,
   "metadata": {},
   "outputs": [
    {
     "data": {
      "text/plain": [
       "-0.6563590385891607"
      ]
     },
     "execution_count": 60,
     "metadata": {},
     "output_type": "execute_result"
    }
   ],
   "source": [
    "gs.score(X_test_ss, y_test)"
   ]
  },
  {
   "cell_type": "markdown",
   "metadata": {},
   "source": [
    "## NN"
   ]
  },
  {
   "cell_type": "code",
   "execution_count": 61,
   "metadata": {},
   "outputs": [],
   "source": [
    "n_input = X_train.shape[1]"
   ]
  },
  {
   "cell_type": "code",
   "execution_count": 62,
   "metadata": {},
   "outputs": [
    {
     "data": {
      "text/plain": [
       "9"
      ]
     },
     "execution_count": 62,
     "metadata": {},
     "output_type": "execute_result"
    }
   ],
   "source": [
    "n_input"
   ]
  },
  {
   "cell_type": "code",
   "execution_count": 63,
   "metadata": {},
   "outputs": [],
   "source": [
    "from tensorflow.keras.models import Sequential\n",
    "from tensorflow.keras.layers import Dense"
   ]
  },
  {
   "cell_type": "code",
   "execution_count": 64,
   "metadata": {},
   "outputs": [],
   "source": [
    "model = Sequential()\n",
    "model.add(Dense(17, input_dim=n_input, activation='relu'))\n",
    "model.add(Dense(10, activation='relu'))\n",
    "model.add(Dense(1, activation='sigmoid'))"
   ]
  },
  {
   "cell_type": "code",
   "execution_count": 65,
   "metadata": {},
   "outputs": [],
   "source": [
    "model.compile(loss='binary_crossentropy', optimizer='adam', metrics=['acc'])"
   ]
  },
  {
   "cell_type": "code",
   "execution_count": 66,
   "metadata": {},
   "outputs": [
    {
     "name": "stdout",
     "output_type": "stream",
     "text": [
      "Epoch 1/100\n",
      "6/6 - 0s - loss: 0.6068 - acc: 0.0789 - val_loss: 0.5890 - val_acc: 0.0938\n",
      "Epoch 2/100\n",
      "6/6 - 0s - loss: 0.5876 - acc: 0.0789 - val_loss: 0.5697 - val_acc: 0.0938\n",
      "Epoch 3/100\n",
      "6/6 - 0s - loss: 0.5689 - acc: 0.0789 - val_loss: 0.5509 - val_acc: 0.0938\n",
      "Epoch 4/100\n",
      "6/6 - 0s - loss: 0.5509 - acc: 0.0789 - val_loss: 0.5324 - val_acc: 0.0938\n",
      "Epoch 5/100\n",
      "6/6 - 0s - loss: 0.5333 - acc: 0.0789 - val_loss: 0.5141 - val_acc: 0.0938\n",
      "Epoch 6/100\n",
      "6/6 - 0s - loss: 0.5161 - acc: 0.0789 - val_loss: 0.4961 - val_acc: 0.0938\n",
      "Epoch 7/100\n",
      "6/6 - 0s - loss: 0.4994 - acc: 0.0789 - val_loss: 0.4782 - val_acc: 0.0938\n",
      "Epoch 8/100\n",
      "6/6 - 0s - loss: 0.4824 - acc: 0.0789 - val_loss: 0.4608 - val_acc: 0.0938\n",
      "Epoch 9/100\n",
      "6/6 - 0s - loss: 0.4661 - acc: 0.0789 - val_loss: 0.4436 - val_acc: 0.0938\n",
      "Epoch 10/100\n",
      "6/6 - 0s - loss: 0.4503 - acc: 0.0789 - val_loss: 0.4265 - val_acc: 0.0938\n",
      "Epoch 11/100\n",
      "6/6 - 0s - loss: 0.4340 - acc: 0.0789 - val_loss: 0.4097 - val_acc: 0.0938\n",
      "Epoch 12/100\n",
      "6/6 - 0s - loss: 0.4185 - acc: 0.0789 - val_loss: 0.3931 - val_acc: 0.0938\n",
      "Epoch 13/100\n",
      "6/6 - 0s - loss: 0.4029 - acc: 0.0789 - val_loss: 0.3769 - val_acc: 0.0938\n",
      "Epoch 14/100\n",
      "6/6 - 0s - loss: 0.3879 - acc: 0.0789 - val_loss: 0.3611 - val_acc: 0.0938\n",
      "Epoch 15/100\n",
      "6/6 - 0s - loss: 0.3734 - acc: 0.0789 - val_loss: 0.3456 - val_acc: 0.0938\n",
      "Epoch 16/100\n",
      "6/6 - 0s - loss: 0.3592 - acc: 0.0789 - val_loss: 0.3304 - val_acc: 0.0938\n",
      "Epoch 17/100\n",
      "6/6 - 0s - loss: 0.3452 - acc: 0.0789 - val_loss: 0.3159 - val_acc: 0.0938\n",
      "Epoch 18/100\n",
      "6/6 - 0s - loss: 0.3320 - acc: 0.0789 - val_loss: 0.3018 - val_acc: 0.0938\n",
      "Epoch 19/100\n",
      "6/6 - 0s - loss: 0.3190 - acc: 0.0789 - val_loss: 0.2884 - val_acc: 0.0938\n",
      "Epoch 20/100\n",
      "6/6 - 0s - loss: 0.3072 - acc: 0.0789 - val_loss: 0.2755 - val_acc: 0.0938\n",
      "Epoch 21/100\n",
      "6/6 - 0s - loss: 0.2958 - acc: 0.0789 - val_loss: 0.2632 - val_acc: 0.0938\n",
      "Epoch 22/100\n",
      "6/6 - 0s - loss: 0.2847 - acc: 0.0789 - val_loss: 0.2517 - val_acc: 0.0938\n",
      "Epoch 23/100\n",
      "6/6 - 0s - loss: 0.2750 - acc: 0.0789 - val_loss: 0.2408 - val_acc: 0.0938\n",
      "Epoch 24/100\n",
      "6/6 - 0s - loss: 0.2652 - acc: 0.0789 - val_loss: 0.2308 - val_acc: 0.0938\n",
      "Epoch 25/100\n",
      "6/6 - 0s - loss: 0.2566 - acc: 0.0789 - val_loss: 0.2215 - val_acc: 0.0938\n",
      "Epoch 26/100\n",
      "6/6 - 0s - loss: 0.2489 - acc: 0.0789 - val_loss: 0.2127 - val_acc: 0.0938\n",
      "Epoch 27/100\n",
      "6/6 - 0s - loss: 0.2417 - acc: 0.0789 - val_loss: 0.2046 - val_acc: 0.0938\n",
      "Epoch 28/100\n",
      "6/6 - 0s - loss: 0.2348 - acc: 0.0789 - val_loss: 0.1974 - val_acc: 0.0938\n",
      "Epoch 29/100\n",
      "6/6 - 0s - loss: 0.2288 - acc: 0.0789 - val_loss: 0.1909 - val_acc: 0.0938\n",
      "Epoch 30/100\n",
      "6/6 - 0s - loss: 0.2237 - acc: 0.0789 - val_loss: 0.1847 - val_acc: 0.0938\n",
      "Epoch 31/100\n",
      "6/6 - 0s - loss: 0.2187 - acc: 0.0789 - val_loss: 0.1793 - val_acc: 0.0938\n",
      "Epoch 32/100\n",
      "6/6 - 0s - loss: 0.2147 - acc: 0.0789 - val_loss: 0.1743 - val_acc: 0.0938\n",
      "Epoch 33/100\n",
      "6/6 - 0s - loss: 0.2106 - acc: 0.0789 - val_loss: 0.1700 - val_acc: 0.0938\n",
      "Epoch 34/100\n",
      "6/6 - 0s - loss: 0.2078 - acc: 0.0789 - val_loss: 0.1659 - val_acc: 0.0938\n",
      "Epoch 35/100\n",
      "6/6 - 0s - loss: 0.2045 - acc: 0.0789 - val_loss: 0.1625 - val_acc: 0.0938\n",
      "Epoch 36/100\n",
      "6/6 - 0s - loss: 0.2020 - acc: 0.0789 - val_loss: 0.1595 - val_acc: 0.0938\n",
      "Epoch 37/100\n",
      "6/6 - 0s - loss: 0.2000 - acc: 0.0789 - val_loss: 0.1566 - val_acc: 0.0938\n",
      "Epoch 38/100\n",
      "6/6 - 0s - loss: 0.1983 - acc: 0.0789 - val_loss: 0.1540 - val_acc: 0.0938\n",
      "Epoch 39/100\n",
      "6/6 - 0s - loss: 0.1965 - acc: 0.0789 - val_loss: 0.1518 - val_acc: 0.0938\n",
      "Epoch 40/100\n",
      "6/6 - 0s - loss: 0.1950 - acc: 0.0789 - val_loss: 0.1499 - val_acc: 0.0938\n",
      "Epoch 41/100\n",
      "6/6 - 0s - loss: 0.1939 - acc: 0.0789 - val_loss: 0.1482 - val_acc: 0.0938\n",
      "Epoch 42/100\n",
      "6/6 - 0s - loss: 0.1928 - acc: 0.0789 - val_loss: 0.1467 - val_acc: 0.0938\n",
      "Epoch 43/100\n",
      "6/6 - 0s - loss: 0.1922 - acc: 0.0789 - val_loss: 0.1452 - val_acc: 0.0938\n",
      "Epoch 44/100\n",
      "6/6 - 0s - loss: 0.1912 - acc: 0.0789 - val_loss: 0.1441 - val_acc: 0.0938\n",
      "Epoch 45/100\n",
      "6/6 - 0s - loss: 0.1905 - acc: 0.0789 - val_loss: 0.1431 - val_acc: 0.0938\n",
      "Epoch 46/100\n",
      "6/6 - 0s - loss: 0.1901 - acc: 0.0789 - val_loss: 0.1422 - val_acc: 0.0938\n",
      "Epoch 47/100\n",
      "6/6 - 0s - loss: 0.1897 - acc: 0.0789 - val_loss: 0.1413 - val_acc: 0.0938\n",
      "Epoch 48/100\n",
      "6/6 - 0s - loss: 0.1892 - acc: 0.0789 - val_loss: 0.1405 - val_acc: 0.0938\n",
      "Epoch 49/100\n",
      "6/6 - 0s - loss: 0.1889 - acc: 0.0789 - val_loss: 0.1398 - val_acc: 0.0938\n",
      "Epoch 50/100\n",
      "6/6 - 0s - loss: 0.1886 - acc: 0.0789 - val_loss: 0.1393 - val_acc: 0.0938\n",
      "Epoch 51/100\n",
      "6/6 - 0s - loss: 0.1883 - acc: 0.0789 - val_loss: 0.1388 - val_acc: 0.0938\n",
      "Epoch 52/100\n",
      "6/6 - 0s - loss: 0.1882 - acc: 0.0789 - val_loss: 0.1383 - val_acc: 0.0938\n",
      "Epoch 53/100\n",
      "6/6 - 0s - loss: 0.1880 - acc: 0.0789 - val_loss: 0.1379 - val_acc: 0.0938\n",
      "Epoch 54/100\n",
      "6/6 - 0s - loss: 0.1879 - acc: 0.0789 - val_loss: 0.1376 - val_acc: 0.0938\n",
      "Epoch 55/100\n",
      "6/6 - 0s - loss: 0.1877 - acc: 0.0789 - val_loss: 0.1373 - val_acc: 0.0938\n",
      "Epoch 56/100\n",
      "6/6 - 0s - loss: 0.1877 - acc: 0.0789 - val_loss: 0.1370 - val_acc: 0.0938\n",
      "Epoch 57/100\n",
      "6/6 - 0s - loss: 0.1876 - acc: 0.0789 - val_loss: 0.1366 - val_acc: 0.0938\n",
      "Epoch 58/100\n",
      "6/6 - 0s - loss: 0.1876 - acc: 0.0789 - val_loss: 0.1363 - val_acc: 0.0938\n",
      "Epoch 59/100\n",
      "6/6 - 0s - loss: 0.1874 - acc: 0.0789 - val_loss: 0.1362 - val_acc: 0.0938\n",
      "Epoch 60/100\n",
      "6/6 - 0s - loss: 0.1874 - acc: 0.0789 - val_loss: 0.1361 - val_acc: 0.0938\n",
      "Epoch 61/100\n",
      "6/6 - 0s - loss: 0.1873 - acc: 0.0789 - val_loss: 0.1359 - val_acc: 0.0938\n",
      "Epoch 62/100\n",
      "6/6 - 0s - loss: 0.1873 - acc: 0.0789 - val_loss: 0.1358 - val_acc: 0.0938\n",
      "Epoch 63/100\n",
      "6/6 - 0s - loss: 0.1872 - acc: 0.0789 - val_loss: 0.1357 - val_acc: 0.0938\n",
      "Epoch 64/100\n",
      "6/6 - 0s - loss: 0.1872 - acc: 0.0789 - val_loss: 0.1355 - val_acc: 0.0938\n",
      "Epoch 65/100\n",
      "6/6 - 0s - loss: 0.1872 - acc: 0.0789 - val_loss: 0.1355 - val_acc: 0.0938\n",
      "Epoch 66/100\n",
      "6/6 - 0s - loss: 0.1871 - acc: 0.0789 - val_loss: 0.1354 - val_acc: 0.0938\n",
      "Epoch 67/100\n",
      "6/6 - 0s - loss: 0.1871 - acc: 0.0789 - val_loss: 0.1353 - val_acc: 0.0938\n",
      "Epoch 68/100\n",
      "6/6 - 0s - loss: 0.1871 - acc: 0.0789 - val_loss: 0.1353 - val_acc: 0.0938\n",
      "Epoch 69/100\n",
      "6/6 - 0s - loss: 0.1871 - acc: 0.0789 - val_loss: 0.1352 - val_acc: 0.0938\n",
      "Epoch 70/100\n",
      "6/6 - 0s - loss: 0.1870 - acc: 0.0789 - val_loss: 0.1351 - val_acc: 0.0938\n",
      "Epoch 71/100\n",
      "6/6 - 0s - loss: 0.1870 - acc: 0.0789 - val_loss: 0.1351 - val_acc: 0.0938\n",
      "Epoch 72/100\n",
      "6/6 - 0s - loss: 0.1870 - acc: 0.0789 - val_loss: 0.1349 - val_acc: 0.0938\n",
      "Epoch 73/100\n",
      "6/6 - 0s - loss: 0.1870 - acc: 0.0789 - val_loss: 0.1348 - val_acc: 0.0938\n",
      "Epoch 74/100\n",
      "6/6 - 0s - loss: 0.1870 - acc: 0.0789 - val_loss: 0.1348 - val_acc: 0.0938\n",
      "Epoch 75/100\n",
      "6/6 - 0s - loss: 0.1869 - acc: 0.0789 - val_loss: 0.1348 - val_acc: 0.0938\n",
      "Epoch 76/100\n",
      "6/6 - 0s - loss: 0.1869 - acc: 0.0789 - val_loss: 0.1347 - val_acc: 0.0938\n",
      "Epoch 77/100\n",
      "6/6 - 0s - loss: 0.1869 - acc: 0.0789 - val_loss: 0.1348 - val_acc: 0.0938\n",
      "Epoch 78/100\n",
      "6/6 - 0s - loss: 0.1869 - acc: 0.0789 - val_loss: 0.1347 - val_acc: 0.0938\n",
      "Epoch 79/100\n",
      "6/6 - 0s - loss: 0.1869 - acc: 0.0789 - val_loss: 0.1346 - val_acc: 0.0938\n",
      "Epoch 80/100\n",
      "6/6 - 0s - loss: 0.1869 - acc: 0.0789 - val_loss: 0.1347 - val_acc: 0.0938\n",
      "Epoch 81/100\n",
      "6/6 - 0s - loss: 0.1868 - acc: 0.0789 - val_loss: 0.1347 - val_acc: 0.0938\n",
      "Epoch 82/100\n",
      "6/6 - 0s - loss: 0.1868 - acc: 0.0789 - val_loss: 0.1347 - val_acc: 0.0938\n",
      "Epoch 83/100\n",
      "6/6 - 0s - loss: 0.1868 - acc: 0.0789 - val_loss: 0.1347 - val_acc: 0.0938\n",
      "Epoch 84/100\n",
      "6/6 - 0s - loss: 0.1868 - acc: 0.0789 - val_loss: 0.1347 - val_acc: 0.0938\n",
      "Epoch 85/100\n",
      "6/6 - 0s - loss: 0.1867 - acc: 0.0789 - val_loss: 0.1346 - val_acc: 0.0938\n",
      "Epoch 86/100\n",
      "6/6 - 0s - loss: 0.1867 - acc: 0.0789 - val_loss: 0.1346 - val_acc: 0.0938\n",
      "Epoch 87/100\n",
      "6/6 - 0s - loss: 0.1867 - acc: 0.0789 - val_loss: 0.1346 - val_acc: 0.0938\n",
      "Epoch 88/100\n",
      "6/6 - 0s - loss: 0.1867 - acc: 0.0789 - val_loss: 0.1346 - val_acc: 0.0938\n",
      "Epoch 89/100\n",
      "6/6 - 0s - loss: 0.1867 - acc: 0.0789 - val_loss: 0.1346 - val_acc: 0.0938\n",
      "Epoch 90/100\n",
      "6/6 - 0s - loss: 0.1867 - acc: 0.0789 - val_loss: 0.1345 - val_acc: 0.0938\n",
      "Epoch 91/100\n",
      "6/6 - 0s - loss: 0.1866 - acc: 0.0789 - val_loss: 0.1344 - val_acc: 0.0938\n",
      "Epoch 92/100\n",
      "6/6 - 0s - loss: 0.1867 - acc: 0.0789 - val_loss: 0.1344 - val_acc: 0.0938\n",
      "Epoch 93/100\n",
      "6/6 - 0s - loss: 0.1866 - acc: 0.0789 - val_loss: 0.1344 - val_acc: 0.0938\n",
      "Epoch 94/100\n",
      "6/6 - 0s - loss: 0.1866 - acc: 0.0789 - val_loss: 0.1345 - val_acc: 0.0938\n",
      "Epoch 95/100\n",
      "6/6 - 0s - loss: 0.1866 - acc: 0.0789 - val_loss: 0.1345 - val_acc: 0.0938\n",
      "Epoch 96/100\n",
      "6/6 - 0s - loss: 0.1866 - acc: 0.0789 - val_loss: 0.1346 - val_acc: 0.0938\n",
      "Epoch 97/100\n",
      "6/6 - 0s - loss: 0.1865 - acc: 0.0789 - val_loss: 0.1346 - val_acc: 0.0938\n",
      "Epoch 98/100\n",
      "6/6 - 0s - loss: 0.1865 - acc: 0.0789 - val_loss: 0.1346 - val_acc: 0.0938\n",
      "Epoch 99/100\n",
      "6/6 - 0s - loss: 0.1865 - acc: 0.0789 - val_loss: 0.1345 - val_acc: 0.0938\n",
      "Epoch 100/100\n",
      "6/6 - 0s - loss: 0.1865 - acc: 0.0789 - val_loss: 0.1345 - val_acc: 0.0938\n"
     ]
    }
   ],
   "source": [
    "  history = model.fit(\n",
    "      X_train,\n",
    "    y_train,\n",
    "    validation_data=(X_test, y_test),\n",
    "    epochs=100,\n",
    "    batch_size=None,\n",
    "    verbose=2\n",
    ")"
   ]
  },
  {
   "cell_type": "code",
   "execution_count": 67,
   "metadata": {},
   "outputs": [
    {
     "data": {
      "text/plain": [
       "(0.07894736528396606, 0.09375)"
      ]
     },
     "execution_count": 67,
     "metadata": {},
     "output_type": "execute_result"
    }
   ],
   "source": [
    "history.history['acc'][-1], history.history['val_acc'][-1]"
   ]
  },
  {
   "cell_type": "code",
   "execution_count": 68,
   "metadata": {},
   "outputs": [],
   "source": [
    "pred = model.predict(X_test)"
   ]
  },
  {
   "cell_type": "code",
   "execution_count": 69,
   "metadata": {},
   "outputs": [
    {
     "data": {
      "text/plain": [
       "0.000689965221487923"
      ]
     },
     "execution_count": 69,
     "metadata": {},
     "output_type": "execute_result"
    }
   ],
   "source": [
    "mean_squared_error(y_test, pred)"
   ]
  },
  {
   "cell_type": "code",
   "execution_count": 70,
   "metadata": {},
   "outputs": [
    {
     "data": {
      "text/plain": [
       "0.0262671890671218"
      ]
     },
     "execution_count": 70,
     "metadata": {},
     "output_type": "execute_result"
    }
   ],
   "source": [
    "rmse = (mean_squared_error(y_test, pred)) ** (1/2)\n",
    "rmse"
   ]
  },
  {
   "cell_type": "markdown",
   "metadata": {},
   "source": [
    "## Bagging"
   ]
  },
  {
   "cell_type": "code",
   "execution_count": 71,
   "metadata": {},
   "outputs": [],
   "source": [
    "from sklearn.ensemble import BaggingRegressor, BaggingClassifier, RandomForestRegressor, RandomForestClassifier, AdaBoostRegressor, AdaBoostClassifier"
   ]
  },
  {
   "cell_type": "code",
   "execution_count": 72,
   "metadata": {},
   "outputs": [
    {
     "data": {
      "text/plain": [
       "BaggingRegressor()"
      ]
     },
     "execution_count": 72,
     "metadata": {},
     "output_type": "execute_result"
    }
   ],
   "source": [
    "bag = BaggingRegressor()\n",
    "bag.fit(X_train_ss, y_train)"
   ]
  },
  {
   "cell_type": "code",
   "execution_count": 73,
   "metadata": {},
   "outputs": [
    {
     "data": {
      "text/plain": [
       "BaggingRegressor()"
      ]
     },
     "execution_count": 73,
     "metadata": {},
     "output_type": "execute_result"
    }
   ],
   "source": [
    "bag.fit(X_train_ss, y_train)"
   ]
  },
  {
   "cell_type": "code",
   "execution_count": 74,
   "metadata": {},
   "outputs": [
    {
     "data": {
      "text/plain": [
       "0.7620620177479783"
      ]
     },
     "execution_count": 74,
     "metadata": {},
     "output_type": "execute_result"
    }
   ],
   "source": [
    "bag.score(X_train_ss, y_train)"
   ]
  },
  {
   "cell_type": "code",
   "execution_count": 75,
   "metadata": {},
   "outputs": [
    {
     "data": {
      "text/plain": [
       "-3.592073636105207"
      ]
     },
     "execution_count": 75,
     "metadata": {},
     "output_type": "execute_result"
    }
   ],
   "source": [
    "bag.score(X_test_ss, y_test)"
   ]
  },
  {
   "cell_type": "markdown",
   "metadata": {},
   "source": [
    "## Ada Boost"
   ]
  },
  {
   "cell_type": "code",
   "execution_count": 76,
   "metadata": {},
   "outputs": [
    {
     "data": {
      "text/plain": [
       "AdaBoostRegressor()"
      ]
     },
     "execution_count": 76,
     "metadata": {},
     "output_type": "execute_result"
    }
   ],
   "source": [
    "ada = AdaBoostRegressor()\n",
    "ada.fit(X_train_ss, y_train)"
   ]
  },
  {
   "cell_type": "code",
   "execution_count": 77,
   "metadata": {},
   "outputs": [
    {
     "data": {
      "text/plain": [
       "0.9409938530529529"
      ]
     },
     "execution_count": 77,
     "metadata": {},
     "output_type": "execute_result"
    }
   ],
   "source": [
    "ada.score(X_train_ss, y_train)"
   ]
  },
  {
   "cell_type": "code",
   "execution_count": 78,
   "metadata": {},
   "outputs": [
    {
     "data": {
      "text/plain": [
       "-1.6198466502098756"
      ]
     },
     "execution_count": 78,
     "metadata": {},
     "output_type": "execute_result"
    }
   ],
   "source": [
    "ada.score(X_test_ss, y_test)"
   ]
  },
  {
   "cell_type": "markdown",
   "metadata": {},
   "source": [
    "## SVM"
   ]
  },
  {
   "cell_type": "code",
   "execution_count": 79,
   "metadata": {},
   "outputs": [
    {
     "data": {
      "text/plain": [
       "SVR()"
      ]
     },
     "execution_count": 79,
     "metadata": {},
     "output_type": "execute_result"
    }
   ],
   "source": [
    "from sklearn import svm\n",
    "svr = svm.SVR()\n",
    "svr.fit(X_train_ss, y_train)"
   ]
  },
  {
   "cell_type": "code",
   "execution_count": 80,
   "metadata": {},
   "outputs": [
    {
     "data": {
      "text/plain": [
       "0.5170845389102181"
      ]
     },
     "execution_count": 80,
     "metadata": {},
     "output_type": "execute_result"
    }
   ],
   "source": [
    "svr.score(X_train_ss, y_train)"
   ]
  },
  {
   "cell_type": "code",
   "execution_count": 81,
   "metadata": {},
   "outputs": [
    {
     "data": {
      "text/plain": [
       "-9.869363128638343"
      ]
     },
     "execution_count": 81,
     "metadata": {},
     "output_type": "execute_result"
    }
   ],
   "source": [
    "svr.score(X_test_ss, y_test)"
   ]
  },
  {
   "cell_type": "markdown",
   "metadata": {},
   "source": [
    "## New Model"
   ]
  },
  {
   "cell_type": "code",
   "execution_count": 82,
   "metadata": {},
   "outputs": [
    {
     "data": {
      "text/plain": [
       "Index(['sex_age_median_age_in_years', 'health_ins_noninst_pop_private',\n",
       "       'health_ins_noninst_pop_public', 'inc_med_hhld_inc_dol',\n",
       "       'inc_mean_hhld_inc_dol', 'inc_per_capita_inc_dol',\n",
       "       'inc_med_earn_workers_dol', 'inc_med_earn_male_full_yr_workers_dol',\n",
       "       'inc_med_earn_female_full_yr_workers_dol', 'pop_density',\n",
       "       'percent_race_pop_hispanic_or_latino_of_any_race',\n",
       "       'percent_race_pop_white_alone',\n",
       "       'percent_race_pop_black_or_african_american_alone',\n",
       "       'percent_race_pop_american_indian_and_alaska_native_alone',\n",
       "       'percent_race_pop_asian_alone',\n",
       "       'percent_race_pop_native_hawaiian_and_other_pacific_islander_alone',\n",
       "       'percent_race_pop_some_other_race_alone',\n",
       "       'percent_race_pop_two_or_more_races', 'percent_sex_age_pop_male',\n",
       "       'percent_sex_age_pop_female', 'percent_sex_age_pop_under_5',\n",
       "       'percent_sex_age_pop_5_to_9', 'percent_sex_age_pop_10_to_14',\n",
       "       'percent_sex_age_pop_15_to_19', 'percent_sex_age_pop_20_to_24',\n",
       "       'percent_sex_age_pop_25_to_34', 'percent_sex_age_pop_35_to_44',\n",
       "       'percent_sex_age_pop_45_to_54', 'percent_sex_age_pop_55_to_59',\n",
       "       'percent_sex_age_pop_60_to_64', 'percent_sex_age_pop_65_to_74',\n",
       "       'percent_sex_age_pop_75_to_84', 'percent_sex_age_pop_85_and_over',\n",
       "       'percent_health_ins_noninst_pop_cov_yes',\n",
       "       'percent_health_ins_noninst_pop_cov_no',\n",
       "       'percent_inc_hhlds_less_than_10_000',\n",
       "       'percent_inc_hhlds_10_000_to_14_999',\n",
       "       'percent_inc_hhlds_15_000_to_24_999',\n",
       "       'percent_inc_hhlds_25_000_to_34_999',\n",
       "       'percent_inc_hhlds_35_000_to_49_999',\n",
       "       'percent_inc_hhlds_50_000_to_74_999',\n",
       "       'percent_inc_hhlds_75_000_to_99_999',\n",
       "       'percent_inc_hhlds_100_000_to_149_999',\n",
       "       'percent_inc_hhlds_150_000_to_199_999',\n",
       "       'percent_inc_hhlds_200_000_or_more', 'death_rate'],\n",
       "      dtype='object')"
      ]
     },
     "execution_count": 82,
     "metadata": {},
     "output_type": "execute_result"
    }
   ],
   "source": [
    "percent.columns"
   ]
  },
  {
   "cell_type": "code",
   "execution_count": 83,
   "metadata": {},
   "outputs": [],
   "source": [
    "percent3 = percent[['percent_sex_age_pop_female', 'percent_sex_age_pop_under_5',\n",
    "       'percent_sex_age_pop_5_to_9', 'percent_sex_age_pop_10_to_14',\n",
    "       'percent_sex_age_pop_15_to_19', 'percent_sex_age_pop_20_to_24',\n",
    "       'percent_sex_age_pop_25_to_34', 'percent_sex_age_pop_35_to_44',\n",
    "       'percent_sex_age_pop_45_to_54', 'percent_sex_age_pop_55_to_59',\n",
    "       'percent_sex_age_pop_60_to_64', 'percent_sex_age_pop_65_to_74',\n",
    "       'percent_sex_age_pop_75_to_84', 'percent_sex_age_pop_85_and_over']]"
   ]
  },
  {
   "cell_type": "code",
   "execution_count": 84,
   "metadata": {},
   "outputs": [],
   "source": [
    "X = percent3\n",
    "y = percent['death_rate']"
   ]
  },
  {
   "cell_type": "code",
   "execution_count": 85,
   "metadata": {},
   "outputs": [],
   "source": [
    "ss = StandardScaler()"
   ]
  },
  {
   "cell_type": "code",
   "execution_count": 86,
   "metadata": {},
   "outputs": [],
   "source": [
    "X_train, X_test, y_train, y_test = train_test_split(X, y, random_state = 42)"
   ]
  },
  {
   "cell_type": "code",
   "execution_count": 87,
   "metadata": {},
   "outputs": [],
   "source": [
    "X_train_ss = ss.fit_transform(X_train, y_train)\n",
    "X_test_ss = ss.transform(X_test)"
   ]
  },
  {
   "cell_type": "markdown",
   "metadata": {},
   "source": [
    "## Linear Regression"
   ]
  },
  {
   "cell_type": "code",
   "execution_count": 88,
   "metadata": {},
   "outputs": [],
   "source": [
    "lr = LinearRegression()"
   ]
  },
  {
   "cell_type": "code",
   "execution_count": 89,
   "metadata": {},
   "outputs": [
    {
     "data": {
      "text/plain": [
       "LinearRegression()"
      ]
     },
     "execution_count": 89,
     "metadata": {},
     "output_type": "execute_result"
    }
   ],
   "source": [
    "lr.fit(X_train_ss, y_train)"
   ]
  },
  {
   "cell_type": "code",
   "execution_count": 90,
   "metadata": {},
   "outputs": [
    {
     "data": {
      "text/plain": [
       "0.08111247333369875"
      ]
     },
     "execution_count": 90,
     "metadata": {},
     "output_type": "execute_result"
    }
   ],
   "source": [
    "lr.score(X_train_ss, y_train)"
   ]
  },
  {
   "cell_type": "code",
   "execution_count": 91,
   "metadata": {},
   "outputs": [
    {
     "data": {
      "text/plain": [
       "-4.281751662974322"
      ]
     },
     "execution_count": 91,
     "metadata": {},
     "output_type": "execute_result"
    }
   ],
   "source": [
    "lr.score(X_test_ss, y_test)"
   ]
  },
  {
   "cell_type": "markdown",
   "metadata": {},
   "source": [
    "## Fatality"
   ]
  },
  {
   "cell_type": "code",
   "execution_count": 92,
   "metadata": {},
   "outputs": [
    {
     "data": {
      "text/html": [
       "<div>\n",
       "<style scoped>\n",
       "    .dataframe tbody tr th:only-of-type {\n",
       "        vertical-align: middle;\n",
       "    }\n",
       "\n",
       "    .dataframe tbody tr th {\n",
       "        vertical-align: top;\n",
       "    }\n",
       "\n",
       "    .dataframe thead th {\n",
       "        text-align: right;\n",
       "    }\n",
       "</style>\n",
       "<table border=\"1\" class=\"dataframe\">\n",
       "  <thead>\n",
       "    <tr style=\"text-align: right;\">\n",
       "      <th></th>\n",
       "      <th>county_name</th>\n",
       "      <th>total_cases</th>\n",
       "      <th>total_fatalities</th>\n",
       "      <th>death_rate</th>\n",
       "      <th>race_pop</th>\n",
       "      <th>race_pop_hispanic_or_latino_of_any_race</th>\n",
       "      <th>race_pop_white_alone</th>\n",
       "      <th>race_pop_black_or_african_american_alone</th>\n",
       "      <th>race_pop_american_indian_and_alaska_native_alone</th>\n",
       "      <th>race_pop_asian_alone</th>\n",
       "      <th>...</th>\n",
       "      <th>inc_hhlds_100_000_to_149_999</th>\n",
       "      <th>inc_hhlds_150_000_to_199_999</th>\n",
       "      <th>inc_hhlds_200_000_or_more</th>\n",
       "      <th>inc_med_hhld_inc_dol</th>\n",
       "      <th>inc_mean_hhld_inc_dol</th>\n",
       "      <th>inc_per_capita_inc_dol</th>\n",
       "      <th>inc_med_earn_workers_dol</th>\n",
       "      <th>inc_med_earn_male_full_yr_workers_dol</th>\n",
       "      <th>inc_med_earn_female_full_yr_workers_dol</th>\n",
       "      <th>pop_density</th>\n",
       "    </tr>\n",
       "  </thead>\n",
       "  <tbody>\n",
       "    <tr>\n",
       "      <th>0</th>\n",
       "      <td>Anderson</td>\n",
       "      <td>2922.0</td>\n",
       "      <td>39</td>\n",
       "      <td>0.013347</td>\n",
       "      <td>57863</td>\n",
       "      <td>10142</td>\n",
       "      <td>34312</td>\n",
       "      <td>12127</td>\n",
       "      <td>158</td>\n",
       "      <td>319</td>\n",
       "      <td>...</td>\n",
       "      <td>1432</td>\n",
       "      <td>422</td>\n",
       "      <td>240</td>\n",
       "      <td>43355</td>\n",
       "      <td>55852</td>\n",
       "      <td>16868</td>\n",
       "      <td>26621</td>\n",
       "      <td>36865</td>\n",
       "      <td>26890</td>\n",
       "      <td>54.452632</td>\n",
       "    </tr>\n",
       "    <tr>\n",
       "      <th>1</th>\n",
       "      <td>Andrews</td>\n",
       "      <td>567.0</td>\n",
       "      <td>10</td>\n",
       "      <td>0.017637</td>\n",
       "      <td>17818</td>\n",
       "      <td>9979</td>\n",
       "      <td>7215</td>\n",
       "      <td>321</td>\n",
       "      <td>0</td>\n",
       "      <td>63</td>\n",
       "      <td>...</td>\n",
       "      <td>1214</td>\n",
       "      <td>398</td>\n",
       "      <td>352</td>\n",
       "      <td>74233</td>\n",
       "      <td>94962</td>\n",
       "      <td>31190</td>\n",
       "      <td>40478</td>\n",
       "      <td>72970</td>\n",
       "      <td>35194</td>\n",
       "      <td>11.872960</td>\n",
       "    </tr>\n",
       "    <tr>\n",
       "      <th>2</th>\n",
       "      <td>Angelina</td>\n",
       "      <td>2277.0</td>\n",
       "      <td>90</td>\n",
       "      <td>0.039526</td>\n",
       "      <td>87607</td>\n",
       "      <td>19174</td>\n",
       "      <td>53216</td>\n",
       "      <td>12834</td>\n",
       "      <td>107</td>\n",
       "      <td>987</td>\n",
       "      <td>...</td>\n",
       "      <td>3257</td>\n",
       "      <td>985</td>\n",
       "      <td>639</td>\n",
       "      <td>47714</td>\n",
       "      <td>61152</td>\n",
       "      <td>22322</td>\n",
       "      <td>27411</td>\n",
       "      <td>41488</td>\n",
       "      <td>32622</td>\n",
       "      <td>109.813207</td>\n",
       "    </tr>\n",
       "    <tr>\n",
       "      <th>3</th>\n",
       "      <td>Aransas</td>\n",
       "      <td>340.0</td>\n",
       "      <td>18</td>\n",
       "      <td>0.052941</td>\n",
       "      <td>24763</td>\n",
       "      <td>6756</td>\n",
       "      <td>16691</td>\n",
       "      <td>365</td>\n",
       "      <td>14</td>\n",
       "      <td>488</td>\n",
       "      <td>...</td>\n",
       "      <td>1047</td>\n",
       "      <td>476</td>\n",
       "      <td>496</td>\n",
       "      <td>44865</td>\n",
       "      <td>75471</td>\n",
       "      <td>30939</td>\n",
       "      <td>21567</td>\n",
       "      <td>43182</td>\n",
       "      <td>32005</td>\n",
       "      <td>98.246769</td>\n",
       "    </tr>\n",
       "    <tr>\n",
       "      <th>4</th>\n",
       "      <td>Archer</td>\n",
       "      <td>133.0</td>\n",
       "      <td>1</td>\n",
       "      <td>0.007519</td>\n",
       "      <td>8789</td>\n",
       "      <td>727</td>\n",
       "      <td>7772</td>\n",
       "      <td>76</td>\n",
       "      <td>27</td>\n",
       "      <td>47</td>\n",
       "      <td>...</td>\n",
       "      <td>626</td>\n",
       "      <td>198</td>\n",
       "      <td>145</td>\n",
       "      <td>64476</td>\n",
       "      <td>80073</td>\n",
       "      <td>31806</td>\n",
       "      <td>32469</td>\n",
       "      <td>49105</td>\n",
       "      <td>37377</td>\n",
       "      <td>9.729998</td>\n",
       "    </tr>\n",
       "    <tr>\n",
       "      <th>...</th>\n",
       "      <td>...</td>\n",
       "      <td>...</td>\n",
       "      <td>...</td>\n",
       "      <td>...</td>\n",
       "      <td>...</td>\n",
       "      <td>...</td>\n",
       "      <td>...</td>\n",
       "      <td>...</td>\n",
       "      <td>...</td>\n",
       "      <td>...</td>\n",
       "      <td>...</td>\n",
       "      <td>...</td>\n",
       "      <td>...</td>\n",
       "      <td>...</td>\n",
       "      <td>...</td>\n",
       "      <td>...</td>\n",
       "      <td>...</td>\n",
       "      <td>...</td>\n",
       "      <td>...</td>\n",
       "      <td>...</td>\n",
       "      <td>...</td>\n",
       "    </tr>\n",
       "    <tr>\n",
       "      <th>249</th>\n",
       "      <td>Wood</td>\n",
       "      <td>621.0</td>\n",
       "      <td>36</td>\n",
       "      <td>0.057971</td>\n",
       "      <td>43815</td>\n",
       "      <td>4313</td>\n",
       "      <td>36273</td>\n",
       "      <td>2335</td>\n",
       "      <td>277</td>\n",
       "      <td>133</td>\n",
       "      <td>...</td>\n",
       "      <td>1996</td>\n",
       "      <td>663</td>\n",
       "      <td>455</td>\n",
       "      <td>48534</td>\n",
       "      <td>68298</td>\n",
       "      <td>27841</td>\n",
       "      <td>28985</td>\n",
       "      <td>49656</td>\n",
       "      <td>34209</td>\n",
       "      <td>67.904439</td>\n",
       "    </tr>\n",
       "    <tr>\n",
       "      <th>250</th>\n",
       "      <td>Yoakum</td>\n",
       "      <td>289.0</td>\n",
       "      <td>5</td>\n",
       "      <td>0.017301</td>\n",
       "      <td>8571</td>\n",
       "      <td>5643</td>\n",
       "      <td>2763</td>\n",
       "      <td>25</td>\n",
       "      <td>11</td>\n",
       "      <td>5</td>\n",
       "      <td>...</td>\n",
       "      <td>557</td>\n",
       "      <td>153</td>\n",
       "      <td>142</td>\n",
       "      <td>68814</td>\n",
       "      <td>82418</td>\n",
       "      <td>26519</td>\n",
       "      <td>43250</td>\n",
       "      <td>68603</td>\n",
       "      <td>36103</td>\n",
       "      <td>10.717568</td>\n",
       "    </tr>\n",
       "    <tr>\n",
       "      <th>251</th>\n",
       "      <td>Young</td>\n",
       "      <td>497.0</td>\n",
       "      <td>6</td>\n",
       "      <td>0.012072</td>\n",
       "      <td>18114</td>\n",
       "      <td>3332</td>\n",
       "      <td>14176</td>\n",
       "      <td>354</td>\n",
       "      <td>112</td>\n",
       "      <td>89</td>\n",
       "      <td>...</td>\n",
       "      <td>1066</td>\n",
       "      <td>172</td>\n",
       "      <td>131</td>\n",
       "      <td>47194</td>\n",
       "      <td>64653</td>\n",
       "      <td>25855</td>\n",
       "      <td>30734</td>\n",
       "      <td>49142</td>\n",
       "      <td>27542</td>\n",
       "      <td>19.807588</td>\n",
       "    </tr>\n",
       "    <tr>\n",
       "      <th>252</th>\n",
       "      <td>Zapata</td>\n",
       "      <td>342.0</td>\n",
       "      <td>9</td>\n",
       "      <td>0.026316</td>\n",
       "      <td>14369</td>\n",
       "      <td>13542</td>\n",
       "      <td>615</td>\n",
       "      <td>0</td>\n",
       "      <td>0</td>\n",
       "      <td>179</td>\n",
       "      <td>...</td>\n",
       "      <td>215</td>\n",
       "      <td>78</td>\n",
       "      <td>82</td>\n",
       "      <td>31113</td>\n",
       "      <td>52009</td>\n",
       "      <td>17228</td>\n",
       "      <td>18938</td>\n",
       "      <td>36461</td>\n",
       "      <td>24946</td>\n",
       "      <td>14.391854</td>\n",
       "    </tr>\n",
       "    <tr>\n",
       "      <th>253</th>\n",
       "      <td>Zavala</td>\n",
       "      <td>452.0</td>\n",
       "      <td>18</td>\n",
       "      <td>0.039823</td>\n",
       "      <td>12131</td>\n",
       "      <td>11372</td>\n",
       "      <td>602</td>\n",
       "      <td>60</td>\n",
       "      <td>0</td>\n",
       "      <td>4</td>\n",
       "      <td>...</td>\n",
       "      <td>129</td>\n",
       "      <td>9</td>\n",
       "      <td>6</td>\n",
       "      <td>30988</td>\n",
       "      <td>39610</td>\n",
       "      <td>13350</td>\n",
       "      <td>19020</td>\n",
       "      <td>31708</td>\n",
       "      <td>22638</td>\n",
       "      <td>9.350188</td>\n",
       "    </tr>\n",
       "  </tbody>\n",
       "</table>\n",
       "<p>254 rows × 54 columns</p>\n",
       "</div>"
      ],
      "text/plain": [
       "    county_name  total_cases  total_fatalities  death_rate  race_pop  \\\n",
       "0      Anderson       2922.0                39    0.013347     57863   \n",
       "1       Andrews        567.0                10    0.017637     17818   \n",
       "2      Angelina       2277.0                90    0.039526     87607   \n",
       "3       Aransas        340.0                18    0.052941     24763   \n",
       "4        Archer        133.0                 1    0.007519      8789   \n",
       "..          ...          ...               ...         ...       ...   \n",
       "249        Wood        621.0                36    0.057971     43815   \n",
       "250      Yoakum        289.0                 5    0.017301      8571   \n",
       "251       Young        497.0                 6    0.012072     18114   \n",
       "252      Zapata        342.0                 9    0.026316     14369   \n",
       "253      Zavala        452.0                18    0.039823     12131   \n",
       "\n",
       "     race_pop_hispanic_or_latino_of_any_race  race_pop_white_alone  \\\n",
       "0                                      10142                 34312   \n",
       "1                                       9979                  7215   \n",
       "2                                      19174                 53216   \n",
       "3                                       6756                 16691   \n",
       "4                                        727                  7772   \n",
       "..                                       ...                   ...   \n",
       "249                                     4313                 36273   \n",
       "250                                     5643                  2763   \n",
       "251                                     3332                 14176   \n",
       "252                                    13542                   615   \n",
       "253                                    11372                   602   \n",
       "\n",
       "     race_pop_black_or_african_american_alone  \\\n",
       "0                                       12127   \n",
       "1                                         321   \n",
       "2                                       12834   \n",
       "3                                         365   \n",
       "4                                          76   \n",
       "..                                        ...   \n",
       "249                                      2335   \n",
       "250                                        25   \n",
       "251                                       354   \n",
       "252                                         0   \n",
       "253                                        60   \n",
       "\n",
       "     race_pop_american_indian_and_alaska_native_alone  race_pop_asian_alone  \\\n",
       "0                                                 158                   319   \n",
       "1                                                   0                    63   \n",
       "2                                                 107                   987   \n",
       "3                                                  14                   488   \n",
       "4                                                  27                    47   \n",
       "..                                                ...                   ...   \n",
       "249                                               277                   133   \n",
       "250                                                11                     5   \n",
       "251                                               112                    89   \n",
       "252                                                 0                   179   \n",
       "253                                                 0                     4   \n",
       "\n",
       "     ...  inc_hhlds_100_000_to_149_999  inc_hhlds_150_000_to_199_999  \\\n",
       "0    ...                          1432                           422   \n",
       "1    ...                          1214                           398   \n",
       "2    ...                          3257                           985   \n",
       "3    ...                          1047                           476   \n",
       "4    ...                           626                           198   \n",
       "..   ...                           ...                           ...   \n",
       "249  ...                          1996                           663   \n",
       "250  ...                           557                           153   \n",
       "251  ...                          1066                           172   \n",
       "252  ...                           215                            78   \n",
       "253  ...                           129                             9   \n",
       "\n",
       "     inc_hhlds_200_000_or_more  inc_med_hhld_inc_dol  inc_mean_hhld_inc_dol  \\\n",
       "0                          240                 43355                  55852   \n",
       "1                          352                 74233                  94962   \n",
       "2                          639                 47714                  61152   \n",
       "3                          496                 44865                  75471   \n",
       "4                          145                 64476                  80073   \n",
       "..                         ...                   ...                    ...   \n",
       "249                        455                 48534                  68298   \n",
       "250                        142                 68814                  82418   \n",
       "251                        131                 47194                  64653   \n",
       "252                         82                 31113                  52009   \n",
       "253                          6                 30988                  39610   \n",
       "\n",
       "     inc_per_capita_inc_dol  inc_med_earn_workers_dol  \\\n",
       "0                     16868                     26621   \n",
       "1                     31190                     40478   \n",
       "2                     22322                     27411   \n",
       "3                     30939                     21567   \n",
       "4                     31806                     32469   \n",
       "..                      ...                       ...   \n",
       "249                   27841                     28985   \n",
       "250                   26519                     43250   \n",
       "251                   25855                     30734   \n",
       "252                   17228                     18938   \n",
       "253                   13350                     19020   \n",
       "\n",
       "     inc_med_earn_male_full_yr_workers_dol  \\\n",
       "0                                    36865   \n",
       "1                                    72970   \n",
       "2                                    41488   \n",
       "3                                    43182   \n",
       "4                                    49105   \n",
       "..                                     ...   \n",
       "249                                  49656   \n",
       "250                                  68603   \n",
       "251                                  49142   \n",
       "252                                  36461   \n",
       "253                                  31708   \n",
       "\n",
       "     inc_med_earn_female_full_yr_workers_dol  pop_density  \n",
       "0                                      26890    54.452632  \n",
       "1                                      35194    11.872960  \n",
       "2                                      32622   109.813207  \n",
       "3                                      32005    98.246769  \n",
       "4                                      37377     9.729998  \n",
       "..                                       ...          ...  \n",
       "249                                    34209    67.904439  \n",
       "250                                    36103    10.717568  \n",
       "251                                    27542    19.807588  \n",
       "252                                    24946    14.391854  \n",
       "253                                    22638     9.350188  \n",
       "\n",
       "[254 rows x 54 columns]"
      ]
     },
     "execution_count": 92,
     "metadata": {},
     "output_type": "execute_result"
    }
   ],
   "source": [
    "fatality"
   ]
  },
  {
   "cell_type": "code",
   "execution_count": 93,
   "metadata": {},
   "outputs": [],
   "source": [
    "fatality.set_index('county_name', inplace = True)"
   ]
  },
  {
   "cell_type": "code",
   "execution_count": 94,
   "metadata": {},
   "outputs": [
    {
     "data": {
      "text/html": [
       "<div>\n",
       "<style scoped>\n",
       "    .dataframe tbody tr th:only-of-type {\n",
       "        vertical-align: middle;\n",
       "    }\n",
       "\n",
       "    .dataframe tbody tr th {\n",
       "        vertical-align: top;\n",
       "    }\n",
       "\n",
       "    .dataframe thead th {\n",
       "        text-align: right;\n",
       "    }\n",
       "</style>\n",
       "<table border=\"1\" class=\"dataframe\">\n",
       "  <thead>\n",
       "    <tr style=\"text-align: right;\">\n",
       "      <th></th>\n",
       "      <th>total_cases</th>\n",
       "      <th>total_fatalities</th>\n",
       "      <th>death_rate</th>\n",
       "      <th>race_pop</th>\n",
       "      <th>race_pop_hispanic_or_latino_of_any_race</th>\n",
       "      <th>race_pop_white_alone</th>\n",
       "      <th>race_pop_black_or_african_american_alone</th>\n",
       "      <th>race_pop_american_indian_and_alaska_native_alone</th>\n",
       "      <th>race_pop_asian_alone</th>\n",
       "      <th>race_pop_native_hawaiian_and_other_pacific_islander_alone</th>\n",
       "      <th>...</th>\n",
       "      <th>inc_hhlds_100_000_to_149_999</th>\n",
       "      <th>inc_hhlds_150_000_to_199_999</th>\n",
       "      <th>inc_hhlds_200_000_or_more</th>\n",
       "      <th>inc_med_hhld_inc_dol</th>\n",
       "      <th>inc_mean_hhld_inc_dol</th>\n",
       "      <th>inc_per_capita_inc_dol</th>\n",
       "      <th>inc_med_earn_workers_dol</th>\n",
       "      <th>inc_med_earn_male_full_yr_workers_dol</th>\n",
       "      <th>inc_med_earn_female_full_yr_workers_dol</th>\n",
       "      <th>pop_density</th>\n",
       "    </tr>\n",
       "    <tr>\n",
       "      <th>county_name</th>\n",
       "      <th></th>\n",
       "      <th></th>\n",
       "      <th></th>\n",
       "      <th></th>\n",
       "      <th></th>\n",
       "      <th></th>\n",
       "      <th></th>\n",
       "      <th></th>\n",
       "      <th></th>\n",
       "      <th></th>\n",
       "      <th></th>\n",
       "      <th></th>\n",
       "      <th></th>\n",
       "      <th></th>\n",
       "      <th></th>\n",
       "      <th></th>\n",
       "      <th></th>\n",
       "      <th></th>\n",
       "      <th></th>\n",
       "      <th></th>\n",
       "      <th></th>\n",
       "    </tr>\n",
       "  </thead>\n",
       "  <tbody>\n",
       "    <tr>\n",
       "      <th>Anderson</th>\n",
       "      <td>2922.0</td>\n",
       "      <td>39</td>\n",
       "      <td>0.013347</td>\n",
       "      <td>57863</td>\n",
       "      <td>10142</td>\n",
       "      <td>34312</td>\n",
       "      <td>12127</td>\n",
       "      <td>158</td>\n",
       "      <td>319</td>\n",
       "      <td>9</td>\n",
       "      <td>...</td>\n",
       "      <td>1432</td>\n",
       "      <td>422</td>\n",
       "      <td>240</td>\n",
       "      <td>43355</td>\n",
       "      <td>55852</td>\n",
       "      <td>16868</td>\n",
       "      <td>26621</td>\n",
       "      <td>36865</td>\n",
       "      <td>26890</td>\n",
       "      <td>54.452632</td>\n",
       "    </tr>\n",
       "    <tr>\n",
       "      <th>Andrews</th>\n",
       "      <td>567.0</td>\n",
       "      <td>10</td>\n",
       "      <td>0.017637</td>\n",
       "      <td>17818</td>\n",
       "      <td>9979</td>\n",
       "      <td>7215</td>\n",
       "      <td>321</td>\n",
       "      <td>0</td>\n",
       "      <td>63</td>\n",
       "      <td>21</td>\n",
       "      <td>...</td>\n",
       "      <td>1214</td>\n",
       "      <td>398</td>\n",
       "      <td>352</td>\n",
       "      <td>74233</td>\n",
       "      <td>94962</td>\n",
       "      <td>31190</td>\n",
       "      <td>40478</td>\n",
       "      <td>72970</td>\n",
       "      <td>35194</td>\n",
       "      <td>11.872960</td>\n",
       "    </tr>\n",
       "    <tr>\n",
       "      <th>Angelina</th>\n",
       "      <td>2277.0</td>\n",
       "      <td>90</td>\n",
       "      <td>0.039526</td>\n",
       "      <td>87607</td>\n",
       "      <td>19174</td>\n",
       "      <td>53216</td>\n",
       "      <td>12834</td>\n",
       "      <td>107</td>\n",
       "      <td>987</td>\n",
       "      <td>5</td>\n",
       "      <td>...</td>\n",
       "      <td>3257</td>\n",
       "      <td>985</td>\n",
       "      <td>639</td>\n",
       "      <td>47714</td>\n",
       "      <td>61152</td>\n",
       "      <td>22322</td>\n",
       "      <td>27411</td>\n",
       "      <td>41488</td>\n",
       "      <td>32622</td>\n",
       "      <td>109.813207</td>\n",
       "    </tr>\n",
       "    <tr>\n",
       "      <th>Aransas</th>\n",
       "      <td>340.0</td>\n",
       "      <td>18</td>\n",
       "      <td>0.052941</td>\n",
       "      <td>24763</td>\n",
       "      <td>6756</td>\n",
       "      <td>16691</td>\n",
       "      <td>365</td>\n",
       "      <td>14</td>\n",
       "      <td>488</td>\n",
       "      <td>0</td>\n",
       "      <td>...</td>\n",
       "      <td>1047</td>\n",
       "      <td>476</td>\n",
       "      <td>496</td>\n",
       "      <td>44865</td>\n",
       "      <td>75471</td>\n",
       "      <td>30939</td>\n",
       "      <td>21567</td>\n",
       "      <td>43182</td>\n",
       "      <td>32005</td>\n",
       "      <td>98.246769</td>\n",
       "    </tr>\n",
       "    <tr>\n",
       "      <th>Archer</th>\n",
       "      <td>133.0</td>\n",
       "      <td>1</td>\n",
       "      <td>0.007519</td>\n",
       "      <td>8789</td>\n",
       "      <td>727</td>\n",
       "      <td>7772</td>\n",
       "      <td>76</td>\n",
       "      <td>27</td>\n",
       "      <td>47</td>\n",
       "      <td>0</td>\n",
       "      <td>...</td>\n",
       "      <td>626</td>\n",
       "      <td>198</td>\n",
       "      <td>145</td>\n",
       "      <td>64476</td>\n",
       "      <td>80073</td>\n",
       "      <td>31806</td>\n",
       "      <td>32469</td>\n",
       "      <td>49105</td>\n",
       "      <td>37377</td>\n",
       "      <td>9.729998</td>\n",
       "    </tr>\n",
       "  </tbody>\n",
       "</table>\n",
       "<p>5 rows × 53 columns</p>\n",
       "</div>"
      ],
      "text/plain": [
       "             total_cases  total_fatalities  death_rate  race_pop  \\\n",
       "county_name                                                        \n",
       "Anderson          2922.0                39    0.013347     57863   \n",
       "Andrews            567.0                10    0.017637     17818   \n",
       "Angelina          2277.0                90    0.039526     87607   \n",
       "Aransas            340.0                18    0.052941     24763   \n",
       "Archer             133.0                 1    0.007519      8789   \n",
       "\n",
       "             race_pop_hispanic_or_latino_of_any_race  race_pop_white_alone  \\\n",
       "county_name                                                                  \n",
       "Anderson                                       10142                 34312   \n",
       "Andrews                                         9979                  7215   \n",
       "Angelina                                       19174                 53216   \n",
       "Aransas                                         6756                 16691   \n",
       "Archer                                           727                  7772   \n",
       "\n",
       "             race_pop_black_or_african_american_alone  \\\n",
       "county_name                                             \n",
       "Anderson                                        12127   \n",
       "Andrews                                           321   \n",
       "Angelina                                        12834   \n",
       "Aransas                                           365   \n",
       "Archer                                             76   \n",
       "\n",
       "             race_pop_american_indian_and_alaska_native_alone  \\\n",
       "county_name                                                     \n",
       "Anderson                                                  158   \n",
       "Andrews                                                     0   \n",
       "Angelina                                                  107   \n",
       "Aransas                                                    14   \n",
       "Archer                                                     27   \n",
       "\n",
       "             race_pop_asian_alone  \\\n",
       "county_name                         \n",
       "Anderson                      319   \n",
       "Andrews                        63   \n",
       "Angelina                      987   \n",
       "Aransas                       488   \n",
       "Archer                         47   \n",
       "\n",
       "             race_pop_native_hawaiian_and_other_pacific_islander_alone  ...  \\\n",
       "county_name                                                             ...   \n",
       "Anderson                                                     9          ...   \n",
       "Andrews                                                     21          ...   \n",
       "Angelina                                                     5          ...   \n",
       "Aransas                                                      0          ...   \n",
       "Archer                                                       0          ...   \n",
       "\n",
       "             inc_hhlds_100_000_to_149_999  inc_hhlds_150_000_to_199_999  \\\n",
       "county_name                                                               \n",
       "Anderson                             1432                           422   \n",
       "Andrews                              1214                           398   \n",
       "Angelina                             3257                           985   \n",
       "Aransas                              1047                           476   \n",
       "Archer                                626                           198   \n",
       "\n",
       "             inc_hhlds_200_000_or_more  inc_med_hhld_inc_dol  \\\n",
       "county_name                                                    \n",
       "Anderson                           240                 43355   \n",
       "Andrews                            352                 74233   \n",
       "Angelina                           639                 47714   \n",
       "Aransas                            496                 44865   \n",
       "Archer                             145                 64476   \n",
       "\n",
       "             inc_mean_hhld_inc_dol  inc_per_capita_inc_dol  \\\n",
       "county_name                                                  \n",
       "Anderson                     55852                   16868   \n",
       "Andrews                      94962                   31190   \n",
       "Angelina                     61152                   22322   \n",
       "Aransas                      75471                   30939   \n",
       "Archer                       80073                   31806   \n",
       "\n",
       "             inc_med_earn_workers_dol  inc_med_earn_male_full_yr_workers_dol  \\\n",
       "county_name                                                                    \n",
       "Anderson                        26621                                  36865   \n",
       "Andrews                         40478                                  72970   \n",
       "Angelina                        27411                                  41488   \n",
       "Aransas                         21567                                  43182   \n",
       "Archer                          32469                                  49105   \n",
       "\n",
       "             inc_med_earn_female_full_yr_workers_dol  pop_density  \n",
       "county_name                                                        \n",
       "Anderson                                       26890    54.452632  \n",
       "Andrews                                        35194    11.872960  \n",
       "Angelina                                       32622   109.813207  \n",
       "Aransas                                        32005    98.246769  \n",
       "Archer                                         37377     9.729998  \n",
       "\n",
       "[5 rows x 53 columns]"
      ]
     },
     "execution_count": 94,
     "metadata": {},
     "output_type": "execute_result"
    }
   ],
   "source": [
    "fatality.head()"
   ]
  },
  {
   "cell_type": "code",
   "execution_count": 95,
   "metadata": {},
   "outputs": [],
   "source": [
    "X = fatality.drop(columns = 'death_rate')\n",
    "y = fatality['death_rate']"
   ]
  },
  {
   "cell_type": "code",
   "execution_count": 96,
   "metadata": {},
   "outputs": [],
   "source": [
    "lr = LinearRegression()"
   ]
  },
  {
   "cell_type": "code",
   "execution_count": 97,
   "metadata": {},
   "outputs": [],
   "source": [
    "X_train, X_test, y_train, y_test = train_test_split(X, y, random_state = 42)"
   ]
  },
  {
   "cell_type": "code",
   "execution_count": 98,
   "metadata": {},
   "outputs": [],
   "source": [
    "ss = StandardScaler()"
   ]
  },
  {
   "cell_type": "code",
   "execution_count": 99,
   "metadata": {},
   "outputs": [],
   "source": [
    "X_train_ss = ss.fit_transform(X_train, y_train)\n",
    "X_test_ss = ss.transform(X_test)"
   ]
  },
  {
   "cell_type": "code",
   "execution_count": 100,
   "metadata": {},
   "outputs": [
    {
     "data": {
      "text/plain": [
       "LinearRegression()"
      ]
     },
     "execution_count": 100,
     "metadata": {},
     "output_type": "execute_result"
    }
   ],
   "source": [
    "lr.fit(X_train_ss, y_train)"
   ]
  },
  {
   "cell_type": "code",
   "execution_count": 101,
   "metadata": {},
   "outputs": [
    {
     "data": {
      "text/plain": [
       "0.4026503076305372"
      ]
     },
     "execution_count": 101,
     "metadata": {},
     "output_type": "execute_result"
    }
   ],
   "source": [
    "lr.score(X_train_ss, y_train)"
   ]
  },
  {
   "cell_type": "code",
   "execution_count": 102,
   "metadata": {},
   "outputs": [
    {
     "data": {
      "text/plain": [
       "-99.57003422167385"
      ]
     },
     "execution_count": 102,
     "metadata": {},
     "output_type": "execute_result"
    }
   ],
   "source": [
    "lr.score(X_test_ss, y_test)"
   ]
  }
 ],
 "metadata": {
  "kernelspec": {
   "display_name": "Python 3",
   "language": "python",
   "name": "python3"
  },
  "language_info": {
   "codemirror_mode": {
    "name": "ipython",
    "version": 3
   },
   "file_extension": ".py",
   "mimetype": "text/x-python",
   "name": "python",
   "nbconvert_exporter": "python",
   "pygments_lexer": "ipython3",
   "version": "3.8.3"
  }
 },
 "nbformat": 4,
 "nbformat_minor": 4
}
