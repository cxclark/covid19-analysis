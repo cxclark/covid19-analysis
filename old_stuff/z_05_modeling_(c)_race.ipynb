{
 "cells": [
  {
   "cell_type": "markdown",
   "metadata": {},
   "source": [
    "## Contents\n",
    "- [Imports](#Data-Dictionary)\n",
    "- [Regression Modeling Race](#Regression-Modeling-Race)  "
   ]
  },
  {
   "cell_type": "markdown",
   "metadata": {},
   "source": [
    "# Imports"
   ]
  },
  {
   "cell_type": "code",
   "execution_count": 1,
   "metadata": {},
   "outputs": [],
   "source": [
    "# Import the required libraries\n",
    "import pandas as pd\n",
    "\n",
    "from sklearn.linear_model import LinearRegression\n",
    "from sklearn.model_selection import train_test_split, cross_val_score\n",
    "from sklearn.preprocessing import StandardScaler\n",
    "\n",
    "import warnings\n",
    "warnings.filterwarnings('ignore')"
   ]
  },
  {
   "cell_type": "code",
   "execution_count": 2,
   "metadata": {},
   "outputs": [],
   "source": [
    "# Import the Texas data and sae to a dataframe.\n",
    "tx_df = pd.read_csv('../data/texas_combined_cleaned_WITH_Census_FA.csv')"
   ]
  },
  {
   "cell_type": "code",
   "execution_count": 3,
   "metadata": {},
   "outputs": [
    {
     "data": {
      "text/html": [
       "<div>\n",
       "<style scoped>\n",
       "    .dataframe tbody tr th:only-of-type {\n",
       "        vertical-align: middle;\n",
       "    }\n",
       "\n",
       "    .dataframe tbody tr th {\n",
       "        vertical-align: top;\n",
       "    }\n",
       "\n",
       "    .dataframe thead th {\n",
       "        text-align: right;\n",
       "    }\n",
       "</style>\n",
       "<table border=\"1\" class=\"dataframe\">\n",
       "  <thead>\n",
       "    <tr style=\"text-align: right;\">\n",
       "      <th></th>\n",
       "      <th>county_name</th>\n",
       "      <th>total_cases</th>\n",
       "      <th>total_fatalities</th>\n",
       "      <th>death_rate</th>\n",
       "      <th>race_pop</th>\n",
       "      <th>race_pop_hispanic_or_latino_of_any_race</th>\n",
       "      <th>race_pop_white_alone</th>\n",
       "      <th>race_pop_black_or_african_american_alone</th>\n",
       "      <th>race_pop_american_indian_and_alaska_native_alone</th>\n",
       "      <th>race_pop_asian_alone</th>\n",
       "      <th>...</th>\n",
       "      <th>inc_hhlds_100_000_to_149_999</th>\n",
       "      <th>inc_hhlds_150_000_to_199_999</th>\n",
       "      <th>inc_hhlds_200_000_or_more</th>\n",
       "      <th>inc_med_hhld_inc_dol</th>\n",
       "      <th>inc_mean_hhld_inc_dol</th>\n",
       "      <th>inc_per_capita_inc_dol</th>\n",
       "      <th>inc_med_earn_workers_dol</th>\n",
       "      <th>inc_med_earn_male_full_yr_workers_dol</th>\n",
       "      <th>inc_med_earn_female_full_yr_workers_dol</th>\n",
       "      <th>pop_density</th>\n",
       "    </tr>\n",
       "  </thead>\n",
       "  <tbody>\n",
       "    <tr>\n",
       "      <th>0</th>\n",
       "      <td>anderson</td>\n",
       "      <td>2922.0</td>\n",
       "      <td>39</td>\n",
       "      <td>0.013347</td>\n",
       "      <td>57863</td>\n",
       "      <td>10142</td>\n",
       "      <td>34312</td>\n",
       "      <td>12127</td>\n",
       "      <td>158</td>\n",
       "      <td>319</td>\n",
       "      <td>...</td>\n",
       "      <td>1432</td>\n",
       "      <td>422</td>\n",
       "      <td>240</td>\n",
       "      <td>43355</td>\n",
       "      <td>55852</td>\n",
       "      <td>16868</td>\n",
       "      <td>26621</td>\n",
       "      <td>36865</td>\n",
       "      <td>26890</td>\n",
       "      <td>54.452632</td>\n",
       "    </tr>\n",
       "    <tr>\n",
       "      <th>1</th>\n",
       "      <td>andrews</td>\n",
       "      <td>567.0</td>\n",
       "      <td>10</td>\n",
       "      <td>0.017637</td>\n",
       "      <td>17818</td>\n",
       "      <td>9979</td>\n",
       "      <td>7215</td>\n",
       "      <td>321</td>\n",
       "      <td>0</td>\n",
       "      <td>63</td>\n",
       "      <td>...</td>\n",
       "      <td>1214</td>\n",
       "      <td>398</td>\n",
       "      <td>352</td>\n",
       "      <td>74233</td>\n",
       "      <td>94962</td>\n",
       "      <td>31190</td>\n",
       "      <td>40478</td>\n",
       "      <td>72970</td>\n",
       "      <td>35194</td>\n",
       "      <td>11.872960</td>\n",
       "    </tr>\n",
       "    <tr>\n",
       "      <th>2</th>\n",
       "      <td>angelina</td>\n",
       "      <td>2277.0</td>\n",
       "      <td>90</td>\n",
       "      <td>0.039526</td>\n",
       "      <td>87607</td>\n",
       "      <td>19174</td>\n",
       "      <td>53216</td>\n",
       "      <td>12834</td>\n",
       "      <td>107</td>\n",
       "      <td>987</td>\n",
       "      <td>...</td>\n",
       "      <td>3257</td>\n",
       "      <td>985</td>\n",
       "      <td>639</td>\n",
       "      <td>47714</td>\n",
       "      <td>61152</td>\n",
       "      <td>22322</td>\n",
       "      <td>27411</td>\n",
       "      <td>41488</td>\n",
       "      <td>32622</td>\n",
       "      <td>109.813207</td>\n",
       "    </tr>\n",
       "  </tbody>\n",
       "</table>\n",
       "<p>3 rows × 54 columns</p>\n",
       "</div>"
      ],
      "text/plain": [
       "  county_name  total_cases  total_fatalities  death_rate  race_pop  \\\n",
       "0    anderson       2922.0                39    0.013347     57863   \n",
       "1     andrews        567.0                10    0.017637     17818   \n",
       "2    angelina       2277.0                90    0.039526     87607   \n",
       "\n",
       "   race_pop_hispanic_or_latino_of_any_race  race_pop_white_alone  \\\n",
       "0                                    10142                 34312   \n",
       "1                                     9979                  7215   \n",
       "2                                    19174                 53216   \n",
       "\n",
       "   race_pop_black_or_african_american_alone  \\\n",
       "0                                     12127   \n",
       "1                                       321   \n",
       "2                                     12834   \n",
       "\n",
       "   race_pop_american_indian_and_alaska_native_alone  race_pop_asian_alone  \\\n",
       "0                                               158                   319   \n",
       "1                                                 0                    63   \n",
       "2                                               107                   987   \n",
       "\n",
       "   ...  inc_hhlds_100_000_to_149_999  inc_hhlds_150_000_to_199_999  \\\n",
       "0  ...                          1432                           422   \n",
       "1  ...                          1214                           398   \n",
       "2  ...                          3257                           985   \n",
       "\n",
       "   inc_hhlds_200_000_or_more  inc_med_hhld_inc_dol  inc_mean_hhld_inc_dol  \\\n",
       "0                        240                 43355                  55852   \n",
       "1                        352                 74233                  94962   \n",
       "2                        639                 47714                  61152   \n",
       "\n",
       "   inc_per_capita_inc_dol  inc_med_earn_workers_dol  \\\n",
       "0                   16868                     26621   \n",
       "1                   31190                     40478   \n",
       "2                   22322                     27411   \n",
       "\n",
       "   inc_med_earn_male_full_yr_workers_dol  \\\n",
       "0                                  36865   \n",
       "1                                  72970   \n",
       "2                                  41488   \n",
       "\n",
       "   inc_med_earn_female_full_yr_workers_dol  pop_density  \n",
       "0                                    26890    54.452632  \n",
       "1                                    35194    11.872960  \n",
       "2                                    32622   109.813207  \n",
       "\n",
       "[3 rows x 54 columns]"
      ]
     },
     "execution_count": 3,
     "metadata": {},
     "output_type": "execute_result"
    }
   ],
   "source": [
    "# Display the first few rows of the dataframe.\n",
    "tx_df.head(3)"
   ]
  },
  {
   "cell_type": "code",
   "execution_count": 4,
   "metadata": {},
   "outputs": [
    {
     "name": "stdout",
     "output_type": "stream",
     "text": [
      "<class 'pandas.core.frame.DataFrame'>\n",
      "RangeIndex: 254 entries, 0 to 253\n",
      "Data columns (total 54 columns):\n",
      " #   Column                                                     Non-Null Count  Dtype  \n",
      "---  ------                                                     --------------  -----  \n",
      " 0   county_name                                                254 non-null    object \n",
      " 1   total_cases                                                254 non-null    float64\n",
      " 2   total_fatalities                                           254 non-null    int64  \n",
      " 3   death_rate                                                 254 non-null    float64\n",
      " 4   race_pop                                                   254 non-null    int64  \n",
      " 5   race_pop_hispanic_or_latino_of_any_race                    254 non-null    int64  \n",
      " 6   race_pop_white_alone                                       254 non-null    int64  \n",
      " 7   race_pop_black_or_african_american_alone                   254 non-null    int64  \n",
      " 8   race_pop_american_indian_and_alaska_native_alone           254 non-null    int64  \n",
      " 9   race_pop_asian_alone                                       254 non-null    int64  \n",
      " 10  race_pop_native_hawaiian_and_other_pacific_islander_alone  254 non-null    int64  \n",
      " 11  race_pop_some_other_race_alone                             254 non-null    int64  \n",
      " 12  race_pop_two_or_more_races                                 254 non-null    int64  \n",
      " 13  sex_age_pop                                                254 non-null    int64  \n",
      " 14  sex_age_pop_male                                           254 non-null    int64  \n",
      " 15  sex_age_pop_female                                         254 non-null    int64  \n",
      " 16  sex_age_pop_under_5                                        254 non-null    int64  \n",
      " 17  sex_age_pop_5_to_9                                         254 non-null    int64  \n",
      " 18  sex_age_pop_10_to_14                                       254 non-null    int64  \n",
      " 19  sex_age_pop_15_to_19                                       254 non-null    int64  \n",
      " 20  sex_age_pop_20_to_24                                       254 non-null    int64  \n",
      " 21  sex_age_pop_25_to_34                                       254 non-null    int64  \n",
      " 22  sex_age_pop_35_to_44                                       254 non-null    int64  \n",
      " 23  sex_age_pop_45_to_54                                       254 non-null    int64  \n",
      " 24  sex_age_pop_55_to_59                                       254 non-null    int64  \n",
      " 25  sex_age_pop_60_to_64                                       254 non-null    int64  \n",
      " 26  sex_age_pop_65_to_74                                       254 non-null    int64  \n",
      " 27  sex_age_pop_75_to_84                                       254 non-null    int64  \n",
      " 28  sex_age_pop_85_and_over                                    254 non-null    int64  \n",
      " 29  sex_age_median_age_in_years                                254 non-null    float64\n",
      " 30  sq_mi                                                      254 non-null    float64\n",
      " 31  health_ins_noninst_pop                                     254 non-null    int64  \n",
      " 32  health_ins_noninst_pop_cov_yes                             254 non-null    int64  \n",
      " 33  health_ins_noninst_pop_private                             254 non-null    int64  \n",
      " 34  health_ins_noninst_pop_public                              254 non-null    int64  \n",
      " 35  health_ins_noninst_pop_cov_no                              254 non-null    int64  \n",
      " 36  inc_hhlds                                                  254 non-null    int64  \n",
      " 37  inc_hhlds_less_than_10_000                                 254 non-null    int64  \n",
      " 38  inc_hhlds_10_000_to_14_999                                 254 non-null    int64  \n",
      " 39  inc_hhlds_15_000_to_24_999                                 254 non-null    int64  \n",
      " 40  inc_hhlds_25_000_to_34_999                                 254 non-null    int64  \n",
      " 41  inc_hhlds_35_000_to_49_999                                 254 non-null    int64  \n",
      " 42  inc_hhlds_50_000_to_74_999                                 254 non-null    int64  \n",
      " 43  inc_hhlds_75_000_to_99_999                                 254 non-null    int64  \n",
      " 44  inc_hhlds_100_000_to_149_999                               254 non-null    int64  \n",
      " 45  inc_hhlds_150_000_to_199_999                               254 non-null    int64  \n",
      " 46  inc_hhlds_200_000_or_more                                  254 non-null    int64  \n",
      " 47  inc_med_hhld_inc_dol                                       254 non-null    int64  \n",
      " 48  inc_mean_hhld_inc_dol                                      254 non-null    int64  \n",
      " 49  inc_per_capita_inc_dol                                     254 non-null    int64  \n",
      " 50  inc_med_earn_workers_dol                                   254 non-null    int64  \n",
      " 51  inc_med_earn_male_full_yr_workers_dol                      254 non-null    int64  \n",
      " 52  inc_med_earn_female_full_yr_workers_dol                    254 non-null    int64  \n",
      " 53  pop_density                                                254 non-null    float64\n",
      "dtypes: float64(5), int64(48), object(1)\n",
      "memory usage: 107.3+ KB\n"
     ]
    }
   ],
   "source": [
    "# Display information about the dataframe.\n",
    "tx_df.info()"
   ]
  },
  {
   "cell_type": "code",
   "execution_count": 26,
   "metadata": {},
   "outputs": [],
   "source": [
    "# Set the county name to the index.\n",
    "tx_df = tx_df.set_index('county_name')"
   ]
  },
  {
   "cell_type": "markdown",
   "metadata": {},
   "source": [
    "# Regression Modeling Race"
   ]
  },
  {
   "cell_type": "code",
   "execution_count": 5,
   "metadata": {},
   "outputs": [
    {
     "data": {
      "text/plain": [
       "['county_name',\n",
       " 'total_cases',\n",
       " 'total_fatalities',\n",
       " 'death_rate',\n",
       " 'race_pop',\n",
       " 'race_pop_hispanic_or_latino_of_any_race',\n",
       " 'race_pop_white_alone',\n",
       " 'race_pop_black_or_african_american_alone',\n",
       " 'race_pop_american_indian_and_alaska_native_alone',\n",
       " 'race_pop_asian_alone',\n",
       " 'race_pop_native_hawaiian_and_other_pacific_islander_alone',\n",
       " 'race_pop_some_other_race_alone',\n",
       " 'race_pop_two_or_more_races',\n",
       " 'sex_age_pop',\n",
       " 'sex_age_pop_male',\n",
       " 'sex_age_pop_female',\n",
       " 'sex_age_pop_under_5',\n",
       " 'sex_age_pop_5_to_9',\n",
       " 'sex_age_pop_10_to_14',\n",
       " 'sex_age_pop_15_to_19',\n",
       " 'sex_age_pop_20_to_24',\n",
       " 'sex_age_pop_25_to_34',\n",
       " 'sex_age_pop_35_to_44',\n",
       " 'sex_age_pop_45_to_54',\n",
       " 'sex_age_pop_55_to_59',\n",
       " 'sex_age_pop_60_to_64',\n",
       " 'sex_age_pop_65_to_74',\n",
       " 'sex_age_pop_75_to_84',\n",
       " 'sex_age_pop_85_and_over',\n",
       " 'sex_age_median_age_in_years',\n",
       " 'sq_mi',\n",
       " 'health_ins_noninst_pop',\n",
       " 'health_ins_noninst_pop_cov_yes',\n",
       " 'health_ins_noninst_pop_private',\n",
       " 'health_ins_noninst_pop_public',\n",
       " 'health_ins_noninst_pop_cov_no',\n",
       " 'inc_hhlds',\n",
       " 'inc_hhlds_less_than_10_000',\n",
       " 'inc_hhlds_10_000_to_14_999',\n",
       " 'inc_hhlds_15_000_to_24_999',\n",
       " 'inc_hhlds_25_000_to_34_999',\n",
       " 'inc_hhlds_35_000_to_49_999',\n",
       " 'inc_hhlds_50_000_to_74_999',\n",
       " 'inc_hhlds_75_000_to_99_999',\n",
       " 'inc_hhlds_100_000_to_149_999',\n",
       " 'inc_hhlds_150_000_to_199_999',\n",
       " 'inc_hhlds_200_000_or_more',\n",
       " 'inc_med_hhld_inc_dol',\n",
       " 'inc_mean_hhld_inc_dol',\n",
       " 'inc_per_capita_inc_dol',\n",
       " 'inc_med_earn_workers_dol',\n",
       " 'inc_med_earn_male_full_yr_workers_dol',\n",
       " 'inc_med_earn_female_full_yr_workers_dol',\n",
       " 'pop_density']"
      ]
     },
     "execution_count": 5,
     "metadata": {},
     "output_type": "execute_result"
    }
   ],
   "source": [
    "list(tx_df.columns)"
   ]
  },
  {
   "cell_type": "code",
   "execution_count": 59,
   "metadata": {},
   "outputs": [],
   "source": [
    "# Create a subset of demographic columns for modeling.\n",
    "# Extract columns for model.\n",
    "race_mod_cols = [\n",
    "    'race_pop', 'race_pop_hispanic_or_latino_of_any_race', 'race_pop_white_alone', 'race_pop_black_or_african_american_alone',\n",
    "    'race_pop_american_indian_and_alaska_native_alone', 'race_pop_asian_alone', 'race_pop_native_hawaiian_and_other_pacific_islander_alone',\n",
    "    'race_pop_some_other_race_alone', 'race_pop_two_or_more_races', 'death_rate'\n",
    "]"
   ]
  },
  {
   "cell_type": "code",
   "execution_count": 60,
   "metadata": {},
   "outputs": [],
   "source": [
    "# Create a dataframe\n",
    "tx_race = tx_df[race_mod_cols]"
   ]
  },
  {
   "cell_type": "markdown",
   "metadata": {},
   "source": [
    "### Reg Model: White, Hispanic, Black, Asian, Other"
   ]
  },
  {
   "cell_type": "code",
   "execution_count": 81,
   "metadata": {},
   "outputs": [],
   "source": [
    "tx_race['race_pop_other'] = tx_race['race_pop_american_indian_and_alaska_native_alone'] \\\n",
    "                        + tx_race['race_pop_native_hawaiian_and_other_pacific_islander_alone'] \\\n",
    "                        + tx_race['race_pop_some_other_race_alone'] + tx_race['race_pop_two_or_more_races']"
   ]
  },
  {
   "cell_type": "code",
   "execution_count": 82,
   "metadata": {},
   "outputs": [],
   "source": [
    "# Define a function to create new columns with percentages.\n",
    "def to_percentage(dataframe):\n",
    "    for column in dataframe.columns:\n",
    "        if column.startswith('race_pop_'):\n",
    "            dataframe['percent_' + column] = dataframe[column] / dataframe['race_pop']\n",
    "    return"
   ]
  },
  {
   "cell_type": "code",
   "execution_count": 83,
   "metadata": {},
   "outputs": [],
   "source": [
    "# Apply the function to the numbers dataframe\n",
    "to_percentage(tx_race)"
   ]
  },
  {
   "cell_type": "code",
   "execution_count": 84,
   "metadata": {},
   "outputs": [
    {
     "data": {
      "text/plain": [
       "['race_pop',\n",
       " 'race_pop_hispanic_or_latino_of_any_race',\n",
       " 'race_pop_white_alone',\n",
       " 'race_pop_black_or_african_american_alone',\n",
       " 'race_pop_american_indian_and_alaska_native_alone',\n",
       " 'race_pop_asian_alone',\n",
       " 'race_pop_native_hawaiian_and_other_pacific_islander_alone',\n",
       " 'race_pop_some_other_race_alone',\n",
       " 'race_pop_two_or_more_races',\n",
       " 'death_rate',\n",
       " 'race_pop_other',\n",
       " 'percent_race_pop_hispanic_or_latino_of_any_race',\n",
       " 'percent_race_pop_white_alone',\n",
       " 'percent_race_pop_black_or_african_american_alone',\n",
       " 'percent_race_pop_american_indian_and_alaska_native_alone',\n",
       " 'percent_race_pop_asian_alone',\n",
       " 'percent_race_pop_native_hawaiian_and_other_pacific_islander_alone',\n",
       " 'percent_race_pop_some_other_race_alone',\n",
       " 'percent_race_pop_two_or_more_races',\n",
       " 'percent_race_pop_other',\n",
       " 'race_pop_minority',\n",
       " 'percent_race_pop_minority']"
      ]
     },
     "execution_count": 84,
     "metadata": {},
     "output_type": "execute_result"
    }
   ],
   "source": [
    "list(tx_race.columns)"
   ]
  },
  {
   "cell_type": "code",
   "execution_count": 85,
   "metadata": {},
   "outputs": [],
   "source": [
    "X = tx_race[[\n",
    "    'percent_race_pop_hispanic_or_latino_of_any_race',\n",
    "    'percent_race_pop_white_alone',\n",
    "    'percent_race_pop_black_or_african_american_alone',\n",
    "    'percent_race_pop_asian_alone',\n",
    "    'percent_race_pop_other'\n",
    "]]\n",
    "\n",
    "y = tx_race['death_rate']\n",
    "\n",
    "X_train, X_test, y_train, y_test = train_test_split(X, y, random_state=42)"
   ]
  },
  {
   "cell_type": "code",
   "execution_count": 86,
   "metadata": {},
   "outputs": [],
   "source": [
    "ss = StandardScaler()\n",
    "X_train_ss = ss.fit_transform(X_train)\n",
    "X_test_ss = ss.transform(X_test)"
   ]
  },
  {
   "cell_type": "code",
   "execution_count": 87,
   "metadata": {},
   "outputs": [
    {
     "data": {
      "text/plain": [
       "LinearRegression()"
      ]
     },
     "execution_count": 87,
     "metadata": {},
     "output_type": "execute_result"
    }
   ],
   "source": [
    "lr = LinearRegression()\n",
    "lr.fit(X_train_ss, y_train)"
   ]
  },
  {
   "cell_type": "code",
   "execution_count": 88,
   "metadata": {},
   "outputs": [
    {
     "data": {
      "text/plain": [
       "((190, 5), (64,))"
      ]
     },
     "execution_count": 88,
     "metadata": {},
     "output_type": "execute_result"
    }
   ],
   "source": [
    "X_train.shape, y_test.shape"
   ]
  },
  {
   "cell_type": "code",
   "execution_count": 89,
   "metadata": {},
   "outputs": [
    {
     "data": {
      "text/plain": [
       "-0.2692146580930309"
      ]
     },
     "execution_count": 89,
     "metadata": {},
     "output_type": "execute_result"
    }
   ],
   "source": [
    "cross_val_score(lr, X_test_ss, y_test, cv=5).mean()"
   ]
  },
  {
   "cell_type": "markdown",
   "metadata": {},
   "source": [
    "### Reg Model: White and Minority"
   ]
  },
  {
   "cell_type": "code",
   "execution_count": 90,
   "metadata": {},
   "outputs": [],
   "source": [
    "tx_race['race_pop_minority'] = tx_race['race_pop_american_indian_and_alaska_native_alone'] \\\n",
    "                        + tx_race['race_pop_native_hawaiian_and_other_pacific_islander_alone'] \\\n",
    "                        + tx_race['race_pop_some_other_race_alone'] + tx_race['race_pop_two_or_more_races'] \\\n",
    "                        + tx_race['race_pop_hispanic_or_latino_of_any_race'] + tx_race['race_pop_black_or_african_american_alone'] \\\n",
    "                        + tx_race['race_pop_asian_alone']"
   ]
  },
  {
   "cell_type": "code",
   "execution_count": 91,
   "metadata": {},
   "outputs": [],
   "source": [
    "# Define a function to create new columns with percentages.\n",
    "def to_percentage(dataframe):\n",
    "    for column in dataframe.columns:\n",
    "        if column.startswith('race_pop_'):\n",
    "            dataframe['percent_' + column] = dataframe[column] / dataframe['race_pop']\n",
    "    return"
   ]
  },
  {
   "cell_type": "code",
   "execution_count": 92,
   "metadata": {},
   "outputs": [],
   "source": [
    "# Apply the function to the numbers dataframe\n",
    "to_percentage(tx_race)"
   ]
  },
  {
   "cell_type": "code",
   "execution_count": 93,
   "metadata": {},
   "outputs": [
    {
     "data": {
      "text/plain": [
       "['race_pop',\n",
       " 'race_pop_hispanic_or_latino_of_any_race',\n",
       " 'race_pop_white_alone',\n",
       " 'race_pop_black_or_african_american_alone',\n",
       " 'race_pop_american_indian_and_alaska_native_alone',\n",
       " 'race_pop_asian_alone',\n",
       " 'race_pop_native_hawaiian_and_other_pacific_islander_alone',\n",
       " 'race_pop_some_other_race_alone',\n",
       " 'race_pop_two_or_more_races',\n",
       " 'death_rate',\n",
       " 'race_pop_other',\n",
       " 'percent_race_pop_hispanic_or_latino_of_any_race',\n",
       " 'percent_race_pop_white_alone',\n",
       " 'percent_race_pop_black_or_african_american_alone',\n",
       " 'percent_race_pop_american_indian_and_alaska_native_alone',\n",
       " 'percent_race_pop_asian_alone',\n",
       " 'percent_race_pop_native_hawaiian_and_other_pacific_islander_alone',\n",
       " 'percent_race_pop_some_other_race_alone',\n",
       " 'percent_race_pop_two_or_more_races',\n",
       " 'percent_race_pop_other',\n",
       " 'race_pop_minority',\n",
       " 'percent_race_pop_minority']"
      ]
     },
     "execution_count": 93,
     "metadata": {},
     "output_type": "execute_result"
    }
   ],
   "source": [
    "list(tx_race.columns)"
   ]
  },
  {
   "cell_type": "code",
   "execution_count": 94,
   "metadata": {},
   "outputs": [],
   "source": [
    "X = tx_race[[\n",
    "    'percent_race_pop_white_alone',\n",
    "    'percent_race_pop_minority',\n",
    "]]\n",
    "\n",
    "y = tx_race['death_rate']\n",
    "\n",
    "X_train, X_test, y_train, y_test = train_test_split(X, y, random_state=42)"
   ]
  },
  {
   "cell_type": "code",
   "execution_count": 95,
   "metadata": {},
   "outputs": [],
   "source": [
    "ss = StandardScaler()\n",
    "X_train_ss = ss.fit_transform(X_train)\n",
    "X_test_ss = ss.transform(X_test)"
   ]
  },
  {
   "cell_type": "code",
   "execution_count": 96,
   "metadata": {},
   "outputs": [
    {
     "data": {
      "text/plain": [
       "LinearRegression()"
      ]
     },
     "execution_count": 96,
     "metadata": {},
     "output_type": "execute_result"
    }
   ],
   "source": [
    "lr = LinearRegression()\n",
    "lr.fit(X_train_ss, y_train)"
   ]
  },
  {
   "cell_type": "code",
   "execution_count": 97,
   "metadata": {},
   "outputs": [
    {
     "data": {
      "text/plain": [
       "((190, 2), (64,))"
      ]
     },
     "execution_count": 97,
     "metadata": {},
     "output_type": "execute_result"
    }
   ],
   "source": [
    "X_train.shape, y_test.shape"
   ]
  },
  {
   "cell_type": "code",
   "execution_count": 98,
   "metadata": {},
   "outputs": [
    {
     "data": {
      "text/plain": [
       "-0.2643921364085547"
      ]
     },
     "execution_count": 98,
     "metadata": {},
     "output_type": "execute_result"
    }
   ],
   "source": [
    "cross_val_score(lr, X_test_ss, y_test, cv=5).mean()"
   ]
  }
 ],
 "metadata": {
  "kernelspec": {
   "display_name": "Python 3",
   "language": "python",
   "name": "python3"
  },
  "language_info": {
   "codemirror_mode": {
    "name": "ipython",
    "version": 3
   },
   "file_extension": ".py",
   "mimetype": "text/x-python",
   "name": "python",
   "nbconvert_exporter": "python",
   "pygments_lexer": "ipython3",
   "version": "3.7.9"
  }
 },
 "nbformat": 4,
 "nbformat_minor": 4
}
