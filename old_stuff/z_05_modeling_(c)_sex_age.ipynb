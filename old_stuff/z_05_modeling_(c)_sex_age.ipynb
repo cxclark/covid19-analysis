{
 "cells": [
  {
   "cell_type": "markdown",
   "metadata": {},
   "source": [
    "## Contents\n",
    "- [Imports](#Data-Dictionary)\n",
    "- [Regression Modeling Age + Pop Density](#Regression-Modeling-Age-+-Pop-Density)  \n",
    "- [Reg Model: 0-35, 35-59, 60-84, 85+](#Reg-Model:-0-35,-35-59,-60-84,-85+)\n",
    "- [Reg Model: 0-44, 45-75, 75+](#-Reg-Model:-0-44,-45-75,-75+)\n",
    "- [Reg Model: 0-64, 65+](#Reg-Model:-0-64,-65+)\n",
    "- [Reg Model: Median Age](#Reg-Model:-Median-Age)\n",
    "- [Correlations age](#Correlations-age)\n",
    "- [Correlations the whole df](#Correlations-the-whole-df)\n",
    "- [Regression Modeling Sex](#Regression-Modeling-Sex)"
   ]
  },
  {
   "cell_type": "markdown",
   "metadata": {},
   "source": [
    "# Imports"
   ]
  },
  {
   "cell_type": "code",
   "execution_count": 62,
   "metadata": {},
   "outputs": [],
   "source": [
    "# Import the required libraries\n",
    "import pandas as pd\n",
    "import matplotlib.pyplot as plt\n",
    "import seaborn as sns\n",
    "\n",
    "from sklearn.linear_model import LinearRegression\n",
    "from sklearn.model_selection import train_test_split, cross_val_score\n",
    "from sklearn.preprocessing import StandardScaler\n",
    "\n",
    "import warnings\n",
    "warnings.filterwarnings('ignore')"
   ]
  },
  {
   "cell_type": "code",
   "execution_count": 63,
   "metadata": {},
   "outputs": [],
   "source": [
    "# Import the data.\n",
    "df = pd.read_csv('../data/cleaned_numbers_five_states.csv')"
   ]
  },
  {
   "cell_type": "code",
   "execution_count": 64,
   "metadata": {},
   "outputs": [
    {
     "data": {
      "text/html": [
       "<div>\n",
       "<style scoped>\n",
       "    .dataframe tbody tr th:only-of-type {\n",
       "        vertical-align: middle;\n",
       "    }\n",
       "\n",
       "    .dataframe tbody tr th {\n",
       "        vertical-align: top;\n",
       "    }\n",
       "\n",
       "    .dataframe thead th {\n",
       "        text-align: right;\n",
       "    }\n",
       "</style>\n",
       "<table border=\"1\" class=\"dataframe\">\n",
       "  <thead>\n",
       "    <tr style=\"text-align: right;\">\n",
       "      <th></th>\n",
       "      <th>county_state</th>\n",
       "      <th>total_cases</th>\n",
       "      <th>total_fatalities</th>\n",
       "      <th>death_rate</th>\n",
       "      <th>total_tests</th>\n",
       "      <th>race_pop</th>\n",
       "      <th>race_pop_hispanic_or_latino_of_any_race</th>\n",
       "      <th>race_pop_white_alone</th>\n",
       "      <th>race_pop_black_or_african_american_alone</th>\n",
       "      <th>race_pop_american_indian_and_alaska_native_alone</th>\n",
       "      <th>...</th>\n",
       "      <th>inc_med_hhld_inc_dol</th>\n",
       "      <th>inc_mean_hhld_inc_dol</th>\n",
       "      <th>inc_per_capita_inc_dol</th>\n",
       "      <th>inc_med_earn_workers_dol</th>\n",
       "      <th>inc_med_earn_male_full_yr_workers_dol</th>\n",
       "      <th>inc_med_earn_female_full_yr_workers_dol</th>\n",
       "      <th>deaths_per_100_cases</th>\n",
       "      <th>cases_per_100_people</th>\n",
       "      <th>tests_per_100_people</th>\n",
       "      <th>pop_density</th>\n",
       "    </tr>\n",
       "  </thead>\n",
       "  <tbody>\n",
       "    <tr>\n",
       "      <th>0</th>\n",
       "      <td>Santa Clara County, California</td>\n",
       "      <td>23978.0</td>\n",
       "      <td>388.0</td>\n",
       "      <td>0.016181</td>\n",
       "      <td>839764</td>\n",
       "      <td>1922200</td>\n",
       "      <td>495455</td>\n",
       "      <td>615912</td>\n",
       "      <td>45379</td>\n",
       "      <td>3003</td>\n",
       "      <td>...</td>\n",
       "      <td>116178</td>\n",
       "      <td>154183</td>\n",
       "      <td>52451</td>\n",
       "      <td>52592</td>\n",
       "      <td>90862</td>\n",
       "      <td>64739</td>\n",
       "      <td>1.618150</td>\n",
       "      <td>1.247425</td>\n",
       "      <td>43.687650</td>\n",
       "      <td>1488.824137</td>\n",
       "    </tr>\n",
       "    <tr>\n",
       "      <th>1</th>\n",
       "      <td>San Mateo County, California</td>\n",
       "      <td>10942.0</td>\n",
       "      <td>159.0</td>\n",
       "      <td>0.014531</td>\n",
       "      <td>285657</td>\n",
       "      <td>765935</td>\n",
       "      <td>189002</td>\n",
       "      <td>303047</td>\n",
       "      <td>16838</td>\n",
       "      <td>1151</td>\n",
       "      <td>...</td>\n",
       "      <td>113776</td>\n",
       "      <td>162639</td>\n",
       "      <td>57375</td>\n",
       "      <td>51601</td>\n",
       "      <td>79347</td>\n",
       "      <td>65524</td>\n",
       "      <td>1.453116</td>\n",
       "      <td>1.428581</td>\n",
       "      <td>37.295201</td>\n",
       "      <td>1707.252650</td>\n",
       "    </tr>\n",
       "    <tr>\n",
       "      <th>2</th>\n",
       "      <td>Santa Barbara County, California</td>\n",
       "      <td>9781.0</td>\n",
       "      <td>120.0</td>\n",
       "      <td>0.012269</td>\n",
       "      <td>158693</td>\n",
       "      <td>443738</td>\n",
       "      <td>200060</td>\n",
       "      <td>199356</td>\n",
       "      <td>7881</td>\n",
       "      <td>1407</td>\n",
       "      <td>...</td>\n",
       "      <td>71657</td>\n",
       "      <td>101100</td>\n",
       "      <td>34229</td>\n",
       "      <td>28250</td>\n",
       "      <td>48314</td>\n",
       "      <td>41964</td>\n",
       "      <td>1.226868</td>\n",
       "      <td>2.204229</td>\n",
       "      <td>35.762770</td>\n",
       "      <td>162.235996</td>\n",
       "    </tr>\n",
       "  </tbody>\n",
       "</table>\n",
       "<p>3 rows × 59 columns</p>\n",
       "</div>"
      ],
      "text/plain": [
       "                       county_state  total_cases  total_fatalities  \\\n",
       "0    Santa Clara County, California      23978.0             388.0   \n",
       "1      San Mateo County, California      10942.0             159.0   \n",
       "2  Santa Barbara County, California       9781.0             120.0   \n",
       "\n",
       "   death_rate  total_tests  race_pop  race_pop_hispanic_or_latino_of_any_race  \\\n",
       "0    0.016181       839764   1922200                                   495455   \n",
       "1    0.014531       285657    765935                                   189002   \n",
       "2    0.012269       158693    443738                                   200060   \n",
       "\n",
       "   race_pop_white_alone  race_pop_black_or_african_american_alone  \\\n",
       "0                615912                                     45379   \n",
       "1                303047                                     16838   \n",
       "2                199356                                      7881   \n",
       "\n",
       "   race_pop_american_indian_and_alaska_native_alone  ...  \\\n",
       "0                                              3003  ...   \n",
       "1                                              1151  ...   \n",
       "2                                              1407  ...   \n",
       "\n",
       "   inc_med_hhld_inc_dol  inc_mean_hhld_inc_dol  inc_per_capita_inc_dol  \\\n",
       "0                116178                 154183                   52451   \n",
       "1                113776                 162639                   57375   \n",
       "2                 71657                 101100                   34229   \n",
       "\n",
       "   inc_med_earn_workers_dol  inc_med_earn_male_full_yr_workers_dol  \\\n",
       "0                     52592                                  90862   \n",
       "1                     51601                                  79347   \n",
       "2                     28250                                  48314   \n",
       "\n",
       "   inc_med_earn_female_full_yr_workers_dol  deaths_per_100_cases  \\\n",
       "0                                    64739              1.618150   \n",
       "1                                    65524              1.453116   \n",
       "2                                    41964              1.226868   \n",
       "\n",
       "   cases_per_100_people  tests_per_100_people  pop_density  \n",
       "0              1.247425             43.687650  1488.824137  \n",
       "1              1.428581             37.295201  1707.252650  \n",
       "2              2.204229             35.762770   162.235996  \n",
       "\n",
       "[3 rows x 59 columns]"
      ]
     },
     "execution_count": 64,
     "metadata": {},
     "output_type": "execute_result"
    }
   ],
   "source": [
    "# Display the first few rows of the dataframe.\n",
    "df.head(3)"
   ]
  },
  {
   "cell_type": "code",
   "execution_count": 65,
   "metadata": {},
   "outputs": [
    {
     "name": "stdout",
     "output_type": "stream",
     "text": [
      "<class 'pandas.core.frame.DataFrame'>\n",
      "RangeIndex: 543 entries, 0 to 542\n",
      "Data columns (total 59 columns):\n",
      " #   Column                                                     Non-Null Count  Dtype  \n",
      "---  ------                                                     --------------  -----  \n",
      " 0   county_state                                               543 non-null    object \n",
      " 1   total_cases                                                543 non-null    float64\n",
      " 2   total_fatalities                                           543 non-null    float64\n",
      " 3   death_rate                                                 542 non-null    float64\n",
      " 4   total_tests                                                543 non-null    int64  \n",
      " 5   race_pop                                                   543 non-null    int64  \n",
      " 6   race_pop_hispanic_or_latino_of_any_race                    543 non-null    int64  \n",
      " 7   race_pop_white_alone                                       543 non-null    int64  \n",
      " 8   race_pop_black_or_african_american_alone                   543 non-null    int64  \n",
      " 9   race_pop_american_indian_and_alaska_native_alone           543 non-null    int64  \n",
      " 10  race_pop_asian_alone                                       543 non-null    int64  \n",
      " 11  race_pop_native_hawaiian_and_other_pacific_islander_alone  543 non-null    int64  \n",
      " 12  race_pop_some_other_race_alone                             543 non-null    int64  \n",
      " 13  race_pop_two_or_more_races                                 543 non-null    int64  \n",
      " 14  sex_age_pop                                                543 non-null    int64  \n",
      " 15  sex_age_pop_male                                           543 non-null    int64  \n",
      " 16  sex_age_pop_female                                         543 non-null    int64  \n",
      " 17  sex_age_pop_under_5                                        543 non-null    int64  \n",
      " 18  sex_age_pop_5_to_9                                         543 non-null    int64  \n",
      " 19  sex_age_pop_10_to_14                                       543 non-null    int64  \n",
      " 20  sex_age_pop_15_to_19                                       543 non-null    int64  \n",
      " 21  sex_age_pop_20_to_24                                       543 non-null    int64  \n",
      " 22  sex_age_pop_25_to_34                                       543 non-null    int64  \n",
      " 23  sex_age_pop_35_to_44                                       543 non-null    int64  \n",
      " 24  sex_age_pop_45_to_54                                       543 non-null    int64  \n",
      " 25  sex_age_pop_55_to_59                                       543 non-null    int64  \n",
      " 26  sex_age_pop_60_to_64                                       543 non-null    int64  \n",
      " 27  sex_age_pop_65_to_74                                       543 non-null    int64  \n",
      " 28  sex_age_pop_75_to_84                                       543 non-null    int64  \n",
      " 29  sex_age_pop_85_and_over                                    543 non-null    int64  \n",
      " 30  sex_age_median_age_in_years                                543 non-null    float64\n",
      " 31  sq_mi                                                      543 non-null    float64\n",
      " 32  obes_percent                                               543 non-null    float64\n",
      " 33  health_ins_noninst_pop                                     543 non-null    int64  \n",
      " 34  health_ins_noninst_pop_cov_yes                             543 non-null    int64  \n",
      " 35  health_ins_noninst_pop_private                             543 non-null    int64  \n",
      " 36  health_ins_noninst_pop_public                              543 non-null    int64  \n",
      " 37  health_ins_noninst_pop_cov_no                              543 non-null    int64  \n",
      " 38  inc_hhlds                                                  543 non-null    int64  \n",
      " 39  inc_hhlds_less_than_10_000                                 543 non-null    int64  \n",
      " 40  inc_hhlds_10_000_to_14_999                                 543 non-null    int64  \n",
      " 41  inc_hhlds_15_000_to_24_999                                 543 non-null    int64  \n",
      " 42  inc_hhlds_25_000_to_34_999                                 543 non-null    int64  \n",
      " 43  inc_hhlds_35_000_to_49_999                                 543 non-null    int64  \n",
      " 44  inc_hhlds_50_000_to_74_999                                 543 non-null    int64  \n",
      " 45  inc_hhlds_75_000_to_99_999                                 543 non-null    int64  \n",
      " 46  inc_hhlds_100_000_to_149_999                               543 non-null    int64  \n",
      " 47  inc_hhlds_150_000_to_199_999                               543 non-null    int64  \n",
      " 48  inc_hhlds_200_000_or_more                                  543 non-null    int64  \n",
      " 49  inc_med_hhld_inc_dol                                       543 non-null    int64  \n",
      " 50  inc_mean_hhld_inc_dol                                      543 non-null    int64  \n",
      " 51  inc_per_capita_inc_dol                                     543 non-null    int64  \n",
      " 52  inc_med_earn_workers_dol                                   543 non-null    int64  \n",
      " 53  inc_med_earn_male_full_yr_workers_dol                      543 non-null    int64  \n",
      " 54  inc_med_earn_female_full_yr_workers_dol                    543 non-null    int64  \n",
      " 55  deaths_per_100_cases                                       542 non-null    float64\n",
      " 56  cases_per_100_people                                       543 non-null    float64\n",
      " 57  tests_per_100_people                                       543 non-null    float64\n",
      " 58  pop_density                                                543 non-null    float64\n",
      "dtypes: float64(10), int64(48), object(1)\n",
      "memory usage: 250.4+ KB\n"
     ]
    }
   ],
   "source": [
    "# Display information about the dataframe.\n",
    "df.info()"
   ]
  },
  {
   "cell_type": "code",
   "execution_count": 66,
   "metadata": {},
   "outputs": [],
   "source": [
    "# Set the county name to the index.\n",
    "df = df.set_index('county_state')"
   ]
  },
  {
   "cell_type": "markdown",
   "metadata": {},
   "source": [
    "# Regression Modeling Age + Pop Density"
   ]
  },
  {
   "cell_type": "code",
   "execution_count": 194,
   "metadata": {},
   "outputs": [],
   "source": [
    "# Create a subset of age demographic columns for modeling.\n",
    "# Extract columns for age-based model.\n",
    "age_mod_cols = [\n",
    "    'deaths_per_100_cases', 'cases_per_100_people', 'tests_per_100_people', 'sex_age_pop', 'sex_age_pop_male', \n",
    "    'sex_age_pop_female', 'sex_age_pop_under_5', 'sex_age_pop_5_to_9', 'sex_age_pop_10_to_14', 'sex_age_pop_15_to_19',\n",
    "    'sex_age_pop_20_to_24', 'sex_age_pop_25_to_34', 'sex_age_pop_35_to_44', 'sex_age_pop_45_to_54',\n",
    "    'sex_age_pop_55_to_59', 'sex_age_pop_60_to_64', 'sex_age_pop_65_to_74', 'sex_age_pop_75_to_84',\n",
    "    'sex_age_pop_85_and_over', 'pop_density', 'sex_age_median_age_in_years'\n",
    "]"
   ]
  },
  {
   "cell_type": "code",
   "execution_count": 195,
   "metadata": {},
   "outputs": [],
   "source": [
    "# Create a dataframe for age groups\n",
    "df_age = df[age_mod_cols]"
   ]
  },
  {
   "cell_type": "markdown",
   "metadata": {},
   "source": [
    "## Reg Model: 0-35, 35-59, 60-84, 85+"
   ]
  },
  {
   "cell_type": "code",
   "execution_count": 196,
   "metadata": {},
   "outputs": [],
   "source": [
    "df_age['sex_age_pop_0_to_35'] = df_age['sex_age_pop_under_5'] + df_age['sex_age_pop_5_to_9']\\\n",
    "                        + df_age['sex_age_pop_10_to_14'] + df_age['sex_age_pop_15_to_19']\\\n",
    "                        + df_age['sex_age_pop_20_to_24'] + df_age['sex_age_pop_25_to_34']"
   ]
  },
  {
   "cell_type": "code",
   "execution_count": 197,
   "metadata": {},
   "outputs": [],
   "source": [
    "df_age['sex_age_pop_35_to_59'] = df_age['sex_age_pop_35_to_44'] + df_age['sex_age_pop_45_to_54'] \\\n",
    "                        + df_age['sex_age_pop_55_to_59']"
   ]
  },
  {
   "cell_type": "code",
   "execution_count": 198,
   "metadata": {},
   "outputs": [],
   "source": [
    "df_age['sex_age_pop_60_to_84'] = df_age['sex_age_pop_60_to_64'] + df_age['sex_age_pop_65_to_74'] \\\n",
    "                        + df_age['sex_age_pop_75_to_84']"
   ]
  },
  {
   "cell_type": "code",
   "execution_count": 199,
   "metadata": {},
   "outputs": [],
   "source": [
    "# Define a function to create new columns with percentages.\n",
    "def to_percentage(dataframe):\n",
    "    for column in dataframe.columns:\n",
    "        if column.startswith('sex_age_pop_'):\n",
    "            dataframe['percent_' + column] = dataframe[column] / dataframe['sex_age_pop']\n",
    "    return"
   ]
  },
  {
   "cell_type": "code",
   "execution_count": 200,
   "metadata": {},
   "outputs": [],
   "source": [
    "# Apply the function to the numbers dataframe\n",
    "to_percentage(df_age)"
   ]
  },
  {
   "cell_type": "code",
   "execution_count": 201,
   "metadata": {},
   "outputs": [
    {
     "data": {
      "text/plain": [
       "['deaths_per_100_cases',\n",
       " 'cases_per_100_people',\n",
       " 'tests_per_100_people',\n",
       " 'sex_age_pop',\n",
       " 'sex_age_pop_male',\n",
       " 'sex_age_pop_female',\n",
       " 'sex_age_pop_under_5',\n",
       " 'sex_age_pop_5_to_9',\n",
       " 'sex_age_pop_10_to_14',\n",
       " 'sex_age_pop_15_to_19',\n",
       " 'sex_age_pop_20_to_24',\n",
       " 'sex_age_pop_25_to_34',\n",
       " 'sex_age_pop_35_to_44',\n",
       " 'sex_age_pop_45_to_54',\n",
       " 'sex_age_pop_55_to_59',\n",
       " 'sex_age_pop_60_to_64',\n",
       " 'sex_age_pop_65_to_74',\n",
       " 'sex_age_pop_75_to_84',\n",
       " 'sex_age_pop_85_and_over',\n",
       " 'pop_density',\n",
       " 'sex_age_median_age_in_years',\n",
       " 'sex_age_pop_0_to_35',\n",
       " 'sex_age_pop_35_to_59',\n",
       " 'sex_age_pop_60_to_84',\n",
       " 'percent_sex_age_pop_male',\n",
       " 'percent_sex_age_pop_female',\n",
       " 'percent_sex_age_pop_under_5',\n",
       " 'percent_sex_age_pop_5_to_9',\n",
       " 'percent_sex_age_pop_10_to_14',\n",
       " 'percent_sex_age_pop_15_to_19',\n",
       " 'percent_sex_age_pop_20_to_24',\n",
       " 'percent_sex_age_pop_25_to_34',\n",
       " 'percent_sex_age_pop_35_to_44',\n",
       " 'percent_sex_age_pop_45_to_54',\n",
       " 'percent_sex_age_pop_55_to_59',\n",
       " 'percent_sex_age_pop_60_to_64',\n",
       " 'percent_sex_age_pop_65_to_74',\n",
       " 'percent_sex_age_pop_75_to_84',\n",
       " 'percent_sex_age_pop_85_and_over',\n",
       " 'percent_sex_age_pop_0_to_35',\n",
       " 'percent_sex_age_pop_35_to_59',\n",
       " 'percent_sex_age_pop_60_to_84']"
      ]
     },
     "execution_count": 201,
     "metadata": {},
     "output_type": "execute_result"
    }
   ],
   "source": [
    "list(df_age.columns)"
   ]
  },
  {
   "cell_type": "code",
   "execution_count": 202,
   "metadata": {},
   "outputs": [],
   "source": [
    "X = df_age[[\n",
    "    'percent_sex_age_pop_0_to_35',\n",
    "    'percent_sex_age_pop_35_to_59',\n",
    "    'percent_sex_age_pop_60_to_84',\n",
    "    'percent_sex_age_pop_85_and_over',\n",
    "    'pop_density'\n",
    "]]\n",
    "\n",
    "y = df_age['cases_per_100_people']\n",
    "\n",
    "X_train, X_test, y_train, y_test = train_test_split(X, y, random_state=42)"
   ]
  },
  {
   "cell_type": "code",
   "execution_count": 203,
   "metadata": {},
   "outputs": [],
   "source": [
    "ss = StandardScaler()\n",
    "X_train_ss = ss.fit_transform(X_train)\n",
    "X_test_ss = ss.transform(X_test)"
   ]
  },
  {
   "cell_type": "code",
   "execution_count": 204,
   "metadata": {},
   "outputs": [
    {
     "data": {
      "text/plain": [
       "LinearRegression()"
      ]
     },
     "execution_count": 204,
     "metadata": {},
     "output_type": "execute_result"
    }
   ],
   "source": [
    "lr = LinearRegression()\n",
    "lr.fit(X_train_ss, y_train)"
   ]
  },
  {
   "cell_type": "code",
   "execution_count": 205,
   "metadata": {},
   "outputs": [
    {
     "data": {
      "text/plain": [
       "((407, 4), (136,))"
      ]
     },
     "execution_count": 205,
     "metadata": {},
     "output_type": "execute_result"
    }
   ],
   "source": [
    "X_train.shape, y_test.shape"
   ]
  },
  {
   "cell_type": "code",
   "execution_count": 206,
   "metadata": {},
   "outputs": [
    {
     "data": {
      "text/plain": [
       "-0.03553766378462235"
      ]
     },
     "execution_count": 206,
     "metadata": {},
     "output_type": "execute_result"
    }
   ],
   "source": [
    "cross_val_score(lr, X_test_ss, y_test, cv=5).mean()"
   ]
  },
  {
   "cell_type": "markdown",
   "metadata": {},
   "source": [
    "## Reg Model: 0-44, 45-75, 75+"
   ]
  },
  {
   "cell_type": "code",
   "execution_count": 207,
   "metadata": {},
   "outputs": [],
   "source": [
    "df_age['sex_age_pop_0_to_44'] = df_age['sex_age_pop_under_5'] + df_age['sex_age_pop_5_to_9'] \\\n",
    "                    + df_age['sex_age_pop_10_to_14'] + df_age['sex_age_pop_15_to_19'] \\\n",
    "                    + df_age['sex_age_pop_20_to_24'] + df_age['sex_age_pop_25_to_34'] + df_age['sex_age_pop_35_to_44']"
   ]
  },
  {
   "cell_type": "code",
   "execution_count": 208,
   "metadata": {},
   "outputs": [],
   "source": [
    "df_age['sex_age_pop_45_to_74'] = df_age['sex_age_pop_45_to_54'] + df_age['sex_age_pop_55_to_59'] \\\n",
    "                    + df_age['sex_age_pop_60_to_64'] + df_age['sex_age_pop_65_to_74']"
   ]
  },
  {
   "cell_type": "code",
   "execution_count": 209,
   "metadata": {},
   "outputs": [],
   "source": [
    "df_age['sex_age_pop_75_and_over'] = df_age['sex_age_pop_75_to_84'] + df_age['sex_age_pop_85_and_over']"
   ]
  },
  {
   "cell_type": "code",
   "execution_count": 210,
   "metadata": {},
   "outputs": [],
   "source": [
    "# Define a function to create new columns with percentages.\n",
    "def to_percentage(dataframe):\n",
    "    \n",
    "    for column in dataframe.columns:\n",
    "        if column.startswith('sex_age_pop_'):\n",
    "            dataframe['percent_' + column] = dataframe[column] / dataframe['sex_age_pop']\n",
    "    \n",
    "    return"
   ]
  },
  {
   "cell_type": "code",
   "execution_count": 211,
   "metadata": {},
   "outputs": [],
   "source": [
    "# Apply the function to the numbers dataframe\n",
    "to_percentage(df_age)"
   ]
  },
  {
   "cell_type": "code",
   "execution_count": 212,
   "metadata": {},
   "outputs": [
    {
     "data": {
      "text/plain": [
       "['deaths_per_100_cases',\n",
       " 'cases_per_100_people',\n",
       " 'tests_per_100_people',\n",
       " 'sex_age_pop',\n",
       " 'sex_age_pop_male',\n",
       " 'sex_age_pop_female',\n",
       " 'sex_age_pop_under_5',\n",
       " 'sex_age_pop_5_to_9',\n",
       " 'sex_age_pop_10_to_14',\n",
       " 'sex_age_pop_15_to_19',\n",
       " 'sex_age_pop_20_to_24',\n",
       " 'sex_age_pop_25_to_34',\n",
       " 'sex_age_pop_35_to_44',\n",
       " 'sex_age_pop_45_to_54',\n",
       " 'sex_age_pop_55_to_59',\n",
       " 'sex_age_pop_60_to_64',\n",
       " 'sex_age_pop_65_to_74',\n",
       " 'sex_age_pop_75_to_84',\n",
       " 'sex_age_pop_85_and_over',\n",
       " 'pop_density',\n",
       " 'sex_age_median_age_in_years',\n",
       " 'sex_age_pop_0_to_35',\n",
       " 'sex_age_pop_35_to_59',\n",
       " 'sex_age_pop_60_to_84',\n",
       " 'percent_sex_age_pop_male',\n",
       " 'percent_sex_age_pop_female',\n",
       " 'percent_sex_age_pop_under_5',\n",
       " 'percent_sex_age_pop_5_to_9',\n",
       " 'percent_sex_age_pop_10_to_14',\n",
       " 'percent_sex_age_pop_15_to_19',\n",
       " 'percent_sex_age_pop_20_to_24',\n",
       " 'percent_sex_age_pop_25_to_34',\n",
       " 'percent_sex_age_pop_35_to_44',\n",
       " 'percent_sex_age_pop_45_to_54',\n",
       " 'percent_sex_age_pop_55_to_59',\n",
       " 'percent_sex_age_pop_60_to_64',\n",
       " 'percent_sex_age_pop_65_to_74',\n",
       " 'percent_sex_age_pop_75_to_84',\n",
       " 'percent_sex_age_pop_85_and_over',\n",
       " 'percent_sex_age_pop_0_to_35',\n",
       " 'percent_sex_age_pop_35_to_59',\n",
       " 'percent_sex_age_pop_60_to_84',\n",
       " 'sex_age_pop_0_to_44',\n",
       " 'sex_age_pop_45_to_74',\n",
       " 'sex_age_pop_75_and_over',\n",
       " 'percent_sex_age_pop_0_to_44',\n",
       " 'percent_sex_age_pop_45_to_74',\n",
       " 'percent_sex_age_pop_75_and_over']"
      ]
     },
     "execution_count": 212,
     "metadata": {},
     "output_type": "execute_result"
    }
   ],
   "source": [
    "list(df_age.columns)"
   ]
  },
  {
   "cell_type": "code",
   "execution_count": 214,
   "metadata": {},
   "outputs": [],
   "source": [
    "X = df_age[[\n",
    "    'percent_sex_age_pop_0_to_44',\n",
    "    'percent_sex_age_pop_45_to_74',\n",
    "    'percent_sex_age_pop_75_and_over',\n",
    "    'pop_density'\n",
    "]]\n",
    "\n",
    "y = df_age['cases_per_100_people']\n",
    "\n",
    "X_train, X_test, y_train, y_test = train_test_split(X, y, random_state=42)"
   ]
  },
  {
   "cell_type": "code",
   "execution_count": 215,
   "metadata": {},
   "outputs": [],
   "source": [
    "ss = StandardScaler()\n",
    "X_train_ss = ss.fit_transform(X_train)\n",
    "X_test_ss = ss.transform(X_test)"
   ]
  },
  {
   "cell_type": "code",
   "execution_count": 216,
   "metadata": {},
   "outputs": [
    {
     "data": {
      "text/plain": [
       "LinearRegression()"
      ]
     },
     "execution_count": 216,
     "metadata": {},
     "output_type": "execute_result"
    }
   ],
   "source": [
    "lr = LinearRegression()\n",
    "lr.fit(X_train_ss, y_train)"
   ]
  },
  {
   "cell_type": "code",
   "execution_count": 217,
   "metadata": {},
   "outputs": [
    {
     "data": {
      "text/plain": [
       "((407, 3), (136,))"
      ]
     },
     "execution_count": 217,
     "metadata": {},
     "output_type": "execute_result"
    }
   ],
   "source": [
    "X_train.shape, y_test.shape"
   ]
  },
  {
   "cell_type": "code",
   "execution_count": 218,
   "metadata": {},
   "outputs": [
    {
     "data": {
      "text/plain": [
       "0.03800103955093288"
      ]
     },
     "execution_count": 218,
     "metadata": {},
     "output_type": "execute_result"
    }
   ],
   "source": [
    "cross_val_score(lr, X_test_ss, y_test, cv=5).mean()"
   ]
  },
  {
   "cell_type": "markdown",
   "metadata": {},
   "source": [
    "## Reg Model: 0-64, 65+"
   ]
  },
  {
   "cell_type": "code",
   "execution_count": 219,
   "metadata": {},
   "outputs": [],
   "source": [
    "df_age['sex_age_pop_0_to_64'] = df_age['sex_age_pop_under_5'] + df_age['sex_age_pop_5_to_9'] + df_age['sex_age_pop_10_to_14']\\\n",
    "                                + df_age['sex_age_pop_15_to_19'] + df_age['sex_age_pop_20_to_24'] + df_age['sex_age_pop_25_to_34'] \\\n",
    "                                + df_age['sex_age_pop_35_to_44'] + df_age['sex_age_pop_45_to_54'] + df_age['sex_age_pop_55_to_59'] \\\n",
    "                                + df_age['sex_age_pop_60_to_64']"
   ]
  },
  {
   "cell_type": "code",
   "execution_count": 220,
   "metadata": {},
   "outputs": [],
   "source": [
    "df_age['sex_age_pop_65_and_over'] = df_age['sex_age_pop_65_to_74'] + df_age['sex_age_pop_75_to_84'] + df_age['sex_age_pop_85_and_over']"
   ]
  },
  {
   "cell_type": "code",
   "execution_count": 221,
   "metadata": {},
   "outputs": [],
   "source": [
    "# Define a function to create new columns with percentages.\n",
    "def to_percentage(dataframe):\n",
    "    for column in dataframe.columns:\n",
    "        if column.startswith('sex_age_pop_'):\n",
    "            dataframe['percent_' + column] = dataframe[column] / dataframe['sex_age_pop']\n",
    "    return"
   ]
  },
  {
   "cell_type": "code",
   "execution_count": 222,
   "metadata": {},
   "outputs": [],
   "source": [
    "# Apply the function to the numbers dataframe\n",
    "to_percentage(df_age)"
   ]
  },
  {
   "cell_type": "code",
   "execution_count": 223,
   "metadata": {},
   "outputs": [
    {
     "data": {
      "text/plain": [
       "['deaths_per_100_cases',\n",
       " 'cases_per_100_people',\n",
       " 'tests_per_100_people',\n",
       " 'sex_age_pop',\n",
       " 'sex_age_pop_male',\n",
       " 'sex_age_pop_female',\n",
       " 'sex_age_pop_under_5',\n",
       " 'sex_age_pop_5_to_9',\n",
       " 'sex_age_pop_10_to_14',\n",
       " 'sex_age_pop_15_to_19',\n",
       " 'sex_age_pop_20_to_24',\n",
       " 'sex_age_pop_25_to_34',\n",
       " 'sex_age_pop_35_to_44',\n",
       " 'sex_age_pop_45_to_54',\n",
       " 'sex_age_pop_55_to_59',\n",
       " 'sex_age_pop_60_to_64',\n",
       " 'sex_age_pop_65_to_74',\n",
       " 'sex_age_pop_75_to_84',\n",
       " 'sex_age_pop_85_and_over',\n",
       " 'pop_density',\n",
       " 'sex_age_median_age_in_years',\n",
       " 'sex_age_pop_0_to_35',\n",
       " 'sex_age_pop_35_to_59',\n",
       " 'sex_age_pop_60_to_84',\n",
       " 'percent_sex_age_pop_male',\n",
       " 'percent_sex_age_pop_female',\n",
       " 'percent_sex_age_pop_under_5',\n",
       " 'percent_sex_age_pop_5_to_9',\n",
       " 'percent_sex_age_pop_10_to_14',\n",
       " 'percent_sex_age_pop_15_to_19',\n",
       " 'percent_sex_age_pop_20_to_24',\n",
       " 'percent_sex_age_pop_25_to_34',\n",
       " 'percent_sex_age_pop_35_to_44',\n",
       " 'percent_sex_age_pop_45_to_54',\n",
       " 'percent_sex_age_pop_55_to_59',\n",
       " 'percent_sex_age_pop_60_to_64',\n",
       " 'percent_sex_age_pop_65_to_74',\n",
       " 'percent_sex_age_pop_75_to_84',\n",
       " 'percent_sex_age_pop_85_and_over',\n",
       " 'percent_sex_age_pop_0_to_35',\n",
       " 'percent_sex_age_pop_35_to_59',\n",
       " 'percent_sex_age_pop_60_to_84',\n",
       " 'sex_age_pop_0_to_44',\n",
       " 'sex_age_pop_45_to_74',\n",
       " 'sex_age_pop_75_and_over',\n",
       " 'percent_sex_age_pop_0_to_44',\n",
       " 'percent_sex_age_pop_45_to_74',\n",
       " 'percent_sex_age_pop_75_and_over',\n",
       " 'sex_age_pop_0_to_64',\n",
       " 'sex_age_pop_65_and_over',\n",
       " 'percent_sex_age_pop_0_to_64',\n",
       " 'percent_sex_age_pop_65_and_over']"
      ]
     },
     "execution_count": 223,
     "metadata": {},
     "output_type": "execute_result"
    }
   ],
   "source": [
    "list(df_age.columns)"
   ]
  },
  {
   "cell_type": "code",
   "execution_count": 235,
   "metadata": {},
   "outputs": [],
   "source": [
    "X = df_age[[\n",
    "    'percent_sex_age_pop_0_to_64',\n",
    "    'percent_sex_age_pop_65_and_over',\n",
    "    'pop_density',\n",
    "]]\n",
    "\n",
    "y = df_age['cases_per_100_people']\n",
    "\n",
    "X_train, X_test, y_train, y_test = train_test_split(X, y, random_state=42)"
   ]
  },
  {
   "cell_type": "code",
   "execution_count": 236,
   "metadata": {},
   "outputs": [],
   "source": [
    "ss = StandardScaler()\n",
    "X_train_ss = ss.fit_transform(X_train)\n",
    "X_test_ss = ss.transform(X_test)"
   ]
  },
  {
   "cell_type": "code",
   "execution_count": 237,
   "metadata": {},
   "outputs": [
    {
     "data": {
      "text/plain": [
       "LinearRegression()"
      ]
     },
     "execution_count": 237,
     "metadata": {},
     "output_type": "execute_result"
    }
   ],
   "source": [
    "lr = LinearRegression()\n",
    "lr.fit(X_train_ss, y_train)"
   ]
  },
  {
   "cell_type": "code",
   "execution_count": 238,
   "metadata": {},
   "outputs": [
    {
     "data": {
      "text/plain": [
       "((407, 3), (136,))"
      ]
     },
     "execution_count": 238,
     "metadata": {},
     "output_type": "execute_result"
    }
   ],
   "source": [
    "X_train.shape, y_test.shape"
   ]
  },
  {
   "cell_type": "code",
   "execution_count": 239,
   "metadata": {},
   "outputs": [
    {
     "data": {
      "text/plain": [
       "0.004457753602039061"
      ]
     },
     "execution_count": 239,
     "metadata": {},
     "output_type": "execute_result"
    }
   ],
   "source": [
    "cross_val_score(lr, X_test_ss, y_test, cv=5).mean()"
   ]
  },
  {
   "cell_type": "markdown",
   "metadata": {},
   "source": [
    "## Reg Model: Median Age"
   ]
  },
  {
   "cell_type": "code",
   "execution_count": 240,
   "metadata": {},
   "outputs": [],
   "source": [
    "X = df_age[[\n",
    "    'sex_age_median_age_in_years',\n",
    "    'pop_density',\n",
    "]]\n",
    "\n",
    "y = df_age['cases_per_100_people']\n",
    "\n",
    "X_train, X_test, y_train, y_test = train_test_split(X, y, random_state=42)"
   ]
  },
  {
   "cell_type": "code",
   "execution_count": 241,
   "metadata": {},
   "outputs": [],
   "source": [
    "ss = StandardScaler()\n",
    "X_train_ss = ss.fit_transform(X_train)\n",
    "X_test_ss = ss.transform(X_test)"
   ]
  },
  {
   "cell_type": "code",
   "execution_count": 242,
   "metadata": {},
   "outputs": [
    {
     "data": {
      "text/plain": [
       "LinearRegression()"
      ]
     },
     "execution_count": 242,
     "metadata": {},
     "output_type": "execute_result"
    }
   ],
   "source": [
    "lr = LinearRegression()\n",
    "lr.fit(X_train_ss, y_train)"
   ]
  },
  {
   "cell_type": "code",
   "execution_count": 243,
   "metadata": {},
   "outputs": [
    {
     "data": {
      "text/plain": [
       "((407, 2), (136,))"
      ]
     },
     "execution_count": 243,
     "metadata": {},
     "output_type": "execute_result"
    }
   ],
   "source": [
    "X_train.shape, y_test.shape"
   ]
  },
  {
   "cell_type": "code",
   "execution_count": 244,
   "metadata": {},
   "outputs": [
    {
     "data": {
      "text/plain": [
       "0.03520643769785212"
      ]
     },
     "execution_count": 244,
     "metadata": {},
     "output_type": "execute_result"
    }
   ],
   "source": [
    "cross_val_score(lr, X_test_ss, y_test, cv=5).mean()"
   ]
  },
  {
   "cell_type": "markdown",
   "metadata": {},
   "source": [
    "## Reg Model: Median Age + 25-34"
   ]
  },
  {
   "cell_type": "code",
   "execution_count": 245,
   "metadata": {},
   "outputs": [],
   "source": [
    "X = df_age[[\n",
    "    'sex_age_median_age_in_years',\n",
    "    'percent_sex_age_pop_25_to_34',\n",
    "    'pop_density',\n",
    "]]\n",
    "\n",
    "y = df_age['cases_per_100_people']\n",
    "\n",
    "X_train, X_test, y_train, y_test = train_test_split(X, y, random_state=42)"
   ]
  },
  {
   "cell_type": "code",
   "execution_count": 246,
   "metadata": {},
   "outputs": [],
   "source": [
    "ss = StandardScaler()\n",
    "X_train_ss = ss.fit_transform(X_train)\n",
    "X_test_ss = ss.transform(X_test)"
   ]
  },
  {
   "cell_type": "code",
   "execution_count": 247,
   "metadata": {},
   "outputs": [
    {
     "data": {
      "text/plain": [
       "LinearRegression()"
      ]
     },
     "execution_count": 247,
     "metadata": {},
     "output_type": "execute_result"
    }
   ],
   "source": [
    "lr = LinearRegression()\n",
    "lr.fit(X_train_ss, y_train)"
   ]
  },
  {
   "cell_type": "code",
   "execution_count": 248,
   "metadata": {},
   "outputs": [
    {
     "data": {
      "text/plain": [
       "((407, 3), (136,))"
      ]
     },
     "execution_count": 248,
     "metadata": {},
     "output_type": "execute_result"
    }
   ],
   "source": [
    "X_train.shape, y_test.shape"
   ]
  },
  {
   "cell_type": "code",
   "execution_count": 249,
   "metadata": {},
   "outputs": [
    {
     "data": {
      "text/plain": [
       "0.0638338242164818"
      ]
     },
     "execution_count": 249,
     "metadata": {},
     "output_type": "execute_result"
    }
   ],
   "source": [
    "cross_val_score(lr, X_test_ss, y_test, cv=5).mean()"
   ]
  },
  {
   "cell_type": "markdown",
   "metadata": {},
   "source": [
    "# Correlations age"
   ]
  },
  {
   "cell_type": "code",
   "execution_count": 126,
   "metadata": {},
   "outputs": [
    {
     "data": {
      "image/png": "[encoded data removed]",
      "text/plain": [
       "<Figure size 216x1800 with 2 Axes>"
      ]
     },
     "metadata": {
      "needs_background": "light"
     },
     "output_type": "display_data"
    }
   ],
   "source": [
    "# Visualize the correlation between the variables.\n",
    "# Save a correlation table to a variable.\n",
    "corr = df_age.corr()\n",
    "\n",
    "# Display a correlation chart just for Sale Price.\n",
    "plt.figure(figsize=(3, 25))\n",
    "sns.heatmap(corr[['cases_per_100_people']].sort_values(by='cases_per_100_people').iloc[:-1], annot=True, cmap = 'coolwarm');"
   ]
  },
  {
   "cell_type": "markdown",
   "metadata": {},
   "source": [
    "# Regression Modeling Sex"
   ]
  },
  {
   "cell_type": "code",
   "execution_count": 148,
   "metadata": {},
   "outputs": [
    {
     "data": {
      "text/plain": [
       "['total_cases',\n",
       " 'total_fatalities',\n",
       " 'death_rate',\n",
       " 'total_tests',\n",
       " 'race_pop',\n",
       " 'race_pop_hispanic_or_latino_of_any_race',\n",
       " 'race_pop_white_alone',\n",
       " 'race_pop_black_or_african_american_alone',\n",
       " 'race_pop_american_indian_and_alaska_native_alone',\n",
       " 'race_pop_asian_alone',\n",
       " 'race_pop_native_hawaiian_and_other_pacific_islander_alone',\n",
       " 'race_pop_some_other_race_alone',\n",
       " 'race_pop_two_or_more_races',\n",
       " 'sex_age_pop',\n",
       " 'sex_age_pop_male',\n",
       " 'sex_age_pop_female',\n",
       " 'sex_age_pop_under_5',\n",
       " 'sex_age_pop_5_to_9',\n",
       " 'sex_age_pop_10_to_14',\n",
       " 'sex_age_pop_15_to_19',\n",
       " 'sex_age_pop_20_to_24',\n",
       " 'sex_age_pop_25_to_34',\n",
       " 'sex_age_pop_35_to_44',\n",
       " 'sex_age_pop_45_to_54',\n",
       " 'sex_age_pop_55_to_59',\n",
       " 'sex_age_pop_60_to_64',\n",
       " 'sex_age_pop_65_to_74',\n",
       " 'sex_age_pop_75_to_84',\n",
       " 'sex_age_pop_85_and_over',\n",
       " 'sex_age_median_age_in_years',\n",
       " 'sq_mi',\n",
       " 'obes_percent',\n",
       " 'health_ins_noninst_pop',\n",
       " 'health_ins_noninst_pop_cov_yes',\n",
       " 'health_ins_noninst_pop_private',\n",
       " 'health_ins_noninst_pop_public',\n",
       " 'health_ins_noninst_pop_cov_no',\n",
       " 'inc_hhlds',\n",
       " 'inc_hhlds_less_than_10_000',\n",
       " 'inc_hhlds_10_000_to_14_999',\n",
       " 'inc_hhlds_15_000_to_24_999',\n",
       " 'inc_hhlds_25_000_to_34_999',\n",
       " 'inc_hhlds_35_000_to_49_999',\n",
       " 'inc_hhlds_50_000_to_74_999',\n",
       " 'inc_hhlds_75_000_to_99_999',\n",
       " 'inc_hhlds_100_000_to_149_999',\n",
       " 'inc_hhlds_150_000_to_199_999',\n",
       " 'inc_hhlds_200_000_or_more',\n",
       " 'inc_med_hhld_inc_dol',\n",
       " 'inc_mean_hhld_inc_dol',\n",
       " 'inc_per_capita_inc_dol',\n",
       " 'inc_med_earn_workers_dol',\n",
       " 'inc_med_earn_male_full_yr_workers_dol',\n",
       " 'inc_med_earn_female_full_yr_workers_dol',\n",
       " 'deaths_per_100_cases',\n",
       " 'cases_per_100_people',\n",
       " 'tests_per_100_people',\n",
       " 'pop_density']"
      ]
     },
     "execution_count": 148,
     "metadata": {},
     "output_type": "execute_result"
    }
   ],
   "source": [
    "list(df.columns)"
   ]
  },
  {
   "cell_type": "code",
   "execution_count": 149,
   "metadata": {},
   "outputs": [],
   "source": [
    "# Create a subset of sex demographic columns for modeling.\n",
    "# Extract columns for sex-based model.\n",
    "sex_mod_cols = ['sex_age_pop', 'sex_age_pop_male', 'sex_age_pop_female', 'pop_density', 'cases_per_100_people']"
   ]
  },
  {
   "cell_type": "code",
   "execution_count": 150,
   "metadata": {},
   "outputs": [],
   "source": [
    "# Create a dataframe for age groups\n",
    "df_sex = df[sex_mod_cols]"
   ]
  },
  {
   "cell_type": "code",
   "execution_count": 152,
   "metadata": {},
   "outputs": [],
   "source": [
    "# Define a function to create new columns with percentages.\n",
    "def to_percentage(dataframe):\n",
    "    \n",
    "    for column in dataframe.columns:\n",
    "        if column.startswith('sex_age_pop_'):\n",
    "            dataframe['percent_' + column] = dataframe[column] / dataframe['sex_age_pop']\n",
    "            \n",
    "    return"
   ]
  },
  {
   "cell_type": "code",
   "execution_count": 153,
   "metadata": {},
   "outputs": [],
   "source": [
    "to_percentage(df_sex)"
   ]
  },
  {
   "cell_type": "code",
   "execution_count": 154,
   "metadata": {},
   "outputs": [
    {
     "data": {
      "text/html": [
       "<div>\n",
       "<style scoped>\n",
       "    .dataframe tbody tr th:only-of-type {\n",
       "        vertical-align: middle;\n",
       "    }\n",
       "\n",
       "    .dataframe tbody tr th {\n",
       "        vertical-align: top;\n",
       "    }\n",
       "\n",
       "    .dataframe thead th {\n",
       "        text-align: right;\n",
       "    }\n",
       "</style>\n",
       "<table border=\"1\" class=\"dataframe\">\n",
       "  <thead>\n",
       "    <tr style=\"text-align: right;\">\n",
       "      <th></th>\n",
       "      <th>sex_age_pop</th>\n",
       "      <th>sex_age_pop_male</th>\n",
       "      <th>sex_age_pop_female</th>\n",
       "      <th>pop_density</th>\n",
       "      <th>cases_per_100_people</th>\n",
       "      <th>percent_sex_age_pop_male</th>\n",
       "      <th>percent_sex_age_pop_female</th>\n",
       "    </tr>\n",
       "    <tr>\n",
       "      <th>county_state</th>\n",
       "      <th></th>\n",
       "      <th></th>\n",
       "      <th></th>\n",
       "      <th></th>\n",
       "      <th></th>\n",
       "      <th></th>\n",
       "      <th></th>\n",
       "    </tr>\n",
       "  </thead>\n",
       "  <tbody>\n",
       "    <tr>\n",
       "      <th>Santa Clara County, California</th>\n",
       "      <td>1922200</td>\n",
       "      <td>970469</td>\n",
       "      <td>951731</td>\n",
       "      <td>1488.824137</td>\n",
       "      <td>1.247425</td>\n",
       "      <td>0.504874</td>\n",
       "      <td>0.495126</td>\n",
       "    </tr>\n",
       "    <tr>\n",
       "      <th>San Mateo County, California</th>\n",
       "      <td>765935</td>\n",
       "      <td>377851</td>\n",
       "      <td>388084</td>\n",
       "      <td>1707.252650</td>\n",
       "      <td>1.428581</td>\n",
       "      <td>0.493320</td>\n",
       "      <td>0.506680</td>\n",
       "    </tr>\n",
       "    <tr>\n",
       "      <th>Santa Barbara County, California</th>\n",
       "      <td>443738</td>\n",
       "      <td>222208</td>\n",
       "      <td>221530</td>\n",
       "      <td>162.235996</td>\n",
       "      <td>2.204229</td>\n",
       "      <td>0.500764</td>\n",
       "      <td>0.499236</td>\n",
       "    </tr>\n",
       "    <tr>\n",
       "      <th>Tuolumne County, California</th>\n",
       "      <td>53932</td>\n",
       "      <td>28102</td>\n",
       "      <td>25830</td>\n",
       "      <td>24.283958</td>\n",
       "      <td>0.498776</td>\n",
       "      <td>0.521064</td>\n",
       "      <td>0.478936</td>\n",
       "    </tr>\n",
       "    <tr>\n",
       "      <th>Sierra County, California</th>\n",
       "      <td>2930</td>\n",
       "      <td>1542</td>\n",
       "      <td>1388</td>\n",
       "      <td>3.073960</td>\n",
       "      <td>0.204778</td>\n",
       "      <td>0.526280</td>\n",
       "      <td>0.473720</td>\n",
       "    </tr>\n",
       "    <tr>\n",
       "      <th>...</th>\n",
       "      <td>...</td>\n",
       "      <td>...</td>\n",
       "      <td>...</td>\n",
       "      <td>...</td>\n",
       "      <td>...</td>\n",
       "      <td>...</td>\n",
       "      <td>...</td>\n",
       "    </tr>\n",
       "    <tr>\n",
       "      <th>Wood County, Texas</th>\n",
       "      <td>43815</td>\n",
       "      <td>21807</td>\n",
       "      <td>22008</td>\n",
       "      <td>67.904439</td>\n",
       "      <td>1.428734</td>\n",
       "      <td>0.497706</td>\n",
       "      <td>0.502294</td>\n",
       "    </tr>\n",
       "    <tr>\n",
       "      <th>Yoakum County, Texas</th>\n",
       "      <td>8571</td>\n",
       "      <td>4438</td>\n",
       "      <td>4133</td>\n",
       "      <td>10.717568</td>\n",
       "      <td>3.371835</td>\n",
       "      <td>0.517793</td>\n",
       "      <td>0.482207</td>\n",
       "    </tr>\n",
       "    <tr>\n",
       "      <th>Young County, Texas</th>\n",
       "      <td>18114</td>\n",
       "      <td>8930</td>\n",
       "      <td>9184</td>\n",
       "      <td>19.807588</td>\n",
       "      <td>2.953517</td>\n",
       "      <td>0.492989</td>\n",
       "      <td>0.507011</td>\n",
       "    </tr>\n",
       "    <tr>\n",
       "      <th>Zapata County, Texas</th>\n",
       "      <td>14369</td>\n",
       "      <td>7177</td>\n",
       "      <td>7192</td>\n",
       "      <td>14.391854</td>\n",
       "      <td>2.401002</td>\n",
       "      <td>0.499478</td>\n",
       "      <td>0.500522</td>\n",
       "    </tr>\n",
       "    <tr>\n",
       "      <th>Zavala County, Texas</th>\n",
       "      <td>12131</td>\n",
       "      <td>6208</td>\n",
       "      <td>5923</td>\n",
       "      <td>9.350188</td>\n",
       "      <td>3.791938</td>\n",
       "      <td>0.511747</td>\n",
       "      <td>0.488253</td>\n",
       "    </tr>\n",
       "  </tbody>\n",
       "</table>\n",
       "<p>543 rows × 7 columns</p>\n",
       "</div>"
      ],
      "text/plain": [
       "                                  sex_age_pop  sex_age_pop_male  \\\n",
       "county_state                                                      \n",
       "Santa Clara County, California        1922200            970469   \n",
       "San Mateo County, California           765935            377851   \n",
       "Santa Barbara County, California       443738            222208   \n",
       "Tuolumne County, California             53932             28102   \n",
       "Sierra County, California                2930              1542   \n",
       "...                                       ...               ...   \n",
       "Wood County, Texas                      43815             21807   \n",
       "Yoakum County, Texas                     8571              4438   \n",
       "Young County, Texas                     18114              8930   \n",
       "Zapata County, Texas                    14369              7177   \n",
       "Zavala County, Texas                    12131              6208   \n",
       "\n",
       "                                  sex_age_pop_female  pop_density  \\\n",
       "county_state                                                        \n",
       "Santa Clara County, California                951731  1488.824137   \n",
       "San Mateo County, California                  388084  1707.252650   \n",
       "Santa Barbara County, California              221530   162.235996   \n",
       "Tuolumne County, California                    25830    24.283958   \n",
       "Sierra County, California                       1388     3.073960   \n",
       "...                                              ...          ...   \n",
       "Wood County, Texas                             22008    67.904439   \n",
       "Yoakum County, Texas                            4133    10.717568   \n",
       "Young County, Texas                             9184    19.807588   \n",
       "Zapata County, Texas                            7192    14.391854   \n",
       "Zavala County, Texas                            5923     9.350188   \n",
       "\n",
       "                                  cases_per_100_people  \\\n",
       "county_state                                             \n",
       "Santa Clara County, California                1.247425   \n",
       "San Mateo County, California                  1.428581   \n",
       "Santa Barbara County, California              2.204229   \n",
       "Tuolumne County, California                   0.498776   \n",
       "Sierra County, California                     0.204778   \n",
       "...                                                ...   \n",
       "Wood County, Texas                            1.428734   \n",
       "Yoakum County, Texas                          3.371835   \n",
       "Young County, Texas                           2.953517   \n",
       "Zapata County, Texas                          2.401002   \n",
       "Zavala County, Texas                          3.791938   \n",
       "\n",
       "                                  percent_sex_age_pop_male  \\\n",
       "county_state                                                 \n",
       "Santa Clara County, California                    0.504874   \n",
       "San Mateo County, California                      0.493320   \n",
       "Santa Barbara County, California                  0.500764   \n",
       "Tuolumne County, California                       0.521064   \n",
       "Sierra County, California                         0.526280   \n",
       "...                                                    ...   \n",
       "Wood County, Texas                                0.497706   \n",
       "Yoakum County, Texas                              0.517793   \n",
       "Young County, Texas                               0.492989   \n",
       "Zapata County, Texas                              0.499478   \n",
       "Zavala County, Texas                              0.511747   \n",
       "\n",
       "                                  percent_sex_age_pop_female  \n",
       "county_state                                                  \n",
       "Santa Clara County, California                      0.495126  \n",
       "San Mateo County, California                        0.506680  \n",
       "Santa Barbara County, California                    0.499236  \n",
       "Tuolumne County, California                         0.478936  \n",
       "Sierra County, California                           0.473720  \n",
       "...                                                      ...  \n",
       "Wood County, Texas                                  0.502294  \n",
       "Yoakum County, Texas                                0.482207  \n",
       "Young County, Texas                                 0.507011  \n",
       "Zapata County, Texas                                0.500522  \n",
       "Zavala County, Texas                                0.488253  \n",
       "\n",
       "[543 rows x 7 columns]"
      ]
     },
     "execution_count": 154,
     "metadata": {},
     "output_type": "execute_result"
    }
   ],
   "source": [
    "df_sex"
   ]
  },
  {
   "cell_type": "code",
   "execution_count": 185,
   "metadata": {},
   "outputs": [],
   "source": [
    "X = df_sex[[\n",
    "    'percent_sex_age_pop_male',\n",
    "    'pop_density',\n",
    "]]\n",
    "\n",
    "y = df_sex['cases_per_100_people']\n",
    "\n",
    "X_train, X_test, y_train, y_test = train_test_split(X, y, random_state=42)"
   ]
  },
  {
   "cell_type": "code",
   "execution_count": 186,
   "metadata": {},
   "outputs": [],
   "source": [
    "ss = StandardScaler()\n",
    "X_train_ss = ss.fit_transform(X_train)\n",
    "X_test_ss = ss.transform(X_test)"
   ]
  },
  {
   "cell_type": "code",
   "execution_count": 187,
   "metadata": {},
   "outputs": [
    {
     "data": {
      "text/plain": [
       "LinearRegression()"
      ]
     },
     "execution_count": 187,
     "metadata": {},
     "output_type": "execute_result"
    }
   ],
   "source": [
    "lr = LinearRegression()\n",
    "lr.fit(X_train_ss, y_train)"
   ]
  },
  {
   "cell_type": "code",
   "execution_count": 188,
   "metadata": {},
   "outputs": [
    {
     "data": {
      "text/plain": [
       "((407, 2), (136,))"
      ]
     },
     "execution_count": 188,
     "metadata": {},
     "output_type": "execute_result"
    }
   ],
   "source": [
    "X_train.shape, y_test.shape"
   ]
  },
  {
   "cell_type": "code",
   "execution_count": 189,
   "metadata": {},
   "outputs": [
    {
     "data": {
      "text/plain": [
       "0.027103869014526615"
      ]
     },
     "execution_count": 189,
     "metadata": {},
     "output_type": "execute_result"
    }
   ],
   "source": [
    "cross_val_score(lr, X_test_ss, y_test, cv=5).mean()"
   ]
  },
  {
   "cell_type": "code",
   "execution_count": null,
   "metadata": {},
   "outputs": [],
   "source": []
  }
 ],
 "metadata": {
  "kernelspec": {
   "display_name": "Python 3",
   "language": "python",
   "name": "python3"
  },
  "language_info": {
   "codemirror_mode": {
    "name": "ipython",
    "version": 3
   },
   "file_extension": ".py",
   "mimetype": "text/x-python",
   "name": "python",
   "nbconvert_exporter": "python",
   "pygments_lexer": "ipython3",
   "version": "3.7.9"
  }
 },
 "nbformat": 4,
 "nbformat_minor": 4
}
