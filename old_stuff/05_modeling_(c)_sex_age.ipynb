{
 "cells": [
  {
   "cell_type": "markdown",
   "metadata": {},
   "source": [
    "## Contents\n",
    "- [Imports](#Data-Dictionary)\n",
    "- [Regression Modeling Age + Pop Density](#Regression-Modeling-Age-+-Pop-Density)  \n",
    "- [Reg Model: 0-35, 35-59, 60-84, 85+](#Reg-Model:-0-35,-35-59,-60-84,-85+)\n",
    "- [Reg Model: 0-44, 45-75, 75+](#-Reg-Model:-0-44,-45-75,-75+)\n",
    "- [Reg Model: 0-64, 65+](#Reg-Model:-0-64,-65+)\n",
    "- [Reg Model: Median Age](#Reg-Model:-Median-Age)\n",
    "- [Correlations age](#Correlations-age)\n",
    "- [Correlations the whole df](#Correlations-the-whole-df)\n",
    "- [Regression Modeling Sex](#Regression-Modeling-Sex)"
   ]
  },
  {
   "cell_type": "markdown",
   "metadata": {},
   "source": [
    "# Target Age Brackets 0-44, 45-75, 75+"
   ]
  },
  {
   "cell_type": "markdown",
   "metadata": {},
   "source": [
    "# Imports"
   ]
  },
  {
   "cell_type": "code",
   "execution_count": 1,
   "metadata": {},
   "outputs": [],
   "source": [
    "# Import the required libraries\n",
    "import pandas as pd\n",
    "import matplotlib.pyplot as plt\n",
    "import seaborn as sns\n",
    "import numpy as np\n",
    "\n",
    "from sklearn.linear_model import LinearRegression\n",
    "from sklearn.model_selection import train_test_split, cross_val_score\n",
    "from sklearn.preprocessing import StandardScaler\n",
    "\n",
    "import warnings\n",
    "warnings.filterwarnings('ignore')"
   ]
  },
  {
   "cell_type": "code",
   "execution_count": 2,
   "metadata": {},
   "outputs": [],
   "source": [
    "# Import the Texas data and sae to a dataframe.\n",
    "tx_df = pd.read_csv('../data/texas_combined_cleaned_with_tests_obesity_no_outliers.csv')"
   ]
  },
  {
   "cell_type": "code",
   "execution_count": 3,
   "metadata": {},
   "outputs": [
    {
     "data": {
      "text/html": [
       "<div>\n",
       "<style scoped>\n",
       "    .dataframe tbody tr th:only-of-type {\n",
       "        vertical-align: middle;\n",
       "    }\n",
       "\n",
       "    .dataframe tbody tr th {\n",
       "        vertical-align: top;\n",
       "    }\n",
       "\n",
       "    .dataframe thead th {\n",
       "        text-align: right;\n",
       "    }\n",
       "</style>\n",
       "<table border=\"1\" class=\"dataframe\">\n",
       "  <thead>\n",
       "    <tr style=\"text-align: right;\">\n",
       "      <th></th>\n",
       "      <th>county_name</th>\n",
       "      <th>total_tests</th>\n",
       "      <th>obes_percent</th>\n",
       "      <th>total_cases</th>\n",
       "      <th>total_fatalities</th>\n",
       "      <th>death_rate</th>\n",
       "      <th>race_pop</th>\n",
       "      <th>race_pop_hispanic_or_latino_of_any_race</th>\n",
       "      <th>race_pop_white_alone</th>\n",
       "      <th>race_pop_black_or_african_american_alone</th>\n",
       "      <th>...</th>\n",
       "      <th>percent_inc_hhlds_35_000_to_49_999</th>\n",
       "      <th>percent_inc_hhlds_50_000_to_74_999</th>\n",
       "      <th>percent_inc_hhlds_75_000_to_99_999</th>\n",
       "      <th>percent_inc_hhlds_100_000_to_149_999</th>\n",
       "      <th>percent_inc_hhlds_150_000_to_199_999</th>\n",
       "      <th>percent_inc_hhlds_200_000_or_more</th>\n",
       "      <th>deaths_per_100_cases</th>\n",
       "      <th>fatalities/population</th>\n",
       "      <th>tests/population</th>\n",
       "      <th>cases/population</th>\n",
       "    </tr>\n",
       "  </thead>\n",
       "  <tbody>\n",
       "    <tr>\n",
       "      <th>0</th>\n",
       "      <td>anderson</td>\n",
       "      <td>29485</td>\n",
       "      <td>0.373</td>\n",
       "      <td>2922.0</td>\n",
       "      <td>39</td>\n",
       "      <td>0.013347</td>\n",
       "      <td>57863</td>\n",
       "      <td>10142</td>\n",
       "      <td>34312</td>\n",
       "      <td>12127</td>\n",
       "      <td>...</td>\n",
       "      <td>0.162282</td>\n",
       "      <td>0.197217</td>\n",
       "      <td>0.112097</td>\n",
       "      <td>0.087004</td>\n",
       "      <td>0.025639</td>\n",
       "      <td>0.014582</td>\n",
       "      <td>1.334702</td>\n",
       "      <td>0.000674</td>\n",
       "      <td>0.509566</td>\n",
       "      <td>0.050499</td>\n",
       "    </tr>\n",
       "    <tr>\n",
       "      <th>1</th>\n",
       "      <td>andrews</td>\n",
       "      <td>1943</td>\n",
       "      <td>0.313</td>\n",
       "      <td>567.0</td>\n",
       "      <td>10</td>\n",
       "      <td>0.017637</td>\n",
       "      <td>17818</td>\n",
       "      <td>9979</td>\n",
       "      <td>7215</td>\n",
       "      <td>321</td>\n",
       "      <td>...</td>\n",
       "      <td>0.124546</td>\n",
       "      <td>0.152687</td>\n",
       "      <td>0.132171</td>\n",
       "      <td>0.220407</td>\n",
       "      <td>0.072259</td>\n",
       "      <td>0.063907</td>\n",
       "      <td>1.763668</td>\n",
       "      <td>0.000561</td>\n",
       "      <td>0.109047</td>\n",
       "      <td>0.031822</td>\n",
       "    </tr>\n",
       "    <tr>\n",
       "      <th>2</th>\n",
       "      <td>angelina</td>\n",
       "      <td>20269</td>\n",
       "      <td>0.396</td>\n",
       "      <td>2277.0</td>\n",
       "      <td>90</td>\n",
       "      <td>0.039526</td>\n",
       "      <td>87607</td>\n",
       "      <td>19174</td>\n",
       "      <td>53216</td>\n",
       "      <td>12834</td>\n",
       "      <td>...</td>\n",
       "      <td>0.132248</td>\n",
       "      <td>0.188318</td>\n",
       "      <td>0.130364</td>\n",
       "      <td>0.105805</td>\n",
       "      <td>0.031998</td>\n",
       "      <td>0.020758</td>\n",
       "      <td>3.952569</td>\n",
       "      <td>0.001027</td>\n",
       "      <td>0.231363</td>\n",
       "      <td>0.025991</td>\n",
       "    </tr>\n",
       "  </tbody>\n",
       "</table>\n",
       "<p>3 rows × 95 columns</p>\n",
       "</div>"
      ],
      "text/plain": [
       "  county_name  total_tests  obes_percent  total_cases  total_fatalities  \\\n",
       "0    anderson        29485         0.373       2922.0                39   \n",
       "1     andrews         1943         0.313        567.0                10   \n",
       "2    angelina        20269         0.396       2277.0                90   \n",
       "\n",
       "   death_rate  race_pop  race_pop_hispanic_or_latino_of_any_race  \\\n",
       "0    0.013347     57863                                    10142   \n",
       "1    0.017637     17818                                     9979   \n",
       "2    0.039526     87607                                    19174   \n",
       "\n",
       "   race_pop_white_alone  race_pop_black_or_african_american_alone  ...  \\\n",
       "0                 34312                                     12127  ...   \n",
       "1                  7215                                       321  ...   \n",
       "2                 53216                                     12834  ...   \n",
       "\n",
       "   percent_inc_hhlds_35_000_to_49_999  percent_inc_hhlds_50_000_to_74_999  \\\n",
       "0                            0.162282                            0.197217   \n",
       "1                            0.124546                            0.152687   \n",
       "2                            0.132248                            0.188318   \n",
       "\n",
       "   percent_inc_hhlds_75_000_to_99_999  percent_inc_hhlds_100_000_to_149_999  \\\n",
       "0                            0.112097                              0.087004   \n",
       "1                            0.132171                              0.220407   \n",
       "2                            0.130364                              0.105805   \n",
       "\n",
       "   percent_inc_hhlds_150_000_to_199_999  percent_inc_hhlds_200_000_or_more  \\\n",
       "0                              0.025639                           0.014582   \n",
       "1                              0.072259                           0.063907   \n",
       "2                              0.031998                           0.020758   \n",
       "\n",
       "   deaths_per_100_cases  fatalities/population  tests/population  \\\n",
       "0              1.334702               0.000674          0.509566   \n",
       "1              1.763668               0.000561          0.109047   \n",
       "2              3.952569               0.001027          0.231363   \n",
       "\n",
       "   cases/population  \n",
       "0          0.050499  \n",
       "1          0.031822  \n",
       "2          0.025991  \n",
       "\n",
       "[3 rows x 95 columns]"
      ]
     },
     "execution_count": 3,
     "metadata": {},
     "output_type": "execute_result"
    }
   ],
   "source": [
    "# Display the first few rows of the dataframe.\n",
    "tx_df.head(3)"
   ]
  },
  {
   "cell_type": "code",
   "execution_count": 4,
   "metadata": {},
   "outputs": [
    {
     "name": "stdout",
     "output_type": "stream",
     "text": [
      "<class 'pandas.core.frame.DataFrame'>\n",
      "RangeIndex: 248 entries, 0 to 247\n",
      "Data columns (total 95 columns):\n",
      " #   Column                                                             Non-Null Count  Dtype  \n",
      "---  ------                                                             --------------  -----  \n",
      " 0   county_name                                                        248 non-null    object \n",
      " 1   total_tests                                                        248 non-null    int64  \n",
      " 2   obes_percent                                                       248 non-null    float64\n",
      " 3   total_cases                                                        248 non-null    float64\n",
      " 4   total_fatalities                                                   248 non-null    int64  \n",
      " 5   death_rate                                                         248 non-null    float64\n",
      " 6   race_pop                                                           248 non-null    int64  \n",
      " 7   race_pop_hispanic_or_latino_of_any_race                            248 non-null    int64  \n",
      " 8   race_pop_white_alone                                               248 non-null    int64  \n",
      " 9   race_pop_black_or_african_american_alone                           248 non-null    int64  \n",
      " 10  race_pop_american_indian_and_alaska_native_alone                   248 non-null    int64  \n",
      " 11  race_pop_asian_alone                                               248 non-null    int64  \n",
      " 12  race_pop_native_hawaiian_and_other_pacific_islander_alone          248 non-null    int64  \n",
      " 13  race_pop_some_other_race_alone                                     248 non-null    int64  \n",
      " 14  race_pop_two_or_more_races                                         248 non-null    int64  \n",
      " 15  sex_age_pop                                                        248 non-null    int64  \n",
      " 16  sex_age_pop_male                                                   248 non-null    int64  \n",
      " 17  sex_age_pop_female                                                 248 non-null    int64  \n",
      " 18  sex_age_pop_under_5                                                248 non-null    int64  \n",
      " 19  sex_age_pop_5_to_9                                                 248 non-null    int64  \n",
      " 20  sex_age_pop_10_to_14                                               248 non-null    int64  \n",
      " 21  sex_age_pop_15_to_19                                               248 non-null    int64  \n",
      " 22  sex_age_pop_20_to_24                                               248 non-null    int64  \n",
      " 23  sex_age_pop_25_to_34                                               248 non-null    int64  \n",
      " 24  sex_age_pop_35_to_44                                               248 non-null    int64  \n",
      " 25  sex_age_pop_45_to_54                                               248 non-null    int64  \n",
      " 26  sex_age_pop_55_to_59                                               248 non-null    int64  \n",
      " 27  sex_age_pop_60_to_64                                               248 non-null    int64  \n",
      " 28  sex_age_pop_65_to_74                                               248 non-null    int64  \n",
      " 29  sex_age_pop_75_to_84                                               248 non-null    int64  \n",
      " 30  sex_age_pop_85_and_over                                            248 non-null    int64  \n",
      " 31  sex_age_median_age_in_years                                        248 non-null    float64\n",
      " 32  sq_mi                                                              248 non-null    float64\n",
      " 33  health_ins_noninst_pop                                             248 non-null    int64  \n",
      " 34  health_ins_noninst_pop_cov_yes                                     248 non-null    int64  \n",
      " 35  health_ins_noninst_pop_private                                     248 non-null    int64  \n",
      " 36  health_ins_noninst_pop_public                                      248 non-null    int64  \n",
      " 37  health_ins_noninst_pop_cov_no                                      248 non-null    int64  \n",
      " 38  inc_hhlds                                                          248 non-null    int64  \n",
      " 39  inc_hhlds_less_than_10_000                                         248 non-null    int64  \n",
      " 40  inc_hhlds_10_000_to_14_999                                         248 non-null    int64  \n",
      " 41  inc_hhlds_15_000_to_24_999                                         248 non-null    int64  \n",
      " 42  inc_hhlds_25_000_to_34_999                                         248 non-null    int64  \n",
      " 43  inc_hhlds_35_000_to_49_999                                         248 non-null    int64  \n",
      " 44  inc_hhlds_50_000_to_74_999                                         248 non-null    int64  \n",
      " 45  inc_hhlds_75_000_to_99_999                                         248 non-null    int64  \n",
      " 46  inc_hhlds_100_000_to_149_999                                       248 non-null    int64  \n",
      " 47  inc_hhlds_150_000_to_199_999                                       248 non-null    int64  \n",
      " 48  inc_hhlds_200_000_or_more                                          248 non-null    int64  \n",
      " 49  inc_med_hhld_inc_dol                                               248 non-null    int64  \n",
      " 50  inc_mean_hhld_inc_dol                                              248 non-null    int64  \n",
      " 51  inc_per_capita_inc_dol                                             248 non-null    int64  \n",
      " 52  inc_med_earn_workers_dol                                           248 non-null    int64  \n",
      " 53  inc_med_earn_male_full_yr_workers_dol                              248 non-null    int64  \n",
      " 54  inc_med_earn_female_full_yr_workers_dol                            248 non-null    int64  \n",
      " 55  pop_density                                                        248 non-null    float64\n",
      " 56  percent_race_pop_hispanic_or_latino_of_any_race                    248 non-null    float64\n",
      " 57  percent_race_pop_white_alone                                       248 non-null    float64\n",
      " 58  percent_race_pop_black_or_african_american_alone                   248 non-null    float64\n",
      " 59  percent_race_pop_american_indian_and_alaska_native_alone           248 non-null    float64\n",
      " 60  percent_race_pop_asian_alone                                       248 non-null    float64\n",
      " 61  percent_race_pop_native_hawaiian_and_other_pacific_islander_alone  248 non-null    float64\n",
      " 62  percent_race_pop_some_other_race_alone                             248 non-null    float64\n",
      " 63  percent_race_pop_two_or_more_races                                 248 non-null    float64\n",
      " 64  percent_sex_age_pop_male                                           248 non-null    float64\n",
      " 65  percent_sex_age_pop_female                                         248 non-null    float64\n",
      " 66  percent_sex_age_pop_under_5                                        248 non-null    float64\n",
      " 67  percent_sex_age_pop_5_to_9                                         248 non-null    float64\n",
      " 68  percent_sex_age_pop_10_to_14                                       248 non-null    float64\n",
      " 69  percent_sex_age_pop_15_to_19                                       248 non-null    float64\n",
      " 70  percent_sex_age_pop_20_to_24                                       248 non-null    float64\n",
      " 71  percent_sex_age_pop_25_to_34                                       248 non-null    float64\n",
      " 72  percent_sex_age_pop_35_to_44                                       248 non-null    float64\n",
      " 73  percent_sex_age_pop_45_to_54                                       248 non-null    float64\n",
      " 74  percent_sex_age_pop_55_to_59                                       248 non-null    float64\n",
      " 75  percent_sex_age_pop_60_to_64                                       248 non-null    float64\n",
      " 76  percent_sex_age_pop_65_to_74                                       248 non-null    float64\n",
      " 77  percent_sex_age_pop_75_to_84                                       248 non-null    float64\n",
      " 78  percent_sex_age_pop_85_and_over                                    248 non-null    float64\n",
      " 79  percent_health_ins_noninst_pop_cov_yes                             248 non-null    float64\n",
      " 80  percent_health_ins_noninst_pop_cov_no                              248 non-null    float64\n",
      " 81  percent_inc_hhlds_less_than_10_000                                 248 non-null    float64\n",
      " 82  percent_inc_hhlds_10_000_to_14_999                                 248 non-null    float64\n",
      " 83  percent_inc_hhlds_15_000_to_24_999                                 248 non-null    float64\n",
      " 84  percent_inc_hhlds_25_000_to_34_999                                 248 non-null    float64\n",
      " 85  percent_inc_hhlds_35_000_to_49_999                                 248 non-null    float64\n",
      " 86  percent_inc_hhlds_50_000_to_74_999                                 248 non-null    float64\n",
      " 87  percent_inc_hhlds_75_000_to_99_999                                 248 non-null    float64\n",
      " 88  percent_inc_hhlds_100_000_to_149_999                               248 non-null    float64\n",
      " 89  percent_inc_hhlds_150_000_to_199_999                               248 non-null    float64\n",
      " 90  percent_inc_hhlds_200_000_or_more                                  248 non-null    float64\n",
      " 91  deaths_per_100_cases                                               248 non-null    float64\n",
      " 92  fatalities/population                                              248 non-null    float64\n",
      " 93  tests/population                                                   248 non-null    float64\n",
      " 94  cases/population                                                   248 non-null    float64\n",
      "dtypes: float64(45), int64(49), object(1)\n",
      "memory usage: 184.2+ KB\n"
     ]
    }
   ],
   "source": [
    "# Display information about the dataframe.\n",
    "tx_df.info()"
   ]
  },
  {
   "cell_type": "code",
   "execution_count": 5,
   "metadata": {},
   "outputs": [],
   "source": [
    "# Set the county name to the index.\n",
    "tx_df = tx_df.set_index('county_name')"
   ]
  },
  {
   "cell_type": "markdown",
   "metadata": {},
   "source": [
    "# Regression Modeling Age + Pop Density"
   ]
  },
  {
   "cell_type": "code",
   "execution_count": 6,
   "metadata": {},
   "outputs": [],
   "source": [
    "# Create a subset of age demographic columns for modeling.\n",
    "# Extract columns for age-based model.\n",
    "age_mod_cols = [\n",
    "    'total_cases', 'total_fatalities', 'death_rate', 'deaths_per_100_cases', 'sex_age_pop', 'sex_age_pop_male', 'sex_age_pop_female',\n",
    "    'sex_age_pop_under_5', 'sex_age_pop_5_to_9', 'sex_age_pop_10_to_14', 'sex_age_pop_15_to_19',\n",
    "    'sex_age_pop_20_to_24', 'sex_age_pop_25_to_34', 'sex_age_pop_35_to_44', 'sex_age_pop_45_to_54',\n",
    "    'sex_age_pop_55_to_59', 'sex_age_pop_60_to_64', 'sex_age_pop_65_to_74', 'sex_age_pop_75_to_84',\n",
    "    'sex_age_pop_85_and_over', 'pop_density', 'sex_age_median_age_in_years'\n",
    "]"
   ]
  },
  {
   "cell_type": "code",
   "execution_count": 7,
   "metadata": {},
   "outputs": [],
   "source": [
    "# Create a dataframe for age groups\n",
    "tx_age = tx_df[age_mod_cols]"
   ]
  },
  {
   "cell_type": "markdown",
   "metadata": {},
   "source": [
    "## Reg Model: 0-35, 35-59, 60-84, 85+"
   ]
  },
  {
   "cell_type": "code",
   "execution_count": 8,
   "metadata": {},
   "outputs": [],
   "source": [
    "tx_age['sex_age_pop_0_to_35'] = tx_age['sex_age_pop_under_5'] + tx_age['sex_age_pop_5_to_9']\\\n",
    "                + tx_age['sex_age_pop_10_to_14'] + tx_age['sex_age_pop_15_to_19']\\\n",
    "                + tx_age['sex_age_pop_20_to_24'] + tx_age['sex_age_pop_25_to_34']"
   ]
  },
  {
   "cell_type": "code",
   "execution_count": 9,
   "metadata": {},
   "outputs": [],
   "source": [
    "tx_age['sex_age_pop_35_to_59'] = tx_age['sex_age_pop_35_to_44'] + tx_age['sex_age_pop_45_to_54'] + tx_age['sex_age_pop_55_to_59']"
   ]
  },
  {
   "cell_type": "code",
   "execution_count": 10,
   "metadata": {},
   "outputs": [],
   "source": [
    "tx_age['sex_age_pop_60_to_84'] = tx_age['sex_age_pop_60_to_64'] + tx_age['sex_age_pop_65_to_74'] + tx_age['sex_age_pop_75_to_84']"
   ]
  },
  {
   "cell_type": "code",
   "execution_count": 11,
   "metadata": {},
   "outputs": [],
   "source": [
    "# Define a function to create new columns with percentages.\n",
    "def to_percentage(dataframe):\n",
    "    for column in dataframe.columns:\n",
    "        if column.startswith('sex_age_pop_'):\n",
    "            dataframe['percent_' + column] = dataframe[column] / dataframe['sex_age_pop']\n",
    "    return"
   ]
  },
  {
   "cell_type": "code",
   "execution_count": 12,
   "metadata": {},
   "outputs": [],
   "source": [
    "# Apply the function to the numbers dataframe\n",
    "to_percentage(tx_age)"
   ]
  },
  {
   "cell_type": "code",
   "execution_count": 13,
   "metadata": {},
   "outputs": [
    {
     "data": {
      "text/plain": [
       "['total_cases',\n",
       " 'total_fatalities',\n",
       " 'death_rate',\n",
       " 'deaths_per_100_cases',\n",
       " 'sex_age_pop',\n",
       " 'sex_age_pop_male',\n",
       " 'sex_age_pop_female',\n",
       " 'sex_age_pop_under_5',\n",
       " 'sex_age_pop_5_to_9',\n",
       " 'sex_age_pop_10_to_14',\n",
       " 'sex_age_pop_15_to_19',\n",
       " 'sex_age_pop_20_to_24',\n",
       " 'sex_age_pop_25_to_34',\n",
       " 'sex_age_pop_35_to_44',\n",
       " 'sex_age_pop_45_to_54',\n",
       " 'sex_age_pop_55_to_59',\n",
       " 'sex_age_pop_60_to_64',\n",
       " 'sex_age_pop_65_to_74',\n",
       " 'sex_age_pop_75_to_84',\n",
       " 'sex_age_pop_85_and_over',\n",
       " 'pop_density',\n",
       " 'sex_age_median_age_in_years',\n",
       " 'sex_age_pop_0_to_35',\n",
       " 'sex_age_pop_35_to_59',\n",
       " 'sex_age_pop_60_to_84',\n",
       " 'percent_sex_age_pop_male',\n",
       " 'percent_sex_age_pop_female',\n",
       " 'percent_sex_age_pop_under_5',\n",
       " 'percent_sex_age_pop_5_to_9',\n",
       " 'percent_sex_age_pop_10_to_14',\n",
       " 'percent_sex_age_pop_15_to_19',\n",
       " 'percent_sex_age_pop_20_to_24',\n",
       " 'percent_sex_age_pop_25_to_34',\n",
       " 'percent_sex_age_pop_35_to_44',\n",
       " 'percent_sex_age_pop_45_to_54',\n",
       " 'percent_sex_age_pop_55_to_59',\n",
       " 'percent_sex_age_pop_60_to_64',\n",
       " 'percent_sex_age_pop_65_to_74',\n",
       " 'percent_sex_age_pop_75_to_84',\n",
       " 'percent_sex_age_pop_85_and_over',\n",
       " 'percent_sex_age_pop_0_to_35',\n",
       " 'percent_sex_age_pop_35_to_59',\n",
       " 'percent_sex_age_pop_60_to_84']"
      ]
     },
     "execution_count": 13,
     "metadata": {},
     "output_type": "execute_result"
    }
   ],
   "source": [
    "list(tx_age.columns)"
   ]
  },
  {
   "cell_type": "code",
   "execution_count": 14,
   "metadata": {},
   "outputs": [],
   "source": [
    "X = tx_age[[\n",
    "    'percent_sex_age_pop_0_to_35',\n",
    "    'percent_sex_age_pop_35_to_59',\n",
    "    'percent_sex_age_pop_60_to_84',\n",
    "    'percent_sex_age_pop_85_and_over',\n",
    "]]\n",
    "\n",
    "y = tx_age['deaths_per_100_cases']\n",
    "\n",
    "X_train, X_test, y_train, y_test = train_test_split(X, y, random_state=42)"
   ]
  },
  {
   "cell_type": "code",
   "execution_count": 15,
   "metadata": {},
   "outputs": [],
   "source": [
    "ss = StandardScaler()\n",
    "X_train_ss = ss.fit_transform(X_train)\n",
    "X_test_ss = ss.transform(X_test)"
   ]
  },
  {
   "cell_type": "code",
   "execution_count": 16,
   "metadata": {},
   "outputs": [
    {
     "data": {
      "text/plain": [
       "LinearRegression()"
      ]
     },
     "execution_count": 16,
     "metadata": {},
     "output_type": "execute_result"
    }
   ],
   "source": [
    "lr = LinearRegression()\n",
    "lr.fit(X_train_ss, y_train)"
   ]
  },
  {
   "cell_type": "code",
   "execution_count": 17,
   "metadata": {},
   "outputs": [
    {
     "data": {
      "text/plain": [
       "((186, 4), (62,))"
      ]
     },
     "execution_count": 17,
     "metadata": {},
     "output_type": "execute_result"
    }
   ],
   "source": [
    "X_train.shape, y_test.shape"
   ]
  },
  {
   "cell_type": "code",
   "execution_count": 18,
   "metadata": {},
   "outputs": [
    {
     "data": {
      "text/plain": [
       "-0.45940718329822533"
      ]
     },
     "execution_count": 18,
     "metadata": {},
     "output_type": "execute_result"
    }
   ],
   "source": [
    "cross_val_score(lr, X_test_ss, y_test, cv=5).mean()"
   ]
  },
  {
   "cell_type": "markdown",
   "metadata": {},
   "source": [
    "## Reg Model: 0-44, 45-75, 75+"
   ]
  },
  {
   "cell_type": "code",
   "execution_count": 19,
   "metadata": {},
   "outputs": [],
   "source": [
    "tx_age['sex_age_pop_0_to_44'] = tx_age['sex_age_pop_under_5'] + tx_age['sex_age_pop_5_to_9'] \\\n",
    "                + tx_age['sex_age_pop_10_to_14'] + tx_age['sex_age_pop_15_to_19'] + tx_age['sex_age_pop_20_to_24']\\\n",
    "                + tx_age['sex_age_pop_25_to_34'] + tx_age['sex_age_pop_35_to_44']"
   ]
  },
  {
   "cell_type": "code",
   "execution_count": 20,
   "metadata": {},
   "outputs": [],
   "source": [
    "tx_age['sex_age_pop_45_to_74'] = tx_age['sex_age_pop_45_to_54'] + tx_age['sex_age_pop_55_to_59'] \\\n",
    "                + tx_age['sex_age_pop_60_to_64'] + tx_age['sex_age_pop_65_to_74']"
   ]
  },
  {
   "cell_type": "code",
   "execution_count": 21,
   "metadata": {},
   "outputs": [],
   "source": [
    "tx_age['sex_age_pop_75_and_over'] = tx_age['sex_age_pop_75_to_84'] + tx_age['sex_age_pop_85_and_over']"
   ]
  },
  {
   "cell_type": "code",
   "execution_count": 22,
   "metadata": {},
   "outputs": [],
   "source": [
    "# Define a function to create new columns with percentages.\n",
    "def to_percentage(dataframe):\n",
    "    \n",
    "    for column in dataframe.columns:\n",
    "        if column.startswith('sex_age_pop_'):\n",
    "            dataframe['percent_' + column] = dataframe[column] / dataframe['sex_age_pop']\n",
    "    \n",
    "    return"
   ]
  },
  {
   "cell_type": "code",
   "execution_count": 23,
   "metadata": {},
   "outputs": [],
   "source": [
    "# Apply the function to the numbers dataframe\n",
    "to_percentage(tx_age)"
   ]
  },
  {
   "cell_type": "code",
   "execution_count": 24,
   "metadata": {},
   "outputs": [
    {
     "data": {
      "text/plain": [
       "['total_cases',\n",
       " 'total_fatalities',\n",
       " 'death_rate',\n",
       " 'deaths_per_100_cases',\n",
       " 'sex_age_pop',\n",
       " 'sex_age_pop_male',\n",
       " 'sex_age_pop_female',\n",
       " 'sex_age_pop_under_5',\n",
       " 'sex_age_pop_5_to_9',\n",
       " 'sex_age_pop_10_to_14',\n",
       " 'sex_age_pop_15_to_19',\n",
       " 'sex_age_pop_20_to_24',\n",
       " 'sex_age_pop_25_to_34',\n",
       " 'sex_age_pop_35_to_44',\n",
       " 'sex_age_pop_45_to_54',\n",
       " 'sex_age_pop_55_to_59',\n",
       " 'sex_age_pop_60_to_64',\n",
       " 'sex_age_pop_65_to_74',\n",
       " 'sex_age_pop_75_to_84',\n",
       " 'sex_age_pop_85_and_over',\n",
       " 'pop_density',\n",
       " 'sex_age_median_age_in_years',\n",
       " 'sex_age_pop_0_to_35',\n",
       " 'sex_age_pop_35_to_59',\n",
       " 'sex_age_pop_60_to_84',\n",
       " 'percent_sex_age_pop_male',\n",
       " 'percent_sex_age_pop_female',\n",
       " 'percent_sex_age_pop_under_5',\n",
       " 'percent_sex_age_pop_5_to_9',\n",
       " 'percent_sex_age_pop_10_to_14',\n",
       " 'percent_sex_age_pop_15_to_19',\n",
       " 'percent_sex_age_pop_20_to_24',\n",
       " 'percent_sex_age_pop_25_to_34',\n",
       " 'percent_sex_age_pop_35_to_44',\n",
       " 'percent_sex_age_pop_45_to_54',\n",
       " 'percent_sex_age_pop_55_to_59',\n",
       " 'percent_sex_age_pop_60_to_64',\n",
       " 'percent_sex_age_pop_65_to_74',\n",
       " 'percent_sex_age_pop_75_to_84',\n",
       " 'percent_sex_age_pop_85_and_over',\n",
       " 'percent_sex_age_pop_0_to_35',\n",
       " 'percent_sex_age_pop_35_to_59',\n",
       " 'percent_sex_age_pop_60_to_84',\n",
       " 'sex_age_pop_0_to_44',\n",
       " 'sex_age_pop_45_to_74',\n",
       " 'sex_age_pop_75_and_over',\n",
       " 'percent_sex_age_pop_0_to_44',\n",
       " 'percent_sex_age_pop_45_to_74',\n",
       " 'percent_sex_age_pop_75_and_over']"
      ]
     },
     "execution_count": 24,
     "metadata": {},
     "output_type": "execute_result"
    }
   ],
   "source": [
    "list(tx_age.columns)"
   ]
  },
  {
   "cell_type": "code",
   "execution_count": 25,
   "metadata": {},
   "outputs": [],
   "source": [
    "X = tx_age[[\n",
    "    'percent_sex_age_pop_0_to_44',\n",
    "    'percent_sex_age_pop_45_to_74',\n",
    "    'percent_sex_age_pop_75_and_over',\n",
    "]]\n",
    "\n",
    "y = tx_age['deaths_per_100_cases']\n",
    "\n",
    "X_train, X_test, y_train, y_test = train_test_split(X, y, random_state=42)"
   ]
  },
  {
   "cell_type": "code",
   "execution_count": 26,
   "metadata": {},
   "outputs": [],
   "source": [
    "ss = StandardScaler()\n",
    "X_train_ss = ss.fit_transform(X_train)\n",
    "X_test_ss = ss.transform(X_test)"
   ]
  },
  {
   "cell_type": "code",
   "execution_count": 27,
   "metadata": {},
   "outputs": [
    {
     "data": {
      "text/plain": [
       "LinearRegression()"
      ]
     },
     "execution_count": 27,
     "metadata": {},
     "output_type": "execute_result"
    }
   ],
   "source": [
    "lr = LinearRegression()\n",
    "lr.fit(X_train_ss, y_train)"
   ]
  },
  {
   "cell_type": "code",
   "execution_count": 28,
   "metadata": {},
   "outputs": [
    {
     "data": {
      "text/plain": [
       "((186, 3), (62,))"
      ]
     },
     "execution_count": 28,
     "metadata": {},
     "output_type": "execute_result"
    }
   ],
   "source": [
    "X_train.shape, y_test.shape"
   ]
  },
  {
   "cell_type": "code",
   "execution_count": 29,
   "metadata": {},
   "outputs": [
    {
     "data": {
      "text/plain": [
       "-0.21574767134405698"
      ]
     },
     "execution_count": 29,
     "metadata": {},
     "output_type": "execute_result"
    }
   ],
   "source": [
    "cross_val_score(lr, X_test_ss, y_test, cv=5).mean()"
   ]
  },
  {
   "cell_type": "markdown",
   "metadata": {},
   "source": [
    "## Reg Model: 0-64, 65+"
   ]
  },
  {
   "cell_type": "code",
   "execution_count": 30,
   "metadata": {},
   "outputs": [],
   "source": [
    "tx_age['sex_age_pop_0_to_64'] = tx_age['sex_age_pop_under_5'] + tx_age['sex_age_pop_5_to_9'] + tx_age['sex_age_pop_10_to_14']\\\n",
    "                                + tx_age['sex_age_pop_15_to_19'] + tx_age['sex_age_pop_20_to_24'] + tx_age['sex_age_pop_25_to_34'] \\\n",
    "                                + tx_age['sex_age_pop_35_to_44'] + tx_age['sex_age_pop_45_to_54'] + tx_age['sex_age_pop_55_to_59'] \\\n",
    "                                + tx_age['sex_age_pop_60_to_64']"
   ]
  },
  {
   "cell_type": "code",
   "execution_count": 31,
   "metadata": {},
   "outputs": [],
   "source": [
    "tx_age['sex_age_pop_65_and_over'] = tx_age['sex_age_pop_65_to_74'] + tx_age['sex_age_pop_75_to_84'] + tx_age['sex_age_pop_85_and_over']"
   ]
  },
  {
   "cell_type": "code",
   "execution_count": 32,
   "metadata": {},
   "outputs": [],
   "source": [
    "# Define a function to create new columns with percentages.\n",
    "def to_percentage(dataframe):\n",
    "    for column in dataframe.columns:\n",
    "        if column.startswith('sex_age_pop_'):\n",
    "            dataframe['percent_' + column] = dataframe[column] / dataframe['sex_age_pop']\n",
    "    return"
   ]
  },
  {
   "cell_type": "code",
   "execution_count": 33,
   "metadata": {},
   "outputs": [],
   "source": [
    "# Apply the function to the numbers dataframe\n",
    "to_percentage(tx_age)"
   ]
  },
  {
   "cell_type": "code",
   "execution_count": 34,
   "metadata": {},
   "outputs": [
    {
     "data": {
      "text/plain": [
       "['total_cases',\n",
       " 'total_fatalities',\n",
       " 'death_rate',\n",
       " 'deaths_per_100_cases',\n",
       " 'sex_age_pop',\n",
       " 'sex_age_pop_male',\n",
       " 'sex_age_pop_female',\n",
       " 'sex_age_pop_under_5',\n",
       " 'sex_age_pop_5_to_9',\n",
       " 'sex_age_pop_10_to_14',\n",
       " 'sex_age_pop_15_to_19',\n",
       " 'sex_age_pop_20_to_24',\n",
       " 'sex_age_pop_25_to_34',\n",
       " 'sex_age_pop_35_to_44',\n",
       " 'sex_age_pop_45_to_54',\n",
       " 'sex_age_pop_55_to_59',\n",
       " 'sex_age_pop_60_to_64',\n",
       " 'sex_age_pop_65_to_74',\n",
       " 'sex_age_pop_75_to_84',\n",
       " 'sex_age_pop_85_and_over',\n",
       " 'pop_density',\n",
       " 'sex_age_median_age_in_years',\n",
       " 'sex_age_pop_0_to_35',\n",
       " 'sex_age_pop_35_to_59',\n",
       " 'sex_age_pop_60_to_84',\n",
       " 'percent_sex_age_pop_male',\n",
       " 'percent_sex_age_pop_female',\n",
       " 'percent_sex_age_pop_under_5',\n",
       " 'percent_sex_age_pop_5_to_9',\n",
       " 'percent_sex_age_pop_10_to_14',\n",
       " 'percent_sex_age_pop_15_to_19',\n",
       " 'percent_sex_age_pop_20_to_24',\n",
       " 'percent_sex_age_pop_25_to_34',\n",
       " 'percent_sex_age_pop_35_to_44',\n",
       " 'percent_sex_age_pop_45_to_54',\n",
       " 'percent_sex_age_pop_55_to_59',\n",
       " 'percent_sex_age_pop_60_to_64',\n",
       " 'percent_sex_age_pop_65_to_74',\n",
       " 'percent_sex_age_pop_75_to_84',\n",
       " 'percent_sex_age_pop_85_and_over',\n",
       " 'percent_sex_age_pop_0_to_35',\n",
       " 'percent_sex_age_pop_35_to_59',\n",
       " 'percent_sex_age_pop_60_to_84',\n",
       " 'sex_age_pop_0_to_44',\n",
       " 'sex_age_pop_45_to_74',\n",
       " 'sex_age_pop_75_and_over',\n",
       " 'percent_sex_age_pop_0_to_44',\n",
       " 'percent_sex_age_pop_45_to_74',\n",
       " 'percent_sex_age_pop_75_and_over',\n",
       " 'sex_age_pop_0_to_64',\n",
       " 'sex_age_pop_65_and_over',\n",
       " 'percent_sex_age_pop_0_to_64',\n",
       " 'percent_sex_age_pop_65_and_over']"
      ]
     },
     "execution_count": 34,
     "metadata": {},
     "output_type": "execute_result"
    }
   ],
   "source": [
    "list(tx_age.columns)"
   ]
  },
  {
   "cell_type": "code",
   "execution_count": 35,
   "metadata": {},
   "outputs": [],
   "source": [
    "X = tx_age[[\n",
    "    'percent_sex_age_pop_0_to_64',\n",
    "    'percent_sex_age_pop_65_and_over'\n",
    "]]\n",
    "\n",
    "y = tx_age['deaths_per_100_cases']\n",
    "\n",
    "X_train, X_test, y_train, y_test = train_test_split(X, y, random_state=42)"
   ]
  },
  {
   "cell_type": "code",
   "execution_count": 36,
   "metadata": {},
   "outputs": [],
   "source": [
    "ss = StandardScaler()\n",
    "X_train_ss = ss.fit_transform(X_train)\n",
    "X_test_ss = ss.transform(X_test)"
   ]
  },
  {
   "cell_type": "code",
   "execution_count": 37,
   "metadata": {},
   "outputs": [
    {
     "data": {
      "text/plain": [
       "LinearRegression()"
      ]
     },
     "execution_count": 37,
     "metadata": {},
     "output_type": "execute_result"
    }
   ],
   "source": [
    "lr = LinearRegression()\n",
    "lr.fit(X_train_ss, y_train)"
   ]
  },
  {
   "cell_type": "code",
   "execution_count": 38,
   "metadata": {},
   "outputs": [
    {
     "data": {
      "text/plain": [
       "((186, 2), (62,))"
      ]
     },
     "execution_count": 38,
     "metadata": {},
     "output_type": "execute_result"
    }
   ],
   "source": [
    "X_train.shape, y_test.shape"
   ]
  },
  {
   "cell_type": "code",
   "execution_count": 39,
   "metadata": {},
   "outputs": [
    {
     "data": {
      "text/plain": [
       "-0.30056078682159215"
      ]
     },
     "execution_count": 39,
     "metadata": {},
     "output_type": "execute_result"
    }
   ],
   "source": [
    "cross_val_score(lr, X_test_ss, y_test, cv=5).mean()"
   ]
  },
  {
   "cell_type": "markdown",
   "metadata": {},
   "source": [
    "## Reg Model: Median Age"
   ]
  },
  {
   "cell_type": "code",
   "execution_count": 40,
   "metadata": {},
   "outputs": [],
   "source": [
    "X = tx_age[[\n",
    "    'sex_age_median_age_in_years',\n",
    "]]\n",
    "\n",
    "y = tx_age['deaths_per_100_cases']\n",
    "\n",
    "X_train, X_test, y_train, y_test = train_test_split(X, y, random_state=42)"
   ]
  },
  {
   "cell_type": "code",
   "execution_count": 41,
   "metadata": {},
   "outputs": [],
   "source": [
    "ss = StandardScaler()\n",
    "X_train_ss = ss.fit_transform(X_train)\n",
    "X_test_ss = ss.transform(X_test)"
   ]
  },
  {
   "cell_type": "code",
   "execution_count": 42,
   "metadata": {},
   "outputs": [
    {
     "data": {
      "text/plain": [
       "LinearRegression()"
      ]
     },
     "execution_count": 42,
     "metadata": {},
     "output_type": "execute_result"
    }
   ],
   "source": [
    "lr = LinearRegression()\n",
    "lr.fit(X_train_ss, y_train)"
   ]
  },
  {
   "cell_type": "code",
   "execution_count": 43,
   "metadata": {},
   "outputs": [
    {
     "data": {
      "text/plain": [
       "((186, 1), (62,))"
      ]
     },
     "execution_count": 43,
     "metadata": {},
     "output_type": "execute_result"
    }
   ],
   "source": [
    "X_train.shape, y_test.shape"
   ]
  },
  {
   "cell_type": "code",
   "execution_count": 44,
   "metadata": {},
   "outputs": [
    {
     "data": {
      "text/plain": [
       "-0.16128864435360749"
      ]
     },
     "execution_count": 44,
     "metadata": {},
     "output_type": "execute_result"
    }
   ],
   "source": [
    "cross_val_score(lr, X_test_ss, y_test, cv=5).mean()"
   ]
  },
  {
   "cell_type": "markdown",
   "metadata": {},
   "source": [
    "# Correlations age"
   ]
  },
  {
   "cell_type": "code",
   "execution_count": 45,
   "metadata": {},
   "outputs": [
    {
     "data": {
      "image/png": "[encoded data removed]",
      "text/plain": [
       "<Figure size 216x2016 with 2 Axes>"
      ]
     },
     "metadata": {
      "needs_background": "light"
     },
     "output_type": "display_data"
    }
   ],
   "source": [
    "# Visualize the correlation between the variables.\n",
    "# Save a correlation table to a variable.\n",
    "corr = tx_age.corr()\n",
    "\n",
    "# Display a correlation chart just for Sale Price.\n",
    "plt.figure(figsize=(3, 28))\n",
    "sns.heatmap(corr[['deaths_per_100_cases']].sort_values(by='deaths_per_100_cases').iloc[:-2], annot=True, cmap = 'coolwarm');"
   ]
  },
  {
   "cell_type": "markdown",
   "metadata": {},
   "source": [
    "# Correlations the whole df"
   ]
  },
  {
   "cell_type": "code",
   "execution_count": 46,
   "metadata": {},
   "outputs": [
    {
     "data": {
      "text/plain": [
       "['total_tests',\n",
       " 'obes_percent',\n",
       " 'total_cases',\n",
       " 'total_fatalities',\n",
       " 'death_rate',\n",
       " 'race_pop',\n",
       " 'race_pop_hispanic_or_latino_of_any_race',\n",
       " 'race_pop_white_alone',\n",
       " 'race_pop_black_or_african_american_alone',\n",
       " 'race_pop_american_indian_and_alaska_native_alone',\n",
       " 'race_pop_asian_alone',\n",
       " 'race_pop_native_hawaiian_and_other_pacific_islander_alone',\n",
       " 'race_pop_some_other_race_alone',\n",
       " 'race_pop_two_or_more_races',\n",
       " 'sex_age_pop',\n",
       " 'sex_age_pop_male',\n",
       " 'sex_age_pop_female',\n",
       " 'sex_age_pop_under_5',\n",
       " 'sex_age_pop_5_to_9',\n",
       " 'sex_age_pop_10_to_14',\n",
       " 'sex_age_pop_15_to_19',\n",
       " 'sex_age_pop_20_to_24',\n",
       " 'sex_age_pop_25_to_34',\n",
       " 'sex_age_pop_35_to_44',\n",
       " 'sex_age_pop_45_to_54',\n",
       " 'sex_age_pop_55_to_59',\n",
       " 'sex_age_pop_60_to_64',\n",
       " 'sex_age_pop_65_to_74',\n",
       " 'sex_age_pop_75_to_84',\n",
       " 'sex_age_pop_85_and_over',\n",
       " 'sex_age_median_age_in_years',\n",
       " 'sq_mi',\n",
       " 'health_ins_noninst_pop',\n",
       " 'health_ins_noninst_pop_cov_yes',\n",
       " 'health_ins_noninst_pop_private',\n",
       " 'health_ins_noninst_pop_public',\n",
       " 'health_ins_noninst_pop_cov_no',\n",
       " 'inc_hhlds',\n",
       " 'inc_hhlds_less_than_10_000',\n",
       " 'inc_hhlds_10_000_to_14_999',\n",
       " 'inc_hhlds_15_000_to_24_999',\n",
       " 'inc_hhlds_25_000_to_34_999',\n",
       " 'inc_hhlds_35_000_to_49_999',\n",
       " 'inc_hhlds_50_000_to_74_999',\n",
       " 'inc_hhlds_75_000_to_99_999',\n",
       " 'inc_hhlds_100_000_to_149_999',\n",
       " 'inc_hhlds_150_000_to_199_999',\n",
       " 'inc_hhlds_200_000_or_more',\n",
       " 'inc_med_hhld_inc_dol',\n",
       " 'inc_mean_hhld_inc_dol',\n",
       " 'inc_per_capita_inc_dol',\n",
       " 'inc_med_earn_workers_dol',\n",
       " 'inc_med_earn_male_full_yr_workers_dol',\n",
       " 'inc_med_earn_female_full_yr_workers_dol',\n",
       " 'pop_density',\n",
       " 'percent_race_pop_hispanic_or_latino_of_any_race',\n",
       " 'percent_race_pop_white_alone',\n",
       " 'percent_race_pop_black_or_african_american_alone',\n",
       " 'percent_race_pop_american_indian_and_alaska_native_alone',\n",
       " 'percent_race_pop_asian_alone',\n",
       " 'percent_race_pop_native_hawaiian_and_other_pacific_islander_alone',\n",
       " 'percent_race_pop_some_other_race_alone',\n",
       " 'percent_race_pop_two_or_more_races',\n",
       " 'percent_sex_age_pop_male',\n",
       " 'percent_sex_age_pop_female',\n",
       " 'percent_sex_age_pop_under_5',\n",
       " 'percent_sex_age_pop_5_to_9',\n",
       " 'percent_sex_age_pop_10_to_14',\n",
       " 'percent_sex_age_pop_15_to_19',\n",
       " 'percent_sex_age_pop_20_to_24',\n",
       " 'percent_sex_age_pop_25_to_34',\n",
       " 'percent_sex_age_pop_35_to_44',\n",
       " 'percent_sex_age_pop_45_to_54',\n",
       " 'percent_sex_age_pop_55_to_59',\n",
       " 'percent_sex_age_pop_60_to_64',\n",
       " 'percent_sex_age_pop_65_to_74',\n",
       " 'percent_sex_age_pop_75_to_84',\n",
       " 'percent_sex_age_pop_85_and_over',\n",
       " 'percent_health_ins_noninst_pop_cov_yes',\n",
       " 'percent_health_ins_noninst_pop_cov_no',\n",
       " 'percent_inc_hhlds_less_than_10_000',\n",
       " 'percent_inc_hhlds_10_000_to_14_999',\n",
       " 'percent_inc_hhlds_15_000_to_24_999',\n",
       " 'percent_inc_hhlds_25_000_to_34_999',\n",
       " 'percent_inc_hhlds_35_000_to_49_999',\n",
       " 'percent_inc_hhlds_50_000_to_74_999',\n",
       " 'percent_inc_hhlds_75_000_to_99_999',\n",
       " 'percent_inc_hhlds_100_000_to_149_999',\n",
       " 'percent_inc_hhlds_150_000_to_199_999',\n",
       " 'percent_inc_hhlds_200_000_or_more',\n",
       " 'deaths_per_100_cases',\n",
       " 'fatalities/population',\n",
       " 'tests/population',\n",
       " 'cases/population']"
      ]
     },
     "execution_count": 46,
     "metadata": {},
     "output_type": "execute_result"
    }
   ],
   "source": [
    "list(tx_df.columns)"
   ]
  },
  {
   "cell_type": "code",
   "execution_count": 47,
   "metadata": {},
   "outputs": [],
   "source": [
    "# Define a function to create new columns with percentages.\n",
    "def to_percentage(dataframe):\n",
    "    \n",
    "    for column in dataframe.columns:\n",
    "        if column.startswith('race_pop_'):\n",
    "            dataframe['percent_' + column] = dataframe[column] / dataframe['race_pop']\n",
    "        \n",
    "        elif column.startswith('sex_age_pop_'):\n",
    "            dataframe['percent_' + column] = dataframe[column] / dataframe['sex_age_pop']\n",
    "            \n",
    "        elif column.startswith('health_ins_noninst_pop_cov'):\n",
    "            dataframe['percent_' + column] = dataframe[column] / dataframe['health_ins_noninst_pop']\n",
    "            \n",
    "        elif column.startswith('inc_hhlds_'):\n",
    "            dataframe['percent_' + column] = dataframe[column] / dataframe['inc_hhlds']\n",
    "    \n",
    "    return"
   ]
  },
  {
   "cell_type": "code",
   "execution_count": 48,
   "metadata": {},
   "outputs": [],
   "source": [
    "to_percentage(tx_df)"
   ]
  },
  {
   "cell_type": "code",
   "execution_count": 49,
   "metadata": {},
   "outputs": [
    {
     "data": {
      "image/png": "[encoded data removed]",
      "text/plain": [
       "<Figure size 216x2880 with 2 Axes>"
      ]
     },
     "metadata": {
      "needs_background": "light"
     },
     "output_type": "display_data"
    }
   ],
   "source": [
    "# Visualize the correlation between the variables.\n",
    "# Save a correlation table to a variable.\n",
    "corr = tx_df.corr()\n",
    "\n",
    "# Display a correlation chart just for Sale Price.\n",
    "plt.figure(figsize=(3, 40))\n",
    "sns.heatmap(corr[['deaths_per_100_cases']].sort_values(by='deaths_per_100_cases').iloc[:-3], annot=True, cmap = 'coolwarm');"
   ]
  },
  {
   "cell_type": "markdown",
   "metadata": {},
   "source": [
    "# Regression Modeling Sex"
   ]
  },
  {
   "cell_type": "code",
   "execution_count": 50,
   "metadata": {},
   "outputs": [
    {
     "data": {
      "text/plain": [
       "['total_tests',\n",
       " 'obes_percent',\n",
       " 'total_cases',\n",
       " 'total_fatalities',\n",
       " 'death_rate',\n",
       " 'race_pop',\n",
       " 'race_pop_hispanic_or_latino_of_any_race',\n",
       " 'race_pop_white_alone',\n",
       " 'race_pop_black_or_african_american_alone',\n",
       " 'race_pop_american_indian_and_alaska_native_alone',\n",
       " 'race_pop_asian_alone',\n",
       " 'race_pop_native_hawaiian_and_other_pacific_islander_alone',\n",
       " 'race_pop_some_other_race_alone',\n",
       " 'race_pop_two_or_more_races',\n",
       " 'sex_age_pop',\n",
       " 'sex_age_pop_male',\n",
       " 'sex_age_pop_female',\n",
       " 'sex_age_pop_under_5',\n",
       " 'sex_age_pop_5_to_9',\n",
       " 'sex_age_pop_10_to_14',\n",
       " 'sex_age_pop_15_to_19',\n",
       " 'sex_age_pop_20_to_24',\n",
       " 'sex_age_pop_25_to_34',\n",
       " 'sex_age_pop_35_to_44',\n",
       " 'sex_age_pop_45_to_54',\n",
       " 'sex_age_pop_55_to_59',\n",
       " 'sex_age_pop_60_to_64',\n",
       " 'sex_age_pop_65_to_74',\n",
       " 'sex_age_pop_75_to_84',\n",
       " 'sex_age_pop_85_and_over',\n",
       " 'sex_age_median_age_in_years',\n",
       " 'sq_mi',\n",
       " 'health_ins_noninst_pop',\n",
       " 'health_ins_noninst_pop_cov_yes',\n",
       " 'health_ins_noninst_pop_private',\n",
       " 'health_ins_noninst_pop_public',\n",
       " 'health_ins_noninst_pop_cov_no',\n",
       " 'inc_hhlds',\n",
       " 'inc_hhlds_less_than_10_000',\n",
       " 'inc_hhlds_10_000_to_14_999',\n",
       " 'inc_hhlds_15_000_to_24_999',\n",
       " 'inc_hhlds_25_000_to_34_999',\n",
       " 'inc_hhlds_35_000_to_49_999',\n",
       " 'inc_hhlds_50_000_to_74_999',\n",
       " 'inc_hhlds_75_000_to_99_999',\n",
       " 'inc_hhlds_100_000_to_149_999',\n",
       " 'inc_hhlds_150_000_to_199_999',\n",
       " 'inc_hhlds_200_000_or_more',\n",
       " 'inc_med_hhld_inc_dol',\n",
       " 'inc_mean_hhld_inc_dol',\n",
       " 'inc_per_capita_inc_dol',\n",
       " 'inc_med_earn_workers_dol',\n",
       " 'inc_med_earn_male_full_yr_workers_dol',\n",
       " 'inc_med_earn_female_full_yr_workers_dol',\n",
       " 'pop_density',\n",
       " 'percent_race_pop_hispanic_or_latino_of_any_race',\n",
       " 'percent_race_pop_white_alone',\n",
       " 'percent_race_pop_black_or_african_american_alone',\n",
       " 'percent_race_pop_american_indian_and_alaska_native_alone',\n",
       " 'percent_race_pop_asian_alone',\n",
       " 'percent_race_pop_native_hawaiian_and_other_pacific_islander_alone',\n",
       " 'percent_race_pop_some_other_race_alone',\n",
       " 'percent_race_pop_two_or_more_races',\n",
       " 'percent_sex_age_pop_male',\n",
       " 'percent_sex_age_pop_female',\n",
       " 'percent_sex_age_pop_under_5',\n",
       " 'percent_sex_age_pop_5_to_9',\n",
       " 'percent_sex_age_pop_10_to_14',\n",
       " 'percent_sex_age_pop_15_to_19',\n",
       " 'percent_sex_age_pop_20_to_24',\n",
       " 'percent_sex_age_pop_25_to_34',\n",
       " 'percent_sex_age_pop_35_to_44',\n",
       " 'percent_sex_age_pop_45_to_54',\n",
       " 'percent_sex_age_pop_55_to_59',\n",
       " 'percent_sex_age_pop_60_to_64',\n",
       " 'percent_sex_age_pop_65_to_74',\n",
       " 'percent_sex_age_pop_75_to_84',\n",
       " 'percent_sex_age_pop_85_and_over',\n",
       " 'percent_health_ins_noninst_pop_cov_yes',\n",
       " 'percent_health_ins_noninst_pop_cov_no',\n",
       " 'percent_inc_hhlds_less_than_10_000',\n",
       " 'percent_inc_hhlds_10_000_to_14_999',\n",
       " 'percent_inc_hhlds_15_000_to_24_999',\n",
       " 'percent_inc_hhlds_25_000_to_34_999',\n",
       " 'percent_inc_hhlds_35_000_to_49_999',\n",
       " 'percent_inc_hhlds_50_000_to_74_999',\n",
       " 'percent_inc_hhlds_75_000_to_99_999',\n",
       " 'percent_inc_hhlds_100_000_to_149_999',\n",
       " 'percent_inc_hhlds_150_000_to_199_999',\n",
       " 'percent_inc_hhlds_200_000_or_more',\n",
       " 'deaths_per_100_cases',\n",
       " 'fatalities/population',\n",
       " 'tests/population',\n",
       " 'cases/population']"
      ]
     },
     "execution_count": 50,
     "metadata": {},
     "output_type": "execute_result"
    }
   ],
   "source": [
    "list(tx_df.columns)"
   ]
  },
  {
   "cell_type": "code",
   "execution_count": 51,
   "metadata": {},
   "outputs": [],
   "source": [
    "# Create a subset of sex demographic columns for modeling.\n",
    "# Extract columns for sex-based model.\n",
    "sex_mod_cols = ['sex_age_pop', 'sex_age_pop_male', 'sex_age_pop_female', 'pop_density', 'death_rate', 'deaths_per_100_cases']"
   ]
  },
  {
   "cell_type": "code",
   "execution_count": 52,
   "metadata": {},
   "outputs": [],
   "source": [
    "# Create a dataframe for age groups\n",
    "tx_sex = tx_df[sex_mod_cols]"
   ]
  },
  {
   "cell_type": "code",
   "execution_count": 53,
   "metadata": {},
   "outputs": [
    {
     "data": {
      "text/html": [
       "<div>\n",
       "<style scoped>\n",
       "    .dataframe tbody tr th:only-of-type {\n",
       "        vertical-align: middle;\n",
       "    }\n",
       "\n",
       "    .dataframe tbody tr th {\n",
       "        vertical-align: top;\n",
       "    }\n",
       "\n",
       "    .dataframe thead th {\n",
       "        text-align: right;\n",
       "    }\n",
       "</style>\n",
       "<table border=\"1\" class=\"dataframe\">\n",
       "  <thead>\n",
       "    <tr style=\"text-align: right;\">\n",
       "      <th></th>\n",
       "      <th>sex_age_pop</th>\n",
       "      <th>sex_age_pop_male</th>\n",
       "      <th>sex_age_pop_female</th>\n",
       "      <th>pop_density</th>\n",
       "      <th>death_rate</th>\n",
       "      <th>deaths_per_100_cases</th>\n",
       "    </tr>\n",
       "    <tr>\n",
       "      <th>county_name</th>\n",
       "      <th></th>\n",
       "      <th></th>\n",
       "      <th></th>\n",
       "      <th></th>\n",
       "      <th></th>\n",
       "      <th></th>\n",
       "    </tr>\n",
       "  </thead>\n",
       "  <tbody>\n",
       "    <tr>\n",
       "      <th>anderson</th>\n",
       "      <td>57863</td>\n",
       "      <td>35412</td>\n",
       "      <td>22451</td>\n",
       "      <td>54.452632</td>\n",
       "      <td>0.013347</td>\n",
       "      <td>1.334702</td>\n",
       "    </tr>\n",
       "    <tr>\n",
       "      <th>andrews</th>\n",
       "      <td>17818</td>\n",
       "      <td>9102</td>\n",
       "      <td>8716</td>\n",
       "      <td>11.872960</td>\n",
       "      <td>0.017637</td>\n",
       "      <td>1.763668</td>\n",
       "    </tr>\n",
       "    <tr>\n",
       "      <th>angelina</th>\n",
       "      <td>87607</td>\n",
       "      <td>42659</td>\n",
       "      <td>44948</td>\n",
       "      <td>109.813207</td>\n",
       "      <td>0.039526</td>\n",
       "      <td>3.952569</td>\n",
       "    </tr>\n",
       "    <tr>\n",
       "      <th>aransas</th>\n",
       "      <td>24763</td>\n",
       "      <td>12026</td>\n",
       "      <td>12737</td>\n",
       "      <td>98.246769</td>\n",
       "      <td>0.052941</td>\n",
       "      <td>5.294118</td>\n",
       "    </tr>\n",
       "    <tr>\n",
       "      <th>archer</th>\n",
       "      <td>8789</td>\n",
       "      <td>4326</td>\n",
       "      <td>4463</td>\n",
       "      <td>9.729998</td>\n",
       "      <td>0.007519</td>\n",
       "      <td>0.751880</td>\n",
       "    </tr>\n",
       "    <tr>\n",
       "      <th>...</th>\n",
       "      <td>...</td>\n",
       "      <td>...</td>\n",
       "      <td>...</td>\n",
       "      <td>...</td>\n",
       "      <td>...</td>\n",
       "      <td>...</td>\n",
       "    </tr>\n",
       "    <tr>\n",
       "      <th>wood</th>\n",
       "      <td>43815</td>\n",
       "      <td>21807</td>\n",
       "      <td>22008</td>\n",
       "      <td>67.904439</td>\n",
       "      <td>0.057971</td>\n",
       "      <td>5.797101</td>\n",
       "    </tr>\n",
       "    <tr>\n",
       "      <th>yoakum</th>\n",
       "      <td>8571</td>\n",
       "      <td>4438</td>\n",
       "      <td>4133</td>\n",
       "      <td>10.717568</td>\n",
       "      <td>0.017301</td>\n",
       "      <td>1.730104</td>\n",
       "    </tr>\n",
       "    <tr>\n",
       "      <th>young</th>\n",
       "      <td>18114</td>\n",
       "      <td>8930</td>\n",
       "      <td>9184</td>\n",
       "      <td>19.807588</td>\n",
       "      <td>0.012072</td>\n",
       "      <td>1.207243</td>\n",
       "    </tr>\n",
       "    <tr>\n",
       "      <th>zapata</th>\n",
       "      <td>14369</td>\n",
       "      <td>7177</td>\n",
       "      <td>7192</td>\n",
       "      <td>14.391854</td>\n",
       "      <td>0.026316</td>\n",
       "      <td>2.631579</td>\n",
       "    </tr>\n",
       "    <tr>\n",
       "      <th>zavala</th>\n",
       "      <td>12131</td>\n",
       "      <td>6208</td>\n",
       "      <td>5923</td>\n",
       "      <td>9.350188</td>\n",
       "      <td>0.039823</td>\n",
       "      <td>3.982301</td>\n",
       "    </tr>\n",
       "  </tbody>\n",
       "</table>\n",
       "<p>248 rows × 6 columns</p>\n",
       "</div>"
      ],
      "text/plain": [
       "             sex_age_pop  sex_age_pop_male  sex_age_pop_female  pop_density  \\\n",
       "county_name                                                                   \n",
       "anderson           57863             35412               22451    54.452632   \n",
       "andrews            17818              9102                8716    11.872960   \n",
       "angelina           87607             42659               44948   109.813207   \n",
       "aransas            24763             12026               12737    98.246769   \n",
       "archer              8789              4326                4463     9.729998   \n",
       "...                  ...               ...                 ...          ...   \n",
       "wood               43815             21807               22008    67.904439   \n",
       "yoakum              8571              4438                4133    10.717568   \n",
       "young              18114              8930                9184    19.807588   \n",
       "zapata             14369              7177                7192    14.391854   \n",
       "zavala             12131              6208                5923     9.350188   \n",
       "\n",
       "             death_rate  deaths_per_100_cases  \n",
       "county_name                                    \n",
       "anderson       0.013347              1.334702  \n",
       "andrews        0.017637              1.763668  \n",
       "angelina       0.039526              3.952569  \n",
       "aransas        0.052941              5.294118  \n",
       "archer         0.007519              0.751880  \n",
       "...                 ...                   ...  \n",
       "wood           0.057971              5.797101  \n",
       "yoakum         0.017301              1.730104  \n",
       "young          0.012072              1.207243  \n",
       "zapata         0.026316              2.631579  \n",
       "zavala         0.039823              3.982301  \n",
       "\n",
       "[248 rows x 6 columns]"
      ]
     },
     "execution_count": 53,
     "metadata": {},
     "output_type": "execute_result"
    }
   ],
   "source": [
    "tx_sex"
   ]
  },
  {
   "cell_type": "code",
   "execution_count": 54,
   "metadata": {},
   "outputs": [],
   "source": [
    "# Define a function to create new columns with percentages.\n",
    "def to_percentage(dataframe):\n",
    "    \n",
    "    for column in dataframe.columns:\n",
    "        if column.startswith('sex_age_pop_'):\n",
    "            dataframe['percent_' + column] = dataframe[column] / dataframe['sex_age_pop']\n",
    "            \n",
    "    return"
   ]
  },
  {
   "cell_type": "code",
   "execution_count": 55,
   "metadata": {},
   "outputs": [],
   "source": [
    "to_percentage(tx_sex)"
   ]
  },
  {
   "cell_type": "code",
   "execution_count": 56,
   "metadata": {},
   "outputs": [
    {
     "data": {
      "text/html": [
       "<div>\n",
       "<style scoped>\n",
       "    .dataframe tbody tr th:only-of-type {\n",
       "        vertical-align: middle;\n",
       "    }\n",
       "\n",
       "    .dataframe tbody tr th {\n",
       "        vertical-align: top;\n",
       "    }\n",
       "\n",
       "    .dataframe thead th {\n",
       "        text-align: right;\n",
       "    }\n",
       "</style>\n",
       "<table border=\"1\" class=\"dataframe\">\n",
       "  <thead>\n",
       "    <tr style=\"text-align: right;\">\n",
       "      <th></th>\n",
       "      <th>sex_age_pop</th>\n",
       "      <th>sex_age_pop_male</th>\n",
       "      <th>sex_age_pop_female</th>\n",
       "      <th>pop_density</th>\n",
       "      <th>death_rate</th>\n",
       "      <th>deaths_per_100_cases</th>\n",
       "      <th>percent_sex_age_pop_male</th>\n",
       "      <th>percent_sex_age_pop_female</th>\n",
       "    </tr>\n",
       "    <tr>\n",
       "      <th>county_name</th>\n",
       "      <th></th>\n",
       "      <th></th>\n",
       "      <th></th>\n",
       "      <th></th>\n",
       "      <th></th>\n",
       "      <th></th>\n",
       "      <th></th>\n",
       "      <th></th>\n",
       "    </tr>\n",
       "  </thead>\n",
       "  <tbody>\n",
       "    <tr>\n",
       "      <th>anderson</th>\n",
       "      <td>57863</td>\n",
       "      <td>35412</td>\n",
       "      <td>22451</td>\n",
       "      <td>54.452632</td>\n",
       "      <td>0.013347</td>\n",
       "      <td>1.334702</td>\n",
       "      <td>0.611997</td>\n",
       "      <td>0.388003</td>\n",
       "    </tr>\n",
       "    <tr>\n",
       "      <th>andrews</th>\n",
       "      <td>17818</td>\n",
       "      <td>9102</td>\n",
       "      <td>8716</td>\n",
       "      <td>11.872960</td>\n",
       "      <td>0.017637</td>\n",
       "      <td>1.763668</td>\n",
       "      <td>0.510832</td>\n",
       "      <td>0.489168</td>\n",
       "    </tr>\n",
       "    <tr>\n",
       "      <th>angelina</th>\n",
       "      <td>87607</td>\n",
       "      <td>42659</td>\n",
       "      <td>44948</td>\n",
       "      <td>109.813207</td>\n",
       "      <td>0.039526</td>\n",
       "      <td>3.952569</td>\n",
       "      <td>0.486936</td>\n",
       "      <td>0.513064</td>\n",
       "    </tr>\n",
       "    <tr>\n",
       "      <th>aransas</th>\n",
       "      <td>24763</td>\n",
       "      <td>12026</td>\n",
       "      <td>12737</td>\n",
       "      <td>98.246769</td>\n",
       "      <td>0.052941</td>\n",
       "      <td>5.294118</td>\n",
       "      <td>0.485644</td>\n",
       "      <td>0.514356</td>\n",
       "    </tr>\n",
       "    <tr>\n",
       "      <th>archer</th>\n",
       "      <td>8789</td>\n",
       "      <td>4326</td>\n",
       "      <td>4463</td>\n",
       "      <td>9.729998</td>\n",
       "      <td>0.007519</td>\n",
       "      <td>0.751880</td>\n",
       "      <td>0.492206</td>\n",
       "      <td>0.507794</td>\n",
       "    </tr>\n",
       "    <tr>\n",
       "      <th>...</th>\n",
       "      <td>...</td>\n",
       "      <td>...</td>\n",
       "      <td>...</td>\n",
       "      <td>...</td>\n",
       "      <td>...</td>\n",
       "      <td>...</td>\n",
       "      <td>...</td>\n",
       "      <td>...</td>\n",
       "    </tr>\n",
       "    <tr>\n",
       "      <th>wood</th>\n",
       "      <td>43815</td>\n",
       "      <td>21807</td>\n",
       "      <td>22008</td>\n",
       "      <td>67.904439</td>\n",
       "      <td>0.057971</td>\n",
       "      <td>5.797101</td>\n",
       "      <td>0.497706</td>\n",
       "      <td>0.502294</td>\n",
       "    </tr>\n",
       "    <tr>\n",
       "      <th>yoakum</th>\n",
       "      <td>8571</td>\n",
       "      <td>4438</td>\n",
       "      <td>4133</td>\n",
       "      <td>10.717568</td>\n",
       "      <td>0.017301</td>\n",
       "      <td>1.730104</td>\n",
       "      <td>0.517793</td>\n",
       "      <td>0.482207</td>\n",
       "    </tr>\n",
       "    <tr>\n",
       "      <th>young</th>\n",
       "      <td>18114</td>\n",
       "      <td>8930</td>\n",
       "      <td>9184</td>\n",
       "      <td>19.807588</td>\n",
       "      <td>0.012072</td>\n",
       "      <td>1.207243</td>\n",
       "      <td>0.492989</td>\n",
       "      <td>0.507011</td>\n",
       "    </tr>\n",
       "    <tr>\n",
       "      <th>zapata</th>\n",
       "      <td>14369</td>\n",
       "      <td>7177</td>\n",
       "      <td>7192</td>\n",
       "      <td>14.391854</td>\n",
       "      <td>0.026316</td>\n",
       "      <td>2.631579</td>\n",
       "      <td>0.499478</td>\n",
       "      <td>0.500522</td>\n",
       "    </tr>\n",
       "    <tr>\n",
       "      <th>zavala</th>\n",
       "      <td>12131</td>\n",
       "      <td>6208</td>\n",
       "      <td>5923</td>\n",
       "      <td>9.350188</td>\n",
       "      <td>0.039823</td>\n",
       "      <td>3.982301</td>\n",
       "      <td>0.511747</td>\n",
       "      <td>0.488253</td>\n",
       "    </tr>\n",
       "  </tbody>\n",
       "</table>\n",
       "<p>248 rows × 8 columns</p>\n",
       "</div>"
      ],
      "text/plain": [
       "             sex_age_pop  sex_age_pop_male  sex_age_pop_female  pop_density  \\\n",
       "county_name                                                                   \n",
       "anderson           57863             35412               22451    54.452632   \n",
       "andrews            17818              9102                8716    11.872960   \n",
       "angelina           87607             42659               44948   109.813207   \n",
       "aransas            24763             12026               12737    98.246769   \n",
       "archer              8789              4326                4463     9.729998   \n",
       "...                  ...               ...                 ...          ...   \n",
       "wood               43815             21807               22008    67.904439   \n",
       "yoakum              8571              4438                4133    10.717568   \n",
       "young              18114              8930                9184    19.807588   \n",
       "zapata             14369              7177                7192    14.391854   \n",
       "zavala             12131              6208                5923     9.350188   \n",
       "\n",
       "             death_rate  deaths_per_100_cases  percent_sex_age_pop_male  \\\n",
       "county_name                                                               \n",
       "anderson       0.013347              1.334702                  0.611997   \n",
       "andrews        0.017637              1.763668                  0.510832   \n",
       "angelina       0.039526              3.952569                  0.486936   \n",
       "aransas        0.052941              5.294118                  0.485644   \n",
       "archer         0.007519              0.751880                  0.492206   \n",
       "...                 ...                   ...                       ...   \n",
       "wood           0.057971              5.797101                  0.497706   \n",
       "yoakum         0.017301              1.730104                  0.517793   \n",
       "young          0.012072              1.207243                  0.492989   \n",
       "zapata         0.026316              2.631579                  0.499478   \n",
       "zavala         0.039823              3.982301                  0.511747   \n",
       "\n",
       "             percent_sex_age_pop_female  \n",
       "county_name                              \n",
       "anderson                       0.388003  \n",
       "andrews                        0.489168  \n",
       "angelina                       0.513064  \n",
       "aransas                        0.514356  \n",
       "archer                         0.507794  \n",
       "...                                 ...  \n",
       "wood                           0.502294  \n",
       "yoakum                         0.482207  \n",
       "young                          0.507011  \n",
       "zapata                         0.500522  \n",
       "zavala                         0.488253  \n",
       "\n",
       "[248 rows x 8 columns]"
      ]
     },
     "execution_count": 56,
     "metadata": {},
     "output_type": "execute_result"
    }
   ],
   "source": [
    "tx_sex"
   ]
  },
  {
   "cell_type": "code",
   "execution_count": 60,
   "metadata": {},
   "outputs": [],
   "source": [
    "X = tx_sex[[\n",
    "    'percent_sex_age_pop_male',\n",
    "    'percent_sex_age_pop_female',\n",
    "    'pop_density'\n",
    "]]\n",
    "\n",
    "y = tx_sex['deaths_per_100_cases']\n",
    "\n",
    "X_train, X_test, y_train, y_test = train_test_split(X, y, random_state=42)"
   ]
  },
  {
   "cell_type": "code",
   "execution_count": 61,
   "metadata": {},
   "outputs": [],
   "source": [
    "ss = StandardScaler()\n",
    "X_train_ss = ss.fit_transform(X_train)\n",
    "X_test_ss = ss.transform(X_test)"
   ]
  },
  {
   "cell_type": "code",
   "execution_count": 62,
   "metadata": {},
   "outputs": [
    {
     "data": {
      "text/plain": [
       "LinearRegression()"
      ]
     },
     "execution_count": 62,
     "metadata": {},
     "output_type": "execute_result"
    }
   ],
   "source": [
    "lr = LinearRegression()\n",
    "lr.fit(X_train_ss, y_train)"
   ]
  },
  {
   "cell_type": "code",
   "execution_count": 63,
   "metadata": {},
   "outputs": [
    {
     "data": {
      "text/plain": [
       "((186, 3), (62,))"
      ]
     },
     "execution_count": 63,
     "metadata": {},
     "output_type": "execute_result"
    }
   ],
   "source": [
    "X_train.shape, y_test.shape"
   ]
  },
  {
   "cell_type": "code",
   "execution_count": 64,
   "metadata": {},
   "outputs": [
    {
     "data": {
      "text/plain": [
       "-0.5019019124645545"
      ]
     },
     "execution_count": 64,
     "metadata": {},
     "output_type": "execute_result"
    }
   ],
   "source": [
    "cross_val_score(lr, X_test_ss, y_test, cv=5).mean()"
   ]
  },
  {
   "cell_type": "code",
   "execution_count": 65,
   "metadata": {},
   "outputs": [
    {
     "data": {
      "text/plain": [
       "0.0"
      ]
     },
     "execution_count": 65,
     "metadata": {},
     "output_type": "execute_result"
    }
   ],
   "source": [
    "y.min()"
   ]
  },
  {
   "cell_type": "code",
   "execution_count": 66,
   "metadata": {},
   "outputs": [
    {
     "data": {
      "text/html": [
       "<div>\n",
       "<style scoped>\n",
       "    .dataframe tbody tr th:only-of-type {\n",
       "        vertical-align: middle;\n",
       "    }\n",
       "\n",
       "    .dataframe tbody tr th {\n",
       "        vertical-align: top;\n",
       "    }\n",
       "\n",
       "    .dataframe thead th {\n",
       "        text-align: right;\n",
       "    }\n",
       "</style>\n",
       "<table border=\"1\" class=\"dataframe\">\n",
       "  <thead>\n",
       "    <tr style=\"text-align: right;\">\n",
       "      <th></th>\n",
       "      <th>sex_age_pop</th>\n",
       "      <th>sex_age_pop_male</th>\n",
       "      <th>sex_age_pop_female</th>\n",
       "      <th>pop_density</th>\n",
       "      <th>death_rate</th>\n",
       "      <th>deaths_per_100_cases</th>\n",
       "      <th>percent_sex_age_pop_male</th>\n",
       "      <th>percent_sex_age_pop_female</th>\n",
       "    </tr>\n",
       "    <tr>\n",
       "      <th>county_name</th>\n",
       "      <th></th>\n",
       "      <th></th>\n",
       "      <th></th>\n",
       "      <th></th>\n",
       "      <th></th>\n",
       "      <th></th>\n",
       "      <th></th>\n",
       "      <th></th>\n",
       "    </tr>\n",
       "  </thead>\n",
       "  <tbody>\n",
       "    <tr>\n",
       "      <th>carson</th>\n",
       "      <td>6032</td>\n",
       "      <td>2820</td>\n",
       "      <td>3212</td>\n",
       "      <td>6.554847</td>\n",
       "      <td>0.000000</td>\n",
       "      <td>0.000000</td>\n",
       "      <td>0.467507</td>\n",
       "      <td>0.532493</td>\n",
       "    </tr>\n",
       "    <tr>\n",
       "      <th>collingsworth</th>\n",
       "      <td>2996</td>\n",
       "      <td>1496</td>\n",
       "      <td>1500</td>\n",
       "      <td>3.262049</td>\n",
       "      <td>0.000000</td>\n",
       "      <td>0.000000</td>\n",
       "      <td>0.499332</td>\n",
       "      <td>0.500668</td>\n",
       "    </tr>\n",
       "    <tr>\n",
       "      <th>shackelford</th>\n",
       "      <td>3311</td>\n",
       "      <td>1770</td>\n",
       "      <td>1541</td>\n",
       "      <td>3.621405</td>\n",
       "      <td>0.000000</td>\n",
       "      <td>0.000000</td>\n",
       "      <td>0.534582</td>\n",
       "      <td>0.465418</td>\n",
       "    </tr>\n",
       "    <tr>\n",
       "      <th>motley</th>\n",
       "      <td>1156</td>\n",
       "      <td>580</td>\n",
       "      <td>576</td>\n",
       "      <td>1.168189</td>\n",
       "      <td>0.000000</td>\n",
       "      <td>0.000000</td>\n",
       "      <td>0.501730</td>\n",
       "      <td>0.498270</td>\n",
       "    </tr>\n",
       "    <tr>\n",
       "      <th>sterling</th>\n",
       "      <td>1141</td>\n",
       "      <td>622</td>\n",
       "      <td>519</td>\n",
       "      <td>1.235585</td>\n",
       "      <td>0.000000</td>\n",
       "      <td>0.000000</td>\n",
       "      <td>0.545136</td>\n",
       "      <td>0.454864</td>\n",
       "    </tr>\n",
       "    <tr>\n",
       "      <th>...</th>\n",
       "      <td>...</td>\n",
       "      <td>...</td>\n",
       "      <td>...</td>\n",
       "      <td>...</td>\n",
       "      <td>...</td>\n",
       "      <td>...</td>\n",
       "      <td>...</td>\n",
       "      <td>...</td>\n",
       "    </tr>\n",
       "    <tr>\n",
       "      <th>sabine</th>\n",
       "      <td>10458</td>\n",
       "      <td>5072</td>\n",
       "      <td>5386</td>\n",
       "      <td>21.268937</td>\n",
       "      <td>0.101124</td>\n",
       "      <td>10.112360</td>\n",
       "      <td>0.484988</td>\n",
       "      <td>0.515012</td>\n",
       "    </tr>\n",
       "    <tr>\n",
       "      <th>upton</th>\n",
       "      <td>3634</td>\n",
       "      <td>1843</td>\n",
       "      <td>1791</td>\n",
       "      <td>2.927522</td>\n",
       "      <td>0.111111</td>\n",
       "      <td>11.111111</td>\n",
       "      <td>0.507155</td>\n",
       "      <td>0.492845</td>\n",
       "    </tr>\n",
       "    <tr>\n",
       "      <th>throckmorton</th>\n",
       "      <td>1567</td>\n",
       "      <td>694</td>\n",
       "      <td>873</td>\n",
       "      <td>1.717162</td>\n",
       "      <td>0.117647</td>\n",
       "      <td>11.764706</td>\n",
       "      <td>0.442884</td>\n",
       "      <td>0.557116</td>\n",
       "    </tr>\n",
       "    <tr>\n",
       "      <th>matagorda</th>\n",
       "      <td>36743</td>\n",
       "      <td>18319</td>\n",
       "      <td>18424</td>\n",
       "      <td>33.619850</td>\n",
       "      <td>0.119376</td>\n",
       "      <td>11.937557</td>\n",
       "      <td>0.498571</td>\n",
       "      <td>0.501429</td>\n",
       "    </tr>\n",
       "    <tr>\n",
       "      <th>ellis</th>\n",
       "      <td>168838</td>\n",
       "      <td>83184</td>\n",
       "      <td>85654</td>\n",
       "      <td>180.448026</td>\n",
       "      <td>0.121143</td>\n",
       "      <td>12.114262</td>\n",
       "      <td>0.492685</td>\n",
       "      <td>0.507315</td>\n",
       "    </tr>\n",
       "  </tbody>\n",
       "</table>\n",
       "<p>248 rows × 8 columns</p>\n",
       "</div>"
      ],
      "text/plain": [
       "               sex_age_pop  sex_age_pop_male  sex_age_pop_female  pop_density  \\\n",
       "county_name                                                                     \n",
       "carson                6032              2820                3212     6.554847   \n",
       "collingsworth         2996              1496                1500     3.262049   \n",
       "shackelford           3311              1770                1541     3.621405   \n",
       "motley                1156               580                 576     1.168189   \n",
       "sterling              1141               622                 519     1.235585   \n",
       "...                    ...               ...                 ...          ...   \n",
       "sabine               10458              5072                5386    21.268937   \n",
       "upton                 3634              1843                1791     2.927522   \n",
       "throckmorton          1567               694                 873     1.717162   \n",
       "matagorda            36743             18319               18424    33.619850   \n",
       "ellis               168838             83184               85654   180.448026   \n",
       "\n",
       "               death_rate  deaths_per_100_cases  percent_sex_age_pop_male  \\\n",
       "county_name                                                                 \n",
       "carson           0.000000              0.000000                  0.467507   \n",
       "collingsworth    0.000000              0.000000                  0.499332   \n",
       "shackelford      0.000000              0.000000                  0.534582   \n",
       "motley           0.000000              0.000000                  0.501730   \n",
       "sterling         0.000000              0.000000                  0.545136   \n",
       "...                   ...                   ...                       ...   \n",
       "sabine           0.101124             10.112360                  0.484988   \n",
       "upton            0.111111             11.111111                  0.507155   \n",
       "throckmorton     0.117647             11.764706                  0.442884   \n",
       "matagorda        0.119376             11.937557                  0.498571   \n",
       "ellis            0.121143             12.114262                  0.492685   \n",
       "\n",
       "               percent_sex_age_pop_female  \n",
       "county_name                                \n",
       "carson                           0.532493  \n",
       "collingsworth                    0.500668  \n",
       "shackelford                      0.465418  \n",
       "motley                           0.498270  \n",
       "sterling                         0.454864  \n",
       "...                                   ...  \n",
       "sabine                           0.515012  \n",
       "upton                            0.492845  \n",
       "throckmorton                     0.557116  \n",
       "matagorda                        0.501429  \n",
       "ellis                            0.507315  \n",
       "\n",
       "[248 rows x 8 columns]"
      ]
     },
     "execution_count": 66,
     "metadata": {},
     "output_type": "execute_result"
    }
   ],
   "source": [
    "tx_sex.sort_values(by='deaths_per_100_cases')"
   ]
  },
  {
   "cell_type": "code",
   "execution_count": null,
   "metadata": {},
   "outputs": [],
   "source": []
  },
  {
   "cell_type": "code",
   "execution_count": null,
   "metadata": {},
   "outputs": [],
   "source": []
  }
 ],
 "metadata": {
  "kernelspec": {
   "display_name": "Python 3",
   "language": "python",
   "name": "python3"
  },
  "language_info": {
   "codemirror_mode": {
    "name": "ipython",
    "version": 3
   },
   "file_extension": ".py",
   "mimetype": "text/x-python",
   "name": "python",
   "nbconvert_exporter": "python",
   "pygments_lexer": "ipython3",
   "version": "3.7.9"
  }
 },
 "nbformat": 4,
 "nbformat_minor": 4
}
