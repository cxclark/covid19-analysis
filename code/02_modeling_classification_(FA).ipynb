{
 "cells": [
  {
   "cell_type": "code",
   "execution_count": 103,
   "metadata": {},
   "outputs": [],
   "source": [
    "import pandas as pd\n",
    "import numpy as np\n",
    "import matplotlib.pyplot as plt\n",
    "import seaborn as sns\n",
    "\n",
    "from sklearn.linear_model import LinearRegression, Lasso, Ridge, ElasticNet, LogisticRegression\n",
    "from sklearn.tree import DecisionTreeRegressor, DecisionTreeClassifier\n",
    "from sklearn.preprocessing import StandardScaler, PolynomialFeatures\n",
    "from sklearn.model_selection import train_test_split, GridSearchCV, cross_val_score\n",
    "from sklearn.pipeline import make_pipeline\n",
    "from sklearn.neighbors import KNeighborsClassifier, KNeighborsRegressor\n",
    "from sklearn.svm import SVC, SVR\n",
    "from sklearn.metrics import mean_squared_error, f1_score, mean_absolute_error, accuracy_score, plot_confusion_matrix, precision_score, recall_score\n",
    "from sklearn import svm\n",
    "from sklearn.ensemble import BaggingRegressor, BaggingClassifier, RandomForestRegressor, RandomForestClassifier, AdaBoostRegressor, AdaBoostClassifier\n",
    "\n",
    "from tensorflow.keras.models import Sequential\n",
    "from tensorflow.keras import layers\n",
    "\n",
    "import warnings\n",
    "warnings.filterwarnings('ignore')"
   ]
  },
  {
   "cell_type": "code",
   "execution_count": 64,
   "metadata": {},
   "outputs": [],
   "source": [
    "df = pd.read_csv('../data/cleaned_engineered_five_states.csv')"
   ]
  },
  {
   "cell_type": "code",
   "execution_count": 65,
   "metadata": {},
   "outputs": [
    {
     "data": {
      "text/plain": [
       "1    228\n",
       "3    158\n",
       "2    157\n",
       "Name: covid_severity, dtype: int64"
      ]
     },
     "execution_count": 65,
     "metadata": {},
     "output_type": "execute_result"
    }
   ],
   "source": [
    "df['covid_severity'] = 0\n",
    "mask1 = df['cases_per_100_people'] < 2\n",
    "mask2 = (df['cases_per_100_people'] >= 2) & (df['cases_per_100_people'] < 3)\n",
    "mask3 = df['cases_per_100_people'] >= 3\n",
    "df['covid_severity'][mask1] = 1\n",
    "df['covid_severity'][mask2] = 2\n",
    "df['covid_severity'][mask3] = 3\n",
    "df['covid_severity'].value_counts()"
   ]
  },
  {
   "cell_type": "code",
   "execution_count": 66,
   "metadata": {},
   "outputs": [
    {
     "data": {
      "text/plain": [
       "0.4198895027624309"
      ]
     },
     "execution_count": 66,
     "metadata": {},
     "output_type": "execute_result"
    }
   ],
   "source": [
    "228/(228+158+157)"
   ]
  },
  {
   "cell_type": "code",
   "execution_count": 68,
   "metadata": {},
   "outputs": [],
   "source": [
    "df.fillna(0, inplace=True)"
   ]
  },
  {
   "cell_type": "code",
   "execution_count": 70,
   "metadata": {},
   "outputs": [
    {
     "data": {
      "text/plain": [
       "['county_state',\n",
       " 'total_cases',\n",
       " 'total_fatalities',\n",
       " 'death_rate',\n",
       " 'total_tests',\n",
       " 'race_pop',\n",
       " 'race_pop_hispanic_or_latino_of_any_race',\n",
       " 'race_pop_white_alone',\n",
       " 'race_pop_black_or_african_american_alone',\n",
       " 'race_pop_american_indian_and_alaska_native_alone',\n",
       " 'race_pop_asian_alone',\n",
       " 'race_pop_native_hawaiian_and_other_pacific_islander_alone',\n",
       " 'race_pop_some_other_race_alone',\n",
       " 'race_pop_two_or_more_races',\n",
       " 'sex_age_pop',\n",
       " 'sex_age_pop_male',\n",
       " 'sex_age_pop_female',\n",
       " 'sex_age_pop_under_5',\n",
       " 'sex_age_pop_5_to_9',\n",
       " 'sex_age_pop_10_to_14',\n",
       " 'sex_age_pop_15_to_19',\n",
       " 'sex_age_pop_20_to_24',\n",
       " 'sex_age_pop_25_to_34',\n",
       " 'sex_age_pop_35_to_44',\n",
       " 'sex_age_pop_45_to_54',\n",
       " 'sex_age_pop_55_to_59',\n",
       " 'sex_age_pop_60_to_64',\n",
       " 'sex_age_pop_65_to_74',\n",
       " 'sex_age_pop_75_to_84',\n",
       " 'sex_age_pop_85_and_over',\n",
       " 'sex_age_median_age_in_years',\n",
       " 'sq_mi',\n",
       " 'obes_percent',\n",
       " 'health_ins_noninst_pop',\n",
       " 'health_ins_noninst_pop_cov_yes',\n",
       " 'health_ins_noninst_pop_private',\n",
       " 'health_ins_noninst_pop_public',\n",
       " 'health_ins_noninst_pop_cov_no',\n",
       " 'inc_hhlds',\n",
       " 'inc_hhlds_less_than_10_000',\n",
       " 'inc_hhlds_10_000_to_14_999',\n",
       " 'inc_hhlds_15_000_to_24_999',\n",
       " 'inc_hhlds_25_000_to_34_999',\n",
       " 'inc_hhlds_35_000_to_49_999',\n",
       " 'inc_hhlds_50_000_to_74_999',\n",
       " 'inc_hhlds_75_000_to_99_999',\n",
       " 'inc_hhlds_100_000_to_149_999',\n",
       " 'inc_hhlds_150_000_to_199_999',\n",
       " 'inc_hhlds_200_000_or_more',\n",
       " 'inc_med_hhld_inc_dol',\n",
       " 'inc_mean_hhld_inc_dol',\n",
       " 'inc_per_capita_inc_dol',\n",
       " 'inc_med_earn_male_full_yr_workers_dol',\n",
       " 'inc_med_earn_female_full_yr_workers_dol',\n",
       " 'deaths_per_100_cases',\n",
       " 'cases_per_100_people',\n",
       " 'tests_per_100_people',\n",
       " 'pop_density',\n",
       " 'covid_severity',\n",
       " 'inc_hhlds_less_than_25_000',\n",
       " 'inc_hhlds_25_000_to_49_999',\n",
       " 'inc_hhlds_less_than_99_999',\n",
       " 'inc_hhlds_100_000_or_more',\n",
       " 'inc_hhlds_less_than_49_999',\n",
       " 'inc_hhlds_50_000_to_99_999',\n",
       " 'race_pop_other',\n",
       " 'race_pop_minority',\n",
       " 'sex_age_pop_0_to_44',\n",
       " 'sex_age_pop_45_to_74',\n",
       " 'sex_age_pop_75_and_over',\n",
       " 'sex_age_pop_0_to_64',\n",
       " 'sex_age_pop_65_and_over',\n",
       " 'sex_age_pop_0_to_35',\n",
       " 'sex_age_pop_35_to_59',\n",
       " 'sex_age_pop_60_to_84',\n",
       " 'percent_race_pop_hispanic_or_latino_of_any_race',\n",
       " 'percent_race_pop_white_alone',\n",
       " 'percent_race_pop_black_or_african_american_alone',\n",
       " 'percent_race_pop_american_indian_and_alaska_native_alone',\n",
       " 'percent_race_pop_asian_alone',\n",
       " 'percent_race_pop_native_hawaiian_and_other_pacific_islander_alone',\n",
       " 'percent_race_pop_some_other_race_alone',\n",
       " 'percent_race_pop_two_or_more_races',\n",
       " 'percent_sex_age_pop_male',\n",
       " 'percent_sex_age_pop_female',\n",
       " 'percent_sex_age_pop_under_5',\n",
       " 'percent_sex_age_pop_5_to_9',\n",
       " 'percent_sex_age_pop_10_to_14',\n",
       " 'percent_sex_age_pop_15_to_19',\n",
       " 'percent_sex_age_pop_20_to_24',\n",
       " 'percent_sex_age_pop_25_to_34',\n",
       " 'percent_sex_age_pop_35_to_44',\n",
       " 'percent_sex_age_pop_45_to_54',\n",
       " 'percent_sex_age_pop_55_to_59',\n",
       " 'percent_sex_age_pop_60_to_64',\n",
       " 'percent_sex_age_pop_65_to_74',\n",
       " 'percent_sex_age_pop_75_to_84',\n",
       " 'percent_sex_age_pop_85_and_over',\n",
       " 'percent_health_ins_noninst_pop_cov_yes',\n",
       " 'percent_health_ins_noninst_pop_cov_no',\n",
       " 'percent_inc_hhlds_less_than_10_000',\n",
       " 'percent_inc_hhlds_10_000_to_14_999',\n",
       " 'percent_inc_hhlds_15_000_to_24_999',\n",
       " 'percent_inc_hhlds_25_000_to_34_999',\n",
       " 'percent_inc_hhlds_35_000_to_49_999',\n",
       " 'percent_inc_hhlds_50_000_to_74_999',\n",
       " 'percent_inc_hhlds_75_000_to_99_999',\n",
       " 'percent_inc_hhlds_100_000_to_149_999',\n",
       " 'percent_inc_hhlds_150_000_to_199_999',\n",
       " 'percent_inc_hhlds_200_000_or_more',\n",
       " 'percent_inc_hhlds_less_than_25_000',\n",
       " 'percent_inc_hhlds_25_000_to_49_999',\n",
       " 'percent_inc_hhlds_less_than_99_999',\n",
       " 'percent_inc_hhlds_100_000_or_more',\n",
       " 'percent_inc_hhlds_less_than_49_999',\n",
       " 'percent_inc_hhlds_50_000_to_99_999',\n",
       " 'percent_race_pop_other',\n",
       " 'percent_race_pop_minority',\n",
       " 'percent_sex_age_pop_0_to_44',\n",
       " 'percent_sex_age_pop_45_to_74',\n",
       " 'percent_sex_age_pop_75_and_over',\n",
       " 'percent_sex_age_pop_0_to_64',\n",
       " 'percent_sex_age_pop_65_and_over',\n",
       " 'percent_sex_age_pop_0_to_35',\n",
       " 'percent_sex_age_pop_35_to_59',\n",
       " 'percent_sex_age_pop_60_to_84']"
      ]
     },
     "execution_count": 70,
     "metadata": {},
     "output_type": "execute_result"
    }
   ],
   "source": [
    "list(df.columns)"
   ]
  },
  {
   "cell_type": "code",
   "execution_count": 168,
   "metadata": {},
   "outputs": [],
   "source": [
    "X = df[['race_pop',\n",
    " 'race_pop_hispanic_or_latino_of_any_race',\n",
    " 'race_pop_white_alone',\n",
    " 'race_pop_black_or_african_american_alone',\n",
    " 'race_pop_american_indian_and_alaska_native_alone',\n",
    " 'race_pop_asian_alone',\n",
    " 'race_pop_native_hawaiian_and_other_pacific_islander_alone',\n",
    " 'race_pop_some_other_race_alone',\n",
    " 'race_pop_two_or_more_races',\n",
    " 'sex_age_pop',\n",
    " 'sex_age_pop_male',\n",
    " 'sex_age_pop_female',\n",
    " 'sex_age_pop_under_5',\n",
    " 'sex_age_pop_5_to_9',\n",
    " 'sex_age_pop_10_to_14',\n",
    " 'sex_age_pop_15_to_19',\n",
    " 'sex_age_pop_20_to_24',\n",
    " 'sex_age_pop_25_to_34',\n",
    " 'sex_age_pop_35_to_44',\n",
    " 'sex_age_pop_45_to_54',\n",
    " 'sex_age_pop_55_to_59',\n",
    " 'sex_age_pop_60_to_64',\n",
    " 'sex_age_pop_65_to_74',\n",
    " 'sex_age_pop_75_to_84',\n",
    " 'sex_age_pop_85_and_over',\n",
    " 'sex_age_median_age_in_years',\n",
    " 'sq_mi',\n",
    " 'obes_percent',\n",
    " 'health_ins_noninst_pop',\n",
    " 'health_ins_noninst_pop_cov_yes',\n",
    " 'health_ins_noninst_pop_private',\n",
    " 'health_ins_noninst_pop_public',\n",
    " 'health_ins_noninst_pop_cov_no',\n",
    " 'inc_hhlds',\n",
    " 'inc_hhlds_less_than_10_000',\n",
    " 'inc_hhlds_10_000_to_14_999',\n",
    " 'inc_hhlds_15_000_to_24_999',\n",
    " 'inc_hhlds_25_000_to_34_999',\n",
    " 'inc_hhlds_35_000_to_49_999',\n",
    " 'inc_hhlds_50_000_to_74_999',\n",
    " 'inc_hhlds_75_000_to_99_999',\n",
    " 'inc_hhlds_100_000_to_149_999',\n",
    " 'inc_hhlds_150_000_to_199_999',\n",
    " 'inc_hhlds_200_000_or_more',\n",
    " 'inc_med_hhld_inc_dol',\n",
    " 'inc_mean_hhld_inc_dol',\n",
    " 'inc_per_capita_inc_dol',\n",
    " 'inc_med_earn_male_full_yr_workers_dol',\n",
    " 'inc_med_earn_female_full_yr_workers_dol',\n",
    " 'tests_per_100_people',\n",
    " 'pop_density',\n",
    " 'inc_hhlds_less_than_25_000',\n",
    " 'inc_hhlds_25_000_to_49_999',\n",
    " 'inc_hhlds_less_than_99_999',\n",
    " 'inc_hhlds_100_000_or_more',\n",
    " 'inc_hhlds_less_than_49_999',\n",
    " 'inc_hhlds_50_000_to_99_999',\n",
    " 'race_pop_other',\n",
    " 'race_pop_minority',\n",
    " 'sex_age_pop_0_to_44',\n",
    " 'sex_age_pop_45_to_74',\n",
    " 'sex_age_pop_75_and_over',\n",
    " 'sex_age_pop_0_to_64',\n",
    " 'sex_age_pop_65_and_over',\n",
    " 'sex_age_pop_0_to_35',\n",
    " 'sex_age_pop_35_to_59',\n",
    " 'sex_age_pop_60_to_84',\n",
    " 'percent_race_pop_hispanic_or_latino_of_any_race',\n",
    " 'percent_race_pop_white_alone',\n",
    " 'percent_race_pop_black_or_african_american_alone',\n",
    " 'percent_race_pop_american_indian_and_alaska_native_alone',\n",
    " 'percent_race_pop_asian_alone',\n",
    " 'percent_race_pop_native_hawaiian_and_other_pacific_islander_alone',\n",
    " 'percent_race_pop_some_other_race_alone',\n",
    " 'percent_race_pop_two_or_more_races',\n",
    " 'percent_sex_age_pop_male',\n",
    " 'percent_sex_age_pop_female',\n",
    " 'percent_sex_age_pop_under_5',\n",
    " 'percent_sex_age_pop_5_to_9',\n",
    " 'percent_sex_age_pop_10_to_14',\n",
    " 'percent_sex_age_pop_15_to_19',\n",
    " 'percent_sex_age_pop_20_to_24',\n",
    " 'percent_sex_age_pop_25_to_34',\n",
    " 'percent_sex_age_pop_35_to_44',\n",
    " 'percent_sex_age_pop_45_to_54',\n",
    " 'percent_sex_age_pop_55_to_59',\n",
    " 'percent_sex_age_pop_60_to_64',\n",
    " 'percent_sex_age_pop_65_to_74',\n",
    " 'percent_sex_age_pop_75_to_84',\n",
    " 'percent_sex_age_pop_85_and_over',\n",
    " 'percent_health_ins_noninst_pop_cov_yes',\n",
    " 'percent_health_ins_noninst_pop_cov_no',\n",
    " 'percent_inc_hhlds_less_than_10_000',\n",
    " 'percent_inc_hhlds_10_000_to_14_999',\n",
    " 'percent_inc_hhlds_15_000_to_24_999',\n",
    " 'percent_inc_hhlds_25_000_to_34_999',\n",
    " 'percent_inc_hhlds_35_000_to_49_999',\n",
    " 'percent_inc_hhlds_50_000_to_74_999',\n",
    " 'percent_inc_hhlds_75_000_to_99_999',\n",
    " 'percent_inc_hhlds_100_000_to_149_999',\n",
    " 'percent_inc_hhlds_150_000_to_199_999',\n",
    " 'percent_inc_hhlds_200_000_or_more',\n",
    " 'percent_inc_hhlds_less_than_25_000',\n",
    " 'percent_inc_hhlds_25_000_to_49_999',\n",
    " 'percent_inc_hhlds_less_than_99_999',\n",
    " 'percent_inc_hhlds_100_000_or_more',\n",
    " 'percent_inc_hhlds_less_than_49_999',\n",
    " 'percent_inc_hhlds_50_000_to_99_999',\n",
    " 'percent_race_pop_other',\n",
    " 'percent_race_pop_minority',\n",
    " 'percent_sex_age_pop_0_to_44',\n",
    " 'percent_sex_age_pop_45_to_74',\n",
    " 'percent_sex_age_pop_75_and_over',\n",
    " 'percent_sex_age_pop_0_to_64',\n",
    " 'percent_sex_age_pop_65_and_over',\n",
    " 'percent_sex_age_pop_0_to_35',\n",
    " 'percent_sex_age_pop_35_to_59',\n",
    " 'percent_sex_age_pop_60_to_84']]\n",
    "\n",
    "y = df['covid_severity']"
   ]
  },
  {
   "cell_type": "code",
   "execution_count": 169,
   "metadata": {},
   "outputs": [],
   "source": [
    "X_train, X_test, y_train, y_test = train_test_split(X, y, random_state=22, stratify=y)"
   ]
  },
  {
   "cell_type": "code",
   "execution_count": 170,
   "metadata": {},
   "outputs": [],
   "source": [
    "ss = StandardScaler()\n",
    "X_train_scaled = ss.fit_transform(X_train)\n",
    "X_test_scaled = ss.transform(X_test)"
   ]
  },
  {
   "cell_type": "code",
   "execution_count": 100,
   "metadata": {},
   "outputs": [],
   "source": [
    "classification_models = [\n",
    "    ['Logistic Regression: ', LogisticRegression()],\n",
    "    ['K Nearest Neighbour: ', KNeighborsClassifier()], \n",
    "    ['Decision Tree: ', DecisionTreeClassifier()], \n",
    "    ['Bagging Classifier: ', BaggingClassifier()],\n",
    "    ['Random Forest Classifier: ', RandomForestClassifier()], \n",
    "    ['Ada Boost Classifier: ', AdaBoostClassifier()], \n",
    "    ['SUpport Vector Classifier: ', SVC()]\n",
    "]"
   ]
  },
  {
   "cell_type": "code",
   "execution_count": 101,
   "metadata": {},
   "outputs": [
    {
     "data": {
      "text/plain": [
       "1.0"
      ]
     },
     "execution_count": 101,
     "metadata": {},
     "output_type": "execute_result"
    }
   ],
   "source": [
    "precision_score(y_test, y_test, average = 'weighted')"
   ]
  },
  {
   "cell_type": "code",
   "execution_count": 102,
   "metadata": {},
   "outputs": [
    {
     "name": "stdout",
     "output_type": "stream",
     "text": [
      "Train score for Logistic Regression:  is 0.7469287469287469\n",
      "Test score for Logistic Regression:  is 0.5735294117647058\n",
      "Precision Score 0.551058201058201\n",
      "Recall Score 0.5456927575348628\n",
      "Accuracy score 0.5735294117647058\n",
      "\n",
      "\n",
      "Train score for K Nearest Neighbour:  is 0.7199017199017199\n",
      "Test score for K Nearest Neighbour:  is 0.5073529411764706\n",
      "Precision Score 0.49158615136876005\n",
      "Recall Score 0.4758771929824561\n",
      "Accuracy score 0.5073529411764706\n",
      "\n",
      "\n",
      "Train score for Decision Tree:  is 1.0\n",
      "Test score for Decision Tree:  is 0.4632352941176471\n",
      "Precision Score 0.4391064871481028\n",
      "Recall Score 0.4449055330634278\n",
      "Accuracy score 0.4632352941176471\n",
      "\n",
      "\n",
      "Train score for Bagging Classifier:  is 0.972972972972973\n",
      "Test score for Bagging Classifier:  is 0.5\n",
      "Precision Score 0.4858938379319606\n",
      "Recall Score 0.4696018893387314\n",
      "Accuracy score 0.5\n",
      "\n",
      "\n",
      "Train score for Random Forest Classifier:  is 1.0\n",
      "Test score for Random Forest Classifier:  is 0.5441176470588235\n",
      "Precision Score 0.4858793324775353\n",
      "Recall Score 0.503621232568601\n",
      "Accuracy score 0.5441176470588235\n",
      "\n",
      "\n",
      "Train score for Ada Boost Classifier:  is 0.7886977886977887\n",
      "Test score for Ada Boost Classifier:  is 0.47794117647058826\n",
      "Precision Score 0.4608440170940171\n",
      "Recall Score 0.4520580296896086\n",
      "Accuracy score 0.47794117647058826\n",
      "\n",
      "\n",
      "Train score for SUpport Vector Classifier:  is 0.6904176904176904\n",
      "Test score for SUpport Vector Classifier:  is 0.5220588235294118\n",
      "Precision Score 0.46262626262626255\n",
      "Recall Score 0.4732231219073324\n",
      "Accuracy score 0.5220588235294118\n",
      "\n",
      "\n"
     ]
    }
   ],
   "source": [
    "precision_scores = []\n",
    "sensitivity_scores = [] \n",
    "accuracy_scores = []\n",
    "\n",
    "for name, model in classification_models:\n",
    "    \n",
    "    model.fit(X_train_scaled, y_train)\n",
    "    train_score = model.score(X_train_scaled, y_train)\n",
    "    test_score = model.score(X_test_scaled, y_test)\n",
    "    preds = model.predict(X_test_scaled)\n",
    "    \n",
    "    print(f'Train score for {name} is {train_score}')\n",
    "    print(f'Test score for {name} is {test_score}')\n",
    "    print('Precision Score', precision_score(y_test, preds, average = 'macro'))\n",
    "    print('Recall Score', recall_score(y_test, preds, average = 'macro'))\n",
    "    print('Accuracy score', accuracy_score(y_test, preds))\n",
    "    \n",
    "    precision_scores.append(precision_score(y_test, preds, average='macro'))\n",
    "    sensitivity_scores.append(recall_score(y_test, preds, average='macro'))\n",
    "    accuracy_scores.append(accuracy_score(y_test, preds))\n",
    "\n",
    "    print('\\n')"
   ]
  },
  {
   "cell_type": "code",
   "execution_count": 63,
   "metadata": {
    "collapsed": true,
    "jupyter": {
     "outputs_hidden": true
    }
   },
   "outputs": [
    {
     "data": {
      "image/png": "[encoded data removed]",
      "text/plain": [
       "<Figure size 432x288 with 2 Axes>"
      ]
     },
     "metadata": {
      "needs_background": "light"
     },
     "output_type": "display_data"
    },
    {
     "data": {
      "image/png": "[encoded data removed]",
      "text/plain": [
       "<Figure size 432x288 with 2 Axes>"
      ]
     },
     "metadata": {
      "needs_background": "light"
     },
     "output_type": "display_data"
    },
    {
     "data": {
      "image/png": "[encoded data removed]",
      "text/plain": [
       "<Figure size 432x288 with 2 Axes>"
      ]
     },
     "metadata": {
      "needs_background": "light"
     },
     "output_type": "display_data"
    },
    {
     "data": {
      "image/png": "[encoded data removed]",
      "text/plain": [
       "<Figure size 432x288 with 2 Axes>"
      ]
     },
     "metadata": {
      "needs_background": "light"
     },
     "output_type": "display_data"
    },
    {
     "data": {
      "image/png": "[encoded data removed]",
      "text/plain": [
       "<Figure size 432x288 with 2 Axes>"
      ]
     },
     "metadata": {
      "needs_background": "light"
     },
     "output_type": "display_data"
    },
    {
     "data": {
      "image/png": "[encoded data removed]",
      "text/plain": [
       "<Figure size 432x288 with 2 Axes>"
      ]
     },
     "metadata": {
      "needs_background": "light"
     },
     "output_type": "display_data"
    },
    {
     "data": {
      "image/png": "[encoded data removed]",
      "text/plain": [
       "<Figure size 432x288 with 2 Axes>"
      ]
     },
     "metadata": {
      "needs_background": "light"
     },
     "output_type": "display_data"
    }
   ],
   "source": [
    "for name, model in classification_models:\n",
    "        \n",
    "    model.fit(X_train_scaled, y_train)\n",
    "    \n",
    "    plot_confusion_matrix(model, \n",
    "                          X_test_scaled,\n",
    "                          y_test, \n",
    "                          display_labels=['1', '2', '3'], \n",
    "                          cmap=plt.cm.Reds )\n",
    "    plt.title(f'{name}')"
   ]
  },
  {
   "cell_type": "code",
   "execution_count": null,
   "metadata": {},
   "outputs": [],
   "source": []
  },
  {
   "cell_type": "code",
   "execution_count": 105,
   "metadata": {},
   "outputs": [
    {
     "data": {
      "text/plain": [
       "(543, 118)"
      ]
     },
     "execution_count": 105,
     "metadata": {},
     "output_type": "execute_result"
    }
   ],
   "source": [
    "X.shape"
   ]
  },
  {
   "cell_type": "code",
   "execution_count": null,
   "metadata": {},
   "outputs": [],
   "source": []
  },
  {
   "cell_type": "markdown",
   "metadata": {},
   "source": [
    "### Neural Network"
   ]
  },
  {
   "cell_type": "code",
   "execution_count": 205,
   "metadata": {},
   "outputs": [],
   "source": [
    "from tensorflow.keras.layers import Dense\n",
    "from tensorflow.keras.utils import to_categorical\n",
    "from tensorflow.keras.callbacks import EarlyStopping"
   ]
  },
  {
   "cell_type": "code",
   "execution_count": 163,
   "metadata": {},
   "outputs": [
    {
     "data": {
      "text/plain": [
       "0      1\n",
       "1      1\n",
       "2      2\n",
       "3      1\n",
       "4      1\n",
       "      ..\n",
       "538    1\n",
       "539    3\n",
       "540    2\n",
       "541    2\n",
       "542    3\n",
       "Name: covid_severity, Length: 543, dtype: int64"
      ]
     },
     "execution_count": 163,
     "metadata": {},
     "output_type": "execute_result"
    }
   ],
   "source": [
    "y"
   ]
  },
  {
   "cell_type": "code",
   "execution_count": 164,
   "metadata": {},
   "outputs": [
    {
     "data": {
      "text/plain": [
       "136    1\n",
       "207    1\n",
       "275    1\n",
       "362    2\n",
       "533    3\n",
       "      ..\n",
       "431    3\n",
       "292    1\n",
       "52     3\n",
       "488    2\n",
       "372    3\n",
       "Name: covid_severity, Length: 407, dtype: int64"
      ]
     },
     "execution_count": 164,
     "metadata": {},
     "output_type": "execute_result"
    }
   ],
   "source": [
    "y_train"
   ]
  },
  {
   "cell_type": "code",
   "execution_count": 171,
   "metadata": {},
   "outputs": [],
   "source": [
    "y_train = to_categorical(y_train)\n",
    "y_train = np.delete(y_train, 0, axis=1)\n",
    "y_test = to_categorical(y_test)\n",
    "y_test = np.delete(y_test, 0, axis=1)"
   ]
  },
  {
   "cell_type": "code",
   "execution_count": 225,
   "metadata": {},
   "outputs": [],
   "source": [
    "model = Sequential()\n",
    "model.add(Dense(64, input_shape = (X_train_scaled.shape[1],), activation='relu'))\n",
    "model.add(Dense(128, activation = 'relu'))\n",
    "model.add(Dense(264, activation = 'relu'))\n",
    "model.add(Dense(64, activation = 'relu'))\n",
    "model.add(Dense(32, activation = 'relu'))\n",
    "model.add(Dense(3, activation = 'softmax'))"
   ]
  },
  {
   "cell_type": "code",
   "execution_count": 226,
   "metadata": {},
   "outputs": [],
   "source": [
    "model.compile(\n",
    "    loss='categorical_crossentropy',\n",
    "    optimizer='adam',\n",
    "    metrics=[['acc']]\n",
    ")"
   ]
  },
  {
   "cell_type": "code",
   "execution_count": 227,
   "metadata": {},
   "outputs": [],
   "source": [
    "callback = EarlyStopping(monitor='val_loss', patience=3)"
   ]
  },
  {
   "cell_type": "code",
   "execution_count": 228,
   "metadata": {},
   "outputs": [],
   "source": [
    "history = model.fit(\n",
    "    X_train_scaled, \n",
    "    y_train,\n",
    "    validation_data=(X_test_scaled, y_test),\n",
    "    epochs=100,\n",
    "    batch_size=265,\n",
    "    verbose=0, \n",
    "    callbacks=callback\n",
    ")"
   ]
  },
  {
   "cell_type": "code",
   "execution_count": 229,
   "metadata": {},
   "outputs": [
    {
     "data": {
      "image/png": "[encoded data removed]",
      "text/plain": [
       "<Figure size 864x576 with 1 Axes>"
      ]
     },
     "metadata": {
      "needs_background": "light"
     },
     "output_type": "display_data"
    }
   ],
   "source": [
    "train_loss = history.history['loss']\n",
    "test_loss = history.history['val_loss']\n",
    "\n",
    "train_acc = history.history['acc']\n",
    "test_acc = history.history['val_acc']\n",
    "\n",
    "\n",
    "\n",
    "plt.figure(figsize=(12, 8))\n",
    "plt.plot(train_loss, label='Training loss', color='navy')\n",
    "plt.plot(test_loss, label='Testing loss', color='skyblue')\n",
    "plt.plot(train_acc, label='Training acc', color='green')\n",
    "plt.plot(test_acc, label='Testing acc', color='red')\n",
    "plt.legend();"
   ]
  },
  {
   "cell_type": "code",
   "execution_count": 224,
   "metadata": {},
   "outputs": [
    {
     "data": {
      "text/plain": [
       "[0.45588234066963196,\n",
       " 0.47058823704719543,\n",
       " 0.4852941036224365,\n",
       " 0.5147058963775635,\n",
       " 0.5220588445663452,\n",
       " 0.5367646813392639,\n",
       " 0.529411792755127,\n",
       " 0.529411792755127,\n",
       " 0.529411792755127,\n",
       " 0.529411792755127,\n",
       " 0.5367646813392639,\n",
       " 0.5367646813392639,\n",
       " 0.5661764740943909,\n",
       " 0.5808823704719543]"
      ]
     },
     "execution_count": 224,
     "metadata": {},
     "output_type": "execute_result"
    }
   ],
   "source": [
    "history.history['val_acc']"
   ]
  },
  {
   "cell_type": "code",
   "execution_count": null,
   "metadata": {},
   "outputs": [],
   "source": []
  }
 ],
 "metadata": {
  "kernelspec": {
   "display_name": "Python 3",
   "language": "python",
   "name": "python3"
  },
  "language_info": {
   "codemirror_mode": {
    "name": "ipython",
    "version": 3
   },
   "file_extension": ".py",
   "mimetype": "text/x-python",
   "name": "python",
   "nbconvert_exporter": "python",
   "pygments_lexer": "ipython3",
   "version": "3.8.3"
  }
 },
 "nbformat": 4,
 "nbformat_minor": 4
}
