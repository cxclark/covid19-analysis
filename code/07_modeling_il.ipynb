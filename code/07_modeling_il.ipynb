{
 "cells": [
  {
   "cell_type": "markdown",
   "metadata": {},
   "source": [
    "# Illinois\n",
    "## Contents\n",
    "- [Imports](#Data-Dictionary)\n",
    "- [Regression Modeling](#Regression-Modeling)  \n",
    "- [Classification Modeling](#Classification-Modeling)  "
   ]
  },
  {
   "cell_type": "markdown",
   "metadata": {},
   "source": [
    "# Imports"
   ]
  },
  {
   "cell_type": "code",
   "execution_count": 25,
   "metadata": {},
   "outputs": [],
   "source": [
    "# Import the required libraries\n",
    "import pandas as pd\n",
    "import matplotlib.pyplot as plt\n",
    "import seaborn as sns\n",
    "import numpy as np\n",
    "plt.style.use('seaborn-whitegrid')\n",
    "\n",
    "import warnings\n",
    "warnings.filterwarnings('ignore')\n",
    "\n",
    "from sklearn.model_selection import train_test_split, GridSearchCV\n",
    "from sklearn.feature_selection import SelectKBest, f_regression\n",
    "from sklearn.pipeline import make_pipeline\n",
    "from sklearn.metrics import mean_squared_error, plot_confusion_matrix\n",
    "\n",
    "from sklearn.linear_model import LinearRegression, Ridge\n",
    "from sklearn.preprocessing import StandardScaler, PolynomialFeatures, PowerTransformer, QuantileTransformer\n",
    "from sklearn.tree import DecisionTreeRegressor\n",
    "from sklearn.linear_model import LogisticRegression\n",
    "from sklearn.decomposition import PCA"
   ]
  },
  {
   "cell_type": "code",
   "execution_count": 26,
   "metadata": {},
   "outputs": [],
   "source": [
    "# Import the data as a dataframe and save to a variable.\n",
    "df = pd.read_csv('../data/cleaned_engineered_il.csv')"
   ]
  },
  {
   "cell_type": "code",
   "execution_count": 27,
   "metadata": {},
   "outputs": [
    {
     "data": {
      "text/html": [
       "<div>\n",
       "<style scoped>\n",
       "    .dataframe tbody tr th:only-of-type {\n",
       "        vertical-align: middle;\n",
       "    }\n",
       "\n",
       "    .dataframe tbody tr th {\n",
       "        vertical-align: top;\n",
       "    }\n",
       "\n",
       "    .dataframe thead th {\n",
       "        text-align: right;\n",
       "    }\n",
       "</style>\n",
       "<table border=\"1\" class=\"dataframe\">\n",
       "  <thead>\n",
       "    <tr style=\"text-align: right;\">\n",
       "      <th></th>\n",
       "      <th>county_state</th>\n",
       "      <th>total_cases</th>\n",
       "      <th>total_fatalities</th>\n",
       "      <th>death_rate</th>\n",
       "      <th>total_tests</th>\n",
       "      <th>race_pop</th>\n",
       "      <th>race_pop_hispanic_or_latino_of_any_race</th>\n",
       "      <th>race_pop_white_alone</th>\n",
       "      <th>race_pop_black_or_african_american_alone</th>\n",
       "      <th>race_pop_american_indian_and_alaska_native_alone</th>\n",
       "      <th>...</th>\n",
       "      <th>percent_race_pop_other</th>\n",
       "      <th>percent_race_pop_minority</th>\n",
       "      <th>percent_sex_age_pop_0_to_44</th>\n",
       "      <th>percent_sex_age_pop_45_to_74</th>\n",
       "      <th>percent_sex_age_pop_75_and_over</th>\n",
       "      <th>percent_sex_age_pop_0_to_64</th>\n",
       "      <th>percent_sex_age_pop_65_and_over</th>\n",
       "      <th>percent_sex_age_pop_0_to_35</th>\n",
       "      <th>percent_sex_age_pop_35_to_59</th>\n",
       "      <th>percent_sex_age_pop_60_to_84</th>\n",
       "    </tr>\n",
       "  </thead>\n",
       "  <tbody>\n",
       "    <tr>\n",
       "      <th>0</th>\n",
       "      <td>Adams County, Illinois</td>\n",
       "      <td>1862.0</td>\n",
       "      <td>19.0</td>\n",
       "      <td>0.010204</td>\n",
       "      <td>38542</td>\n",
       "      <td>66427</td>\n",
       "      <td>1021</td>\n",
       "      <td>61009</td>\n",
       "      <td>2676</td>\n",
       "      <td>178</td>\n",
       "      <td>...</td>\n",
       "      <td>0.017779</td>\n",
       "      <td>0.081563</td>\n",
       "      <td>0.541181</td>\n",
       "      <td>0.364536</td>\n",
       "      <td>0.094284</td>\n",
       "      <td>0.804763</td>\n",
       "      <td>0.195237</td>\n",
       "      <td>0.428967</td>\n",
       "      <td>0.312373</td>\n",
       "      <td>0.230117</td>\n",
       "    </tr>\n",
       "    <tr>\n",
       "      <th>1</th>\n",
       "      <td>Alexander County, Illinois</td>\n",
       "      <td>120.0</td>\n",
       "      <td>1.0</td>\n",
       "      <td>0.008333</td>\n",
       "      <td>2350</td>\n",
       "      <td>6532</td>\n",
       "      <td>73</td>\n",
       "      <td>4063</td>\n",
       "      <td>2169</td>\n",
       "      <td>48</td>\n",
       "      <td>...</td>\n",
       "      <td>0.033833</td>\n",
       "      <td>0.377985</td>\n",
       "      <td>0.518830</td>\n",
       "      <td>0.403858</td>\n",
       "      <td>0.077312</td>\n",
       "      <td>0.796693</td>\n",
       "      <td>0.203307</td>\n",
       "      <td>0.417177</td>\n",
       "      <td>0.307869</td>\n",
       "      <td>0.256124</td>\n",
       "    </tr>\n",
       "  </tbody>\n",
       "</table>\n",
       "<p>2 rows × 127 columns</p>\n",
       "</div>"
      ],
      "text/plain": [
       "                 county_state  total_cases  total_fatalities  death_rate  \\\n",
       "0      Adams County, Illinois       1862.0              19.0    0.010204   \n",
       "1  Alexander County, Illinois        120.0               1.0    0.008333   \n",
       "\n",
       "   total_tests  race_pop  race_pop_hispanic_or_latino_of_any_race  \\\n",
       "0        38542     66427                                     1021   \n",
       "1         2350      6532                                       73   \n",
       "\n",
       "   race_pop_white_alone  race_pop_black_or_african_american_alone  \\\n",
       "0                 61009                                      2676   \n",
       "1                  4063                                      2169   \n",
       "\n",
       "   race_pop_american_indian_and_alaska_native_alone  ...  \\\n",
       "0                                               178  ...   \n",
       "1                                                48  ...   \n",
       "\n",
       "   percent_race_pop_other  percent_race_pop_minority  \\\n",
       "0                0.017779                   0.081563   \n",
       "1                0.033833                   0.377985   \n",
       "\n",
       "   percent_sex_age_pop_0_to_44  percent_sex_age_pop_45_to_74  \\\n",
       "0                     0.541181                      0.364536   \n",
       "1                     0.518830                      0.403858   \n",
       "\n",
       "   percent_sex_age_pop_75_and_over  percent_sex_age_pop_0_to_64  \\\n",
       "0                         0.094284                     0.804763   \n",
       "1                         0.077312                     0.796693   \n",
       "\n",
       "   percent_sex_age_pop_65_and_over  percent_sex_age_pop_0_to_35  \\\n",
       "0                         0.195237                     0.428967   \n",
       "1                         0.203307                     0.417177   \n",
       "\n",
       "   percent_sex_age_pop_35_to_59  percent_sex_age_pop_60_to_84  \n",
       "0                      0.312373                      0.230117  \n",
       "1                      0.307869                      0.256124  \n",
       "\n",
       "[2 rows x 127 columns]"
      ]
     },
     "execution_count": 27,
     "metadata": {},
     "output_type": "execute_result"
    }
   ],
   "source": [
    "# Display the first few rows of the dataframe.\n",
    "df.head(2)"
   ]
  },
  {
   "cell_type": "markdown",
   "metadata": {},
   "source": [
    "# Regression Modeling"
   ]
  },
  {
   "cell_type": "markdown",
   "metadata": {},
   "source": [
    "## Explainable Model: GridSearchCV with Quantile, Ridge: 32%"
   ]
  },
  {
   "cell_type": "code",
   "execution_count": 28,
   "metadata": {},
   "outputs": [],
   "source": [
    "# Assign our features to X and y.\n",
    "X = df[[\n",
    "    'percent_health_ins_noninst_pop_cov_yes',\n",
    "    'percent_inc_hhlds_50_000_to_99_999',\n",
    "    'percent_sex_age_pop_under_5',\n",
    "    'percent_sex_age_pop_5_to_9',\n",
    "    'percent_sex_age_pop_10_to_14',\n",
    "    'percent_sex_age_pop_15_to_19',\n",
    "    'percent_sex_age_pop_20_to_24',\n",
    "    'percent_sex_age_pop_25_to_34',\n",
    "    'percent_race_pop_hispanic_or_latino_of_any_race',\n",
    "    'percent_race_pop_white_alone',\n",
    "    'percent_race_pop_black_or_african_american_alone',\n",
    "    'percent_race_pop_american_indian_and_alaska_native_alone',\n",
    "    'percent_race_pop_asian_alone',\n",
    "    'percent_race_pop_native_hawaiian_and_other_pacific_islander_alone',\n",
    "    'percent_race_pop_some_other_race_alone',\n",
    "    'percent_race_pop_two_or_more_races',\n",
    "    'pop_density',\n",
    "    'tests_per_100_people',    \n",
    "    'obes_percent',\n",
    "]]\n",
    "\n",
    "y = df['cases_per_100_people']\n",
    "\n",
    "# Split X and y into train/test groups.\n",
    "X_train, X_test, y_train, y_test = train_test_split(X, y, random_state=42)"
   ]
  },
  {
   "cell_type": "code",
   "execution_count": 29,
   "metadata": {},
   "outputs": [
    {
     "data": {
      "text/plain": [
       "((76, 19), (26, 19))"
      ]
     },
     "execution_count": 29,
     "metadata": {},
     "output_type": "execute_result"
    }
   ],
   "source": [
    "# Display the shape of the training and test data.\n",
    "X_train.shape, X_test.shape"
   ]
  },
  {
   "cell_type": "code",
   "execution_count": 30,
   "metadata": {},
   "outputs": [],
   "source": [
    "# Create a pipeline.\n",
    "pipe = make_pipeline(QuantileTransformer(), Ridge(max_iter=20_000))\n",
    "\n",
    "# Set parameters for GridSearchCV.\n",
    "params = {\n",
    "    'ridge__alpha': [.1, 1, 10]\n",
    "}\n",
    "\n",
    "# Set up GridSearchCV with the pipe.\n",
    "gs = GridSearchCV(pipe, param_grid=params, scoring='r2', cv=10, n_jobs=-1)"
   ]
  },
  {
   "cell_type": "code",
   "execution_count": 31,
   "metadata": {},
   "outputs": [
    {
     "data": {
      "text/plain": [
       "GridSearchCV(cv=10,\n",
       "             estimator=Pipeline(steps=[('quantiletransformer',\n",
       "                                        QuantileTransformer()),\n",
       "                                       ('ridge', Ridge(max_iter=20000))]),\n",
       "             n_jobs=-1, param_grid={'ridge__alpha': [0.1, 1, 10]},\n",
       "             scoring='r2')"
      ]
     },
     "execution_count": 31,
     "metadata": {},
     "output_type": "execute_result"
    }
   ],
   "source": [
    "# Call fit on the GridSearchCV object and pass the training  data.\n",
    "gs.fit(X_train, y_train)"
   ]
  },
  {
   "cell_type": "code",
   "execution_count": 32,
   "metadata": {},
   "outputs": [
    {
     "data": {
      "text/plain": [
       "{'ridge__alpha': 10}"
      ]
     },
     "execution_count": 32,
     "metadata": {},
     "output_type": "execute_result"
    }
   ],
   "source": [
    "# Display the best parameters.\n",
    "gs.best_params_"
   ]
  },
  {
   "cell_type": "code",
   "execution_count": 33,
   "metadata": {},
   "outputs": [
    {
     "name": "stdout",
     "output_type": "stream",
     "text": [
      "Test R2 Score: 0.3221.\n"
     ]
    }
   ],
   "source": [
    "# Display the score for the test set.\n",
    "print(f'Test R2 Score: {round(gs.score(X_test, y_test), 4)}.')"
   ]
  },
  {
   "cell_type": "code",
   "execution_count": 34,
   "metadata": {},
   "outputs": [
    {
     "name": "stdout",
     "output_type": "stream",
     "text": [
      "Train R2 Score: 0.3274.\n"
     ]
    }
   ],
   "source": [
    "# Display the score for the training set.\n",
    "print(f'Train R2 Score: {round(gs.score(X_train, y_train), 4)}.')"
   ]
  },
  {
   "cell_type": "code",
   "execution_count": 35,
   "metadata": {},
   "outputs": [
    {
     "name": "stdout",
     "output_type": "stream",
     "text": [
      "RMSE of Model:0.4285.\n"
     ]
    }
   ],
   "source": [
    "# Calculate the RMSE for the model.\n",
    "y_preds = gs.predict(X_test)\n",
    "print(f'RMSE of Model:{round(mean_squared_error(y_test, y_preds, squared=False), 4)}.')"
   ]
  },
  {
   "cell_type": "code",
   "execution_count": 36,
   "metadata": {},
   "outputs": [
    {
     "data": {
      "image/png": "[encoded data removed]",
      "text/plain": [
       "<Figure size 576x432 with 1 Axes>"
      ]
     },
     "metadata": {},
     "output_type": "display_data"
    }
   ],
   "source": [
    "# Plot the predicted versus the actual 'cases_per_100_people'.\n",
    "plt.figure(figsize=(8,6))\n",
    "sns.scatterplot(y_preds, y_test)\n",
    "plt.title('Illinois Actual vs. Predicted Cases/100 People', fontsize=16)\n",
    "plt.xlabel('Predicted Cases/100 People', fontsize=14)\n",
    "plt.ylabel('Actual Cases/100 People', fontsize=14);"
   ]
  },
  {
   "cell_type": "code",
   "execution_count": 37,
   "metadata": {},
   "outputs": [],
   "source": [
    "# Extract the features of X.\n",
    "features = X_train.columns"
   ]
  },
  {
   "cell_type": "code",
   "execution_count": 38,
   "metadata": {},
   "outputs": [],
   "source": [
    "# Extract the coefficients for the features used in the best model.\n",
    "coefs = gs.best_estimator_.named_steps['ridge'].coef_"
   ]
  },
  {
   "cell_type": "code",
   "execution_count": 39,
   "metadata": {},
   "outputs": [],
   "source": [
    "# Create a dataframe of the features and their coefficients.\n",
    "coef_df = pd.DataFrame(list(zip(features, coefs)), columns=['Feature', 'Coefficients'])\n",
    "coef_df = coef_df.set_index('Feature')\n",
    "coef_df = coef_df.sort_values(by='Coefficients', ascending=False)"
   ]
  },
  {
   "cell_type": "code",
   "execution_count": 40,
   "metadata": {},
   "outputs": [],
   "source": [
    "# Rename the index.\n",
    "coef_df = coef_df.rename(index={\n",
    "    'inc_per_capita_inc_dol': 'Income Per Capita ($)',\n",
    "    'percent_inc_hhlds_50_000_to_99_999': 'Income: $50-100,000',\n",
    "    'percent_inc_hhlds_less_than_99_999': 'Income: < $100,000',\n",
    "    'percent_inc_hhlds_100_000_or_more': 'Income: > $100,000',\n",
    "    'obes_percent': 'Obesity (%)',\n",
    "    'pop_density': 'Population Density',\n",
    "    'percent_health_ins_noninst_pop_cov_no': 'Health Insurance: None (%)',\n",
    "    'percent_health_ins_noninst_pop_cov_yes': 'Health Insurance: Yes (%)',\n",
    "    'percent_sex_age_pop_male': 'Sex: Male (%)',\n",
    "    'percent_sex_age_pop_under_5': 'Age: Under 5 Yrs (%)',\n",
    "    'percent_sex_age_pop_5_to_9': 'Age: 5-9 Yrs (%)',\n",
    "    'percent_sex_age_pop_10_to_14': 'Age: 10-14 Yrs (%)',\n",
    "    'percent_sex_age_pop_15_to_19': 'Age: 15-19 Yrs (%)',\n",
    "    'percent_sex_age_pop_20_to_24': 'Age: 20-24 Yrs (%)',\n",
    "    'percent_sex_age_pop_25_to_34': 'Age: 25-34 Yrs (%)',\n",
    "    'percent_sex_age_pop_35_to_44': 'Age: 35-44 Yrs (%)',\n",
    "    'percent_sex_age_pop_45_to_74': 'Age: 45-75 Yrs (%)',\n",
    "    'percent_sex_age_pop_75_and_over': 'Age: 75+ Yrs (%)',\n",
    "    'percent_sex_age_pop_0_to_44': 'Age: 0-44 Yrs (%)',\n",
    "    'percent_race_pop_asian_alone': 'Race: Asian (%)',\n",
    "    'percent_race_pop_american_indian_and_alaska_native_alone': 'Race: American Indian/Alaskan (%)',\n",
    "    'percent_race_pop_native_hawaiian_and_other_pacific_islander_alone': 'Race: Pacific Islander (%)',\n",
    "    'percent_race_pop_black_or_african_american_alone': 'Race: Black/African American (%)',\n",
    "    'percent_race_pop_hispanic_or_latino_of_any_race': 'Race: Hispanic/Latino (%)',\n",
    "    'percent_race_pop_two_or_more_races': 'Race: Two or More Races (%)',\n",
    "    'percent_race_pop_some_other_race_alone': 'Race: Other (%)',\n",
    "    'percent_race_pop_white_alone': 'Race: White (%)',\n",
    "    'tests_per_100_people': 'Tests/100 People'\n",
    "})"
   ]
  },
  {
   "cell_type": "code",
   "execution_count": 41,
   "metadata": {},
   "outputs": [
    {
     "data": {
      "image/png": "[encoded data removed]",
      "text/plain": [
       "<Figure size 576x648 with 1 Axes>"
      ]
     },
     "metadata": {},
     "output_type": "display_data"
    }
   ],
   "source": [
    "# Plot the datatframe of the features and their coefficients.\n",
    "coef_df.sort_values(by='Coefficients').plot(kind = 'barh', figsize=(8,9), legend=None)\n",
    "plt.title('Illinois Model Coefficients', fontsize=16)\n",
    "plt.yticks(fontsize=14);"
   ]
  },
  {
   "cell_type": "markdown",
   "metadata": {},
   "source": [
    "### Create a smaller coefficient dataframe"
   ]
  },
  {
   "cell_type": "code",
   "execution_count": 42,
   "metadata": {},
   "outputs": [],
   "source": [
    "coef_neg = coef_df.sort_values(by='Coefficients')[:5]"
   ]
  },
  {
   "cell_type": "code",
   "execution_count": 43,
   "metadata": {},
   "outputs": [],
   "source": [
    "coef_pos = coef_df.sort_values(by='Coefficients', ascending=False)[:5]"
   ]
  },
  {
   "cell_type": "code",
   "execution_count": 44,
   "metadata": {},
   "outputs": [],
   "source": [
    "coef_df = pd.concat([coef_neg, coef_pos]).sort_values(by='Coefficients', ascending=False)"
   ]
  },
  {
   "cell_type": "code",
   "execution_count": 45,
   "metadata": {},
   "outputs": [
    {
     "data": {
      "image/png": "[encoded data removed]",
      "text/plain": [
       "<Figure size 432x432 with 1 Axes>"
      ]
     },
     "metadata": {},
     "output_type": "display_data"
    }
   ],
   "source": [
    "# Plot the datatframe of the features and their coefficients.\n",
    "coef_df.sort_values(by='Coefficients').plot(kind = 'barh', figsize=(6,6), legend=None)\n",
    "plt.title('Illinois Model Coefficients', fontsize=16)\n",
    "plt.yticks(fontsize=14);"
   ]
  },
  {
   "cell_type": "markdown",
   "metadata": {},
   "source": [
    "## Blackbox Model: Quantile, Polynomial, Gridsearch, Ridge: 10%"
   ]
  },
  {
   "cell_type": "code",
   "execution_count": 25,
   "metadata": {},
   "outputs": [],
   "source": [
    "# Assign our features to X and y.\n",
    "X = df[[\n",
    "    'percent_health_ins_noninst_pop_cov_yes',\n",
    "    'percent_sex_age_pop_under_5',\n",
    "    'percent_sex_age_pop_5_to_9',\n",
    "    'percent_sex_age_pop_10_to_14',\n",
    "    'percent_sex_age_pop_15_to_19',\n",
    "    'percent_sex_age_pop_20_to_24',\n",
    "    'percent_sex_age_pop_25_to_34',\n",
    "    'percent_race_pop_hispanic_or_latino_of_any_race',\n",
    "    'percent_race_pop_white_alone',\n",
    "    'percent_race_pop_black_or_african_american_alone',\n",
    "    'percent_race_pop_american_indian_and_alaska_native_alone',\n",
    "    'percent_race_pop_asian_alone',\n",
    "    'percent_race_pop_native_hawaiian_and_other_pacific_islander_alone',\n",
    "    'percent_race_pop_some_other_race_alone',\n",
    "    'percent_race_pop_two_or_more_races',\n",
    "    'pop_density',\n",
    "    'tests_per_100_people',    \n",
    "    'percent_inc_hhlds_50_000_to_99_999',\n",
    "    'obes_percent'\n",
    "]]\n",
    "\n",
    "y = df['cases_per_100_people']\n",
    "\n",
    "# Split X and y into train/test groups.\n",
    "X_train, X_test, y_train, y_test = train_test_split(X, y, random_state=42)"
   ]
  },
  {
   "cell_type": "code",
   "execution_count": 26,
   "metadata": {},
   "outputs": [
    {
     "data": {
      "text/plain": [
       "((76, 19), (26, 19))"
      ]
     },
     "execution_count": 26,
     "metadata": {},
     "output_type": "execute_result"
    }
   ],
   "source": [
    "# Display the shape of the training and test data.\n",
    "X_train.shape, X_test.shape"
   ]
  },
  {
   "cell_type": "code",
   "execution_count": 27,
   "metadata": {},
   "outputs": [],
   "source": [
    "# Create a pipeline.\n",
    "pipe = make_pipeline(QuantileTransformer(), PolynomialFeatures(), SelectKBest(f_regression), Ridge(max_iter=20_000))\n",
    "\n",
    "# Set parameters for GridSearchCV.\n",
    "params = {\n",
    "    'selectkbest__k': range(1,300),\n",
    "    'ridge__alpha': [.1, 1, 10, 20, 30]\n",
    "}\n",
    "\n",
    "# Set up GridSearchCV with the pipe.\n",
    "gs = GridSearchCV(pipe, param_grid=params, scoring='r2', cv=10, n_jobs=-1)"
   ]
  },
  {
   "cell_type": "code",
   "execution_count": 28,
   "metadata": {},
   "outputs": [
    {
     "data": {
      "text/plain": [
       "GridSearchCV(cv=10,\n",
       "             estimator=Pipeline(steps=[('quantiletransformer',\n",
       "                                        QuantileTransformer()),\n",
       "                                       ('polynomialfeatures',\n",
       "                                        PolynomialFeatures()),\n",
       "                                       ('selectkbest',\n",
       "                                        SelectKBest(score_func=<function f_regression at 0x7f66468f6b90>)),\n",
       "                                       ('ridge', Ridge(max_iter=20000))]),\n",
       "             n_jobs=-1,\n",
       "             param_grid={'ridge__alpha': [0.1, 1, 10, 20, 30],\n",
       "                         'selectkbest__k': range(1, 300)},\n",
       "             scoring='r2')"
      ]
     },
     "execution_count": 28,
     "metadata": {},
     "output_type": "execute_result"
    }
   ],
   "source": [
    "# Call fit on the GridSearchCV object and pass the training  data.\n",
    "gs.fit(X_train, y_train)"
   ]
  },
  {
   "cell_type": "code",
   "execution_count": 29,
   "metadata": {},
   "outputs": [
    {
     "data": {
      "text/plain": [
       "{'ridge__alpha': 10, 'selectkbest__k': 4}"
      ]
     },
     "execution_count": 29,
     "metadata": {},
     "output_type": "execute_result"
    }
   ],
   "source": [
    "# Display the best parameters.\n",
    "gs.best_params_"
   ]
  },
  {
   "cell_type": "code",
   "execution_count": 30,
   "metadata": {},
   "outputs": [
    {
     "name": "stdout",
     "output_type": "stream",
     "text": [
      "Test R2 Score: 0.1015.\n"
     ]
    }
   ],
   "source": [
    "# Display the score for the test set.\n",
    "print(f'Test R2 Score: {round(gs.score(X_test, y_test), 4)}.')"
   ]
  },
  {
   "cell_type": "code",
   "execution_count": 31,
   "metadata": {},
   "outputs": [
    {
     "name": "stdout",
     "output_type": "stream",
     "text": [
      "Train R2 Score: 0.2461.\n"
     ]
    }
   ],
   "source": [
    "# Display the score for the training set.\n",
    "print(f'Train R2 Score: {round(gs.score(X_train, y_train), 4)}.')"
   ]
  },
  {
   "cell_type": "code",
   "execution_count": 32,
   "metadata": {},
   "outputs": [
    {
     "name": "stdout",
     "output_type": "stream",
     "text": [
      "RMSE of Model:0.4934.\n"
     ]
    }
   ],
   "source": [
    "# Calculate the RMSE for the model.\n",
    "y_preds = gs.predict(X_test)\n",
    "print(f'RMSE of Model:{round(mean_squared_error(y_test, y_preds, squared=False), 4)}.')"
   ]
  },
  {
   "cell_type": "code",
   "execution_count": 33,
   "metadata": {},
   "outputs": [
    {
     "data": {
      "image/png": "[encoded data removed]",
      "text/plain": [
       "<Figure size 576x432 with 1 Axes>"
      ]
     },
     "metadata": {
      "needs_background": "light"
     },
     "output_type": "display_data"
    }
   ],
   "source": [
    "# Plot the predicted versus the actual 'cases_per_100_people'.\n",
    "plt.figure(figsize=(8,6))\n",
    "sns.scatterplot(y_preds, y_test)\n",
    "plt.title('Illinois Actual vs. Predicted Cases/100 People', fontsize=16)\n",
    "plt.xlabel('Predicted Cases/100 People', fontsize=14)\n",
    "plt.ylabel('Actual Cases/100 People', fontsize=14);"
   ]
  },
  {
   "cell_type": "markdown",
   "metadata": {},
   "source": [
    "# Classification Modeling"
   ]
  },
  {
   "cell_type": "markdown",
   "metadata": {},
   "source": [
    "## Simple(r) Model: GridSearchCV with Classifier: 73% (baseline 54)"
   ]
  },
  {
   "cell_type": "code",
   "execution_count": 34,
   "metadata": {},
   "outputs": [],
   "source": [
    "# Assign our features to X and y.\n",
    "X = df[[\n",
    "    'percent_health_ins_noninst_pop_cov_yes',\n",
    "    'percent_sex_age_pop_under_5',\n",
    "    'percent_sex_age_pop_5_to_9',\n",
    "    'percent_sex_age_pop_10_to_14',\n",
    "    'percent_sex_age_pop_15_to_19',\n",
    "    'percent_sex_age_pop_20_to_24',\n",
    "    'percent_sex_age_pop_25_to_34',\n",
    "    'percent_race_pop_hispanic_or_latino_of_any_race',\n",
    "    'percent_race_pop_white_alone',\n",
    "    'percent_race_pop_black_or_african_american_alone',\n",
    "    'percent_race_pop_american_indian_and_alaska_native_alone',\n",
    "    'percent_race_pop_asian_alone',\n",
    "    'percent_race_pop_native_hawaiian_and_other_pacific_islander_alone',\n",
    "    'percent_race_pop_some_other_race_alone',\n",
    "    'percent_race_pop_two_or_more_races',\n",
    "    'pop_density',\n",
    "    'tests_per_100_people',    \n",
    "    'percent_inc_hhlds_50_000_to_99_999',\n",
    "    'obes_percent',\n",
    "]]\n",
    "\n",
    "y = df['covid_severity']\n",
    "\n",
    "# Split X and y into train/test groups.\n",
    "X_train, X_test, y_train, y_test = train_test_split(X, y, stratify=y, random_state=42)"
   ]
  },
  {
   "cell_type": "code",
   "execution_count": 35,
   "metadata": {},
   "outputs": [
    {
     "data": {
      "text/plain": [
       "((76, 19), (26, 19))"
      ]
     },
     "execution_count": 35,
     "metadata": {},
     "output_type": "execute_result"
    }
   ],
   "source": [
    "# Display the shape of the training and test data.\n",
    "X_train.shape, X_test.shape"
   ]
  },
  {
   "cell_type": "code",
   "execution_count": 36,
   "metadata": {},
   "outputs": [
    {
     "data": {
      "text/plain": [
       "2    0.538462\n",
       "1    0.307692\n",
       "3    0.153846\n",
       "Name: covid_severity, dtype: float64"
      ]
     },
     "execution_count": 36,
     "metadata": {},
     "output_type": "execute_result"
    }
   ],
   "source": [
    "# Display the baseline percentages.\n",
    "y_test.value_counts(normalize=True)"
   ]
  },
  {
   "cell_type": "code",
   "execution_count": 37,
   "metadata": {},
   "outputs": [],
   "source": [
    "# Create a pipeline.\n",
    "pipe = make_pipeline(QuantileTransformer(), SelectKBest(), LogisticRegression())\n",
    "\n",
    "# Set parameters for GridSearchCV.\n",
    "params = {\n",
    "    'selectkbest__k': range(1,21),\n",
    "    'logisticregression__C': [.1, .5, 1, 10]\n",
    "}\n",
    "\n",
    "# Set up GridSearchCV with the pipe.\n",
    "gs = GridSearchCV(pipe, param_grid=params, cv=10, n_jobs=-1)"
   ]
  },
  {
   "cell_type": "code",
   "execution_count": 38,
   "metadata": {},
   "outputs": [
    {
     "data": {
      "text/plain": [
       "GridSearchCV(cv=10,\n",
       "             estimator=Pipeline(steps=[('quantiletransformer',\n",
       "                                        QuantileTransformer()),\n",
       "                                       ('selectkbest', SelectKBest()),\n",
       "                                       ('logisticregression',\n",
       "                                        LogisticRegression())]),\n",
       "             n_jobs=-1,\n",
       "             param_grid={'logisticregression__C': [0.1, 0.5, 1, 10],\n",
       "                         'selectkbest__k': range(1, 21)})"
      ]
     },
     "execution_count": 38,
     "metadata": {},
     "output_type": "execute_result"
    }
   ],
   "source": [
    "# Call fit on the GridSearchCV object and pass the training  data.\n",
    "gs.fit(X_train, y_train)"
   ]
  },
  {
   "cell_type": "code",
   "execution_count": 39,
   "metadata": {},
   "outputs": [
    {
     "data": {
      "text/plain": [
       "{'logisticregression__C': 0.5, 'selectkbest__k': 9}"
      ]
     },
     "execution_count": 39,
     "metadata": {},
     "output_type": "execute_result"
    }
   ],
   "source": [
    "# Display the best parameters.\n",
    "gs.best_params_"
   ]
  },
  {
   "cell_type": "code",
   "execution_count": 40,
   "metadata": {},
   "outputs": [
    {
     "name": "stdout",
     "output_type": "stream",
     "text": [
      "Test Accuracy: 0.7308.\n"
     ]
    }
   ],
   "source": [
    "# Display the score for the test set.\n",
    "print(f'Test Accuracy: {round(gs.score(X_test, y_test), 4)}.')"
   ]
  },
  {
   "cell_type": "code",
   "execution_count": 41,
   "metadata": {},
   "outputs": [
    {
     "name": "stdout",
     "output_type": "stream",
     "text": [
      "Train Accuracy: 0.6711.\n"
     ]
    }
   ],
   "source": [
    "# Display the score for the training set.\n",
    "print(f'Train Accuracy: {round(gs.score(X_train, y_train), 4)}.')"
   ]
  },
  {
   "cell_type": "code",
   "execution_count": 42,
   "metadata": {},
   "outputs": [
    {
     "data": {
      "image/png": "[encoded data removed]",
      "text/plain": [
       "<Figure size 432x288 with 2 Axes>"
      ]
     },
     "metadata": {
      "needs_background": "light"
     },
     "output_type": "display_data"
    }
   ],
   "source": [
    "# Plot a confusion matrix.\n",
    "y_preds = gs.predict(X_test)\n",
    "plot_confusion_matrix(gs, X_test, y_test);"
   ]
  },
  {
   "cell_type": "code",
   "execution_count": 43,
   "metadata": {},
   "outputs": [],
   "source": [
    "# Extract a boolean matrix of features selectkbest used in the best model.\n",
    "features = gs.best_estimator_.named_steps['selectkbest'].get_support()"
   ]
  },
  {
   "cell_type": "code",
   "execution_count": 44,
   "metadata": {},
   "outputs": [],
   "source": [
    "# Overlay the boolean matrix with the features to get the features used.\n",
    "features = X_train.columns[features==True]"
   ]
  },
  {
   "cell_type": "code",
   "execution_count": 45,
   "metadata": {},
   "outputs": [],
   "source": [
    "# Extract the coefficients for the features used in the best model.\n",
    "coefs = gs.best_estimator_.named_steps['logisticregression'].coef_"
   ]
  },
  {
   "cell_type": "code",
   "execution_count": 46,
   "metadata": {},
   "outputs": [],
   "source": [
    "# Extract coefficients for each class and save to a variable.\n",
    "coef1 = coefs[0]\n",
    "coef2 = coefs[1]\n",
    "coef3 = coefs[2]"
   ]
  },
  {
   "cell_type": "code",
   "execution_count": 47,
   "metadata": {},
   "outputs": [
    {
     "data": {
      "text/html": [
       "<div>\n",
       "<style scoped>\n",
       "    .dataframe tbody tr th:only-of-type {\n",
       "        vertical-align: middle;\n",
       "    }\n",
       "\n",
       "    .dataframe tbody tr th {\n",
       "        vertical-align: top;\n",
       "    }\n",
       "\n",
       "    .dataframe thead th {\n",
       "        text-align: right;\n",
       "    }\n",
       "</style>\n",
       "<table border=\"1\" class=\"dataframe\">\n",
       "  <thead>\n",
       "    <tr style=\"text-align: right;\">\n",
       "      <th></th>\n",
       "      <th>Feature</th>\n",
       "      <th>Covid Severity Low</th>\n",
       "    </tr>\n",
       "  </thead>\n",
       "  <tbody>\n",
       "    <tr>\n",
       "      <th>0</th>\n",
       "      <td>percent_sex_age_pop_20_to_24</td>\n",
       "      <td>-0.703966</td>\n",
       "    </tr>\n",
       "    <tr>\n",
       "      <th>1</th>\n",
       "      <td>percent_sex_age_pop_25_to_34</td>\n",
       "      <td>-0.634454</td>\n",
       "    </tr>\n",
       "    <tr>\n",
       "      <th>2</th>\n",
       "      <td>percent_race_pop_hispanic_or_latino_of_any_race</td>\n",
       "      <td>-0.109781</td>\n",
       "    </tr>\n",
       "    <tr>\n",
       "      <th>3</th>\n",
       "      <td>percent_race_pop_white_alone</td>\n",
       "      <td>0.116631</td>\n",
       "    </tr>\n",
       "    <tr>\n",
       "      <th>4</th>\n",
       "      <td>percent_race_pop_black_or_african_american_alone</td>\n",
       "      <td>-0.165603</td>\n",
       "    </tr>\n",
       "    <tr>\n",
       "      <th>5</th>\n",
       "      <td>percent_race_pop_american_indian_and_alaska_na...</td>\n",
       "      <td>-0.848127</td>\n",
       "    </tr>\n",
       "    <tr>\n",
       "      <th>6</th>\n",
       "      <td>percent_race_pop_some_other_race_alone</td>\n",
       "      <td>-0.635831</td>\n",
       "    </tr>\n",
       "    <tr>\n",
       "      <th>7</th>\n",
       "      <td>pop_density</td>\n",
       "      <td>-0.660758</td>\n",
       "    </tr>\n",
       "    <tr>\n",
       "      <th>8</th>\n",
       "      <td>percent_inc_hhlds_50_000_to_99_999</td>\n",
       "      <td>0.612596</td>\n",
       "    </tr>\n",
       "  </tbody>\n",
       "</table>\n",
       "</div>"
      ],
      "text/plain": [
       "                                             Feature  Covid Severity Low\n",
       "0                       percent_sex_age_pop_20_to_24           -0.703966\n",
       "1                       percent_sex_age_pop_25_to_34           -0.634454\n",
       "2    percent_race_pop_hispanic_or_latino_of_any_race           -0.109781\n",
       "3                       percent_race_pop_white_alone            0.116631\n",
       "4   percent_race_pop_black_or_african_american_alone           -0.165603\n",
       "5  percent_race_pop_american_indian_and_alaska_na...           -0.848127\n",
       "6             percent_race_pop_some_other_race_alone           -0.635831\n",
       "7                                        pop_density           -0.660758\n",
       "8                 percent_inc_hhlds_50_000_to_99_999            0.612596"
      ]
     },
     "execution_count": 47,
     "metadata": {},
     "output_type": "execute_result"
    }
   ],
   "source": [
    "pd.DataFrame(list(zip(features, coef1)), columns=['Feature', 'Covid Severity Low'])"
   ]
  },
  {
   "cell_type": "code",
   "execution_count": 48,
   "metadata": {},
   "outputs": [
    {
     "data": {
      "text/html": [
       "<div>\n",
       "<style scoped>\n",
       "    .dataframe tbody tr th:only-of-type {\n",
       "        vertical-align: middle;\n",
       "    }\n",
       "\n",
       "    .dataframe tbody tr th {\n",
       "        vertical-align: top;\n",
       "    }\n",
       "\n",
       "    .dataframe thead th {\n",
       "        text-align: right;\n",
       "    }\n",
       "</style>\n",
       "<table border=\"1\" class=\"dataframe\">\n",
       "  <thead>\n",
       "    <tr style=\"text-align: right;\">\n",
       "      <th></th>\n",
       "      <th>Feature</th>\n",
       "      <th>Covid Severity Medium</th>\n",
       "    </tr>\n",
       "  </thead>\n",
       "  <tbody>\n",
       "    <tr>\n",
       "      <th>0</th>\n",
       "      <td>percent_sex_age_pop_20_to_24</td>\n",
       "      <td>0.566736</td>\n",
       "    </tr>\n",
       "    <tr>\n",
       "      <th>1</th>\n",
       "      <td>percent_sex_age_pop_25_to_34</td>\n",
       "      <td>-0.076349</td>\n",
       "    </tr>\n",
       "    <tr>\n",
       "      <th>2</th>\n",
       "      <td>percent_race_pop_hispanic_or_latino_of_any_race</td>\n",
       "      <td>-0.298248</td>\n",
       "    </tr>\n",
       "    <tr>\n",
       "      <th>3</th>\n",
       "      <td>percent_race_pop_white_alone</td>\n",
       "      <td>0.192909</td>\n",
       "    </tr>\n",
       "    <tr>\n",
       "      <th>4</th>\n",
       "      <td>percent_race_pop_black_or_african_american_alone</td>\n",
       "      <td>-0.014821</td>\n",
       "    </tr>\n",
       "    <tr>\n",
       "      <th>5</th>\n",
       "      <td>percent_race_pop_american_indian_and_alaska_na...</td>\n",
       "      <td>0.564291</td>\n",
       "    </tr>\n",
       "    <tr>\n",
       "      <th>6</th>\n",
       "      <td>percent_race_pop_some_other_race_alone</td>\n",
       "      <td>0.539686</td>\n",
       "    </tr>\n",
       "    <tr>\n",
       "      <th>7</th>\n",
       "      <td>pop_density</td>\n",
       "      <td>0.445587</td>\n",
       "    </tr>\n",
       "    <tr>\n",
       "      <th>8</th>\n",
       "      <td>percent_inc_hhlds_50_000_to_99_999</td>\n",
       "      <td>-0.401640</td>\n",
       "    </tr>\n",
       "  </tbody>\n",
       "</table>\n",
       "</div>"
      ],
      "text/plain": [
       "                                             Feature  Covid Severity Medium\n",
       "0                       percent_sex_age_pop_20_to_24               0.566736\n",
       "1                       percent_sex_age_pop_25_to_34              -0.076349\n",
       "2    percent_race_pop_hispanic_or_latino_of_any_race              -0.298248\n",
       "3                       percent_race_pop_white_alone               0.192909\n",
       "4   percent_race_pop_black_or_african_american_alone              -0.014821\n",
       "5  percent_race_pop_american_indian_and_alaska_na...               0.564291\n",
       "6             percent_race_pop_some_other_race_alone               0.539686\n",
       "7                                        pop_density               0.445587\n",
       "8                 percent_inc_hhlds_50_000_to_99_999              -0.401640"
      ]
     },
     "execution_count": 48,
     "metadata": {},
     "output_type": "execute_result"
    }
   ],
   "source": [
    "pd.DataFrame(list(zip(features, coef2)), columns=['Feature', 'Covid Severity Medium'])"
   ]
  },
  {
   "cell_type": "code",
   "execution_count": 49,
   "metadata": {},
   "outputs": [
    {
     "data": {
      "text/html": [
       "<div>\n",
       "<style scoped>\n",
       "    .dataframe tbody tr th:only-of-type {\n",
       "        vertical-align: middle;\n",
       "    }\n",
       "\n",
       "    .dataframe tbody tr th {\n",
       "        vertical-align: top;\n",
       "    }\n",
       "\n",
       "    .dataframe thead th {\n",
       "        text-align: right;\n",
       "    }\n",
       "</style>\n",
       "<table border=\"1\" class=\"dataframe\">\n",
       "  <thead>\n",
       "    <tr style=\"text-align: right;\">\n",
       "      <th></th>\n",
       "      <th>Feature</th>\n",
       "      <th>Covid Severity High</th>\n",
       "    </tr>\n",
       "  </thead>\n",
       "  <tbody>\n",
       "    <tr>\n",
       "      <th>0</th>\n",
       "      <td>percent_sex_age_pop_20_to_24</td>\n",
       "      <td>0.137231</td>\n",
       "    </tr>\n",
       "    <tr>\n",
       "      <th>1</th>\n",
       "      <td>percent_sex_age_pop_25_to_34</td>\n",
       "      <td>0.710804</td>\n",
       "    </tr>\n",
       "    <tr>\n",
       "      <th>2</th>\n",
       "      <td>percent_race_pop_hispanic_or_latino_of_any_race</td>\n",
       "      <td>0.408029</td>\n",
       "    </tr>\n",
       "    <tr>\n",
       "      <th>3</th>\n",
       "      <td>percent_race_pop_white_alone</td>\n",
       "      <td>-0.309540</td>\n",
       "    </tr>\n",
       "    <tr>\n",
       "      <th>4</th>\n",
       "      <td>percent_race_pop_black_or_african_american_alone</td>\n",
       "      <td>0.180423</td>\n",
       "    </tr>\n",
       "    <tr>\n",
       "      <th>5</th>\n",
       "      <td>percent_race_pop_american_indian_and_alaska_na...</td>\n",
       "      <td>0.283836</td>\n",
       "    </tr>\n",
       "    <tr>\n",
       "      <th>6</th>\n",
       "      <td>percent_race_pop_some_other_race_alone</td>\n",
       "      <td>0.096144</td>\n",
       "    </tr>\n",
       "    <tr>\n",
       "      <th>7</th>\n",
       "      <td>pop_density</td>\n",
       "      <td>0.215171</td>\n",
       "    </tr>\n",
       "    <tr>\n",
       "      <th>8</th>\n",
       "      <td>percent_inc_hhlds_50_000_to_99_999</td>\n",
       "      <td>-0.210956</td>\n",
       "    </tr>\n",
       "  </tbody>\n",
       "</table>\n",
       "</div>"
      ],
      "text/plain": [
       "                                             Feature  Covid Severity High\n",
       "0                       percent_sex_age_pop_20_to_24             0.137231\n",
       "1                       percent_sex_age_pop_25_to_34             0.710804\n",
       "2    percent_race_pop_hispanic_or_latino_of_any_race             0.408029\n",
       "3                       percent_race_pop_white_alone            -0.309540\n",
       "4   percent_race_pop_black_or_african_american_alone             0.180423\n",
       "5  percent_race_pop_american_indian_and_alaska_na...             0.283836\n",
       "6             percent_race_pop_some_other_race_alone             0.096144\n",
       "7                                        pop_density             0.215171\n",
       "8                 percent_inc_hhlds_50_000_to_99_999            -0.210956"
      ]
     },
     "execution_count": 49,
     "metadata": {},
     "output_type": "execute_result"
    }
   ],
   "source": [
    "pd.DataFrame(list(zip(features, coef3)), columns=['Feature', 'Covid Severity High'])"
   ]
  },
  {
   "cell_type": "markdown",
   "metadata": {},
   "source": [
    "## Blackbox Model: Quantile, Polynomial, Gridsearch, Classifier: 65% (baseline 54)"
   ]
  },
  {
   "cell_type": "code",
   "execution_count": 51,
   "metadata": {},
   "outputs": [],
   "source": [
    "# Assign our features to X and y.\n",
    "X = df[[\n",
    "    'percent_health_ins_noninst_pop_cov_yes',\n",
    "    'percent_sex_age_pop_under_5',\n",
    "    'percent_sex_age_pop_5_to_9',\n",
    "    'percent_sex_age_pop_10_to_14',\n",
    "    'percent_sex_age_pop_15_to_19',\n",
    "    'percent_sex_age_pop_20_to_24',\n",
    "    'percent_sex_age_pop_25_to_34',\n",
    "    'percent_race_pop_hispanic_or_latino_of_any_race',\n",
    "    'percent_race_pop_white_alone',\n",
    "    'percent_race_pop_black_or_african_american_alone',\n",
    "    'percent_race_pop_american_indian_and_alaska_native_alone',\n",
    "    'percent_race_pop_asian_alone',\n",
    "    'percent_race_pop_native_hawaiian_and_other_pacific_islander_alone',\n",
    "    'percent_race_pop_some_other_race_alone',\n",
    "    'percent_race_pop_two_or_more_races',\n",
    "    'pop_density',\n",
    "    'tests_per_100_people',    \n",
    "    'percent_inc_hhlds_50_000_to_99_999',\n",
    "    'obes_percent',\n",
    "]]\n",
    "\n",
    "y = df['covid_severity']\n",
    "\n",
    "# Split X and y into train/test groups.\n",
    "X_train, X_test, y_train, y_test = train_test_split(X, y, stratify=y, random_state=42)"
   ]
  },
  {
   "cell_type": "code",
   "execution_count": 52,
   "metadata": {},
   "outputs": [
    {
     "data": {
      "text/plain": [
       "((76, 19), (26, 19))"
      ]
     },
     "execution_count": 52,
     "metadata": {},
     "output_type": "execute_result"
    }
   ],
   "source": [
    "# Display the shape of the training and test data.\n",
    "X_train.shape, X_test.shape"
   ]
  },
  {
   "cell_type": "code",
   "execution_count": 53,
   "metadata": {},
   "outputs": [
    {
     "data": {
      "text/plain": [
       "2    0.538462\n",
       "1    0.307692\n",
       "3    0.153846\n",
       "Name: covid_severity, dtype: float64"
      ]
     },
     "execution_count": 53,
     "metadata": {},
     "output_type": "execute_result"
    }
   ],
   "source": [
    "# Display the baseline percentages.\n",
    "y_test.value_counts(normalize=True)"
   ]
  },
  {
   "cell_type": "code",
   "execution_count": 54,
   "metadata": {},
   "outputs": [],
   "source": [
    "# Create a pipeline.\n",
    "pipe = make_pipeline(QuantileTransformer(), PolynomialFeatures(), SelectKBest(), LogisticRegression())\n",
    "\n",
    "# Set parameters for GridSearchCV.\n",
    "params = {\n",
    "    'selectkbest__k': range(1,300),\n",
    "    'logisticregression__C': [.1, .5, 1, 10]\n",
    "}\n",
    "\n",
    "# Set up GridSearchCV with the pipe.\n",
    "gs = GridSearchCV(pipe, param_grid=params, cv=10, n_jobs=-1)"
   ]
  },
  {
   "cell_type": "code",
   "execution_count": 55,
   "metadata": {},
   "outputs": [
    {
     "data": {
      "text/plain": [
       "GridSearchCV(cv=10,\n",
       "             estimator=Pipeline(steps=[('quantiletransformer',\n",
       "                                        QuantileTransformer()),\n",
       "                                       ('polynomialfeatures',\n",
       "                                        PolynomialFeatures()),\n",
       "                                       ('selectkbest', SelectKBest()),\n",
       "                                       ('logisticregression',\n",
       "                                        LogisticRegression())]),\n",
       "             n_jobs=-1,\n",
       "             param_grid={'logisticregression__C': [0.1, 0.5, 1, 10],\n",
       "                         'selectkbest__k': range(1, 300)})"
      ]
     },
     "execution_count": 55,
     "metadata": {},
     "output_type": "execute_result"
    }
   ],
   "source": [
    "# Call fit on the GridSearchCV object and pass the training  data.\n",
    "gs.fit(X_train, y_train)"
   ]
  },
  {
   "cell_type": "code",
   "execution_count": 57,
   "metadata": {},
   "outputs": [
    {
     "data": {
      "text/plain": [
       "{'logisticregression__C': 10, 'selectkbest__k': 5}"
      ]
     },
     "execution_count": 57,
     "metadata": {},
     "output_type": "execute_result"
    }
   ],
   "source": [
    "# Display the best parameters.\n",
    "gs.best_params_"
   ]
  },
  {
   "cell_type": "code",
   "execution_count": 58,
   "metadata": {},
   "outputs": [
    {
     "name": "stdout",
     "output_type": "stream",
     "text": [
      "Test Accuracy: 0.6538.\n"
     ]
    }
   ],
   "source": [
    "# Display the score for the test set.\n",
    "print(f'Test Accuracy: {round(gs.score(X_test, y_test), 4)}.')"
   ]
  },
  {
   "cell_type": "code",
   "execution_count": 59,
   "metadata": {},
   "outputs": [
    {
     "name": "stdout",
     "output_type": "stream",
     "text": [
      "Train Accuracy: 0.7105.\n"
     ]
    }
   ],
   "source": [
    "# Display the score for the training set.\n",
    "print(f'Train Accuracy: {round(gs.score(X_train, y_train), 4)}.')"
   ]
  },
  {
   "cell_type": "code",
   "execution_count": 60,
   "metadata": {},
   "outputs": [
    {
     "data": {
      "image/png": "[encoded data removed]",
      "text/plain": [
       "<Figure size 432x288 with 2 Axes>"
      ]
     },
     "metadata": {
      "needs_background": "light"
     },
     "output_type": "display_data"
    }
   ],
   "source": [
    "# Plot a confusion matrix.\n",
    "y_preds = gs.predict(X_test)\n",
    "plot_confusion_matrix(gs, X_test, y_test);"
   ]
  }
 ],
 "metadata": {
  "kernelspec": {
   "display_name": "Python 3",
   "language": "python",
   "name": "python3"
  },
  "language_info": {
   "codemirror_mode": {
    "name": "ipython",
    "version": 3
   },
   "file_extension": ".py",
   "mimetype": "text/x-python",
   "name": "python",
   "nbconvert_exporter": "python",
   "pygments_lexer": "ipython3",
   "version": "3.7.9"
  }
 },
 "nbformat": 4,
 "nbformat_minor": 4
}
