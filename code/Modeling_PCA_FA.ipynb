{
 "cells": [
  {
   "cell_type": "code",
   "execution_count": 28,
   "metadata": {},
   "outputs": [],
   "source": [
    "import pandas as pd\n",
    "import numpy as np\n",
    "import matplotlib.pyplot as plt\n",
    "import seaborn as sns\n",
    "\n",
    "# Import from sklearn.\n",
    "from sklearn.model_selection import train_test_split, cross_val_score\n",
    "from sklearn.linear_model import LinearRegression\n",
    "from sklearn.preprocessing import PolynomialFeatures, StandardScaler\n",
    "from sklearn.decomposition import PCA\n",
    "\n",
    "import warnings\n",
    "warnings.filterwarnings('ignore')"
   ]
  },
  {
   "cell_type": "code",
   "execution_count": 2,
   "metadata": {},
   "outputs": [],
   "source": [
    "california = pd.read_csv('../data/cleaned_engineered_ca.csv')"
   ]
  },
  {
   "cell_type": "code",
   "execution_count": 3,
   "metadata": {},
   "outputs": [
    {
     "data": {
      "text/plain": [
       "['county_state',\n",
       " 'total_cases',\n",
       " 'total_fatalities',\n",
       " 'death_rate',\n",
       " 'total_tests',\n",
       " 'race_pop',\n",
       " 'race_pop_hispanic_or_latino_of_any_race',\n",
       " 'race_pop_white_alone',\n",
       " 'race_pop_black_or_african_american_alone',\n",
       " 'race_pop_american_indian_and_alaska_native_alone',\n",
       " 'race_pop_asian_alone',\n",
       " 'race_pop_native_hawaiian_and_other_pacific_islander_alone',\n",
       " 'race_pop_some_other_race_alone',\n",
       " 'race_pop_two_or_more_races',\n",
       " 'sex_age_pop',\n",
       " 'sex_age_pop_male',\n",
       " 'sex_age_pop_female',\n",
       " 'sex_age_pop_under_5',\n",
       " 'sex_age_pop_5_to_9',\n",
       " 'sex_age_pop_10_to_14',\n",
       " 'sex_age_pop_15_to_19',\n",
       " 'sex_age_pop_20_to_24',\n",
       " 'sex_age_pop_25_to_34',\n",
       " 'sex_age_pop_35_to_44',\n",
       " 'sex_age_pop_45_to_54',\n",
       " 'sex_age_pop_55_to_59',\n",
       " 'sex_age_pop_60_to_64',\n",
       " 'sex_age_pop_65_to_74',\n",
       " 'sex_age_pop_75_to_84',\n",
       " 'sex_age_pop_85_and_over',\n",
       " 'sex_age_median_age_in_years',\n",
       " 'sq_mi',\n",
       " 'obes_percent',\n",
       " 'health_ins_noninst_pop',\n",
       " 'health_ins_noninst_pop_cov_yes',\n",
       " 'health_ins_noninst_pop_private',\n",
       " 'health_ins_noninst_pop_public',\n",
       " 'health_ins_noninst_pop_cov_no',\n",
       " 'inc_hhlds',\n",
       " 'inc_hhlds_less_than_10_000',\n",
       " 'inc_hhlds_10_000_to_14_999',\n",
       " 'inc_hhlds_15_000_to_24_999',\n",
       " 'inc_hhlds_25_000_to_34_999',\n",
       " 'inc_hhlds_35_000_to_49_999',\n",
       " 'inc_hhlds_50_000_to_74_999',\n",
       " 'inc_hhlds_75_000_to_99_999',\n",
       " 'inc_hhlds_100_000_to_149_999',\n",
       " 'inc_hhlds_150_000_to_199_999',\n",
       " 'inc_hhlds_200_000_or_more',\n",
       " 'inc_med_hhld_inc_dol',\n",
       " 'inc_mean_hhld_inc_dol',\n",
       " 'inc_per_capita_inc_dol',\n",
       " 'inc_med_earn_male_full_yr_workers_dol',\n",
       " 'inc_med_earn_female_full_yr_workers_dol',\n",
       " 'deaths_per_100_cases',\n",
       " 'cases_per_100_people',\n",
       " 'tests_per_100_people',\n",
       " 'pop_density',\n",
       " 'covid_severity',\n",
       " 'inc_hhlds_less_than_25_000',\n",
       " 'inc_hhlds_25_000_to_49_999',\n",
       " 'inc_hhlds_less_than_99_999',\n",
       " 'inc_hhlds_100_000_or_more',\n",
       " 'inc_hhlds_less_than_49_999',\n",
       " 'inc_hhlds_50_000_to_99_999',\n",
       " 'race_pop_other',\n",
       " 'race_pop_minority',\n",
       " 'sex_age_pop_0_to_44',\n",
       " 'sex_age_pop_45_to_74',\n",
       " 'sex_age_pop_75_and_over',\n",
       " 'sex_age_pop_0_to_64',\n",
       " 'sex_age_pop_65_and_over',\n",
       " 'sex_age_pop_0_to_35',\n",
       " 'sex_age_pop_35_to_59',\n",
       " 'sex_age_pop_60_to_84',\n",
       " 'percent_race_pop_hispanic_or_latino_of_any_race',\n",
       " 'percent_race_pop_white_alone',\n",
       " 'percent_race_pop_black_or_african_american_alone',\n",
       " 'percent_race_pop_american_indian_and_alaska_native_alone',\n",
       " 'percent_race_pop_asian_alone',\n",
       " 'percent_race_pop_native_hawaiian_and_other_pacific_islander_alone',\n",
       " 'percent_race_pop_some_other_race_alone',\n",
       " 'percent_race_pop_two_or_more_races',\n",
       " 'percent_sex_age_pop_male',\n",
       " 'percent_sex_age_pop_female',\n",
       " 'percent_sex_age_pop_under_5',\n",
       " 'percent_sex_age_pop_5_to_9',\n",
       " 'percent_sex_age_pop_10_to_14',\n",
       " 'percent_sex_age_pop_15_to_19',\n",
       " 'percent_sex_age_pop_20_to_24',\n",
       " 'percent_sex_age_pop_25_to_34',\n",
       " 'percent_sex_age_pop_35_to_44',\n",
       " 'percent_sex_age_pop_45_to_54',\n",
       " 'percent_sex_age_pop_55_to_59',\n",
       " 'percent_sex_age_pop_60_to_64',\n",
       " 'percent_sex_age_pop_65_to_74',\n",
       " 'percent_sex_age_pop_75_to_84',\n",
       " 'percent_sex_age_pop_85_and_over',\n",
       " 'percent_health_ins_noninst_pop_cov_yes',\n",
       " 'percent_health_ins_noninst_pop_cov_no',\n",
       " 'percent_inc_hhlds_less_than_10_000',\n",
       " 'percent_inc_hhlds_10_000_to_14_999',\n",
       " 'percent_inc_hhlds_15_000_to_24_999',\n",
       " 'percent_inc_hhlds_25_000_to_34_999',\n",
       " 'percent_inc_hhlds_35_000_to_49_999',\n",
       " 'percent_inc_hhlds_50_000_to_74_999',\n",
       " 'percent_inc_hhlds_75_000_to_99_999',\n",
       " 'percent_inc_hhlds_100_000_to_149_999',\n",
       " 'percent_inc_hhlds_150_000_to_199_999',\n",
       " 'percent_inc_hhlds_200_000_or_more',\n",
       " 'percent_inc_hhlds_less_than_25_000',\n",
       " 'percent_inc_hhlds_25_000_to_49_999',\n",
       " 'percent_inc_hhlds_less_than_99_999',\n",
       " 'percent_inc_hhlds_100_000_or_more',\n",
       " 'percent_inc_hhlds_less_than_49_999',\n",
       " 'percent_inc_hhlds_50_000_to_99_999',\n",
       " 'percent_race_pop_other',\n",
       " 'percent_race_pop_minority',\n",
       " 'percent_sex_age_pop_0_to_44',\n",
       " 'percent_sex_age_pop_45_to_74',\n",
       " 'percent_sex_age_pop_75_and_over',\n",
       " 'percent_sex_age_pop_0_to_64',\n",
       " 'percent_sex_age_pop_65_and_over',\n",
       " 'percent_sex_age_pop_0_to_35',\n",
       " 'percent_sex_age_pop_35_to_59',\n",
       " 'percent_sex_age_pop_60_to_84']"
      ]
     },
     "execution_count": 3,
     "metadata": {},
     "output_type": "execute_result"
    }
   ],
   "source": [
    "list(california.columns)"
   ]
  },
  {
   "cell_type": "code",
   "execution_count": 20,
   "metadata": {},
   "outputs": [],
   "source": [
    "X = california[[\n",
    " 'inc_per_capita_inc_dol',\n",
    "    'percent_sex_age_pop_male',\n",
    "    'obes_percent',\n",
    "    'percent_sex_age_pop_0_to_44',\n",
    "    'percent_sex_age_pop_45_to_74',\n",
    "    'percent_race_pop_asian_alone',\n",
    "    'percent_inc_hhlds_less_than_99_999',\n",
    "    'percent_inc_hhlds_100_000_or_more',\n",
    "    'percent_health_ins_noninst_pop_cov_yes',\n",
    "    'pop_density',\n",
    "    'percent_race_pop_white_alone',\n",
    "    'percent_race_pop_native_hawaiian_and_other_pacific_islander_alone',\n",
    "    'percent_race_pop_black_or_african_american_alone',\n",
    "    'tests_per_100_people']]\n",
    "\n",
    "y = california['cases_per_100_people']"
   ]
  },
  {
   "cell_type": "code",
   "execution_count": 21,
   "metadata": {},
   "outputs": [],
   "source": [
    "X_train, X_test, y_train, y_test = train_test_split(X, y, random_state=22)"
   ]
  },
  {
   "cell_type": "code",
   "execution_count": 22,
   "metadata": {},
   "outputs": [],
   "source": [
    "from sklearn.pipeline import make_pipeline\n",
    "from sklearn.model_selection import GridSearchCV"
   ]
  },
  {
   "cell_type": "code",
   "execution_count": 23,
   "metadata": {},
   "outputs": [],
   "source": [
    "pipe = make_pipeline(PCA(random_state=22), LinearRegression())\n",
    "params = {'pca__n_components': [5, 10, 20, 50, 100, 200]}"
   ]
  },
  {
   "cell_type": "code",
   "execution_count": 24,
   "metadata": {},
   "outputs": [],
   "source": [
    "grid = GridSearchCV(pipe, params, cv=10)"
   ]
  },
  {
   "cell_type": "code",
   "execution_count": 25,
   "metadata": {},
   "outputs": [
    {
     "data": {
      "text/plain": [
       "GridSearchCV(cv=10,\n",
       "             estimator=Pipeline(steps=[('pca', PCA(random_state=22)),\n",
       "                                       ('linearregression',\n",
       "                                        LinearRegression())]),\n",
       "             param_grid={'pca__n_components': [5, 10, 20, 50, 100, 200]})"
      ]
     },
     "execution_count": 25,
     "metadata": {},
     "output_type": "execute_result"
    }
   ],
   "source": [
    "grid.fit (X_train, y_train)"
   ]
  },
  {
   "cell_type": "code",
   "execution_count": 26,
   "metadata": {},
   "outputs": [
    {
     "data": {
      "text/plain": [
       "0.7707729053307792"
      ]
     },
     "execution_count": 26,
     "metadata": {},
     "output_type": "execute_result"
    }
   ],
   "source": [
    "grid.score(X_train, y_train)"
   ]
  },
  {
   "cell_type": "code",
   "execution_count": 27,
   "metadata": {},
   "outputs": [
    {
     "data": {
      "text/plain": [
       "0.7094123252912556"
      ]
     },
     "execution_count": 27,
     "metadata": {},
     "output_type": "execute_result"
    }
   ],
   "source": [
    "grid.score(X_test, y_test)"
   ]
  },
  {
   "cell_type": "code",
   "execution_count": 32,
   "metadata": {},
   "outputs": [
    {
     "data": {
      "text/plain": [
       "array([ 0.96477792,  0.71189353,  0.11634675,  0.1903197 , -1.68660195])"
      ]
     },
     "execution_count": 32,
     "metadata": {},
     "output_type": "execute_result"
    }
   ],
   "source": [
    "cross_val_score(grid, X_test, y_test) "
   ]
  }
 ],
 "metadata": {
  "kernelspec": {
   "display_name": "Python 3",
   "language": "python",
   "name": "python3"
  },
  "language_info": {
   "codemirror_mode": {
    "name": "ipython",
    "version": 3
   },
   "file_extension": ".py",
   "mimetype": "text/x-python",
   "name": "python",
   "nbconvert_exporter": "python",
   "pygments_lexer": "ipython3",
   "version": "3.8.3"
  }
 },
 "nbformat": 4,
 "nbformat_minor": 4
}
