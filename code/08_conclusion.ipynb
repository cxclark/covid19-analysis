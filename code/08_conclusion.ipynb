{
 "cells": [
  {
   "cell_type": "code",
   "execution_count": null,
   "metadata": {},
   "outputs": [],
   "source": []
  },
  {
   "cell_type": "markdown",
   "metadata": {},
   "source": [
    "# Table comparing all models\n",
    "\n",
    "\n",
    "| Region             | Best Regression R2 | Best Classification Accuracy | Classification Baseline |\n",
    "|--------------------|--------------------|------------------------------|-------------------------|\n",
    "| CA, FL, IL, NY, TX | 47%                | 63%                          | 42%                     |\n",
    "| California         | 75%                | 93%                          | 66%                     |\n",
    "| Florida            | 76%                | 71%                          | 71%                     |\n",
    "| Illinois           | 32%                | 73%                          | 54%                     |\n",
    "| New York           | 81%                | 94%                          | 81%                     |\n",
    "| Texas              | 49%                | 59%                          | 40%                     |"
   ]
  }
 ],
 "metadata": {
  "kernelspec": {
   "display_name": "Python 3",
   "language": "python",
   "name": "python3"
  },
  "language_info": {
   "codemirror_mode": {
    "name": "ipython",
    "version": 3
   },
   "file_extension": ".py",
   "mimetype": "text/x-python",
   "name": "python",
   "nbconvert_exporter": "python",
   "pygments_lexer": "ipython3",
   "version": "3.7.9"
  }
 },
 "nbformat": 4,
 "nbformat_minor": 4
}
