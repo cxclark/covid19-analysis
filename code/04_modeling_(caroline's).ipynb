{
 "cells": [
  {
   "cell_type": "markdown",
   "metadata": {},
   "source": [
    "## Contents\n",
    "- [Data Dictionary](#Data-Dictionary)\n",
    "- [Importing and Combining Total Number Data](#Importing-and-Combining-Total-Number-Data)  \n",
    "- [Feature Engineering](#Feature-Engineering)\n",
    "- [Dataframe to Hold Both Total Numbers and Percent Values](#Dataframe-to-Hold-Both-Total-Numbers-and-Percent-Values)\n",
    "- [Dataframe to Hold Percent Values](#Dataframe-to-Hold-Percent-Values)"
   ]
  },
  {
   "cell_type": "code",
   "execution_count": null,
   "metadata": {},
   "outputs": [],
   "source": [
    "texas_combined_cleaned_no_Census_FA"
   ]
  },
  {
   "cell_type": "code",
   "execution_count": null,
   "metadata": {},
   "outputs": [],
   "source": [
    "texas_combined_cleaned_WITH_Census_FA"
   ]
  }
 ],
 "metadata": {
  "kernelspec": {
   "display_name": "Python 3",
   "language": "python",
   "name": "python3"
  },
  "language_info": {
   "codemirror_mode": {
    "name": "ipython",
    "version": 3
   },
   "file_extension": ".py",
   "mimetype": "text/x-python",
   "name": "python",
   "nbconvert_exporter": "python",
   "pygments_lexer": "ipython3",
   "version": "3.7.9"
  }
 },
 "nbformat": 4,
 "nbformat_minor": 4
}
