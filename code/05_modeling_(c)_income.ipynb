{
 "cells": [
  {
   "cell_type": "markdown",
   "metadata": {},
   "source": [
    "## Contents\n",
    "- [Imports](#Data-Dictionary)\n",
    "- [Regression Modeling Race](#Regression-Modeling-Race)  "
   ]
  },
  {
   "cell_type": "markdown",
   "metadata": {},
   "source": [
    "# Imports"
   ]
  },
  {
   "cell_type": "code",
   "execution_count": 49,
   "metadata": {},
   "outputs": [],
   "source": [
    "# Import the required libraries\n",
    "import pandas as pd\n",
    "import matplotlib.pyplot as plt\n",
    "import seaborn as sns\n",
    "\n",
    "from sklearn.linear_model import LinearRegression\n",
    "from sklearn.model_selection import train_test_split, cross_val_score\n",
    "from sklearn.preprocessing import StandardScaler\n",
    "\n",
    "import warnings\n",
    "warnings.filterwarnings('ignore')"
   ]
  },
  {
   "cell_type": "code",
   "execution_count": 50,
   "metadata": {},
   "outputs": [],
   "source": [
    "# Import the Texas data and sae to a dataframe.\n",
    "df = pd.read_csv('../data/cleaned_numbers_five_states.csv')"
   ]
  },
  {
   "cell_type": "code",
   "execution_count": 51,
   "metadata": {},
   "outputs": [
    {
     "data": {
      "text/html": [
       "<div>\n",
       "<style scoped>\n",
       "    .dataframe tbody tr th:only-of-type {\n",
       "        vertical-align: middle;\n",
       "    }\n",
       "\n",
       "    .dataframe tbody tr th {\n",
       "        vertical-align: top;\n",
       "    }\n",
       "\n",
       "    .dataframe thead th {\n",
       "        text-align: right;\n",
       "    }\n",
       "</style>\n",
       "<table border=\"1\" class=\"dataframe\">\n",
       "  <thead>\n",
       "    <tr style=\"text-align: right;\">\n",
       "      <th></th>\n",
       "      <th>county_state</th>\n",
       "      <th>total_cases</th>\n",
       "      <th>total_fatalities</th>\n",
       "      <th>death_rate</th>\n",
       "      <th>total_tests</th>\n",
       "      <th>race_pop</th>\n",
       "      <th>race_pop_hispanic_or_latino_of_any_race</th>\n",
       "      <th>race_pop_white_alone</th>\n",
       "      <th>race_pop_black_or_african_american_alone</th>\n",
       "      <th>race_pop_american_indian_and_alaska_native_alone</th>\n",
       "      <th>...</th>\n",
       "      <th>inc_med_hhld_inc_dol</th>\n",
       "      <th>inc_mean_hhld_inc_dol</th>\n",
       "      <th>inc_per_capita_inc_dol</th>\n",
       "      <th>inc_med_earn_workers_dol</th>\n",
       "      <th>inc_med_earn_male_full_yr_workers_dol</th>\n",
       "      <th>inc_med_earn_female_full_yr_workers_dol</th>\n",
       "      <th>deaths_per_100_cases</th>\n",
       "      <th>cases_per_100_people</th>\n",
       "      <th>tests_per_100_people</th>\n",
       "      <th>pop_density</th>\n",
       "    </tr>\n",
       "  </thead>\n",
       "  <tbody>\n",
       "    <tr>\n",
       "      <th>0</th>\n",
       "      <td>Santa Clara County, California</td>\n",
       "      <td>23978.0</td>\n",
       "      <td>388.0</td>\n",
       "      <td>0.016181</td>\n",
       "      <td>839764</td>\n",
       "      <td>1922200</td>\n",
       "      <td>495455</td>\n",
       "      <td>615912</td>\n",
       "      <td>45379</td>\n",
       "      <td>3003</td>\n",
       "      <td>...</td>\n",
       "      <td>116178</td>\n",
       "      <td>154183</td>\n",
       "      <td>52451</td>\n",
       "      <td>52592</td>\n",
       "      <td>90862</td>\n",
       "      <td>64739</td>\n",
       "      <td>1.618150</td>\n",
       "      <td>1.247425</td>\n",
       "      <td>43.687650</td>\n",
       "      <td>1488.824137</td>\n",
       "    </tr>\n",
       "    <tr>\n",
       "      <th>1</th>\n",
       "      <td>San Mateo County, California</td>\n",
       "      <td>10942.0</td>\n",
       "      <td>159.0</td>\n",
       "      <td>0.014531</td>\n",
       "      <td>285657</td>\n",
       "      <td>765935</td>\n",
       "      <td>189002</td>\n",
       "      <td>303047</td>\n",
       "      <td>16838</td>\n",
       "      <td>1151</td>\n",
       "      <td>...</td>\n",
       "      <td>113776</td>\n",
       "      <td>162639</td>\n",
       "      <td>57375</td>\n",
       "      <td>51601</td>\n",
       "      <td>79347</td>\n",
       "      <td>65524</td>\n",
       "      <td>1.453116</td>\n",
       "      <td>1.428581</td>\n",
       "      <td>37.295201</td>\n",
       "      <td>1707.252650</td>\n",
       "    </tr>\n",
       "    <tr>\n",
       "      <th>2</th>\n",
       "      <td>Santa Barbara County, California</td>\n",
       "      <td>9781.0</td>\n",
       "      <td>120.0</td>\n",
       "      <td>0.012269</td>\n",
       "      <td>158693</td>\n",
       "      <td>443738</td>\n",
       "      <td>200060</td>\n",
       "      <td>199356</td>\n",
       "      <td>7881</td>\n",
       "      <td>1407</td>\n",
       "      <td>...</td>\n",
       "      <td>71657</td>\n",
       "      <td>101100</td>\n",
       "      <td>34229</td>\n",
       "      <td>28250</td>\n",
       "      <td>48314</td>\n",
       "      <td>41964</td>\n",
       "      <td>1.226868</td>\n",
       "      <td>2.204229</td>\n",
       "      <td>35.762770</td>\n",
       "      <td>162.235996</td>\n",
       "    </tr>\n",
       "  </tbody>\n",
       "</table>\n",
       "<p>3 rows × 59 columns</p>\n",
       "</div>"
      ],
      "text/plain": [
       "                       county_state  total_cases  total_fatalities  \\\n",
       "0    Santa Clara County, California      23978.0             388.0   \n",
       "1      San Mateo County, California      10942.0             159.0   \n",
       "2  Santa Barbara County, California       9781.0             120.0   \n",
       "\n",
       "   death_rate  total_tests  race_pop  race_pop_hispanic_or_latino_of_any_race  \\\n",
       "0    0.016181       839764   1922200                                   495455   \n",
       "1    0.014531       285657    765935                                   189002   \n",
       "2    0.012269       158693    443738                                   200060   \n",
       "\n",
       "   race_pop_white_alone  race_pop_black_or_african_american_alone  \\\n",
       "0                615912                                     45379   \n",
       "1                303047                                     16838   \n",
       "2                199356                                      7881   \n",
       "\n",
       "   race_pop_american_indian_and_alaska_native_alone  ...  \\\n",
       "0                                              3003  ...   \n",
       "1                                              1151  ...   \n",
       "2                                              1407  ...   \n",
       "\n",
       "   inc_med_hhld_inc_dol  inc_mean_hhld_inc_dol  inc_per_capita_inc_dol  \\\n",
       "0                116178                 154183                   52451   \n",
       "1                113776                 162639                   57375   \n",
       "2                 71657                 101100                   34229   \n",
       "\n",
       "   inc_med_earn_workers_dol  inc_med_earn_male_full_yr_workers_dol  \\\n",
       "0                     52592                                  90862   \n",
       "1                     51601                                  79347   \n",
       "2                     28250                                  48314   \n",
       "\n",
       "   inc_med_earn_female_full_yr_workers_dol  deaths_per_100_cases  \\\n",
       "0                                    64739              1.618150   \n",
       "1                                    65524              1.453116   \n",
       "2                                    41964              1.226868   \n",
       "\n",
       "   cases_per_100_people  tests_per_100_people  pop_density  \n",
       "0              1.247425             43.687650  1488.824137  \n",
       "1              1.428581             37.295201  1707.252650  \n",
       "2              2.204229             35.762770   162.235996  \n",
       "\n",
       "[3 rows x 59 columns]"
      ]
     },
     "execution_count": 51,
     "metadata": {},
     "output_type": "execute_result"
    }
   ],
   "source": [
    "# Display the first few rows of the dataframe.\n",
    "df.head(3)"
   ]
  },
  {
   "cell_type": "code",
   "execution_count": 52,
   "metadata": {},
   "outputs": [],
   "source": [
    "# Set the county name to the index.\n",
    "df = df.set_index('county_state')"
   ]
  },
  {
   "cell_type": "markdown",
   "metadata": {},
   "source": [
    "# Regression Modeling Income"
   ]
  },
  {
   "cell_type": "code",
   "execution_count": 53,
   "metadata": {},
   "outputs": [
    {
     "data": {
      "text/plain": [
       "['total_cases',\n",
       " 'total_fatalities',\n",
       " 'death_rate',\n",
       " 'total_tests',\n",
       " 'race_pop',\n",
       " 'race_pop_hispanic_or_latino_of_any_race',\n",
       " 'race_pop_white_alone',\n",
       " 'race_pop_black_or_african_american_alone',\n",
       " 'race_pop_american_indian_and_alaska_native_alone',\n",
       " 'race_pop_asian_alone',\n",
       " 'race_pop_native_hawaiian_and_other_pacific_islander_alone',\n",
       " 'race_pop_some_other_race_alone',\n",
       " 'race_pop_two_or_more_races',\n",
       " 'sex_age_pop',\n",
       " 'sex_age_pop_male',\n",
       " 'sex_age_pop_female',\n",
       " 'sex_age_pop_under_5',\n",
       " 'sex_age_pop_5_to_9',\n",
       " 'sex_age_pop_10_to_14',\n",
       " 'sex_age_pop_15_to_19',\n",
       " 'sex_age_pop_20_to_24',\n",
       " 'sex_age_pop_25_to_34',\n",
       " 'sex_age_pop_35_to_44',\n",
       " 'sex_age_pop_45_to_54',\n",
       " 'sex_age_pop_55_to_59',\n",
       " 'sex_age_pop_60_to_64',\n",
       " 'sex_age_pop_65_to_74',\n",
       " 'sex_age_pop_75_to_84',\n",
       " 'sex_age_pop_85_and_over',\n",
       " 'sex_age_median_age_in_years',\n",
       " 'sq_mi',\n",
       " 'obes_percent',\n",
       " 'health_ins_noninst_pop',\n",
       " 'health_ins_noninst_pop_cov_yes',\n",
       " 'health_ins_noninst_pop_private',\n",
       " 'health_ins_noninst_pop_public',\n",
       " 'health_ins_noninst_pop_cov_no',\n",
       " 'inc_hhlds',\n",
       " 'inc_hhlds_less_than_10_000',\n",
       " 'inc_hhlds_10_000_to_14_999',\n",
       " 'inc_hhlds_15_000_to_24_999',\n",
       " 'inc_hhlds_25_000_to_34_999',\n",
       " 'inc_hhlds_35_000_to_49_999',\n",
       " 'inc_hhlds_50_000_to_74_999',\n",
       " 'inc_hhlds_75_000_to_99_999',\n",
       " 'inc_hhlds_100_000_to_149_999',\n",
       " 'inc_hhlds_150_000_to_199_999',\n",
       " 'inc_hhlds_200_000_or_more',\n",
       " 'inc_med_hhld_inc_dol',\n",
       " 'inc_mean_hhld_inc_dol',\n",
       " 'inc_per_capita_inc_dol',\n",
       " 'inc_med_earn_workers_dol',\n",
       " 'inc_med_earn_male_full_yr_workers_dol',\n",
       " 'inc_med_earn_female_full_yr_workers_dol',\n",
       " 'deaths_per_100_cases',\n",
       " 'cases_per_100_people',\n",
       " 'tests_per_100_people',\n",
       " 'pop_density']"
      ]
     },
     "execution_count": 53,
     "metadata": {},
     "output_type": "execute_result"
    }
   ],
   "source": [
    "list(df.columns)"
   ]
  },
  {
   "cell_type": "code",
   "execution_count": 58,
   "metadata": {},
   "outputs": [],
   "source": [
    "df['covid_severity'] = 0"
   ]
  },
  {
   "cell_type": "code",
   "execution_count": 61,
   "metadata": {},
   "outputs": [],
   "source": [
    "mask1 = df['cases_per_100_people'] < 2\n",
    "mask2 = (df['cases_per_100_people'] >= 2) & (df['cases_per_100_people'] < 4)\n",
    "mask3 = df['cases_per_100_people'] >= 4"
   ]
  },
  {
   "cell_type": "code",
   "execution_count": 62,
   "metadata": {},
   "outputs": [],
   "source": [
    "df['covid_severity'][mask1] = 1"
   ]
  },
  {
   "cell_type": "code",
   "execution_count": 63,
   "metadata": {},
   "outputs": [],
   "source": [
    "df['covid_severity'][mask2] = 2"
   ]
  },
  {
   "cell_type": "code",
   "execution_count": 64,
   "metadata": {},
   "outputs": [],
   "source": [
    "df['covid_severity'][mask3] = 3"
   ]
  },
  {
   "cell_type": "code",
   "execution_count": 65,
   "metadata": {},
   "outputs": [
    {
     "data": {
      "text/plain": [
       "2    239\n",
       "1    228\n",
       "3     76\n",
       "Name: covid_severity, dtype: int64"
      ]
     },
     "execution_count": 65,
     "metadata": {},
     "output_type": "execute_result"
    }
   ],
   "source": [
    "df['covid_severity'].value_counts()"
   ]
  },
  {
   "cell_type": "code",
   "execution_count": null,
   "metadata": {},
   "outputs": [],
   "source": [
    "df['covid_severity'][]"
   ]
  },
  {
   "cell_type": "code",
   "execution_count": 66,
   "metadata": {},
   "outputs": [],
   "source": [
    "# Create a subset of demographic columns for modeling.\n",
    "# Extract columns for model.\n",
    "inc_mod_cols = [\n",
    "    'inc_hhlds',\n",
    "    'inc_hhlds_less_than_10_000',\n",
    "    'inc_hhlds_10_000_to_14_999',\n",
    "    'inc_hhlds_15_000_to_24_999',\n",
    "    'inc_hhlds_25_000_to_34_999',\n",
    "    'inc_hhlds_35_000_to_49_999',\n",
    "    'inc_hhlds_50_000_to_74_999',\n",
    "    'inc_hhlds_75_000_to_99_999',\n",
    "    'inc_hhlds_100_000_to_149_999',\n",
    "    'inc_hhlds_150_000_to_199_999',\n",
    "    'inc_hhlds_200_000_or_more',\n",
    "    'inc_med_hhld_inc_dol',\n",
    "    'inc_mean_hhld_inc_dol',\n",
    "    'inc_per_capita_inc_dol',\n",
    "    'inc_med_earn_workers_dol',\n",
    "    'inc_med_earn_male_full_yr_workers_dol',\n",
    "    'inc_med_earn_female_full_yr_workers_dol',\n",
    "    'cases_per_100_people',\n",
    "    'pop_density',\n",
    "    'covid_severity'\n",
    "]"
   ]
  },
  {
   "cell_type": "code",
   "execution_count": 67,
   "metadata": {},
   "outputs": [],
   "source": [
    "# Create a dataframe\n",
    "df_inc = df[inc_mod_cols]"
   ]
  },
  {
   "cell_type": "markdown",
   "metadata": {},
   "source": [
    "### Reg Model: All Households"
   ]
  },
  {
   "cell_type": "code",
   "execution_count": 68,
   "metadata": {},
   "outputs": [],
   "source": [
    "# Define a function to create new columns with percentages.\n",
    "def to_percentage(dataframe):\n",
    "    \n",
    "    for column in dataframe.columns:\n",
    " \n",
    "        if column.startswith('inc_hhlds_'):\n",
    "            dataframe['percent_' + column] = dataframe[column] / dataframe['inc_hhlds']\n",
    "    \n",
    "    return"
   ]
  },
  {
   "cell_type": "code",
   "execution_count": 69,
   "metadata": {},
   "outputs": [],
   "source": [
    "# Apply the function to the numbers dataframe\n",
    "to_percentage(df_inc)"
   ]
  },
  {
   "cell_type": "code",
   "execution_count": 70,
   "metadata": {},
   "outputs": [
    {
     "data": {
      "text/plain": [
       "['inc_hhlds',\n",
       " 'inc_hhlds_less_than_10_000',\n",
       " 'inc_hhlds_10_000_to_14_999',\n",
       " 'inc_hhlds_15_000_to_24_999',\n",
       " 'inc_hhlds_25_000_to_34_999',\n",
       " 'inc_hhlds_35_000_to_49_999',\n",
       " 'inc_hhlds_50_000_to_74_999',\n",
       " 'inc_hhlds_75_000_to_99_999',\n",
       " 'inc_hhlds_100_000_to_149_999',\n",
       " 'inc_hhlds_150_000_to_199_999',\n",
       " 'inc_hhlds_200_000_or_more',\n",
       " 'inc_med_hhld_inc_dol',\n",
       " 'inc_mean_hhld_inc_dol',\n",
       " 'inc_per_capita_inc_dol',\n",
       " 'inc_med_earn_workers_dol',\n",
       " 'inc_med_earn_male_full_yr_workers_dol',\n",
       " 'inc_med_earn_female_full_yr_workers_dol',\n",
       " 'cases_per_100_people',\n",
       " 'pop_density',\n",
       " 'covid_severity',\n",
       " 'percent_inc_hhlds_less_than_10_000',\n",
       " 'percent_inc_hhlds_10_000_to_14_999',\n",
       " 'percent_inc_hhlds_15_000_to_24_999',\n",
       " 'percent_inc_hhlds_25_000_to_34_999',\n",
       " 'percent_inc_hhlds_35_000_to_49_999',\n",
       " 'percent_inc_hhlds_50_000_to_74_999',\n",
       " 'percent_inc_hhlds_75_000_to_99_999',\n",
       " 'percent_inc_hhlds_100_000_to_149_999',\n",
       " 'percent_inc_hhlds_150_000_to_199_999',\n",
       " 'percent_inc_hhlds_200_000_or_more']"
      ]
     },
     "execution_count": 70,
     "metadata": {},
     "output_type": "execute_result"
    }
   ],
   "source": [
    "list(df_inc.columns)"
   ]
  },
  {
   "cell_type": "code",
   "execution_count": 71,
   "metadata": {},
   "outputs": [],
   "source": [
    "X = df_inc[[\n",
    "    'percent_inc_hhlds_less_than_10_000',\n",
    "    'percent_inc_hhlds_10_000_to_14_999',\n",
    "    'percent_inc_hhlds_15_000_to_24_999',\n",
    "    'percent_inc_hhlds_25_000_to_34_999',\n",
    "    'percent_inc_hhlds_35_000_to_49_999',\n",
    "    'percent_inc_hhlds_50_000_to_74_999',\n",
    "    'percent_inc_hhlds_75_000_to_99_999',\n",
    "    'percent_inc_hhlds_100_000_to_149_999',\n",
    "    'percent_inc_hhlds_150_000_to_199_999',\n",
    "    'percent_inc_hhlds_200_000_or_more'\n",
    "]]\n",
    "\n",
    "y = df_inc['covid_severity']\n",
    "\n",
    "X_train, X_test, y_train, y_test = train_test_split(X, y, stratify=y, random_state=42)"
   ]
  },
  {
   "cell_type": "code",
   "execution_count": 72,
   "metadata": {},
   "outputs": [],
   "source": [
    "ss = StandardScaler()\n",
    "X_train_ss = ss.fit_transform(X_train)\n",
    "X_test_ss = ss.transform(X_test)"
   ]
  },
  {
   "cell_type": "code",
   "execution_count": 73,
   "metadata": {},
   "outputs": [
    {
     "data": {
      "text/plain": [
       "LinearRegression()"
      ]
     },
     "execution_count": 73,
     "metadata": {},
     "output_type": "execute_result"
    }
   ],
   "source": [
    "lr = LinearRegression()\n",
    "lr.fit(X_train_ss, y_train)"
   ]
  },
  {
   "cell_type": "code",
   "execution_count": 74,
   "metadata": {},
   "outputs": [
    {
     "data": {
      "text/plain": [
       "((407, 10), (136,))"
      ]
     },
     "execution_count": 74,
     "metadata": {},
     "output_type": "execute_result"
    }
   ],
   "source": [
    "X_train.shape, y_test.shape"
   ]
  },
  {
   "cell_type": "code",
   "execution_count": 75,
   "metadata": {},
   "outputs": [
    {
     "data": {
      "text/plain": [
       "-0.13170908950971422"
      ]
     },
     "execution_count": 75,
     "metadata": {},
     "output_type": "execute_result"
    }
   ],
   "source": [
    "cross_val_score(lr, X_test_ss, y_test, cv=5).mean()"
   ]
  },
  {
   "cell_type": "markdown",
   "metadata": {},
   "source": [
    "### Reg Model: Under 25, 25-50, 50-75, 75-100, 100-150, 150-199, 200+"
   ]
  },
  {
   "cell_type": "code",
   "execution_count": 16,
   "metadata": {},
   "outputs": [],
   "source": [
    "df_inc['inc_hhlds_less_than_25_000'] = df_inc['inc_hhlds_less_than_10_000'] \\\n",
    "                        + df_inc['inc_hhlds_10_000_to_14_999'] + df_inc['inc_hhlds_15_000_to_24_999']\n",
    "\n",
    "df_inc['inc_hhlds_25_000_to_49_999'] = df_inc['inc_hhlds_25_000_to_34_999'] \\\n",
    "                        + df_inc['inc_hhlds_35_000_to_49_999']"
   ]
  },
  {
   "cell_type": "code",
   "execution_count": 17,
   "metadata": {},
   "outputs": [],
   "source": [
    "# Define a function to create new columns with percentages.\n",
    "def to_percentage(dataframe):\n",
    "    for column in dataframe.columns:\n",
    "        if column.startswith('inc_hhlds_'):\n",
    "            dataframe['percent_' + column] = dataframe[column] / dataframe['inc_hhlds']\n",
    "    return"
   ]
  },
  {
   "cell_type": "code",
   "execution_count": 18,
   "metadata": {},
   "outputs": [],
   "source": [
    "# Apply the function to the numbers dataframe\n",
    "to_percentage(df_inc)"
   ]
  },
  {
   "cell_type": "code",
   "execution_count": 19,
   "metadata": {},
   "outputs": [
    {
     "data": {
      "text/plain": [
       "['inc_hhlds',\n",
       " 'inc_hhlds_less_than_10_000',\n",
       " 'inc_hhlds_10_000_to_14_999',\n",
       " 'inc_hhlds_15_000_to_24_999',\n",
       " 'inc_hhlds_25_000_to_34_999',\n",
       " 'inc_hhlds_35_000_to_49_999',\n",
       " 'inc_hhlds_50_000_to_74_999',\n",
       " 'inc_hhlds_75_000_to_99_999',\n",
       " 'inc_hhlds_100_000_to_149_999',\n",
       " 'inc_hhlds_150_000_to_199_999',\n",
       " 'inc_hhlds_200_000_or_more',\n",
       " 'inc_med_hhld_inc_dol',\n",
       " 'inc_mean_hhld_inc_dol',\n",
       " 'inc_per_capita_inc_dol',\n",
       " 'inc_med_earn_workers_dol',\n",
       " 'inc_med_earn_male_full_yr_workers_dol',\n",
       " 'inc_med_earn_female_full_yr_workers_dol',\n",
       " 'cases_per_100_people',\n",
       " 'pop_density',\n",
       " 'percent_inc_hhlds_less_than_10_000',\n",
       " 'percent_inc_hhlds_10_000_to_14_999',\n",
       " 'percent_inc_hhlds_15_000_to_24_999',\n",
       " 'percent_inc_hhlds_25_000_to_34_999',\n",
       " 'percent_inc_hhlds_35_000_to_49_999',\n",
       " 'percent_inc_hhlds_50_000_to_74_999',\n",
       " 'percent_inc_hhlds_75_000_to_99_999',\n",
       " 'percent_inc_hhlds_100_000_to_149_999',\n",
       " 'percent_inc_hhlds_150_000_to_199_999',\n",
       " 'percent_inc_hhlds_200_000_or_more',\n",
       " 'inc_hhlds_less_than_25_000',\n",
       " 'inc_hhlds_25_000_to_49_999',\n",
       " 'percent_inc_hhlds_less_than_25_000',\n",
       " 'percent_inc_hhlds_25_000_to_49_999']"
      ]
     },
     "execution_count": 19,
     "metadata": {},
     "output_type": "execute_result"
    }
   ],
   "source": [
    "list(df_inc.columns)"
   ]
  },
  {
   "cell_type": "code",
   "execution_count": 23,
   "metadata": {},
   "outputs": [],
   "source": [
    "X = df_inc[[\n",
    "    'percent_inc_hhlds_less_than_25_000',\n",
    "    'percent_inc_hhlds_25_000_to_49_999',\n",
    "    'percent_inc_hhlds_50_000_to_74_999',\n",
    "    'percent_inc_hhlds_75_000_to_99_999',\n",
    "    'percent_inc_hhlds_100_000_to_149_999',\n",
    "    'percent_inc_hhlds_150_000_to_199_999',\n",
    "    'percent_inc_hhlds_200_000_or_more'\n",
    "]]\n",
    "\n",
    "y = df_inc['cases_per_100_people']\n",
    "\n",
    "X_train, X_test, y_train, y_test = train_test_split(X, y, random_state=42)"
   ]
  },
  {
   "cell_type": "code",
   "execution_count": 24,
   "metadata": {},
   "outputs": [],
   "source": [
    "ss = StandardScaler()\n",
    "X_train_ss = ss.fit_transform(X_train)\n",
    "X_test_ss = ss.transform(X_test)"
   ]
  },
  {
   "cell_type": "code",
   "execution_count": 25,
   "metadata": {},
   "outputs": [
    {
     "data": {
      "text/plain": [
       "LinearRegression()"
      ]
     },
     "execution_count": 25,
     "metadata": {},
     "output_type": "execute_result"
    }
   ],
   "source": [
    "lr = LinearRegression()\n",
    "lr.fit(X_train_ss, y_train)"
   ]
  },
  {
   "cell_type": "code",
   "execution_count": 26,
   "metadata": {},
   "outputs": [
    {
     "data": {
      "text/plain": [
       "((407, 7), (136,))"
      ]
     },
     "execution_count": 26,
     "metadata": {},
     "output_type": "execute_result"
    }
   ],
   "source": [
    "X_train.shape, y_test.shape"
   ]
  },
  {
   "cell_type": "code",
   "execution_count": 27,
   "metadata": {},
   "outputs": [
    {
     "data": {
      "text/plain": [
       "-0.04975908113836038"
      ]
     },
     "execution_count": 27,
     "metadata": {},
     "output_type": "execute_result"
    }
   ],
   "source": [
    "cross_val_score(lr, X_test_ss, y_test, cv=5).mean()"
   ]
  },
  {
   "cell_type": "markdown",
   "metadata": {},
   "source": [
    "### Reg Model: Under 50, 50-100, 100+"
   ]
  },
  {
   "cell_type": "code",
   "execution_count": 36,
   "metadata": {},
   "outputs": [],
   "source": [
    "df_inc['inc_hhlds_less_than_49_999'] = df_inc['inc_hhlds_less_than_10_000'] \\\n",
    "                        + df_inc['inc_hhlds_10_000_to_14_999'] + df_inc['inc_hhlds_15_000_to_24_999']\\\n",
    "                        + df_inc['inc_hhlds_25_000_to_34_999'] + df_inc['inc_hhlds_35_000_to_49_999']\\\n",
    "\n",
    "df_inc['inc_hhlds_50_000_to_99_999'] = df_inc['inc_hhlds_50_000_to_74_999'] + df_inc['inc_hhlds_75_000_to_99_999']\n",
    "\n",
    "df_inc['inc_hhlds_100_000_or_more'] = df_inc['inc_hhlds_100_000_to_149_999'] \\\n",
    "                        + df_inc['inc_hhlds_150_000_to_199_999']"
   ]
  },
  {
   "cell_type": "code",
   "execution_count": 37,
   "metadata": {},
   "outputs": [],
   "source": [
    "# Define a function to create new columns with percentages.\n",
    "def to_percentage(dataframe):\n",
    "    for column in dataframe.columns:\n",
    "        if column.startswith('inc_hhlds_'):\n",
    "            dataframe['percent_' + column] = dataframe[column] / dataframe['inc_hhlds']\n",
    "    return"
   ]
  },
  {
   "cell_type": "code",
   "execution_count": 38,
   "metadata": {},
   "outputs": [],
   "source": [
    "# Apply the function to the numbers dataframe\n",
    "to_percentage(df_inc)"
   ]
  },
  {
   "cell_type": "code",
   "execution_count": 39,
   "metadata": {},
   "outputs": [
    {
     "data": {
      "text/plain": [
       "['inc_hhlds',\n",
       " 'inc_hhlds_less_than_10_000',\n",
       " 'inc_hhlds_10_000_to_14_999',\n",
       " 'inc_hhlds_15_000_to_24_999',\n",
       " 'inc_hhlds_25_000_to_34_999',\n",
       " 'inc_hhlds_35_000_to_49_999',\n",
       " 'inc_hhlds_50_000_to_74_999',\n",
       " 'inc_hhlds_75_000_to_99_999',\n",
       " 'inc_hhlds_100_000_to_149_999',\n",
       " 'inc_hhlds_150_000_to_199_999',\n",
       " 'inc_hhlds_200_000_or_more',\n",
       " 'inc_med_hhld_inc_dol',\n",
       " 'inc_mean_hhld_inc_dol',\n",
       " 'inc_per_capita_inc_dol',\n",
       " 'inc_med_earn_workers_dol',\n",
       " 'inc_med_earn_male_full_yr_workers_dol',\n",
       " 'inc_med_earn_female_full_yr_workers_dol',\n",
       " 'cases_per_100_people',\n",
       " 'pop_density',\n",
       " 'percent_inc_hhlds_less_than_10_000',\n",
       " 'percent_inc_hhlds_10_000_to_14_999',\n",
       " 'percent_inc_hhlds_15_000_to_24_999',\n",
       " 'percent_inc_hhlds_25_000_to_34_999',\n",
       " 'percent_inc_hhlds_35_000_to_49_999',\n",
       " 'percent_inc_hhlds_50_000_to_74_999',\n",
       " 'percent_inc_hhlds_75_000_to_99_999',\n",
       " 'percent_inc_hhlds_100_000_to_149_999',\n",
       " 'percent_inc_hhlds_150_000_to_199_999',\n",
       " 'percent_inc_hhlds_200_000_or_more',\n",
       " 'inc_hhlds_less_than_25_000',\n",
       " 'inc_hhlds_25_000_to_49_999',\n",
       " 'percent_inc_hhlds_less_than_25_000',\n",
       " 'percent_inc_hhlds_25_000_to_49_999',\n",
       " 'inc_hhlds_less_than_49_999',\n",
       " 'inc_hhlds_50_000_to_99_999',\n",
       " 'inc_hhlds_100_000_or_more',\n",
       " 'percent_inc_hhlds_less_than_49_999',\n",
       " 'percent_inc_hhlds_50_000_to_99_999',\n",
       " 'percent_inc_hhlds_100_000_or_more']"
      ]
     },
     "execution_count": 39,
     "metadata": {},
     "output_type": "execute_result"
    }
   ],
   "source": [
    "list(df_inc.columns)"
   ]
  },
  {
   "cell_type": "code",
   "execution_count": 40,
   "metadata": {},
   "outputs": [],
   "source": [
    "X = df_inc[[\n",
    "    'percent_inc_hhlds_less_than_49_999',\n",
    "    'percent_inc_hhlds_50_000_to_99_999',\n",
    "    'percent_inc_hhlds_100_000_or_more'\n",
    "]]\n",
    "\n",
    "y = df_inc['cases_per_100_people']\n",
    "\n",
    "X_train, X_test, y_train, y_test = train_test_split(X, y, random_state=42)"
   ]
  },
  {
   "cell_type": "code",
   "execution_count": 41,
   "metadata": {},
   "outputs": [],
   "source": [
    "ss = StandardScaler()\n",
    "X_train_ss = ss.fit_transform(X_train)\n",
    "X_test_ss = ss.transform(X_test)"
   ]
  },
  {
   "cell_type": "code",
   "execution_count": 42,
   "metadata": {},
   "outputs": [
    {
     "data": {
      "text/plain": [
       "LinearRegression()"
      ]
     },
     "execution_count": 42,
     "metadata": {},
     "output_type": "execute_result"
    }
   ],
   "source": [
    "lr = LinearRegression()\n",
    "lr.fit(X_train_ss, y_train)"
   ]
  },
  {
   "cell_type": "code",
   "execution_count": 43,
   "metadata": {},
   "outputs": [
    {
     "data": {
      "text/plain": [
       "((407, 3), (136,))"
      ]
     },
     "execution_count": 43,
     "metadata": {},
     "output_type": "execute_result"
    }
   ],
   "source": [
    "X_train.shape, y_test.shape"
   ]
  },
  {
   "cell_type": "code",
   "execution_count": 44,
   "metadata": {},
   "outputs": [
    {
     "data": {
      "text/plain": [
       "0.026749790424399"
      ]
     },
     "execution_count": 44,
     "metadata": {},
     "output_type": "execute_result"
    }
   ],
   "source": [
    "cross_val_score(lr, X_test_ss, y_test, cv=5).mean()"
   ]
  },
  {
   "cell_type": "markdown",
   "metadata": {},
   "source": [
    "### Reg Model: Under 100, 100+"
   ]
  },
  {
   "cell_type": "code",
   "execution_count": 45,
   "metadata": {},
   "outputs": [],
   "source": [
    "df_inc['inc_hhlds_less_than_99_999'] = df_inc['inc_hhlds_less_than_10_000'] \\\n",
    "                        + df_inc['inc_hhlds_10_000_to_14_999'] + df_inc['inc_hhlds_15_000_to_24_999']\\\n",
    "                        + df_inc['inc_hhlds_25_000_to_34_999'] + df_inc['inc_hhlds_35_000_to_49_999']\\\n",
    "                        + df_inc['inc_hhlds_50_000_to_74_999'] + df_inc['inc_hhlds_75_000_to_99_999']\\\n",
    "\n",
    "df_inc['inc_hhlds_100_000_or_more'] = df_inc['inc_hhlds_100_000_to_149_999'] \\\n",
    "                        + df_inc['inc_hhlds_150_000_to_199_999']"
   ]
  },
  {
   "cell_type": "code",
   "execution_count": 46,
   "metadata": {},
   "outputs": [],
   "source": [
    "# Define a function to create new columns with percentages.\n",
    "def to_percentage(dataframe):\n",
    "    for column in dataframe.columns:\n",
    "        if column.startswith('inc_hhlds_'):\n",
    "            dataframe['percent_' + column] = dataframe[column] / dataframe['inc_hhlds']\n",
    "    return"
   ]
  },
  {
   "cell_type": "code",
   "execution_count": 47,
   "metadata": {},
   "outputs": [],
   "source": [
    "# Apply the function to the numbers dataframe\n",
    "to_percentage(df_inc)"
   ]
  },
  {
   "cell_type": "code",
   "execution_count": 48,
   "metadata": {},
   "outputs": [
    {
     "data": {
      "text/plain": [
       "['inc_hhlds',\n",
       " 'inc_hhlds_less_than_10_000',\n",
       " 'inc_hhlds_10_000_to_14_999',\n",
       " 'inc_hhlds_15_000_to_24_999',\n",
       " 'inc_hhlds_25_000_to_34_999',\n",
       " 'inc_hhlds_35_000_to_49_999',\n",
       " 'inc_hhlds_50_000_to_74_999',\n",
       " 'inc_hhlds_75_000_to_99_999',\n",
       " 'inc_hhlds_100_000_to_149_999',\n",
       " 'inc_hhlds_150_000_to_199_999',\n",
       " 'inc_hhlds_200_000_or_more',\n",
       " 'inc_med_hhld_inc_dol',\n",
       " 'inc_mean_hhld_inc_dol',\n",
       " 'inc_per_capita_inc_dol',\n",
       " 'inc_med_earn_workers_dol',\n",
       " 'inc_med_earn_male_full_yr_workers_dol',\n",
       " 'inc_med_earn_female_full_yr_workers_dol',\n",
       " 'cases_per_100_people',\n",
       " 'pop_density',\n",
       " 'percent_inc_hhlds_less_than_10_000',\n",
       " 'percent_inc_hhlds_10_000_to_14_999',\n",
       " 'percent_inc_hhlds_15_000_to_24_999',\n",
       " 'percent_inc_hhlds_25_000_to_34_999',\n",
       " 'percent_inc_hhlds_35_000_to_49_999',\n",
       " 'percent_inc_hhlds_50_000_to_74_999',\n",
       " 'percent_inc_hhlds_75_000_to_99_999',\n",
       " 'percent_inc_hhlds_100_000_to_149_999',\n",
       " 'percent_inc_hhlds_150_000_to_199_999',\n",
       " 'percent_inc_hhlds_200_000_or_more',\n",
       " 'inc_hhlds_less_than_25_000',\n",
       " 'inc_hhlds_25_000_to_49_999',\n",
       " 'percent_inc_hhlds_less_than_25_000',\n",
       " 'percent_inc_hhlds_25_000_to_49_999',\n",
       " 'inc_hhlds_less_than_49_999',\n",
       " 'inc_hhlds_50_000_to_99_999',\n",
       " 'inc_hhlds_100_000_or_more',\n",
       " 'percent_inc_hhlds_less_than_49_999',\n",
       " 'percent_inc_hhlds_50_000_to_99_999',\n",
       " 'percent_inc_hhlds_100_000_or_more',\n",
       " 'inc_hhlds_less_than_99_999',\n",
       " 'percent_inc_hhlds_less_than_99_999']"
      ]
     },
     "execution_count": 48,
     "metadata": {},
     "output_type": "execute_result"
    }
   ],
   "source": [
    "list(df_inc.columns)"
   ]
  },
  {
   "cell_type": "code",
   "execution_count": 49,
   "metadata": {},
   "outputs": [],
   "source": [
    "X = df_inc[[\n",
    "    'percent_inc_hhlds_less_than_99_999',\n",
    "    'percent_inc_hhlds_100_000_or_more',\n",
    "]]\n",
    "\n",
    "y = df_inc['cases_per_100_people']\n",
    "\n",
    "X_train, X_test, y_train, y_test = train_test_split(X, y, random_state=42)"
   ]
  },
  {
   "cell_type": "code",
   "execution_count": 50,
   "metadata": {},
   "outputs": [],
   "source": [
    "ss = StandardScaler()\n",
    "X_train_ss = ss.fit_transform(X_train)\n",
    "X_test_ss = ss.transform(X_test)"
   ]
  },
  {
   "cell_type": "code",
   "execution_count": 51,
   "metadata": {},
   "outputs": [
    {
     "data": {
      "text/plain": [
       "LinearRegression()"
      ]
     },
     "execution_count": 51,
     "metadata": {},
     "output_type": "execute_result"
    }
   ],
   "source": [
    "lr = LinearRegression()\n",
    "lr.fit(X_train_ss, y_train)"
   ]
  },
  {
   "cell_type": "code",
   "execution_count": 52,
   "metadata": {},
   "outputs": [
    {
     "data": {
      "text/plain": [
       "((407, 2), (136,))"
      ]
     },
     "execution_count": 52,
     "metadata": {},
     "output_type": "execute_result"
    }
   ],
   "source": [
    "X_train.shape, y_test.shape"
   ]
  },
  {
   "cell_type": "code",
   "execution_count": 53,
   "metadata": {},
   "outputs": [
    {
     "data": {
      "text/plain": [
       "0.0010283519704732847"
      ]
     },
     "execution_count": 53,
     "metadata": {},
     "output_type": "execute_result"
    }
   ],
   "source": [
    "cross_val_score(lr, X_test_ss, y_test, cv=5).mean()"
   ]
  },
  {
   "cell_type": "markdown",
   "metadata": {},
   "source": [
    "# Correlations income"
   ]
  },
  {
   "cell_type": "code",
   "execution_count": 50,
   "metadata": {},
   "outputs": [
    {
     "data": {
      "image/png": "[encoded data removed]",
      "text/plain": [
       "<Figure size 216x1440 with 2 Axes>"
      ]
     },
     "metadata": {
      "needs_background": "light"
     },
     "output_type": "display_data"
    }
   ],
   "source": [
    "# Visualize the correlation between the variables.\n",
    "# Save a correlation table to a variable.\n",
    "corr = tx_inc.corr()\n",
    "\n",
    "# Display a correlation chart just for Sale Price.\n",
    "plt.figure(figsize=(3, 20))\n",
    "sns.heatmap(corr[['death_rate']].sort_values(by='death_rate').iloc[:-1], annot=True, cmap = 'coolwarm');"
   ]
  },
  {
   "cell_type": "code",
   "execution_count": null,
   "metadata": {},
   "outputs": [],
   "source": []
  }
 ],
 "metadata": {
  "kernelspec": {
   "display_name": "Python 3",
   "language": "python",
   "name": "python3"
  },
  "language_info": {
   "codemirror_mode": {
    "name": "ipython",
    "version": 3
   },
   "file_extension": ".py",
   "mimetype": "text/x-python",
   "name": "python",
   "nbconvert_exporter": "python",
   "pygments_lexer": "ipython3",
   "version": "3.7.9"
  }
 },
 "nbformat": 4,
 "nbformat_minor": 4
}
