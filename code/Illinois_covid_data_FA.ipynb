{
 "cells": [
  {
   "cell_type": "markdown",
   "metadata": {},
   "source": [
    "Data for IL covid-19 was aqcuired from:\n",
    "https://www.dph.illinois.gov/sitefiles/COVIDTestResults.json"
   ]
  },
  {
   "cell_type": "code",
   "execution_count": 1,
   "metadata": {},
   "outputs": [],
   "source": [
    "import pandas as pd"
   ]
  },
  {
   "cell_type": "code",
   "execution_count": 2,
   "metadata": {},
   "outputs": [],
   "source": [
    "import requests\n",
    "\n",
    "resp = requests.get('https://www.dph.illinois.gov/sitefiles/COVIDTestResults.json')\n",
    "txt = resp.json()"
   ]
  },
  {
   "cell_type": "code",
   "execution_count": 3,
   "metadata": {},
   "outputs": [],
   "source": [
    "obj_county = txt['characteristics_by_county']"
   ]
  },
  {
   "cell_type": "code",
   "execution_count": 4,
   "metadata": {},
   "outputs": [],
   "source": [
    "illinois_data = pd.DataFrame(obj_county['values'])"
   ]
  },
  {
   "cell_type": "code",
   "execution_count": 5,
   "metadata": {},
   "outputs": [
    {
     "data": {
      "text/html": [
       "<div>\n",
       "<style scoped>\n",
       "    .dataframe tbody tr th:only-of-type {\n",
       "        vertical-align: middle;\n",
       "    }\n",
       "\n",
       "    .dataframe tbody tr th {\n",
       "        vertical-align: top;\n",
       "    }\n",
       "\n",
       "    .dataframe thead th {\n",
       "        text-align: right;\n",
       "    }\n",
       "</style>\n",
       "<table border=\"1\" class=\"dataframe\">\n",
       "  <thead>\n",
       "    <tr style=\"text-align: right;\">\n",
       "      <th></th>\n",
       "      <th>County</th>\n",
       "      <th>confirmed_cases</th>\n",
       "      <th>total_tested</th>\n",
       "      <th>deaths</th>\n",
       "      <th>lat</th>\n",
       "      <th>lon</th>\n",
       "    </tr>\n",
       "  </thead>\n",
       "  <tbody>\n",
       "    <tr>\n",
       "      <th>0</th>\n",
       "      <td>Illinois</td>\n",
       "      <td>374256</td>\n",
       "      <td>7268952</td>\n",
       "      <td>9505</td>\n",
       "      <td>39.839888</td>\n",
       "      <td>-89.510168</td>\n",
       "    </tr>\n",
       "    <tr>\n",
       "      <th>1</th>\n",
       "      <td>Adams</td>\n",
       "      <td>1862</td>\n",
       "      <td>38542</td>\n",
       "      <td>19</td>\n",
       "      <td>40.057800</td>\n",
       "      <td>-91.135300</td>\n",
       "    </tr>\n",
       "    <tr>\n",
       "      <th>2</th>\n",
       "      <td>Alexander</td>\n",
       "      <td>120</td>\n",
       "      <td>2350</td>\n",
       "      <td>1</td>\n",
       "      <td>37.167000</td>\n",
       "      <td>-89.360600</td>\n",
       "    </tr>\n",
       "    <tr>\n",
       "      <th>3</th>\n",
       "      <td>Bond</td>\n",
       "      <td>499</td>\n",
       "      <td>7700</td>\n",
       "      <td>9</td>\n",
       "      <td>38.903000</td>\n",
       "      <td>-89.474200</td>\n",
       "    </tr>\n",
       "    <tr>\n",
       "      <th>4</th>\n",
       "      <td>Boone</td>\n",
       "      <td>1860</td>\n",
       "      <td>21756</td>\n",
       "      <td>25</td>\n",
       "      <td>42.348500</td>\n",
       "      <td>-88.826300</td>\n",
       "    </tr>\n",
       "    <tr>\n",
       "      <th>...</th>\n",
       "      <td>...</td>\n",
       "      <td>...</td>\n",
       "      <td>...</td>\n",
       "      <td>...</td>\n",
       "      <td>...</td>\n",
       "      <td>...</td>\n",
       "    </tr>\n",
       "    <tr>\n",
       "      <th>101</th>\n",
       "      <td>Whiteside</td>\n",
       "      <td>1400</td>\n",
       "      <td>20122</td>\n",
       "      <td>27</td>\n",
       "      <td>41.760600</td>\n",
       "      <td>-89.850500</td>\n",
       "    </tr>\n",
       "    <tr>\n",
       "      <th>102</th>\n",
       "      <td>Will</td>\n",
       "      <td>18356</td>\n",
       "      <td>275472</td>\n",
       "      <td>427</td>\n",
       "      <td>41.505500</td>\n",
       "      <td>-88.090100</td>\n",
       "    </tr>\n",
       "    <tr>\n",
       "      <th>103</th>\n",
       "      <td>Williamson</td>\n",
       "      <td>1883</td>\n",
       "      <td>31868</td>\n",
       "      <td>59</td>\n",
       "      <td>37.718300</td>\n",
       "      <td>-88.864700</td>\n",
       "    </tr>\n",
       "    <tr>\n",
       "      <th>104</th>\n",
       "      <td>Winnebago</td>\n",
       "      <td>10183</td>\n",
       "      <td>133444</td>\n",
       "      <td>180</td>\n",
       "      <td>42.312100</td>\n",
       "      <td>-89.170600</td>\n",
       "    </tr>\n",
       "    <tr>\n",
       "      <th>105</th>\n",
       "      <td>Woodford</td>\n",
       "      <td>618</td>\n",
       "      <td>16973</td>\n",
       "      <td>14</td>\n",
       "      <td>40.712900</td>\n",
       "      <td>-89.170600</td>\n",
       "    </tr>\n",
       "  </tbody>\n",
       "</table>\n",
       "<p>106 rows × 6 columns</p>\n",
       "</div>"
      ],
      "text/plain": [
       "         County  confirmed_cases  total_tested  deaths        lat        lon\n",
       "0      Illinois           374256       7268952    9505  39.839888 -89.510168\n",
       "1         Adams             1862         38542      19  40.057800 -91.135300\n",
       "2     Alexander              120          2350       1  37.167000 -89.360600\n",
       "3          Bond              499          7700       9  38.903000 -89.474200\n",
       "4         Boone             1860         21756      25  42.348500 -88.826300\n",
       "..          ...              ...           ...     ...        ...        ...\n",
       "101   Whiteside             1400         20122      27  41.760600 -89.850500\n",
       "102        Will            18356        275472     427  41.505500 -88.090100\n",
       "103  Williamson             1883         31868      59  37.718300 -88.864700\n",
       "104   Winnebago            10183        133444     180  42.312100 -89.170600\n",
       "105    Woodford              618         16973      14  40.712900 -89.170600\n",
       "\n",
       "[106 rows x 6 columns]"
      ]
     },
     "execution_count": 5,
     "metadata": {},
     "output_type": "execute_result"
    }
   ],
   "source": [
    "illinois_data"
   ]
  },
  {
   "cell_type": "code",
   "execution_count": 6,
   "metadata": {},
   "outputs": [],
   "source": [
    "illinois_data.to_csv('../data/Illinois_covid_data.csv', index=False)"
   ]
  },
  {
   "cell_type": "code",
   "execution_count": null,
   "metadata": {},
   "outputs": [],
   "source": []
  }
 ],
 "metadata": {
  "kernelspec": {
   "display_name": "Python 3",
   "language": "python",
   "name": "python3"
  },
  "language_info": {
   "codemirror_mode": {
    "name": "ipython",
    "version": 3
   },
   "file_extension": ".py",
   "mimetype": "text/x-python",
   "name": "python",
   "nbconvert_exporter": "python",
   "pygments_lexer": "ipython3",
   "version": "3.8.3"
  }
 },
 "nbformat": 4,
 "nbformat_minor": 4
}
