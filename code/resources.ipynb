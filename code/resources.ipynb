{
 "cells": [
  {
   "cell_type": "code",
   "execution_count": null,
   "metadata": {},
   "outputs": [],
   "source": []
  },
  {
   "cell_type": "markdown",
   "metadata": {},
   "source": [
    "- [Census Datasets](https://api.census.gov/data.html)\n",
    "- [Census FIPS codes](https://www2.census.gov/geo/docs/reference/codes/files/)\n",
    "- [Census Geographic Data](https://www.census.gov/geographies/reference-files/time-series/geo/gazetteer-files.2018.html)\n",
    "- [American Community Survey 5-Year Data (2009-2018)](https://www.census.gov/data/developers/data-sets/acs-5year.html)\n",
    "- [Notes on ACS Estimate and Annotation Values](https://www.census.gov/data/developers/data-sets/acs-1year/notes-on-acs-estimate-and-annotation-values.html)\n",
    "- [GeoJson Data CA, IL, NY](https://github.com/codeforamerica/click_that_hood/blob/master/public/data/)\n",
    "- [GeoJson Data FL](https://www2.census.gov/geo/tiger/TIGER2010/COUNTY/2010/)\n",
    "- [GeoJson Data TX](https://github.com/TNRIS/tx.geojson/blob/master/counties/tx_counties.geojson)"
   ]
  },
  {
   "cell_type": "markdown",
   "metadata": {},
   "source": [
    "## Resources\n",
    "- [Census API: Datasets in /data/2018/acs/acs5/profile and its descendants](https://api.census.gov/data/2018/acs/acs5/profile.html)\n",
    "- [Getting Census Data in 5 Easy Steps (towards data science)](https://towardsdatascience.com/getting-census-data-in-5-easy-steps-a08eeb63995d)\n",
    "- [Using the Census Bureau's API (medium)](https://medium.com/@shep.nathan.d/using-the-u-s-census-bureaus-api-af113337f478)\n",
    "- [Census Burearu YouTube tutorial (youtube)](https://www.youtube.com/watch?v=K0-ifZS0mQI&feature=emb_title&ab_channel=U.S.CensusBureau)\n",
    "- [DATA GEMS: How to Extract Data from the Census API (youtube)](https://www.youtube.com/watch?v=0DVdHquaRiU)\n",
    "- [Python Tutorial: Using the Census API (datacamp video)](https://www.youtube.com/watch?v=l47HptzM7ao)\n",
    "- [Land Area and Persons per Square Mile](https://www.census.gov/quickfacts/fact/note/US/LND110210)\n"
   ]
  },
  {
   "cell_type": "code",
   "execution_count": null,
   "metadata": {},
   "outputs": [],
   "source": []
  }
 ],
 "metadata": {
  "kernelspec": {
   "display_name": "Python 3",
   "language": "python",
   "name": "python3"
  },
  "language_info": {
   "codemirror_mode": {
    "name": "ipython",
    "version": 3
   },
   "file_extension": ".py",
   "mimetype": "text/x-python",
   "name": "python",
   "nbconvert_exporter": "python",
   "pygments_lexer": "ipython3",
   "version": "3.7.9"
  }
 },
 "nbformat": 4,
 "nbformat_minor": 4
}
