{
 "cells": [
  {
   "cell_type": "markdown",
   "metadata": {},
   "source": [
    "# Florida \n",
    "## Contents\n",
    "- [Imports](#Data-Dictionary)\n",
    "- [Regression Modeling](#Regression-Modeling)  \n",
    "- [Classification Modeling](#Classification-Modeling)  "
   ]
  },
  {
   "cell_type": "markdown",
   "metadata": {},
   "source": [
    "# Imports"
   ]
  },
  {
   "cell_type": "code",
   "execution_count": 35,
   "metadata": {},
   "outputs": [],
   "source": [
    "# Import the required libraries\n",
    "import pandas as pd\n",
    "import matplotlib.pyplot as plt\n",
    "import seaborn as sns\n",
    "import numpy as np\n",
    "plt.style.use('seaborn-whitegrid')\n",
    "\n",
    "import warnings\n",
    "warnings.filterwarnings('ignore')\n",
    "\n",
    "from sklearn.model_selection import train_test_split, GridSearchCV\n",
    "from sklearn.feature_selection import SelectKBest, f_regression\n",
    "from sklearn.pipeline import make_pipeline\n",
    "from sklearn.metrics import mean_squared_error, plot_confusion_matrix\n",
    "\n",
    "from sklearn.linear_model import LinearRegression, Ridge\n",
    "from sklearn.preprocessing import StandardScaler, PolynomialFeatures, PowerTransformer, QuantileTransformer\n",
    "from sklearn.tree import DecisionTreeRegressor\n",
    "from sklearn.linear_model import LogisticRegression\n",
    "from sklearn.decomposition import PCA"
   ]
  },
  {
   "cell_type": "code",
   "execution_count": 36,
   "metadata": {},
   "outputs": [],
   "source": [
    "# Import the data as a dataframe and save to a variable.\n",
    "df = pd.read_csv('../data/cleaned_engineered_fl.csv')"
   ]
  },
  {
   "cell_type": "code",
   "execution_count": 37,
   "metadata": {},
   "outputs": [
    {
     "data": {
      "text/html": [
       "<div>\n",
       "<style scoped>\n",
       "    .dataframe tbody tr th:only-of-type {\n",
       "        vertical-align: middle;\n",
       "    }\n",
       "\n",
       "    .dataframe tbody tr th {\n",
       "        vertical-align: top;\n",
       "    }\n",
       "\n",
       "    .dataframe thead th {\n",
       "        text-align: right;\n",
       "    }\n",
       "</style>\n",
       "<table border=\"1\" class=\"dataframe\">\n",
       "  <thead>\n",
       "    <tr style=\"text-align: right;\">\n",
       "      <th></th>\n",
       "      <th>county_state</th>\n",
       "      <th>total_cases</th>\n",
       "      <th>total_fatalities</th>\n",
       "      <th>death_rate</th>\n",
       "      <th>total_tests</th>\n",
       "      <th>race_pop</th>\n",
       "      <th>race_pop_hispanic_or_latino_of_any_race</th>\n",
       "      <th>race_pop_white_alone</th>\n",
       "      <th>race_pop_black_or_african_american_alone</th>\n",
       "      <th>race_pop_american_indian_and_alaska_native_alone</th>\n",
       "      <th>...</th>\n",
       "      <th>percent_race_pop_other</th>\n",
       "      <th>percent_race_pop_minority</th>\n",
       "      <th>percent_sex_age_pop_0_to_44</th>\n",
       "      <th>percent_sex_age_pop_45_to_74</th>\n",
       "      <th>percent_sex_age_pop_75_and_over</th>\n",
       "      <th>percent_sex_age_pop_0_to_64</th>\n",
       "      <th>percent_sex_age_pop_65_and_over</th>\n",
       "      <th>percent_sex_age_pop_0_to_35</th>\n",
       "      <th>percent_sex_age_pop_35_to_59</th>\n",
       "      <th>percent_sex_age_pop_60_to_84</th>\n",
       "    </tr>\n",
       "  </thead>\n",
       "  <tbody>\n",
       "    <tr>\n",
       "      <th>0</th>\n",
       "      <td>Alachua County, Florida</td>\n",
       "      <td>10044.0</td>\n",
       "      <td>74.0</td>\n",
       "      <td>0.007368</td>\n",
       "      <td>110327</td>\n",
       "      <td>263148</td>\n",
       "      <td>25229</td>\n",
       "      <td>161957</td>\n",
       "      <td>51979</td>\n",
       "      <td>870</td>\n",
       "      <td>...</td>\n",
       "      <td>0.031465</td>\n",
       "      <td>0.384540</td>\n",
       "      <td>0.655430</td>\n",
       "      <td>0.291555</td>\n",
       "      <td>0.053016</td>\n",
       "      <td>0.867740</td>\n",
       "      <td>0.132260</td>\n",
       "      <td>0.549345</td>\n",
       "      <td>0.262943</td>\n",
       "      <td>0.170558</td>\n",
       "    </tr>\n",
       "    <tr>\n",
       "      <th>1</th>\n",
       "      <td>Baker County, Florida</td>\n",
       "      <td>1750.0</td>\n",
       "      <td>19.0</td>\n",
       "      <td>0.010857</td>\n",
       "      <td>9005</td>\n",
       "      <td>27785</td>\n",
       "      <td>674</td>\n",
       "      <td>22640</td>\n",
       "      <td>3770</td>\n",
       "      <td>67</td>\n",
       "      <td>...</td>\n",
       "      <td>0.017815</td>\n",
       "      <td>0.185172</td>\n",
       "      <td>0.587187</td>\n",
       "      <td>0.363290</td>\n",
       "      <td>0.049523</td>\n",
       "      <td>0.862264</td>\n",
       "      <td>0.137736</td>\n",
       "      <td>0.460752</td>\n",
       "      <td>0.337844</td>\n",
       "      <td>0.188735</td>\n",
       "    </tr>\n",
       "  </tbody>\n",
       "</table>\n",
       "<p>2 rows × 127 columns</p>\n",
       "</div>"
      ],
      "text/plain": [
       "              county_state  total_cases  total_fatalities  death_rate  \\\n",
       "0  Alachua County, Florida      10044.0              74.0    0.007368   \n",
       "1    Baker County, Florida       1750.0              19.0    0.010857   \n",
       "\n",
       "   total_tests  race_pop  race_pop_hispanic_or_latino_of_any_race  \\\n",
       "0       110327    263148                                    25229   \n",
       "1         9005     27785                                      674   \n",
       "\n",
       "   race_pop_white_alone  race_pop_black_or_african_american_alone  \\\n",
       "0                161957                                     51979   \n",
       "1                 22640                                      3770   \n",
       "\n",
       "   race_pop_american_indian_and_alaska_native_alone  ...  \\\n",
       "0                                               870  ...   \n",
       "1                                                67  ...   \n",
       "\n",
       "   percent_race_pop_other  percent_race_pop_minority  \\\n",
       "0                0.031465                   0.384540   \n",
       "1                0.017815                   0.185172   \n",
       "\n",
       "   percent_sex_age_pop_0_to_44  percent_sex_age_pop_45_to_74  \\\n",
       "0                     0.655430                      0.291555   \n",
       "1                     0.587187                      0.363290   \n",
       "\n",
       "   percent_sex_age_pop_75_and_over  percent_sex_age_pop_0_to_64  \\\n",
       "0                         0.053016                     0.867740   \n",
       "1                         0.049523                     0.862264   \n",
       "\n",
       "   percent_sex_age_pop_65_and_over  percent_sex_age_pop_0_to_35  \\\n",
       "0                         0.132260                     0.549345   \n",
       "1                         0.137736                     0.460752   \n",
       "\n",
       "   percent_sex_age_pop_35_to_59  percent_sex_age_pop_60_to_84  \n",
       "0                      0.262943                      0.170558  \n",
       "1                      0.337844                      0.188735  \n",
       "\n",
       "[2 rows x 127 columns]"
      ]
     },
     "execution_count": 37,
     "metadata": {},
     "output_type": "execute_result"
    }
   ],
   "source": [
    "# Display the first few rows of the dataframe.\n",
    "df.head(2)"
   ]
  },
  {
   "cell_type": "markdown",
   "metadata": {},
   "source": [
    "# Regression Modeling"
   ]
  },
  {
   "cell_type": "markdown",
   "metadata": {},
   "source": [
    "## Explainable Model: GridSearchCV with Power, Ridge: 76%"
   ]
  },
  {
   "cell_type": "code",
   "execution_count": 38,
   "metadata": {},
   "outputs": [],
   "source": [
    "# Assign our features to X and y.\n",
    "X = df[[\n",
    "    'obes_percent',\n",
    "    'percent_sex_age_pop_male',\n",
    "    'percent_sex_age_pop_0_to_44',\n",
    "    'percent_sex_age_pop_45_to_74',\n",
    "    'percent_inc_hhlds_less_than_99_999',\n",
    "    'percent_inc_hhlds_100_000_or_more',\n",
    "    'percent_health_ins_noninst_pop_cov_no',\n",
    "    'percent_race_pop_asian_alone',\n",
    "    'percent_race_pop_white_alone',\n",
    "    'percent_race_pop_native_hawaiian_and_other_pacific_islander_alone',\n",
    "    'percent_race_pop_black_or_african_american_alone',\n",
    "    'pop_density',\n",
    "    'tests_per_100_people'\n",
    "]]\n",
    "\n",
    "y = df['cases_per_100_people']\n",
    "\n",
    "# Split X and y into train/test groups.\n",
    "X_train, X_test, y_train, y_test = train_test_split(X, y, random_state=42)"
   ]
  },
  {
   "cell_type": "code",
   "execution_count": 39,
   "metadata": {},
   "outputs": [
    {
     "data": {
      "text/plain": [
       "((50, 13), (17, 13))"
      ]
     },
     "execution_count": 39,
     "metadata": {},
     "output_type": "execute_result"
    }
   ],
   "source": [
    "# Display the shape of the training  and test data.\n",
    "X_train.shape, X_test.shape"
   ]
  },
  {
   "cell_type": "code",
   "execution_count": 40,
   "metadata": {},
   "outputs": [],
   "source": [
    "# Create a pipeline.\n",
    "pipe = make_pipeline(PowerTransformer(), Ridge(max_iter=20_000))\n",
    "\n",
    "# Set parameters for GridSearchCV.\n",
    "params = {\n",
    "    'ridge__alpha': [1, 10, 20]\n",
    "}\n",
    "\n",
    "# Set up GridSearchCV with the pipe.\n",
    "gs = GridSearchCV(pipe, param_grid=params, scoring='r2', cv=10, n_jobs=-1)"
   ]
  },
  {
   "cell_type": "code",
   "execution_count": 41,
   "metadata": {},
   "outputs": [
    {
     "data": {
      "text/plain": [
       "GridSearchCV(cv=10,\n",
       "             estimator=Pipeline(steps=[('powertransformer', PowerTransformer()),\n",
       "                                       ('ridge', Ridge(max_iter=20000))]),\n",
       "             n_jobs=-1, param_grid={'ridge__alpha': [1, 10, 20]}, scoring='r2')"
      ]
     },
     "execution_count": 41,
     "metadata": {},
     "output_type": "execute_result"
    }
   ],
   "source": [
    "# Call fit on the GridSearchCV object and pass the training  data.\n",
    "gs.fit(X_train, y_train)"
   ]
  },
  {
   "cell_type": "code",
   "execution_count": 42,
   "metadata": {},
   "outputs": [
    {
     "data": {
      "text/plain": [
       "{'ridge__alpha': 20}"
      ]
     },
     "execution_count": 42,
     "metadata": {},
     "output_type": "execute_result"
    }
   ],
   "source": [
    "# Display the best parameters.\n",
    "gs.best_params_"
   ]
  },
  {
   "cell_type": "code",
   "execution_count": 43,
   "metadata": {},
   "outputs": [
    {
     "name": "stdout",
     "output_type": "stream",
     "text": [
      "Test R2 Score: 0.7622.\n"
     ]
    }
   ],
   "source": [
    "# Display the score for the test set.\n",
    "print(f'Test R2 Score: {round(gs.score(X_test, y_test), 4)}.')"
   ]
  },
  {
   "cell_type": "code",
   "execution_count": 44,
   "metadata": {},
   "outputs": [
    {
     "name": "stdout",
     "output_type": "stream",
     "text": [
      "Train R2 Score: 0.6825.\n"
     ]
    }
   ],
   "source": [
    "# Display the score for the training set.\n",
    "print(f'Train R2 Score: {round(gs.score(X_train, y_train), 4)}.')"
   ]
  },
  {
   "cell_type": "code",
   "execution_count": 45,
   "metadata": {},
   "outputs": [
    {
     "name": "stdout",
     "output_type": "stream",
     "text": [
      "RMSE of Model:0.722.\n"
     ]
    }
   ],
   "source": [
    "# Calculate the RMSE for the model.\n",
    "y_preds = gs.predict(X_test)\n",
    "print(f'RMSE of Model:{round(mean_squared_error(y_test, y_preds, squared=False), 4)}.')"
   ]
  },
  {
   "cell_type": "code",
   "execution_count": 46,
   "metadata": {},
   "outputs": [
    {
     "data": {
      "image/png": "[encoded data removed]",
      "text/plain": [
       "<Figure size 576x432 with 1 Axes>"
      ]
     },
     "metadata": {},
     "output_type": "display_data"
    }
   ],
   "source": [
    "# Plot the predicted versus the actual 'cases_per_100_people'.\n",
    "plt.figure(figsize=(8,6))\n",
    "sns.scatterplot(y_preds, y_test)\n",
    "plt.title('Florida Actual vs. Predicted Cases/100 People', fontsize=16)\n",
    "plt.xlabel('Predicted Cases/100 People', fontsize=14)\n",
    "plt.ylabel('Actual Cases/100 People', fontsize=14);"
   ]
  },
  {
   "cell_type": "code",
   "execution_count": 47,
   "metadata": {},
   "outputs": [],
   "source": [
    "# Extract the features of X.\n",
    "features = X_train.columns"
   ]
  },
  {
   "cell_type": "code",
   "execution_count": 48,
   "metadata": {},
   "outputs": [],
   "source": [
    "# Extract the coefficients for the features used in the best model.\n",
    "coefs = gs.best_estimator_.named_steps['ridge'].coef_"
   ]
  },
  {
   "cell_type": "code",
   "execution_count": 49,
   "metadata": {},
   "outputs": [],
   "source": [
    "# Create a dataframe of the features and their coefficients.\n",
    "coef_df = pd.DataFrame(list(zip(features, coefs)), columns=['Feature', 'Coefficients'])\n",
    "coef_df = coef_df.set_index('Feature')\n",
    "coef_df = coef_df.sort_values(by='Coefficients', ascending=False)"
   ]
  },
  {
   "cell_type": "code",
   "execution_count": 50,
   "metadata": {},
   "outputs": [],
   "source": [
    "# Rename the index.\n",
    "coef_df = coef_df.rename(index={\n",
    "    'inc_per_capita_inc_dol': 'Income Per Capita ($)',\n",
    "    'percent_inc_hhlds_less_than_99_999': 'Income: < $100,000',\n",
    "    'percent_inc_hhlds_100_000_or_more': 'Income: > $100,000',\n",
    "    'obes_percent': 'Obesity (%)',\n",
    "    'pop_density': 'Population Density',\n",
    "    'percent_health_ins_noninst_pop_cov_no': 'Health Insurance: None (%)',\n",
    "    'percent_sex_age_pop_male': 'Sex: Male (%)',\n",
    "    'percent_sex_age_pop_under_5': 'Age: Under 5 Yrs (%)',\n",
    "    'percent_sex_age_pop_5_to_9': 'Age: 5-9 Yrs (%)',\n",
    "    'percent_sex_age_pop_10_to_14': 'Age: 10-14 Yrs (%)',\n",
    "    'percent_sex_age_pop_15_to_19': 'Age: 15-19 Yrs (%)',\n",
    "    'percent_sex_age_pop_20_to_24': 'Age: 20-24 Yrs (%)',\n",
    "    'percent_sex_age_pop_25_to_34': 'Age: 25-34 Yrs (%)',\n",
    "    'percent_sex_age_pop_35_to_44': 'Age: 35-44 Yrs (%)',\n",
    "    'percent_sex_age_pop_45_to_74': 'Age: 45-75 Yrs (%)',\n",
    "    'percent_sex_age_pop_75_and_over': 'Age: 75+ Yrs (%)',\n",
    "    'percent_sex_age_pop_0_to_44': 'Age: 0-44 Yrs (%)',\n",
    "    'percent_race_pop_asian_alone': 'Race: Asian (%)',\n",
    "    'percent_race_pop_american_indian_and_alaska_native_alone': 'Race: American Indian/Alaskan (%)',\n",
    "    'percent_race_pop_native_hawaiian_and_other_pacific_islander_alone': 'Race: Pacific Islander (%)',\n",
    "    'percent_race_pop_black_or_african_american_alone': 'Race: Black/African American (%)',\n",
    "    'percent_race_pop_hispanic_or_latino_of_any_race': 'Race: Hispanic/Latino (%)',\n",
    "    'percent_race_pop_two_or_more_races': 'Race: Two or More Races (%)',\n",
    "    'percent_race_pop_white_alone': 'Race: White (%)',\n",
    "    'tests_per_100_people': 'Tests/100 People'\n",
    "})"
   ]
  },
  {
   "cell_type": "code",
   "execution_count": 51,
   "metadata": {},
   "outputs": [
    {
     "data": {
      "image/png": "[encoded data removed]",
      "text/plain": [
       "<Figure size 576x504 with 1 Axes>"
      ]
     },
     "metadata": {},
     "output_type": "display_data"
    }
   ],
   "source": [
    "# Plot the datatframe of the features and their coefficients.\n",
    "coef_df.sort_values(by='Coefficients').plot(kind = 'barh', figsize=(8,7), legend=None)\n",
    "plt.title('Florida Model Coefficients', fontsize=16)\n",
    "plt.yticks(fontsize=14);"
   ]
  },
  {
   "cell_type": "markdown",
   "metadata": {},
   "source": [
    "### Create a smaller coefficient dataframe"
   ]
  },
  {
   "cell_type": "code",
   "execution_count": 52,
   "metadata": {},
   "outputs": [],
   "source": [
    "coef_neg = coef_df.sort_values(by='Coefficients')[:5]"
   ]
  },
  {
   "cell_type": "code",
   "execution_count": 53,
   "metadata": {},
   "outputs": [],
   "source": [
    "coef_pos = coef_df.sort_values(by='Coefficients', ascending=False)[:5]"
   ]
  },
  {
   "cell_type": "code",
   "execution_count": 54,
   "metadata": {},
   "outputs": [],
   "source": [
    "coef_df = pd.concat([coef_neg, coef_pos]).sort_values(by='Coefficients', ascending=False)"
   ]
  },
  {
   "cell_type": "code",
   "execution_count": 56,
   "metadata": {},
   "outputs": [
    {
     "data": {
      "image/png": "[encoded data removed]",
      "text/plain": [
       "<Figure size 432x432 with 1 Axes>"
      ]
     },
     "metadata": {},
     "output_type": "display_data"
    }
   ],
   "source": [
    "# Plot the datatframe of the features and their coefficients.\n",
    "coef_df.sort_values(by='Coefficients').plot(kind = 'barh', figsize=(6,6), legend=None)\n",
    "plt.title('Florida Model Coefficients', fontsize=16)\n",
    "plt.yticks(fontsize=14);"
   ]
  },
  {
   "cell_type": "markdown",
   "metadata": {},
   "source": [
    "## Blackbox Model: Quantile, Polynomial, SelectKBest, Gridsearch, Ridge: 70%"
   ]
  },
  {
   "cell_type": "code",
   "execution_count": 115,
   "metadata": {},
   "outputs": [],
   "source": [
    "# Assign our features to X and y.\n",
    "X = df[[\n",
    "    'obes_percent',\n",
    "    'pop_density',\n",
    "    'sex_age_median_age_in_years',\n",
    "    'inc_med_hhld_inc_dol',\n",
    "    'inc_mean_hhld_inc_dol',\n",
    "    'inc_per_capita_inc_dol',\n",
    "    'inc_med_earn_male_full_yr_workers_dol',\n",
    "    'inc_med_earn_female_full_yr_workers_dol',\n",
    "    'percent_race_pop_hispanic_or_latino_of_any_race',\n",
    "    'percent_race_pop_white_alone',\n",
    "    'percent_race_pop_black_or_african_american_alone',\n",
    "    'percent_race_pop_american_indian_and_alaska_native_alone',\n",
    "    'percent_race_pop_asian_alone',\n",
    "    'percent_race_pop_native_hawaiian_and_other_pacific_islander_alone',\n",
    "    'percent_race_pop_two_or_more_races',\n",
    "    'percent_sex_age_pop_male',\n",
    "    'percent_sex_age_pop_under_5',\n",
    "    'percent_sex_age_pop_5_to_9',\n",
    "    'percent_sex_age_pop_10_to_14',\n",
    "    'percent_sex_age_pop_15_to_19',\n",
    "    'percent_sex_age_pop_20_to_24',\n",
    "    'percent_sex_age_pop_25_to_34',\n",
    "    'percent_sex_age_pop_35_to_44',\n",
    "    'percent_sex_age_pop_45_to_54',\n",
    "    'percent_sex_age_pop_55_to_59',\n",
    "    'percent_sex_age_pop_60_to_64',\n",
    "    'percent_sex_age_pop_65_to_74',\n",
    "    'percent_sex_age_pop_75_to_84',\n",
    "    'percent_sex_age_pop_85_and_over',\n",
    "    'percent_health_ins_noninst_pop_cov_yes',\n",
    "    'percent_inc_hhlds_less_than_10_000',\n",
    "    'percent_inc_hhlds_10_000_to_14_999',\n",
    "    'percent_inc_hhlds_15_000_to_24_999',\n",
    "    'percent_inc_hhlds_25_000_to_34_999',\n",
    "    'percent_inc_hhlds_35_000_to_49_999',\n",
    "    'percent_inc_hhlds_50_000_to_74_999',\n",
    "    'percent_inc_hhlds_75_000_to_99_999',\n",
    "    'percent_inc_hhlds_100_000_to_149_999',\n",
    "    'percent_inc_hhlds_150_000_to_199_999',\n",
    "    'percent_inc_hhlds_200_000_or_more',\n",
    "]]\n",
    "\n",
    "y = df['cases_per_100_people']\n",
    "\n",
    "# Split X and y into train/test groups.\n",
    "X_train, X_test, y_train, y_test = train_test_split(X, y, random_state=42)"
   ]
  },
  {
   "cell_type": "code",
   "execution_count": 116,
   "metadata": {},
   "outputs": [
    {
     "data": {
      "text/plain": [
       "((50, 40), (17, 40))"
      ]
     },
     "execution_count": 116,
     "metadata": {},
     "output_type": "execute_result"
    }
   ],
   "source": [
    "# Display the shape of the training and test data.\n",
    "X_train.shape, X_test.shape"
   ]
  },
  {
   "cell_type": "code",
   "execution_count": 117,
   "metadata": {},
   "outputs": [],
   "source": [
    "# Create a pipeline.\n",
    "pipe = make_pipeline(QuantileTransformer(), PolynomialFeatures(), SelectKBest(f_regression), Ridge(max_iter=20_000))\n",
    "\n",
    "# Set parameters for GridSearchCV.\n",
    "params = {\n",
    "    'selectkbest__k': range(1,100),\n",
    "    'ridge__alpha': [.1, 1, 10, 20, 30]\n",
    "}\n",
    "\n",
    "# Set up GridSearchCV with the pipe.\n",
    "gs = GridSearchCV(pipe, param_grid=params, scoring='r2', cv=10, n_jobs=-1)"
   ]
  },
  {
   "cell_type": "code",
   "execution_count": 118,
   "metadata": {},
   "outputs": [
    {
     "data": {
      "text/plain": [
       "GridSearchCV(cv=10,\n",
       "             estimator=Pipeline(steps=[('quantiletransformer',\n",
       "                                        QuantileTransformer()),\n",
       "                                       ('polynomialfeatures',\n",
       "                                        PolynomialFeatures()),\n",
       "                                       ('selectkbest',\n",
       "                                        SelectKBest(score_func=<function f_regression at 0x7fe8a4499b90>)),\n",
       "                                       ('ridge', Ridge(max_iter=20000))]),\n",
       "             n_jobs=-1,\n",
       "             param_grid={'ridge__alpha': [0.1, 1, 10, 20, 30],\n",
       "                         'selectkbest__k': range(1, 100)},\n",
       "             scoring='r2')"
      ]
     },
     "execution_count": 118,
     "metadata": {},
     "output_type": "execute_result"
    }
   ],
   "source": [
    "# Call fit on the GridSearchCV object and pass the training  data.\n",
    "gs.fit(X_train, y_train)"
   ]
  },
  {
   "cell_type": "code",
   "execution_count": 119,
   "metadata": {},
   "outputs": [
    {
     "data": {
      "text/plain": [
       "{'ridge__alpha': 30, 'selectkbest__k': 35}"
      ]
     },
     "execution_count": 119,
     "metadata": {},
     "output_type": "execute_result"
    }
   ],
   "source": [
    "# Display the best parameters.\n",
    "gs.best_params_"
   ]
  },
  {
   "cell_type": "code",
   "execution_count": 120,
   "metadata": {},
   "outputs": [
    {
     "name": "stdout",
     "output_type": "stream",
     "text": [
      "Test R2 Score: 0.7047.\n"
     ]
    }
   ],
   "source": [
    "# Display the score for the test set.\n",
    "print(f'Test R2 Score: {round(gs.score(X_test, y_test), 4)}.')"
   ]
  },
  {
   "cell_type": "code",
   "execution_count": 121,
   "metadata": {},
   "outputs": [
    {
     "name": "stdout",
     "output_type": "stream",
     "text": [
      "Train R2 Score: 0.5599.\n"
     ]
    }
   ],
   "source": [
    "# Display the score for the training set.\n",
    "print(f'Train R2 Score: {round(gs.score(X_train, y_train), 4)}.')"
   ]
  },
  {
   "cell_type": "code",
   "execution_count": 122,
   "metadata": {},
   "outputs": [
    {
     "name": "stdout",
     "output_type": "stream",
     "text": [
      "RMSE of Model:0.8047.\n"
     ]
    }
   ],
   "source": [
    "# Calculate the RMSE for the model.\n",
    "y_preds = gs.predict(X_test)\n",
    "print(f'RMSE of Model:{round(mean_squared_error(y_test, y_preds, squared=False), 4)}.')"
   ]
  },
  {
   "cell_type": "code",
   "execution_count": 123,
   "metadata": {},
   "outputs": [
    {
     "data": {
      "image/png": "[encoded data removed]",
      "text/plain": [
       "<Figure size 576x432 with 1 Axes>"
      ]
     },
     "metadata": {
      "needs_background": "light"
     },
     "output_type": "display_data"
    }
   ],
   "source": [
    "# Plot the predicted versus the actual 'cases_per_100_people'.\n",
    "plt.figure(figsize=(8,6))\n",
    "sns.scatterplot(y_preds, y_test)\n",
    "plt.title('Florida Actual vs. Predicted Cases/100 People', fontsize=16)\n",
    "plt.xlabel('Predicted Cases/100 People', fontsize=14)\n",
    "plt.ylabel('Actual Cases/100 People', fontsize=14);"
   ]
  },
  {
   "cell_type": "markdown",
   "metadata": {},
   "source": [
    "# Classification Modeling"
   ]
  },
  {
   "cell_type": "markdown",
   "metadata": {},
   "source": [
    "## Simple Model: GridSearchCV with Classifier: 71% (baseline 71)"
   ]
  },
  {
   "cell_type": "code",
   "execution_count": 124,
   "metadata": {},
   "outputs": [],
   "source": [
    "# Assign our features to X and y.\n",
    "X = df[[\n",
    "    'inc_per_capita_inc_dol',\n",
    "    'percent_sex_age_pop_male',\n",
    "    'obes_percent',\n",
    "    'percent_sex_age_pop_0_to_44',\n",
    "    'percent_sex_age_pop_45_to_74',\n",
    "    'percent_race_pop_asian_alone',\n",
    "    'percent_inc_hhlds_less_than_99_999',\n",
    "    'percent_inc_hhlds_100_000_or_more',\n",
    "    'percent_health_ins_noninst_pop_cov_yes',\n",
    "    'pop_density',\n",
    "    'percent_race_pop_white_alone',\n",
    "    'percent_race_pop_native_hawaiian_and_other_pacific_islander_alone',\n",
    "    'percent_race_pop_black_or_african_american_alone',\n",
    "    'tests_per_100_people'\n",
    "]]\n",
    "\n",
    "y = df['covid_severity']\n",
    "\n",
    "# Split X and y into train/test groups.\n",
    "X_train, X_test, y_train, y_test = train_test_split(X, y, stratify=y, random_state=42)"
   ]
  },
  {
   "cell_type": "code",
   "execution_count": 125,
   "metadata": {},
   "outputs": [
    {
     "data": {
      "text/plain": [
       "((50, 14), (17, 14))"
      ]
     },
     "execution_count": 125,
     "metadata": {},
     "output_type": "execute_result"
    }
   ],
   "source": [
    "# Display the shape of the training and test data.\n",
    "X_train.shape, X_test.shape"
   ]
  },
  {
   "cell_type": "code",
   "execution_count": 126,
   "metadata": {},
   "outputs": [
    {
     "data": {
      "text/plain": [
       "3    0.705882\n",
       "2    0.235294\n",
       "1    0.058824\n",
       "Name: covid_severity, dtype: float64"
      ]
     },
     "execution_count": 126,
     "metadata": {},
     "output_type": "execute_result"
    }
   ],
   "source": [
    "# Display the baseline percentages.\n",
    "y_test.value_counts(normalize=True)"
   ]
  },
  {
   "cell_type": "code",
   "execution_count": 127,
   "metadata": {},
   "outputs": [],
   "source": [
    "# Create a pipeline.\n",
    "pipe = make_pipeline(QuantileTransformer(), SelectKBest(), LogisticRegression())\n",
    "\n",
    "# Set parameters for GridSearchCV.\n",
    "params = {\n",
    "    'selectkbest__k': range(1,21),\n",
    "    'logisticregression__C': [.1, .5, 1, 10]\n",
    "}\n",
    "\n",
    "# Set up GridSearchCV with the pipe.\n",
    "gs = GridSearchCV(pipe, param_grid=params, cv=10, n_jobs=-1)"
   ]
  },
  {
   "cell_type": "code",
   "execution_count": 128,
   "metadata": {},
   "outputs": [
    {
     "data": {
      "text/plain": [
       "GridSearchCV(cv=10,\n",
       "             estimator=Pipeline(steps=[('quantiletransformer',\n",
       "                                        QuantileTransformer()),\n",
       "                                       ('selectkbest', SelectKBest()),\n",
       "                                       ('logisticregression',\n",
       "                                        LogisticRegression())]),\n",
       "             n_jobs=-1,\n",
       "             param_grid={'logisticregression__C': [0.1, 0.5, 1, 10],\n",
       "                         'selectkbest__k': range(1, 21)})"
      ]
     },
     "execution_count": 128,
     "metadata": {},
     "output_type": "execute_result"
    }
   ],
   "source": [
    "# Call fit on the GridSearchCV object and pass the training  data.\n",
    "gs.fit(X_train, y_train)"
   ]
  },
  {
   "cell_type": "code",
   "execution_count": 129,
   "metadata": {},
   "outputs": [
    {
     "data": {
      "text/plain": [
       "{'logisticregression__C': 0.5, 'selectkbest__k': 4}"
      ]
     },
     "execution_count": 129,
     "metadata": {},
     "output_type": "execute_result"
    }
   ],
   "source": [
    "# Display the best parameters.\n",
    "gs.best_params_"
   ]
  },
  {
   "cell_type": "code",
   "execution_count": 130,
   "metadata": {},
   "outputs": [
    {
     "name": "stdout",
     "output_type": "stream",
     "text": [
      "Test Accuracy: 0.7059.\n"
     ]
    }
   ],
   "source": [
    "# Display the score for the test set.\n",
    "print(f'Test Accuracy: {round(gs.score(X_test, y_test), 4)}.')"
   ]
  },
  {
   "cell_type": "code",
   "execution_count": 131,
   "metadata": {},
   "outputs": [
    {
     "name": "stdout",
     "output_type": "stream",
     "text": [
      "Train Accuracy: 0.82.\n"
     ]
    }
   ],
   "source": [
    "# Display the score for the training set.\n",
    "print(f'Train Accuracy: {round(gs.score(X_train, y_train), 4)}.')"
   ]
  },
  {
   "cell_type": "code",
   "execution_count": 132,
   "metadata": {},
   "outputs": [
    {
     "data": {
      "image/png": "[encoded data removed]",
      "text/plain": [
       "<Figure size 432x288 with 2 Axes>"
      ]
     },
     "metadata": {
      "needs_background": "light"
     },
     "output_type": "display_data"
    }
   ],
   "source": [
    "# Plot a confusion matrix.\n",
    "y_preds = gs.predict(X_test)\n",
    "plot_confusion_matrix(gs, X_test, y_test);"
   ]
  },
  {
   "cell_type": "code",
   "execution_count": 133,
   "metadata": {},
   "outputs": [],
   "source": [
    "# Extract a boolean matrix of features selectkbest used in the best model.\n",
    "features = gs.best_estimator_.named_steps['selectkbest'].get_support()"
   ]
  },
  {
   "cell_type": "code",
   "execution_count": 134,
   "metadata": {},
   "outputs": [],
   "source": [
    "# Overlay the boolean matrix with the features to get the features used.\n",
    "features = X_train.columns[features==True]"
   ]
  },
  {
   "cell_type": "code",
   "execution_count": 135,
   "metadata": {},
   "outputs": [],
   "source": [
    "# Extract the coefficients for the features used in the best model.\n",
    "coefs = gs.best_estimator_.named_steps['logisticregression'].coef_"
   ]
  },
  {
   "cell_type": "code",
   "execution_count": 136,
   "metadata": {},
   "outputs": [],
   "source": [
    "# Extract coefficients for each class and save to a variable.\n",
    "coef1 = coefs[0]\n",
    "coef2 = coefs[1]\n",
    "coef3 = coefs[2]"
   ]
  },
  {
   "cell_type": "code",
   "execution_count": 137,
   "metadata": {},
   "outputs": [
    {
     "data": {
      "text/html": [
       "<div>\n",
       "<style scoped>\n",
       "    .dataframe tbody tr th:only-of-type {\n",
       "        vertical-align: middle;\n",
       "    }\n",
       "\n",
       "    .dataframe tbody tr th {\n",
       "        vertical-align: top;\n",
       "    }\n",
       "\n",
       "    .dataframe thead th {\n",
       "        text-align: right;\n",
       "    }\n",
       "</style>\n",
       "<table border=\"1\" class=\"dataframe\">\n",
       "  <thead>\n",
       "    <tr style=\"text-align: right;\">\n",
       "      <th></th>\n",
       "      <th>Feature</th>\n",
       "      <th>Covid Severity Low</th>\n",
       "    </tr>\n",
       "  </thead>\n",
       "  <tbody>\n",
       "    <tr>\n",
       "      <th>0</th>\n",
       "      <td>percent_sex_age_pop_male</td>\n",
       "      <td>-0.223803</td>\n",
       "    </tr>\n",
       "    <tr>\n",
       "      <th>1</th>\n",
       "      <td>percent_sex_age_pop_0_to_44</td>\n",
       "      <td>-0.278886</td>\n",
       "    </tr>\n",
       "    <tr>\n",
       "      <th>2</th>\n",
       "      <td>percent_sex_age_pop_45_to_74</td>\n",
       "      <td>0.286909</td>\n",
       "    </tr>\n",
       "    <tr>\n",
       "      <th>3</th>\n",
       "      <td>tests_per_100_people</td>\n",
       "      <td>-0.404292</td>\n",
       "    </tr>\n",
       "  </tbody>\n",
       "</table>\n",
       "</div>"
      ],
      "text/plain": [
       "                        Feature  Covid Severity Low\n",
       "0      percent_sex_age_pop_male           -0.223803\n",
       "1   percent_sex_age_pop_0_to_44           -0.278886\n",
       "2  percent_sex_age_pop_45_to_74            0.286909\n",
       "3          tests_per_100_people           -0.404292"
      ]
     },
     "execution_count": 137,
     "metadata": {},
     "output_type": "execute_result"
    }
   ],
   "source": [
    "pd.DataFrame(list(zip(features, coef1)), columns=['Feature', 'Covid Severity Low'])"
   ]
  },
  {
   "cell_type": "code",
   "execution_count": 138,
   "metadata": {},
   "outputs": [
    {
     "data": {
      "text/html": [
       "<div>\n",
       "<style scoped>\n",
       "    .dataframe tbody tr th:only-of-type {\n",
       "        vertical-align: middle;\n",
       "    }\n",
       "\n",
       "    .dataframe tbody tr th {\n",
       "        vertical-align: top;\n",
       "    }\n",
       "\n",
       "    .dataframe thead th {\n",
       "        text-align: right;\n",
       "    }\n",
       "</style>\n",
       "<table border=\"1\" class=\"dataframe\">\n",
       "  <thead>\n",
       "    <tr style=\"text-align: right;\">\n",
       "      <th></th>\n",
       "      <th>Feature</th>\n",
       "      <th>Covid Severity Medium</th>\n",
       "    </tr>\n",
       "  </thead>\n",
       "  <tbody>\n",
       "    <tr>\n",
       "      <th>0</th>\n",
       "      <td>percent_sex_age_pop_male</td>\n",
       "      <td>-0.536385</td>\n",
       "    </tr>\n",
       "    <tr>\n",
       "      <th>1</th>\n",
       "      <td>percent_sex_age_pop_0_to_44</td>\n",
       "      <td>-0.360858</td>\n",
       "    </tr>\n",
       "    <tr>\n",
       "      <th>2</th>\n",
       "      <td>percent_sex_age_pop_45_to_74</td>\n",
       "      <td>0.540479</td>\n",
       "    </tr>\n",
       "    <tr>\n",
       "      <th>3</th>\n",
       "      <td>tests_per_100_people</td>\n",
       "      <td>-0.273627</td>\n",
       "    </tr>\n",
       "  </tbody>\n",
       "</table>\n",
       "</div>"
      ],
      "text/plain": [
       "                        Feature  Covid Severity Medium\n",
       "0      percent_sex_age_pop_male              -0.536385\n",
       "1   percent_sex_age_pop_0_to_44              -0.360858\n",
       "2  percent_sex_age_pop_45_to_74               0.540479\n",
       "3          tests_per_100_people              -0.273627"
      ]
     },
     "execution_count": 138,
     "metadata": {},
     "output_type": "execute_result"
    }
   ],
   "source": [
    "pd.DataFrame(list(zip(features, coef2)), columns=['Feature', 'Covid Severity Medium'])"
   ]
  },
  {
   "cell_type": "code",
   "execution_count": 139,
   "metadata": {},
   "outputs": [
    {
     "data": {
      "text/html": [
       "<div>\n",
       "<style scoped>\n",
       "    .dataframe tbody tr th:only-of-type {\n",
       "        vertical-align: middle;\n",
       "    }\n",
       "\n",
       "    .dataframe tbody tr th {\n",
       "        vertical-align: top;\n",
       "    }\n",
       "\n",
       "    .dataframe thead th {\n",
       "        text-align: right;\n",
       "    }\n",
       "</style>\n",
       "<table border=\"1\" class=\"dataframe\">\n",
       "  <thead>\n",
       "    <tr style=\"text-align: right;\">\n",
       "      <th></th>\n",
       "      <th>Feature</th>\n",
       "      <th>Covid Severity High</th>\n",
       "    </tr>\n",
       "  </thead>\n",
       "  <tbody>\n",
       "    <tr>\n",
       "      <th>0</th>\n",
       "      <td>percent_sex_age_pop_male</td>\n",
       "      <td>0.760188</td>\n",
       "    </tr>\n",
       "    <tr>\n",
       "      <th>1</th>\n",
       "      <td>percent_sex_age_pop_0_to_44</td>\n",
       "      <td>0.639744</td>\n",
       "    </tr>\n",
       "    <tr>\n",
       "      <th>2</th>\n",
       "      <td>percent_sex_age_pop_45_to_74</td>\n",
       "      <td>-0.827389</td>\n",
       "    </tr>\n",
       "    <tr>\n",
       "      <th>3</th>\n",
       "      <td>tests_per_100_people</td>\n",
       "      <td>0.677919</td>\n",
       "    </tr>\n",
       "  </tbody>\n",
       "</table>\n",
       "</div>"
      ],
      "text/plain": [
       "                        Feature  Covid Severity High\n",
       "0      percent_sex_age_pop_male             0.760188\n",
       "1   percent_sex_age_pop_0_to_44             0.639744\n",
       "2  percent_sex_age_pop_45_to_74            -0.827389\n",
       "3          tests_per_100_people             0.677919"
      ]
     },
     "execution_count": 139,
     "metadata": {},
     "output_type": "execute_result"
    }
   ],
   "source": [
    "pd.DataFrame(list(zip(features, coef3)), columns=['Feature', 'Covid Severity High'])"
   ]
  },
  {
   "cell_type": "markdown",
   "metadata": {},
   "source": [
    "## Blackbox Model: Quantile, Polynomial, Gridsearch, Classifier: 57% (baseline 71)"
   ]
  },
  {
   "cell_type": "code",
   "execution_count": 140,
   "metadata": {},
   "outputs": [],
   "source": [
    "# Assign our features to X and y.\n",
    "X = df[[\n",
    "    'inc_per_capita_inc_dol',\n",
    "    'percent_sex_age_pop_male',\n",
    "    'obes_percent',\n",
    "    'percent_sex_age_pop_0_to_44',\n",
    "    'percent_sex_age_pop_45_to_74',\n",
    "    'percent_race_pop_asian_alone',\n",
    "    'percent_inc_hhlds_less_than_99_999',\n",
    "    'percent_inc_hhlds_100_000_or_more',\n",
    "    'percent_health_ins_noninst_pop_cov_yes',\n",
    "    'pop_density',\n",
    "    'percent_race_pop_white_alone',\n",
    "    'percent_race_pop_native_hawaiian_and_other_pacific_islander_alone',\n",
    "    'percent_race_pop_black_or_african_american_alone',\n",
    "    'tests_per_100_people'\n",
    "]]\n",
    "\n",
    "y = df['covid_severity']\n",
    "\n",
    "# Split X and y into train/test groups.\n",
    "X_train, X_test, y_train, y_test = train_test_split(X, y, stratify=y, random_state=42)"
   ]
  },
  {
   "cell_type": "code",
   "execution_count": 141,
   "metadata": {},
   "outputs": [
    {
     "data": {
      "text/plain": [
       "((50, 14), (17, 14))"
      ]
     },
     "execution_count": 141,
     "metadata": {},
     "output_type": "execute_result"
    }
   ],
   "source": [
    "# Display the shape of the training and test data.\n",
    "X_train.shape, X_test.shape"
   ]
  },
  {
   "cell_type": "code",
   "execution_count": 142,
   "metadata": {},
   "outputs": [
    {
     "data": {
      "text/plain": [
       "3    0.705882\n",
       "2    0.235294\n",
       "1    0.058824\n",
       "Name: covid_severity, dtype: float64"
      ]
     },
     "execution_count": 142,
     "metadata": {},
     "output_type": "execute_result"
    }
   ],
   "source": [
    "# Display the baseline percentages.\n",
    "y_test.value_counts(normalize=True)"
   ]
  },
  {
   "cell_type": "code",
   "execution_count": 143,
   "metadata": {},
   "outputs": [],
   "source": [
    "# Create a pipeline.\n",
    "pipe = make_pipeline(PowerTransformer(), PolynomialFeatures(), SelectKBest(), LogisticRegression())\n",
    "\n",
    "# Set parameters for GridSearchCV.\n",
    "params = {\n",
    "    'selectkbest__k': range(1,100),\n",
    "    'logisticregression__C': [.1, .5, 1, 10]\n",
    "}\n",
    "\n",
    "# Set up GridSearchCV with the pipe.\n",
    "gs = GridSearchCV(pipe, param_grid=params, cv=10, n_jobs=-1)"
   ]
  },
  {
   "cell_type": "code",
   "execution_count": 144,
   "metadata": {},
   "outputs": [
    {
     "data": {
      "text/plain": [
       "GridSearchCV(cv=10,\n",
       "             estimator=Pipeline(steps=[('powertransformer', PowerTransformer()),\n",
       "                                       ('polynomialfeatures',\n",
       "                                        PolynomialFeatures()),\n",
       "                                       ('selectkbest', SelectKBest()),\n",
       "                                       ('logisticregression',\n",
       "                                        LogisticRegression())]),\n",
       "             n_jobs=-1,\n",
       "             param_grid={'logisticregression__C': [0.1, 0.5, 1, 10],\n",
       "                         'selectkbest__k': range(1, 100)})"
      ]
     },
     "execution_count": 144,
     "metadata": {},
     "output_type": "execute_result"
    }
   ],
   "source": [
    "# Call fit on the GridSearchCV object and pass the training  data.\n",
    "gs.fit(X_train, y_train)"
   ]
  },
  {
   "cell_type": "code",
   "execution_count": 145,
   "metadata": {},
   "outputs": [
    {
     "data": {
      "text/plain": [
       "{'logisticregression__C': 0.1, 'selectkbest__k': 5}"
      ]
     },
     "execution_count": 145,
     "metadata": {},
     "output_type": "execute_result"
    }
   ],
   "source": [
    "# Display the best parameters.\n",
    "gs.best_params_"
   ]
  },
  {
   "cell_type": "code",
   "execution_count": 146,
   "metadata": {},
   "outputs": [
    {
     "name": "stdout",
     "output_type": "stream",
     "text": [
      "Test Accuracy: 0.7059.\n"
     ]
    }
   ],
   "source": [
    "# Display the score for the test set.\n",
    "print(f'Test Accuracy: {round(gs.score(X_test, y_test), 4)}.')"
   ]
  },
  {
   "cell_type": "code",
   "execution_count": 147,
   "metadata": {},
   "outputs": [
    {
     "name": "stdout",
     "output_type": "stream",
     "text": [
      "Train Accuracy: 0.8.\n"
     ]
    }
   ],
   "source": [
    "# Display the score for the training set.\n",
    "print(f'Train Accuracy: {round(gs.score(X_train, y_train), 4)}.')"
   ]
  },
  {
   "cell_type": "code",
   "execution_count": 148,
   "metadata": {},
   "outputs": [
    {
     "data": {
      "image/png": "[encoded data removed]",
      "text/plain": [
       "<Figure size 432x288 with 2 Axes>"
      ]
     },
     "metadata": {
      "needs_background": "light"
     },
     "output_type": "display_data"
    }
   ],
   "source": [
    "# Plot a confusion matrix.\n",
    "y_preds = gs.predict(X_test)\n",
    "plot_confusion_matrix(gs, X_test, y_test);"
   ]
  }
 ],
 "metadata": {
  "kernelspec": {
   "display_name": "Python 3",
   "language": "python",
   "name": "python3"
  },
  "language_info": {
   "codemirror_mode": {
    "name": "ipython",
    "version": 3
   },
   "file_extension": ".py",
   "mimetype": "text/x-python",
   "name": "python",
   "nbconvert_exporter": "python",
   "pygments_lexer": "ipython3",
   "version": "3.7.9"
  }
 },
 "nbformat": 4,
 "nbformat_minor": 4
}
