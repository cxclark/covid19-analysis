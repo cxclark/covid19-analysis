{
 "cells": [
  {
   "cell_type": "markdown",
   "metadata": {},
   "source": [
    "# California\n",
    "\n",
    "## Contents\n",
    "- [Imports](#Data-Dictionary)\n",
    "- [Regression Modeling](#Regression-Modeling)  \n",
    "- [Classification Modeling](#Classification-Modeling)  "
   ]
  },
  {
   "cell_type": "markdown",
   "metadata": {},
   "source": [
    "# Imports"
   ]
  },
  {
   "cell_type": "code",
   "execution_count": 1,
   "metadata": {},
   "outputs": [],
   "source": [
    "# Import the required libraries\n",
    "import pandas as pd\n",
    "import matplotlib.pyplot as plt\n",
    "import seaborn as sns\n",
    "import numpy as np\n",
    "\n",
    "import warnings\n",
    "warnings.filterwarnings('ignore')\n",
    "\n",
    "from sklearn.model_selection import train_test_split, cross_val_score, GridSearchCV\n",
    "from sklearn.feature_selection import SelectKBest, f_regression\n",
    "from sklearn.pipeline import make_pipeline\n",
    "from sklearn.metrics import mean_squared_error, confusion_matrix, plot_confusion_matrix, plot_roc_curve, f1_score, accuracy_score\n",
    "\n",
    "from sklearn.linear_model import LinearRegression, Ridge, Lasso, ElasticNet\n",
    "from sklearn.neighbors import KNeighborsRegressor\n",
    "from sklearn.svm  import SVR, SVC\n",
    "from sklearn.preprocessing import StandardScaler, PolynomialFeatures, PowerTransformer, QuantileTransformer\n",
    "from sklearn.tree import DecisionTreeRegressor\n",
    "from sklearn.ensemble import BaggingRegressor, RandomForestRegressor, ExtraTreesRegressor, AdaBoostRegressor, GradientBoostingRegressor\n",
    "from sklearn.ensemble import VotingRegressor\n",
    "\n",
    "from sklearn.linear_model import LogisticRegression\n",
    "from sklearn.neighbors import KNeighborsClassifier\n",
    "from sklearn.tree import DecisionTreeClassifier\n",
    "from sklearn.svm import SVC\n",
    "from sklearn.ensemble import BaggingClassifier, RandomForestClassifier, ExtraTreesClassifier \n",
    "from sklearn.ensemble import AdaBoostClassifier, GradientBoostingClassifier\n",
    "from sklearn.naive_bayes import MultinomialNB\n",
    "from sklearn.ensemble import VotingClassifier"
   ]
  },
  {
   "cell_type": "code",
   "execution_count": 2,
   "metadata": {},
   "outputs": [],
   "source": [
    "# Import the Texas data and sae to a dataframe.\n",
    "df = pd.read_csv('../data/cleaned_engineered_ca.csv')"
   ]
  },
  {
   "cell_type": "code",
   "execution_count": 3,
   "metadata": {},
   "outputs": [
    {
     "data": {
      "text/html": [
       "<div>\n",
       "<style scoped>\n",
       "    .dataframe tbody tr th:only-of-type {\n",
       "        vertical-align: middle;\n",
       "    }\n",
       "\n",
       "    .dataframe tbody tr th {\n",
       "        vertical-align: top;\n",
       "    }\n",
       "\n",
       "    .dataframe thead th {\n",
       "        text-align: right;\n",
       "    }\n",
       "</style>\n",
       "<table border=\"1\" class=\"dataframe\">\n",
       "  <thead>\n",
       "    <tr style=\"text-align: right;\">\n",
       "      <th></th>\n",
       "      <th>county_state</th>\n",
       "      <th>total_cases</th>\n",
       "      <th>total_fatalities</th>\n",
       "      <th>death_rate</th>\n",
       "      <th>total_tests</th>\n",
       "      <th>race_pop</th>\n",
       "      <th>race_pop_hispanic_or_latino_of_any_race</th>\n",
       "      <th>race_pop_white_alone</th>\n",
       "      <th>race_pop_black_or_african_american_alone</th>\n",
       "      <th>race_pop_american_indian_and_alaska_native_alone</th>\n",
       "      <th>...</th>\n",
       "      <th>percent_race_pop_other</th>\n",
       "      <th>percent_race_pop_minority</th>\n",
       "      <th>percent_sex_age_pop_0_to_44</th>\n",
       "      <th>percent_sex_age_pop_45_to_74</th>\n",
       "      <th>percent_sex_age_pop_75_and_over</th>\n",
       "      <th>percent_sex_age_pop_0_to_64</th>\n",
       "      <th>percent_sex_age_pop_65_and_over</th>\n",
       "      <th>percent_sex_age_pop_0_to_35</th>\n",
       "      <th>percent_sex_age_pop_35_to_59</th>\n",
       "      <th>percent_sex_age_pop_60_to_84</th>\n",
       "    </tr>\n",
       "  </thead>\n",
       "  <tbody>\n",
       "    <tr>\n",
       "      <th>0</th>\n",
       "      <td>Santa Clara County, California</td>\n",
       "      <td>23978.0</td>\n",
       "      <td>388.0</td>\n",
       "      <td>0.016181</td>\n",
       "      <td>839764</td>\n",
       "      <td>1922200</td>\n",
       "      <td>495455</td>\n",
       "      <td>615912</td>\n",
       "      <td>45379</td>\n",
       "      <td>3003</td>\n",
       "      <td>...</td>\n",
       "      <td>0.041717</td>\n",
       "      <td>0.679580</td>\n",
       "      <td>0.616108</td>\n",
       "      <td>0.327238</td>\n",
       "      <td>0.056655</td>\n",
       "      <td>0.871549</td>\n",
       "      <td>0.128451</td>\n",
       "      <td>0.469933</td>\n",
       "      <td>0.348772</td>\n",
       "      <td>0.163722</td>\n",
       "    </tr>\n",
       "    <tr>\n",
       "      <th>1</th>\n",
       "      <td>San Mateo County, California</td>\n",
       "      <td>10942.0</td>\n",
       "      <td>159.0</td>\n",
       "      <td>0.014531</td>\n",
       "      <td>285657</td>\n",
       "      <td>765935</td>\n",
       "      <td>189002</td>\n",
       "      <td>303047</td>\n",
       "      <td>16838</td>\n",
       "      <td>1151</td>\n",
       "      <td>...</td>\n",
       "      <td>0.058196</td>\n",
       "      <td>0.604344</td>\n",
       "      <td>0.574618</td>\n",
       "      <td>0.357939</td>\n",
       "      <td>0.067443</td>\n",
       "      <td>0.846114</td>\n",
       "      <td>0.153886</td>\n",
       "      <td>0.430888</td>\n",
       "      <td>0.353295</td>\n",
       "      <td>0.192727</td>\n",
       "    </tr>\n",
       "  </tbody>\n",
       "</table>\n",
       "<p>2 rows × 127 columns</p>\n",
       "</div>"
      ],
      "text/plain": [
       "                     county_state  total_cases  total_fatalities  death_rate  \\\n",
       "0  Santa Clara County, California      23978.0             388.0    0.016181   \n",
       "1    San Mateo County, California      10942.0             159.0    0.014531   \n",
       "\n",
       "   total_tests  race_pop  race_pop_hispanic_or_latino_of_any_race  \\\n",
       "0       839764   1922200                                   495455   \n",
       "1       285657    765935                                   189002   \n",
       "\n",
       "   race_pop_white_alone  race_pop_black_or_african_american_alone  \\\n",
       "0                615912                                     45379   \n",
       "1                303047                                     16838   \n",
       "\n",
       "   race_pop_american_indian_and_alaska_native_alone  ...  \\\n",
       "0                                              3003  ...   \n",
       "1                                              1151  ...   \n",
       "\n",
       "   percent_race_pop_other  percent_race_pop_minority  \\\n",
       "0                0.041717                   0.679580   \n",
       "1                0.058196                   0.604344   \n",
       "\n",
       "   percent_sex_age_pop_0_to_44  percent_sex_age_pop_45_to_74  \\\n",
       "0                     0.616108                      0.327238   \n",
       "1                     0.574618                      0.357939   \n",
       "\n",
       "   percent_sex_age_pop_75_and_over  percent_sex_age_pop_0_to_64  \\\n",
       "0                         0.056655                     0.871549   \n",
       "1                         0.067443                     0.846114   \n",
       "\n",
       "   percent_sex_age_pop_65_and_over  percent_sex_age_pop_0_to_35  \\\n",
       "0                         0.128451                     0.469933   \n",
       "1                         0.153886                     0.430888   \n",
       "\n",
       "   percent_sex_age_pop_35_to_59  percent_sex_age_pop_60_to_84  \n",
       "0                      0.348772                      0.163722  \n",
       "1                      0.353295                      0.192727  \n",
       "\n",
       "[2 rows x 127 columns]"
      ]
     },
     "execution_count": 3,
     "metadata": {},
     "output_type": "execute_result"
    }
   ],
   "source": [
    "# Display the first few rows of the dataframe.\n",
    "df.head(2)"
   ]
  },
  {
   "cell_type": "markdown",
   "metadata": {},
   "source": [
    "# Regression Modeling"
   ]
  },
  {
   "cell_type": "markdown",
   "metadata": {},
   "source": [
    "## Explainable Model: GridSearchCV with Quantile, SelectKBest, Ridge: 68%"
   ]
  },
  {
   "cell_type": "code",
   "execution_count": 4,
   "metadata": {},
   "outputs": [],
   "source": [
    "# Assign our features to X.\n",
    "X = df[[\n",
    "    'percent_race_pop_hispanic_or_latino_of_any_race',\n",
    "    'percent_sex_age_pop_under_5',\n",
    "    'percent_sex_age_pop_5_to_9',\n",
    "    'percent_sex_age_pop_10_to_14',\n",
    "    'percent_sex_age_pop_15_to_19',\n",
    "    'obes_percent',\n",
    "    'percent_sex_age_pop_25_to_34',\n",
    "    'percent_inc_hhlds_35_000_to_49_999',\n",
    "    'sex_age_pop_20_to_24',\n",
    "    'percent_sex_age_pop_male',\n",
    "    'percent_health_ins_noninst_pop_cov_no',\n",
    "    'tests_per_100_people',\n",
    "    'percent_sex_age_pop_35_to_44',\n",
    "    'percent_race_pop_white_alone',    \n",
    "    'percent_sex_age_pop_45_to_74',\n",
    "    'percent_sex_age_pop_75_and_over',\n",
    "    'percent_race_pop_two_or_more_races',\n",
    "    'inc_per_capita_inc_dol',\n",
    "    'pop_density'\n",
    "]]\n",
    "\n",
    "y = df['cases_per_100_people']\n",
    "\n",
    "# Split X and y into train/test groups.\n",
    "X_train, X_test, y_train, y_test = train_test_split(X, y, random_state=42)"
   ]
  },
  {
   "cell_type": "code",
   "execution_count": 5,
   "metadata": {},
   "outputs": [
    {
     "data": {
      "text/plain": [
       "(43, 19)"
      ]
     },
     "execution_count": 5,
     "metadata": {},
     "output_type": "execute_result"
    }
   ],
   "source": [
    "# Display the shape of the training data.\n",
    "X_train.shape"
   ]
  },
  {
   "cell_type": "code",
   "execution_count": 6,
   "metadata": {},
   "outputs": [
    {
     "data": {
      "text/plain": [
       "(15, 19)"
      ]
     },
     "execution_count": 6,
     "metadata": {},
     "output_type": "execute_result"
    }
   ],
   "source": [
    "X_test.shape"
   ]
  },
  {
   "cell_type": "code",
   "execution_count": 7,
   "metadata": {},
   "outputs": [],
   "source": [
    "# Create a main pipeline that will contain the dtype pipelines and the estimator.\n",
    "pipe = make_pipeline(QuantileTransformer(), SelectKBest(f_regression), Ridge(max_iter=20_000))\n",
    "\n",
    "# Set parameters for GridSearchCV.\n",
    "params = {\n",
    "    'selectkbest__k': range(1,20),\n",
    "    'ridge__alpha': [.1, 1, 10, 20]\n",
    "}\n",
    "\n",
    "# Set up GridSearchCV with the pipe and R2 as the scoring method.\n",
    "gs = GridSearchCV(pipe, param_grid=params, scoring='r2', cv=10, n_jobs=-1)"
   ]
  },
  {
   "cell_type": "code",
   "execution_count": 8,
   "metadata": {},
   "outputs": [
    {
     "data": {
      "text/plain": [
       "GridSearchCV(cv=10,\n",
       "             estimator=Pipeline(steps=[('quantiletransformer',\n",
       "                                        QuantileTransformer()),\n",
       "                                       ('selectkbest',\n",
       "                                        SelectKBest(score_func=<function f_regression at 0x7f3c78d6fd40>)),\n",
       "                                       ('ridge', Ridge(max_iter=20000))]),\n",
       "             n_jobs=-1,\n",
       "             param_grid={'ridge__alpha': [0.1, 1, 10, 20],\n",
       "                         'selectkbest__k': range(1, 20)},\n",
       "             scoring='r2')"
      ]
     },
     "execution_count": 8,
     "metadata": {},
     "output_type": "execute_result"
    }
   ],
   "source": [
    "# Call fit on the GridSearchCV object and pass the training  data.\n",
    "gs.fit(X_train, y_train)"
   ]
  },
  {
   "cell_type": "code",
   "execution_count": 9,
   "metadata": {},
   "outputs": [
    {
     "data": {
      "text/plain": [
       "{'ridge__alpha': 1, 'selectkbest__k': 15}"
      ]
     },
     "execution_count": 9,
     "metadata": {},
     "output_type": "execute_result"
    }
   ],
   "source": [
    "# Display the best parameters.\n",
    "gs.best_params_"
   ]
  },
  {
   "cell_type": "code",
   "execution_count": 10,
   "metadata": {},
   "outputs": [
    {
     "data": {
      "text/plain": [
       "0.6803632096961685"
      ]
     },
     "execution_count": 10,
     "metadata": {},
     "output_type": "execute_result"
    }
   ],
   "source": [
    "# Display the score for the test set.\n",
    "gs.score(X_test, y_test)"
   ]
  },
  {
   "cell_type": "code",
   "execution_count": 11,
   "metadata": {},
   "outputs": [
    {
     "data": {
      "text/plain": [
       "0.7806475654936332"
      ]
     },
     "execution_count": 11,
     "metadata": {},
     "output_type": "execute_result"
    }
   ],
   "source": [
    "# Display the score for the train set.\n",
    "gs.score(X_train, y_train)"
   ]
  },
  {
   "cell_type": "code",
   "execution_count": 12,
   "metadata": {},
   "outputs": [
    {
     "name": "stdout",
     "output_type": "stream",
     "text": [
      "RMSE of Model: 0.7361979535491971\n"
     ]
    }
   ],
   "source": [
    "# Calculate the RMSE for the model.\n",
    "y_preds = gs.predict(X_test)\n",
    "print('RMSE of Model:', mean_squared_error(y_test, y_preds, squared=False))"
   ]
  },
  {
   "cell_type": "code",
   "execution_count": 13,
   "metadata": {},
   "outputs": [
    {
     "data": {
      "image/png": "[encoded data removed]",
      "text/plain": [
       "<Figure size 432x288 with 1 Axes>"
      ]
     },
     "metadata": {
      "needs_background": "light"
     },
     "output_type": "display_data"
    }
   ],
   "source": [
    "# Plot the predicted sale price versus the actual 'cases_per_100_people'\n",
    "plt.figure(figsize=(6,4))\n",
    "sns.scatterplot(y_preds, y_test)\n",
    "plt.title('Actual vs. Predicted Cases Per 100 People', fontsize=16)\n",
    "plt.xlabel('Predicted Cases Per 100 People', fontsize=14)\n",
    "plt.ylabel('Actual Cases Per 100 People', fontsize=14);"
   ]
  },
  {
   "cell_type": "code",
   "execution_count": 14,
   "metadata": {},
   "outputs": [
    {
     "data": {
      "text/plain": [
       "array([ True,  True,  True,  True,  True,  True,  True, False,  True,\n",
       "       False, False,  True,  True,  True,  True,  True,  True,  True,\n",
       "       False])"
      ]
     },
     "execution_count": 14,
     "metadata": {},
     "output_type": "execute_result"
    }
   ],
   "source": [
    "# Extract a boolean matrix of features selectkbest used in the best model.\n",
    "features = gs.best_estimator_.named_steps['selectkbest'].get_support()\n",
    "features"
   ]
  },
  {
   "cell_type": "code",
   "execution_count": 15,
   "metadata": {},
   "outputs": [],
   "source": [
    "features = X_train.columns[features==True]"
   ]
  },
  {
   "cell_type": "code",
   "execution_count": 16,
   "metadata": {},
   "outputs": [
    {
     "data": {
      "text/plain": [
       "Index(['percent_race_pop_hispanic_or_latino_of_any_race',\n",
       "       'percent_sex_age_pop_under_5', 'percent_sex_age_pop_5_to_9',\n",
       "       'percent_sex_age_pop_10_to_14', 'percent_sex_age_pop_15_to_19',\n",
       "       'obes_percent', 'percent_sex_age_pop_25_to_34', 'sex_age_pop_20_to_24',\n",
       "       'tests_per_100_people', 'percent_sex_age_pop_35_to_44',\n",
       "       'percent_race_pop_white_alone', 'percent_sex_age_pop_45_to_74',\n",
       "       'percent_sex_age_pop_75_and_over', 'percent_race_pop_two_or_more_races',\n",
       "       'inc_per_capita_inc_dol'],\n",
       "      dtype='object')"
      ]
     },
     "execution_count": 16,
     "metadata": {},
     "output_type": "execute_result"
    }
   ],
   "source": [
    "features"
   ]
  },
  {
   "cell_type": "code",
   "execution_count": 17,
   "metadata": {},
   "outputs": [],
   "source": [
    "# Extract the coefficients for the features used in the best model.\n",
    "coefs = gs.best_estimator_.named_steps['ridge'].coef_"
   ]
  },
  {
   "cell_type": "code",
   "execution_count": 18,
   "metadata": {},
   "outputs": [
    {
     "data": {
      "text/plain": [
       "(15,)"
      ]
     },
     "execution_count": 18,
     "metadata": {},
     "output_type": "execute_result"
    }
   ],
   "source": [
    "coefs.shape"
   ]
  },
  {
   "cell_type": "code",
   "execution_count": 19,
   "metadata": {},
   "outputs": [
    {
     "data": {
      "text/plain": [
       "array([ 0.50169769,  0.31870195,  0.31296203,  0.45933941, -0.1805425 ,\n",
       "       -0.11199446,  0.12448592,  0.39614919,  0.85401913, -0.38059114,\n",
       "       -0.61358013, -0.68024461,  0.02999153, -0.88918687, -0.47513588])"
      ]
     },
     "execution_count": 19,
     "metadata": {},
     "output_type": "execute_result"
    }
   ],
   "source": [
    "coefs"
   ]
  },
  {
   "cell_type": "code",
   "execution_count": 20,
   "metadata": {},
   "outputs": [],
   "source": [
    "coef_df = pd.DataFrame(list(zip(features, coefs)), columns=['Feature', 'cases_per_100_people'])\n",
    "coef_df = coef_df.set_index('Feature')\n",
    "coef_df = coef_df.sort_values(by='cases_per_100_people', ascending=False)"
   ]
  },
  {
   "cell_type": "code",
   "execution_count": 21,
   "metadata": {},
   "outputs": [
    {
     "data": {
      "image/png": "[encoded data removed]",
      "text/plain": [
       "<Figure size 576x504 with 1 Axes>"
      ]
     },
     "metadata": {
      "needs_background": "light"
     },
     "output_type": "display_data"
    }
   ],
   "source": [
    "# Plot the datatframe of the top 10 word and their coefficients.\n",
    "coef_df.plot(kind = 'barh', figsize=(8,7))\n",
    "plt.title('Model Coefficients', fontsize=14)\n",
    "plt.yticks(fontsize=14);"
   ]
  },
  {
   "cell_type": "markdown",
   "metadata": {},
   "source": [
    "## Blackbox Model: Quantile, Polynomial, Gridsearch, Ridge: 72%"
   ]
  },
  {
   "cell_type": "code",
   "execution_count": 22,
   "metadata": {},
   "outputs": [],
   "source": [
    "# Assign our features to X.\n",
    "X = df[[\n",
    "    'obes_percent',\n",
    "    'pop_density',\n",
    "    'sex_age_median_age_in_years',\n",
    "    'inc_med_hhld_inc_dol',\n",
    "    'inc_mean_hhld_inc_dol',\n",
    "    'inc_per_capita_inc_dol',\n",
    "    'inc_med_earn_male_full_yr_workers_dol',\n",
    "    'inc_med_earn_female_full_yr_workers_dol',\n",
    "    'percent_race_pop_hispanic_or_latino_of_any_race',\n",
    "    'percent_race_pop_white_alone',\n",
    "    'percent_race_pop_black_or_african_american_alone',\n",
    "    'percent_race_pop_american_indian_and_alaska_native_alone',\n",
    "    'percent_race_pop_asian_alone',\n",
    "    'percent_race_pop_native_hawaiian_and_other_pacific_islander_alone',\n",
    "    'percent_race_pop_some_other_race_alone',\n",
    "    'percent_race_pop_two_or_more_races',\n",
    "    'percent_sex_age_pop_male',\n",
    "    'percent_sex_age_pop_female',\n",
    "    'percent_sex_age_pop_under_5',\n",
    "    'percent_sex_age_pop_5_to_9',\n",
    "    'percent_sex_age_pop_10_to_14',\n",
    "    'percent_sex_age_pop_15_to_19',\n",
    "    'percent_sex_age_pop_20_to_24',\n",
    "    'percent_sex_age_pop_25_to_34',\n",
    "    'percent_sex_age_pop_35_to_44',\n",
    "    'percent_sex_age_pop_45_to_54',\n",
    "    'percent_sex_age_pop_55_to_59',\n",
    "    'percent_sex_age_pop_60_to_64',\n",
    "    'percent_sex_age_pop_65_to_74',\n",
    "    'percent_sex_age_pop_75_to_84',\n",
    "    'percent_sex_age_pop_85_and_over',\n",
    "    'percent_health_ins_noninst_pop_cov_yes',\n",
    "    'percent_health_ins_noninst_pop_cov_no',\n",
    "    'percent_inc_hhlds_less_than_10_000',\n",
    "    'percent_inc_hhlds_10_000_to_14_999',\n",
    "    'percent_inc_hhlds_15_000_to_24_999',\n",
    "    'percent_inc_hhlds_25_000_to_34_999',\n",
    "    'percent_inc_hhlds_35_000_to_49_999',\n",
    "    'percent_inc_hhlds_50_000_to_74_999',\n",
    "    'percent_inc_hhlds_75_000_to_99_999',\n",
    "    'percent_inc_hhlds_100_000_to_149_999',\n",
    "    'percent_inc_hhlds_150_000_to_199_999',\n",
    "    'percent_inc_hhlds_200_000_or_more',\n",
    "]]\n",
    "\n",
    "y = df['cases_per_100_people']\n",
    "\n",
    "# Split X and y into train/test groups.\n",
    "X_train, X_test, y_train, y_test = train_test_split(X, y, random_state=42)"
   ]
  },
  {
   "cell_type": "code",
   "execution_count": 23,
   "metadata": {},
   "outputs": [
    {
     "data": {
      "text/plain": [
       "(43, 43)"
      ]
     },
     "execution_count": 23,
     "metadata": {},
     "output_type": "execute_result"
    }
   ],
   "source": [
    "# Display the shape of the training data.\n",
    "X_train.shape"
   ]
  },
  {
   "cell_type": "code",
   "execution_count": 24,
   "metadata": {},
   "outputs": [],
   "source": [
    "# Create a main pipeline that will contain the dtype pipelines and the estimator.\n",
    "pipe = make_pipeline(QuantileTransformer(), PolynomialFeatures(), SelectKBest(f_regression), Ridge(max_iter=20_000))\n",
    "\n",
    "# Set parameters for GridSearchCV.\n",
    "params = {\n",
    "    'selectkbest__k': range(1,300),\n",
    "    'ridge__alpha': [.1, 1, 10, 20]\n",
    "}\n",
    "\n",
    "# Set up GridSearchCV with the pipe and R2 as the scoring method.\n",
    "gs = GridSearchCV(pipe, param_grid=params, scoring='r2', cv=10, n_jobs=-1)"
   ]
  },
  {
   "cell_type": "code",
   "execution_count": 25,
   "metadata": {},
   "outputs": [
    {
     "data": {
      "text/plain": [
       "GridSearchCV(cv=10,\n",
       "             estimator=Pipeline(steps=[('quantiletransformer',\n",
       "                                        QuantileTransformer()),\n",
       "                                       ('polynomialfeatures',\n",
       "                                        PolynomialFeatures()),\n",
       "                                       ('selectkbest',\n",
       "                                        SelectKBest(score_func=<function f_regression at 0x7f3c78d6fd40>)),\n",
       "                                       ('ridge', Ridge(max_iter=20000))]),\n",
       "             n_jobs=-1,\n",
       "             param_grid={'ridge__alpha': [0.1, 1, 10, 20],\n",
       "                         'selectkbest__k': range(1, 300)},\n",
       "             scoring='r2')"
      ]
     },
     "execution_count": 25,
     "metadata": {},
     "output_type": "execute_result"
    }
   ],
   "source": [
    "# Call fit on the GridSearchCV object and pass the training  data.\n",
    "gs.fit(X_train, y_train)"
   ]
  },
  {
   "cell_type": "code",
   "execution_count": 26,
   "metadata": {},
   "outputs": [
    {
     "data": {
      "text/plain": [
       "{'ridge__alpha': 0.1, 'selectkbest__k': 1}"
      ]
     },
     "execution_count": 26,
     "metadata": {},
     "output_type": "execute_result"
    }
   ],
   "source": [
    "# Display the best parameters.\n",
    "gs.best_params_"
   ]
  },
  {
   "cell_type": "code",
   "execution_count": 27,
   "metadata": {},
   "outputs": [
    {
     "data": {
      "text/plain": [
       "0.7210852471826901"
      ]
     },
     "execution_count": 27,
     "metadata": {},
     "output_type": "execute_result"
    }
   ],
   "source": [
    "# Display the score for the test set.\n",
    "gs.score(X_test, y_test)"
   ]
  },
  {
   "cell_type": "code",
   "execution_count": 28,
   "metadata": {},
   "outputs": [
    {
     "data": {
      "text/plain": [
       "0.7038999692544085"
      ]
     },
     "execution_count": 28,
     "metadata": {},
     "output_type": "execute_result"
    }
   ],
   "source": [
    "# Display the score for the train set.\n",
    "gs.score(X_train, y_train)"
   ]
  },
  {
   "cell_type": "code",
   "execution_count": 29,
   "metadata": {},
   "outputs": [
    {
     "name": "stdout",
     "output_type": "stream",
     "text": [
      "RMSE of Model: 0.6877046621233236\n"
     ]
    }
   ],
   "source": [
    "# Calculate the RMSE for the model.\n",
    "y_preds = gs.predict(X_test)\n",
    "print('RMSE of Model:', mean_squared_error(y_test, y_preds, squared=False))"
   ]
  },
  {
   "cell_type": "code",
   "execution_count": 30,
   "metadata": {},
   "outputs": [
    {
     "data": {
      "image/png": "[encoded data removed]",
      "text/plain": [
       "<Figure size 576x432 with 1 Axes>"
      ]
     },
     "metadata": {
      "needs_background": "light"
     },
     "output_type": "display_data"
    }
   ],
   "source": [
    "# Plot the predicted sale price versus the actual sale price\n",
    "plt.figure(figsize=(8,6))\n",
    "sns.scatterplot(y_preds, y_test)\n",
    "plt.title('Actual vs. Predicted Cases Per 100 People', fontsize=16)\n",
    "plt.xlabel('Predicted Cases Per 100 People', fontsize=14)\n",
    "plt.ylabel('Actual Cases Per 100 People', fontsize=14);"
   ]
  },
  {
   "cell_type": "markdown",
   "metadata": {},
   "source": [
    "# Classification Modeling"
   ]
  },
  {
   "cell_type": "markdown",
   "metadata": {},
   "source": [
    "## Simple(r) Model: GridSearchCV with Classifier: 93% (baseline 66)"
   ]
  },
  {
   "cell_type": "code",
   "execution_count": 31,
   "metadata": {},
   "outputs": [],
   "source": [
    "# Assign our features to X.\n",
    "X = df[[\n",
    "    'percent_race_pop_hispanic_or_latino_of_any_race',\n",
    "    'percent_sex_age_pop_under_5',\n",
    "    'percent_sex_age_pop_5_to_9',\n",
    "    'percent_sex_age_pop_10_to_14',\n",
    "    'percent_sex_age_pop_15_to_19',\n",
    "    'obes_percent',\n",
    "    'percent_race_pop_white_alone',\n",
    "    'percent_sex_age_pop_45_to_74',\n",
    "    'percent_sex_age_pop_75_and_over',\n",
    "    'inc_per_capita_inc_dol'\n",
    "]]\n",
    "\n",
    "y = df['covid_severity']\n",
    "\n",
    "# Split X and y into train/test groups.\n",
    "X_train, X_test, y_train, y_test = train_test_split(X, y, stratify=y, random_state=42)"
   ]
  },
  {
   "cell_type": "code",
   "execution_count": 32,
   "metadata": {},
   "outputs": [
    {
     "data": {
      "text/plain": [
       "(43, 10)"
      ]
     },
     "execution_count": 32,
     "metadata": {},
     "output_type": "execute_result"
    }
   ],
   "source": [
    "# Display the shape of the training data.\n",
    "X_train.shape"
   ]
  },
  {
   "cell_type": "code",
   "execution_count": 33,
   "metadata": {},
   "outputs": [],
   "source": [
    "# Create a main pipeline that will contain the dtype pipelines and the estimator.\n",
    "pipe = make_pipeline(StandardScaler(), SelectKBest(), LogisticRegression())\n",
    "\n",
    "# Set parameters for GridSearchCV.\n",
    "params = {\n",
    "    'selectkbest__k': range(1,300),\n",
    "    'logisticregression__C': [.1, .5, 1, 10]\n",
    "}\n",
    "\n",
    "# Set up GridSearchCV with the pipe and R2 as the scoring method.\n",
    "gs = GridSearchCV(pipe, param_grid=params, cv=10, n_jobs=-1)"
   ]
  },
  {
   "cell_type": "code",
   "execution_count": 34,
   "metadata": {},
   "outputs": [
    {
     "data": {
      "text/plain": [
       "GridSearchCV(cv=10,\n",
       "             estimator=Pipeline(steps=[('standardscaler', StandardScaler()),\n",
       "                                       ('selectkbest', SelectKBest()),\n",
       "                                       ('logisticregression',\n",
       "                                        LogisticRegression())]),\n",
       "             n_jobs=-1,\n",
       "             param_grid={'logisticregression__C': [0.1, 0.5, 1, 10],\n",
       "                         'selectkbest__k': range(1, 300)})"
      ]
     },
     "execution_count": 34,
     "metadata": {},
     "output_type": "execute_result"
    }
   ],
   "source": [
    "# Call fit on the GridSearchCV object and pass the training  data.\n",
    "gs.fit(X_train, y_train)"
   ]
  },
  {
   "cell_type": "code",
   "execution_count": 35,
   "metadata": {},
   "outputs": [
    {
     "data": {
      "text/plain": [
       "{'logisticregression__C': 0.5, 'selectkbest__k': 4}"
      ]
     },
     "execution_count": 35,
     "metadata": {},
     "output_type": "execute_result"
    }
   ],
   "source": [
    "# Display the best parameters.\n",
    "gs.best_params_"
   ]
  },
  {
   "cell_type": "code",
   "execution_count": 36,
   "metadata": {},
   "outputs": [
    {
     "data": {
      "text/plain": [
       "0.9333333333333333"
      ]
     },
     "execution_count": 36,
     "metadata": {},
     "output_type": "execute_result"
    }
   ],
   "source": [
    "# Display the score for the test set.\n",
    "gs.score(X_test, y_test)"
   ]
  },
  {
   "cell_type": "code",
   "execution_count": 37,
   "metadata": {},
   "outputs": [
    {
     "data": {
      "text/plain": [
       "0.9302325581395349"
      ]
     },
     "execution_count": 37,
     "metadata": {},
     "output_type": "execute_result"
    }
   ],
   "source": [
    "# Display the score for the train set.\n",
    "gs.score(X_train, y_train)"
   ]
  },
  {
   "cell_type": "code",
   "execution_count": 38,
   "metadata": {},
   "outputs": [],
   "source": [
    "y_preds = gs.predict(X_test)"
   ]
  },
  {
   "cell_type": "code",
   "execution_count": 39,
   "metadata": {},
   "outputs": [
    {
     "data": {
      "image/png": "[encoded data removed]",
      "text/plain": [
       "<Figure size 432x288 with 2 Axes>"
      ]
     },
     "metadata": {
      "needs_background": "light"
     },
     "output_type": "display_data"
    }
   ],
   "source": [
    "# Plot the predicted sale price versus the actual sale price\n",
    "plot_confusion_matrix(gs, X_test, y_test);"
   ]
  },
  {
   "cell_type": "code",
   "execution_count": 40,
   "metadata": {},
   "outputs": [
    {
     "data": {
      "text/plain": [
       "array([ True,  True, False,  True, False, False, False,  True, False,\n",
       "       False])"
      ]
     },
     "execution_count": 40,
     "metadata": {},
     "output_type": "execute_result"
    }
   ],
   "source": [
    "# Extract a boolean matrix of features selectkbest used in the best model.\n",
    "features = gs.best_estimator_.named_steps['selectkbest'].get_support()\n",
    "features"
   ]
  },
  {
   "cell_type": "code",
   "execution_count": 41,
   "metadata": {},
   "outputs": [],
   "source": [
    "features = X_train.columns[features==True]"
   ]
  },
  {
   "cell_type": "code",
   "execution_count": 42,
   "metadata": {},
   "outputs": [
    {
     "data": {
      "text/plain": [
       "Index(['percent_race_pop_hispanic_or_latino_of_any_race',\n",
       "       'percent_sex_age_pop_under_5', 'percent_sex_age_pop_10_to_14',\n",
       "       'percent_sex_age_pop_45_to_74'],\n",
       "      dtype='object')"
      ]
     },
     "execution_count": 42,
     "metadata": {},
     "output_type": "execute_result"
    }
   ],
   "source": [
    "features"
   ]
  },
  {
   "cell_type": "code",
   "execution_count": 43,
   "metadata": {},
   "outputs": [],
   "source": [
    "# Extract the coefficients for the features used in the best model.\n",
    "coefs = gs.best_estimator_.named_steps['logisticregression'].coef_"
   ]
  },
  {
   "cell_type": "code",
   "execution_count": 44,
   "metadata": {},
   "outputs": [
    {
     "data": {
      "text/plain": [
       "(3, 4)"
      ]
     },
     "execution_count": 44,
     "metadata": {},
     "output_type": "execute_result"
    }
   ],
   "source": [
    "coefs.shape"
   ]
  },
  {
   "cell_type": "code",
   "execution_count": 45,
   "metadata": {},
   "outputs": [
    {
     "data": {
      "text/plain": [
       "array([[-0.96219975, -0.28153929, -0.39437644,  0.77245983],\n",
       "       [ 0.38982899, -0.43497166,  0.00870767, -0.2629217 ],\n",
       "       [ 0.57237076,  0.71651095,  0.38566877, -0.50953813]])"
      ]
     },
     "execution_count": 45,
     "metadata": {},
     "output_type": "execute_result"
    }
   ],
   "source": [
    "coefs"
   ]
  },
  {
   "cell_type": "code",
   "execution_count": 46,
   "metadata": {},
   "outputs": [],
   "source": [
    "coef1 = coefs[0]\n",
    "coef2 = coefs[1]\n",
    "coef3 = coefs[2]"
   ]
  },
  {
   "cell_type": "code",
   "execution_count": 47,
   "metadata": {},
   "outputs": [
    {
     "data": {
      "text/html": [
       "<div>\n",
       "<style scoped>\n",
       "    .dataframe tbody tr th:only-of-type {\n",
       "        vertical-align: middle;\n",
       "    }\n",
       "\n",
       "    .dataframe tbody tr th {\n",
       "        vertical-align: top;\n",
       "    }\n",
       "\n",
       "    .dataframe thead th {\n",
       "        text-align: right;\n",
       "    }\n",
       "</style>\n",
       "<table border=\"1\" class=\"dataframe\">\n",
       "  <thead>\n",
       "    <tr style=\"text-align: right;\">\n",
       "      <th></th>\n",
       "      <th>Feature</th>\n",
       "      <th>covid_severity_1</th>\n",
       "    </tr>\n",
       "  </thead>\n",
       "  <tbody>\n",
       "    <tr>\n",
       "      <th>0</th>\n",
       "      <td>percent_race_pop_hispanic_or_latino_of_any_race</td>\n",
       "      <td>-0.962200</td>\n",
       "    </tr>\n",
       "    <tr>\n",
       "      <th>1</th>\n",
       "      <td>percent_sex_age_pop_under_5</td>\n",
       "      <td>-0.281539</td>\n",
       "    </tr>\n",
       "    <tr>\n",
       "      <th>2</th>\n",
       "      <td>percent_sex_age_pop_10_to_14</td>\n",
       "      <td>-0.394376</td>\n",
       "    </tr>\n",
       "    <tr>\n",
       "      <th>3</th>\n",
       "      <td>percent_sex_age_pop_45_to_74</td>\n",
       "      <td>0.772460</td>\n",
       "    </tr>\n",
       "  </tbody>\n",
       "</table>\n",
       "</div>"
      ],
      "text/plain": [
       "                                           Feature  covid_severity_1\n",
       "0  percent_race_pop_hispanic_or_latino_of_any_race         -0.962200\n",
       "1                      percent_sex_age_pop_under_5         -0.281539\n",
       "2                     percent_sex_age_pop_10_to_14         -0.394376\n",
       "3                     percent_sex_age_pop_45_to_74          0.772460"
      ]
     },
     "execution_count": 47,
     "metadata": {},
     "output_type": "execute_result"
    }
   ],
   "source": [
    "pd.DataFrame(list(zip(features, coef1)), columns=['Feature', 'covid_severity_1'])"
   ]
  },
  {
   "cell_type": "code",
   "execution_count": 48,
   "metadata": {},
   "outputs": [
    {
     "data": {
      "text/html": [
       "<div>\n",
       "<style scoped>\n",
       "    .dataframe tbody tr th:only-of-type {\n",
       "        vertical-align: middle;\n",
       "    }\n",
       "\n",
       "    .dataframe tbody tr th {\n",
       "        vertical-align: top;\n",
       "    }\n",
       "\n",
       "    .dataframe thead th {\n",
       "        text-align: right;\n",
       "    }\n",
       "</style>\n",
       "<table border=\"1\" class=\"dataframe\">\n",
       "  <thead>\n",
       "    <tr style=\"text-align: right;\">\n",
       "      <th></th>\n",
       "      <th>Feature</th>\n",
       "      <th>covid_severity_2</th>\n",
       "    </tr>\n",
       "  </thead>\n",
       "  <tbody>\n",
       "    <tr>\n",
       "      <th>0</th>\n",
       "      <td>percent_race_pop_hispanic_or_latino_of_any_race</td>\n",
       "      <td>0.389829</td>\n",
       "    </tr>\n",
       "    <tr>\n",
       "      <th>1</th>\n",
       "      <td>percent_sex_age_pop_under_5</td>\n",
       "      <td>-0.434972</td>\n",
       "    </tr>\n",
       "    <tr>\n",
       "      <th>2</th>\n",
       "      <td>percent_sex_age_pop_10_to_14</td>\n",
       "      <td>0.008708</td>\n",
       "    </tr>\n",
       "    <tr>\n",
       "      <th>3</th>\n",
       "      <td>percent_sex_age_pop_45_to_74</td>\n",
       "      <td>-0.262922</td>\n",
       "    </tr>\n",
       "  </tbody>\n",
       "</table>\n",
       "</div>"
      ],
      "text/plain": [
       "                                           Feature  covid_severity_2\n",
       "0  percent_race_pop_hispanic_or_latino_of_any_race          0.389829\n",
       "1                      percent_sex_age_pop_under_5         -0.434972\n",
       "2                     percent_sex_age_pop_10_to_14          0.008708\n",
       "3                     percent_sex_age_pop_45_to_74         -0.262922"
      ]
     },
     "execution_count": 48,
     "metadata": {},
     "output_type": "execute_result"
    }
   ],
   "source": [
    "pd.DataFrame(list(zip(features, coef2)), columns=['Feature', 'covid_severity_2'])"
   ]
  },
  {
   "cell_type": "code",
   "execution_count": 49,
   "metadata": {},
   "outputs": [
    {
     "data": {
      "text/html": [
       "<div>\n",
       "<style scoped>\n",
       "    .dataframe tbody tr th:only-of-type {\n",
       "        vertical-align: middle;\n",
       "    }\n",
       "\n",
       "    .dataframe tbody tr th {\n",
       "        vertical-align: top;\n",
       "    }\n",
       "\n",
       "    .dataframe thead th {\n",
       "        text-align: right;\n",
       "    }\n",
       "</style>\n",
       "<table border=\"1\" class=\"dataframe\">\n",
       "  <thead>\n",
       "    <tr style=\"text-align: right;\">\n",
       "      <th></th>\n",
       "      <th>Feature</th>\n",
       "      <th>covid_severity_3</th>\n",
       "    </tr>\n",
       "  </thead>\n",
       "  <tbody>\n",
       "    <tr>\n",
       "      <th>0</th>\n",
       "      <td>percent_race_pop_hispanic_or_latino_of_any_race</td>\n",
       "      <td>0.572371</td>\n",
       "    </tr>\n",
       "    <tr>\n",
       "      <th>1</th>\n",
       "      <td>percent_sex_age_pop_under_5</td>\n",
       "      <td>0.716511</td>\n",
       "    </tr>\n",
       "    <tr>\n",
       "      <th>2</th>\n",
       "      <td>percent_sex_age_pop_10_to_14</td>\n",
       "      <td>0.385669</td>\n",
       "    </tr>\n",
       "    <tr>\n",
       "      <th>3</th>\n",
       "      <td>percent_sex_age_pop_45_to_74</td>\n",
       "      <td>-0.509538</td>\n",
       "    </tr>\n",
       "  </tbody>\n",
       "</table>\n",
       "</div>"
      ],
      "text/plain": [
       "                                           Feature  covid_severity_3\n",
       "0  percent_race_pop_hispanic_or_latino_of_any_race          0.572371\n",
       "1                      percent_sex_age_pop_under_5          0.716511\n",
       "2                     percent_sex_age_pop_10_to_14          0.385669\n",
       "3                     percent_sex_age_pop_45_to_74         -0.509538"
      ]
     },
     "execution_count": 49,
     "metadata": {},
     "output_type": "execute_result"
    }
   ],
   "source": [
    "pd.DataFrame(list(zip(features, coef3)), columns=['Feature', 'covid_severity_3'])"
   ]
  }
 ],
 "metadata": {
  "kernelspec": {
   "display_name": "Python 3",
   "language": "python",
   "name": "python3"
  },
  "language_info": {
   "codemirror_mode": {
    "name": "ipython",
    "version": 3
   },
   "file_extension": ".py",
   "mimetype": "text/x-python",
   "name": "python",
   "nbconvert_exporter": "python",
   "pygments_lexer": "ipython3",
   "version": "3.7.9"
  }
 },
 "nbformat": 4,
 "nbformat_minor": 4
}
